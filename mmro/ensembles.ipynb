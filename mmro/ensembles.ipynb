{
 "cells": [
  {
   "cell_type": "markdown",
   "metadata": {
    "id": "0O7NrofnlbXm"
   },
   "source": [
    "# Машинное обучение, ВМК МГУ\n",
    "\n",
    "## Практическое задание 4. Разложение ошибки на смещение и разброс. Градиентный бустинг ~~своими руками~~\n",
    "\n",
    "### Общая информация\n",
    "\n",
    "Дата выдачи: 25.11.2021\n",
    "\n",
    "Мягкий дедлайн: 23:59MSK 09.12.2021\n",
    "\n",
    "Жесткий дедлайн: 23:59MSK 16.12.2021\n",
    "\n",
    "### Оценивание и штрафы\n",
    "Каждая из задач имеет определенную «стоимость» (указана в скобках около задачи). Максимально допустимая оценка за работу — **10 баллов + 0.5 бонусов**. Проверяющий имеет право снизить оценку за неэффективную реализацию или неопрятные графики.\n",
    "\n",
    "**Обратите внимание**, что в каждом разделе домашнего задания есть оцениваниемые задачи и есть вопросы. Вопросы дополняют задачи и направлены на то, чтобы проинтерпретировать или обосновать происходящее. Код без интерпретации не имеет смысла, поэтому отвечать на вопросы обязательно — за отсутствие ответов мы будем снижать баллы за задачи. Если вы ответите на вопросы, но не напишете корректный код к соответствующим оцениваемым задачам, то баллы за такое выставлены не будут.\n",
    "\n",
    "Сдавать задание после указанного срока сдачи нельзя. При выставлении неполного балла за задание в связи с наличием ошибок на усмотрение проверяющего предусмотрена возможность исправить работу на указанных в ответном письме условиях.\n",
    "\n",
    "Задание выполняется самостоятельно. «Похожие» решения считаются плагиатом и все задействованные студенты (в том числе те, у кого списали) не могут получить за него больше 0 баллов (подробнее о плагиате см. на странице курса). Если вы нашли решение какого-то из заданий (или его часть) в открытом источнике, необходимо указать ссылку на этот источник в отдельном блоке в конце вашей работы (скорее всего вы будете не единственным, кто это нашел, поэтому чтобы исключить подозрение в плагиате, необходима ссылка на источник).\n",
    "\n",
    "Неэффективная реализация кода может негативно отразиться на оценке.\n",
    "\n",
    "<p style=\"color:#de3815;font-size:25px;\">\n",
    "Напоминание об оформлении и выполнении ноутбука\n",
    "</p>\n",
    "\n",
    "* Все строчки должны быть выполнены. Нужно, чтобы output команды можно было увидеть, не запуская ячейки (кроме редких случаев, когда необходимо намеренно скрыть ненужный output, про такие случаи желательно писать пояснения в тексте). **В противном случае -1 балл**\n",
    "* При оформлении ДЗ нужно пользоваться данным файлом в качестве шаблона. **Не нужно** удалять и видоизменять написанный код и текст, если явно не указана такая возможность. Создавать новые ячейки с кодом/текстов там, где это осмысленно и вы считаете необходимым, конечно, можно. **В противном случае -1 балл**\n",
    "* В anytask обязательно нужно прикреплять отдельно файл с расширением ipynb (не в архиве, а именно отдельно). Если необходимо отправить еще какие-то файлы, то вынесите их в отдельный архив (если файлов много) и пришлите. **В противном случае -0.5 балла**\n",
    "---\n",
    "* Пишите, пожалуйста, выводы и ответы на вопросы в текстовых ячейках/при помощи print в коде/как результат вывода ячейки. При их отсутствии мы не можем понять, сделали ли вы задание и понимаете, что происходит, и **поэтому будем снижать баллы**\n",
    "* Если алгоритм не сказано реализовывать явно, его всегда можно импортировать из библиотеки.\n",
    "---\n",
    "* Про графики. _Штрафы будут применяться к каждому результату команды отображения графика (plt.show() и др. аналогичные). Исключением являются графики, генерируемые функциями каких-либо сторонних библиотек, если их нельзя кастомизировать_\n",
    "\n",
    "    * должно быть название (plt.title) графика; **В противном случае &ndash; -0.05 балла**\n",
    "    * на графиках должны быть подписаны оси (plt.xlabel, plt.ylabel); **В противном случае &ndash; -0.025 балла за каждую ось**\n",
    "    * должны быть подписаны единицы измерения (если это возможно); **В противном случае &ndash; -0.025 балла за каждую ось**\n",
    "    * все названия должны быть понятны любому человеку, знакомому с терминологией, без заглядывания в код; **В противном случае &ndash; -0.05 балла**\n",
    "    * подписи тиков на осях не должны сливаться как на одной оси, так и между ними; **В противном случае &ndash; -0.025 балла за каждую ось**\n",
    "    * если изображено несколько сущностей на одном холсте (например несколько функций), то необходима поясняющая легенда (plt.legend); **В противном случае &ndash; -0.05 балла**\n",
    "    * все линии на графиках должны быть чётко видны (нет похожих цветов или цветов, сливающихся с фоном); **В противном случае &ndash; -0.05 балла**\n",
    "    * если отображена величина, имеющая очевидный диапазон значений (например, проценты могут быть от 0 до 100), то желательно масштабировать ось на весь диапазон значений (исключением является случай, когда вам необходимо показать малое отличие, которое незаметно в таких масштабах);\n",
    "    * графики должны быть не супер-микро и не супер-макро по размерам, так, чтобы можно было увидеть все, что нужно.\n",
    "    * при необходимости улучшения наглядности графиков, можно пользоваться логарифмической шкалой по осям x/y.\n",
    "    \n",
    "### А также..\n",
    "\n",
    "* Для удобства поиска вопросов, на которые от вас просят ответа, мы пометили их знаком **(?)**\n",
    "* Знак **(!)** означает, что выполнение замечания необходимо для **возможности получения полного балла**\n",
    "* Даем до +0.3 баллов за выдающиеся успехи по субъективному мнению проверяющих. Этот **бонус** не апеллируется\n",
    "\n",
    "### О задании\n",
    "\n",
    "В этом задании вам предстоит воспользоваться возможностями bootstraping для оценки смещения и разброса алгоритмов машинного обучения. Делать мы это будем на данных boston. \n",
    "Также в задании вам будет предложено пообучать готовые модели градиентного бустинга и CatBoost."
   ]
  },
  {
   "cell_type": "markdown",
   "metadata": {
    "id": "_SN1VpFrlbX7"
   },
   "source": [
    "**Напоминание:**\n",
    "    \n",
    "* Все ваши графики должны быть **\"красивыми\"** --- подробнее о том, как их оформлять, можно найти в первом практическом задании. При несоответствии какиму-то из критериев вам могут снять баллы.\n",
    "* Пишите в текстовых ячейках/print в коде ответы на **все вопросы из заданий/просьбы сделать выводы** --- при их отсутствии мы не можем понять, сделали ли вы задание и понимаете, что происходит, и поэтому будем снижать баллы"
   ]
  },
  {
   "cell_type": "markdown",
   "metadata": {
    "id": "cfsUgGyHlbX8"
   },
   "source": [
    "## Часть 1. Bias-Variance Decomposition"
   ]
  },
  {
   "cell_type": "code",
   "execution_count": 4,
   "metadata": {
    "id": "Mqjg9HyqlbX-"
   },
   "outputs": [],
   "source": [
    "import numpy as np\n",
    "import pandas as pd\n",
    "from matplotlib import pyplot as plt\n",
    "%matplotlib inline"
   ]
  },
  {
   "cell_type": "code",
   "execution_count": null,
   "metadata": {
    "id": "LhPsTXeilbYB"
   },
   "outputs": [],
   "source": [
    "from sklearn.datasets import load_boston"
   ]
  },
  {
   "cell_type": "code",
   "execution_count": null,
   "metadata": {
    "colab": {
     "base_uri": "https://localhost:8080/"
    },
    "id": "9W1NbeQKlbYC",
    "outputId": "994d383b-6a0b-490a-ef02-022222161a4f"
   },
   "outputs": [
    {
     "name": "stderr",
     "output_type": "stream",
     "text": [
      "/usr/local/lib/python3.7/dist-packages/sklearn/utils/deprecation.py:87: FutureWarning: Function load_boston is deprecated; `load_boston` is deprecated in 1.0 and will be removed in 1.2.\n",
      "\n",
      "    The Boston housing prices dataset has an ethical problem. You can refer to\n",
      "    the documentation of this function for further details.\n",
      "\n",
      "    The scikit-learn maintainers therefore strongly discourage the use of this\n",
      "    dataset unless the purpose of the code is to study and educate about\n",
      "    ethical issues in data science and machine learning.\n",
      "\n",
      "    In this special case, you can fetch the dataset from the original\n",
      "    source::\n",
      "\n",
      "        import pandas as pd\n",
      "        import numpy as np\n",
      "\n",
      "\n",
      "        data_url = \"http://lib.stat.cmu.edu/datasets/boston\"\n",
      "        raw_df = pd.read_csv(data_url, sep=\"\\s+\", skiprows=22, header=None)\n",
      "        data = np.hstack([raw_df.values[::2, :], raw_df.values[1::2, :2]])\n",
      "        target = raw_df.values[1::2, 2]\n",
      "\n",
      "    Alternative datasets include the California housing dataset (i.e.\n",
      "    :func:`~sklearn.datasets.fetch_california_housing`) and the Ames housing\n",
      "    dataset. You can load the datasets as follows::\n",
      "\n",
      "        from sklearn.datasets import fetch_california_housing\n",
      "        housing = fetch_california_housing()\n",
      "\n",
      "    for the California housing dataset and::\n",
      "\n",
      "        from sklearn.datasets import fetch_openml\n",
      "        housing = fetch_openml(name=\"house_prices\", as_frame=True)\n",
      "\n",
      "    for the Ames housing dataset.\n",
      "    \n",
      "  warnings.warn(msg, category=FutureWarning)\n"
     ]
    }
   ],
   "source": [
    "boston = load_boston()"
   ]
  },
  {
   "cell_type": "code",
   "execution_count": null,
   "metadata": {
    "id": "Zl7CGq6flbYE"
   },
   "outputs": [],
   "source": [
    "X = boston[\"data\"]\n",
    "y = boston[\"target\"]"
   ]
  },
  {
   "cell_type": "code",
   "execution_count": null,
   "metadata": {
    "colab": {
     "base_uri": "https://localhost:8080/"
    },
    "id": "2CRLL2s5lbYF",
    "outputId": "dbb12388-af71-48d3-e993-23c2c2c85414"
   },
   "outputs": [
    {
     "data": {
      "text/plain": [
       "((506, 13), (506,))"
      ]
     },
     "execution_count": 5,
     "metadata": {},
     "output_type": "execute_result"
    }
   ],
   "source": [
    "X.shape, y.shape"
   ]
  },
  {
   "cell_type": "markdown",
   "metadata": {
    "id": "sPkD9mYflbYI"
   },
   "source": [
    "### Вычисление bias и variance с помощью бутстрапа\n",
    "На лекции была выведено следующая формула, показывающая, как можно представить ошибку алгоритма регрессии в виде суммы трех компонент:\n",
    "$$\n",
    "L(\\mu) = \n",
    "    \\mathbb{E}_{x, y}\\bigl[\\mathbb{E}_{X}\\bigl[ (y - \\mu(X)(x))^2 \\bigr]\\bigr] = \n",
    "$$\n",
    "$$\n",
    "    \\underbrace{\\mathbb{E}_{x, y}\\bigl[(y - \\mathbb{E}[y|x] )^2\\bigr]}_{\\text{шум}} + \\underbrace{\\mathbb{E}_{x}\\bigl[(\\mathbb{E}_{X}[\\mu(X)(x)] - \\mathbb{E}[y|x] )^2\\bigr]}_{\\text{смещение}} +\n",
    "    \\underbrace{\\mathbb{E}_{x}\\bigl[\\mathbb{E}_{X}\\bigl[(\\mu(X)(x) - \\mathbb{E}_{X}[\\mu(X)(x)] )^2\\bigr]\\bigr]}_{\\text{разброс}},\n",
    "$$\n",
    "* $\\mu(X)$ — алгоритм, обученный по выборке $X = \\{(x_1, y_1), \\dots (x_\\ell, y_\\ell)\\}$;\n",
    "* $\\mu(X)(x)$ — ответ алгоритма, обученного по выборке $X$, на объекте $x$;\n",
    "* $\\mathbb{E}_{X}$ — мат. ожидание по всем возможным выборкам;\n",
    "* $\\mathbb{E}_{X}[\\mu(X)(x)]$ — \"средний\" ответ алгоритма, обученного по всем возможным выборкам $X$, на объекте $x$.\n",
    "    \n",
    "С помощью этой формулы мы можем анализировать свойства алгоритма обучения модели $\\mu$, если зададим вероятностную модель порождения пар $p(x, y)$.\n",
    "\n",
    "В реальных задачах мы, конечно же, не знаем распределение на парах объект - правильный ответ. Однако у нас есть набор семплов из этого распределения (обучающую выборка), и мы можем использовать его, чтобы оценивать математические ожидания. Для оценки мат. ожиданий по выборкам мы будем пользоваться бутстрэпом - методом генерации \"новых\" выборок из одной с помощью выбора объектов с возвращением. Разберем несколько шагов на пути к оценке смещения и разброса.\n",
    "\n",
    "#### Приближенное вычисление интегралов\n",
    "На занятиях мы разбирали примеры аналитического вычисления смещения и разброса нескольких алгоритмов обучения. Для большинства моделей данных и алгоритмов обучения аналитически рассчитать математические ожидания в формулах не удастся. Однако мат. ожидания можно оценивать приближенно. Чтобы оценить математическое ожидание $\\mathbb{E}_{\\bar z} f(\\bar z)$ функции от многомерной случайной величины $\\bar z = (z_1, \\dots, z_d)$, $\\bar z \\sim p(\\bar z)$, можно сгенерировать выборку из распределения $p(\\bar z)$ и усреднить значение функции на элементах этой выборки:\n",
    "$$\\mathbb{E}_{\\bar z} f(z) = \\int f(\\bar z) p(\\bar z) d \\bar z \\approx \\frac 1 m \\sum_{i=1}^m f(\\bar z_i), \\, \\bar z_i \\sim p(\\bar z), i = 1, \\dots, m.$$\n",
    "\n",
    "Например, оценим $\\mathbb{E}_z z^2,$ $z \\sim \\mathcal{N}(\\mu=5, \\sigma=3)$ (из теории вероятностей мы знаем, что\n",
    "$\\mathbb{E}_z z^2 = \\sigma^2 + \\mu^2 = 34$):"
   ]
  },
  {
   "cell_type": "code",
   "execution_count": null,
   "metadata": {
    "colab": {
     "base_uri": "https://localhost:8080/"
    },
    "id": "2aKRvsjLlbYJ",
    "outputId": "1db43319-2798-4096-f6f3-56f8bb08833e"
   },
   "outputs": [
    {
     "data": {
      "text/plain": [
       "33.99732741581246"
      ]
     },
     "execution_count": 9,
     "metadata": {},
     "output_type": "execute_result"
    }
   ],
   "source": [
    "z = np.random.normal(loc=5, scale=3, size=1000)\n",
    "(z**2).mean()"
   ]
  },
  {
   "cell_type": "markdown",
   "metadata": {
    "id": "49QwxHgnlbYK"
   },
   "source": [
    "#### Оценивание $\\mathbb{E}_{x, y}$\n",
    "Оценить мат. ожидания по $x$ и по $x, y$, встречающиеся во всех трех компонентах разложения, несложно, потому что у нас есть выборка объектов из распределения данных $p(x, y)$:\n",
    "$$ \\mathbb{E}_{x} f(x) \\approx \\frac 1 N \\sum_{i=1}^N f(x_i), \\quad\n",
    "\\mathbb{E}_{x, y} f(x, y) \\approx \\frac 1 N \\sum_{i=1}^N f(x_i, y_i),$$\n",
    "где $N$ - число объектов в выборке, $\\{(x_i, y_i)\\}_{i=1}^N$ - сама выборка. \n",
    "\n",
    "#### Оценивание $\\mathbb{E}_X$ с помощью бутстрапа\n",
    "Чтобы оценить мат. ожидание по $X$, нам понадобится выборка из выборок:\n",
    "$$\\mathbb{E}_X f(X) \\approx \\frac 1 s \\sum_{j=1}^s f(X_j),$$\n",
    "где $X_j$ - $j$-я выборка. Чтобы их получить, мы можем воспользоваться бутстрапом - методом генерации выборок на основе выбора объектов с возвращением. Чтобы составить одну выборку, будем $N$ раз выбирать индекс объекта $i \\sim \\text{Uniform}(1 \\dots N)$ и добавлять $i$-ю пару (объект, целевая переменная) в выборку. В результате в каждой выборке могут появиться повторяющиеся объекты, а какие-то объекты могут вовсе не войти в некоторые выборки.\n",
    "\n",
    "#### Итоговый алгоритм оценки смещения и разброса алгоритма $a$\n",
    "1. Сгенерировать $s$ выборок $X_j$ методом бутстрапа.\n",
    "1. На каждой выборке $X_j$ обучить алгоритм $a_j$.\n",
    "1. Для каждой выборки $X_j$ определить множество объектов $T_j$, не вошедших в нее (out-of-bag). Вычислить предсказания алгоритма $a_j$ на объектах $T_j$. \n",
    "\n",
    "Поскольку у нас есть только один ответ для каждого объекта, мы будем считать шум равным 0, а $\\mathbb{E}[y|x]$ равным имеющемуся правильному ответу для объекта $x$. \n",
    "\n",
    "Итоговые оценки:\n",
    "* Смещение: для одного объекта - квадрат разности среднего предсказания и правильного ответа. Среднее предсказание берется только по тем алгоритмам $a_j$, для которых этот объект входил в out-of-bag выборку $T_j$. Для получения общего смещения выполнить усреденение смещений по объектам.\n",
    "* Разброс: для одного объекта - выборочная дисперсия предсказаний алгоритмов $a_j$, для которых этот объект входил в out-of-bag выборку $T_j$. Для получения общего разброса выполнить усреденение разбросов по объектам.\n",
    "* Ошибка $L$: усреднить квадраты разностей предсказания и правильного ответа по всем выполненным предсказаниям для всех объектов.\n",
    "\n",
    "В результате должно получиться, что ошибка приблизительно равна сумме смещения и разброса!\n",
    "\n",
    "Алгоритм также вкратце описан по [ссылке](https://web.engr.oregonstate.edu/~tgd/classes/534/slides/part9.pdf) (слайды 19-21).\n",
    "\n",
    "__Задание 1. (1.5 баллa)__\n",
    "\n",
    "Реализуйте описанный алгоритм. Обратите внимание, что если объект не вошел ни в одну из out-of-bag выборок, учитывать его в вычислении итоговых величин не нужно. Как обычно, разрешается использовать только один цикл - по выборкам (от 0 до num_runs-1)."
   ]
  },
  {
   "cell_type": "code",
   "execution_count": null,
   "metadata": {
    "colab": {
     "base_uri": "https://localhost:8080/"
    },
    "id": "Hu1-x-kWFDpM",
    "outputId": "7603e4ba-df0d-437c-ee31-cc1052941326"
   },
   "outputs": [
    {
     "data": {
      "text/plain": [
       "array([2, 1, 6, 7, 7, 6, 7, 5, 8, 2])"
      ]
     },
     "execution_count": 12,
     "metadata": {},
     "output_type": "execute_result"
    }
   ],
   "source": [
    "np.random.randint(10, size=10)"
   ]
  },
  {
   "cell_type": "code",
   "execution_count": null,
   "metadata": {
    "colab": {
     "base_uri": "https://localhost:8080/"
    },
    "id": "XhRaTNHuIw9O",
    "outputId": "19a88c20-2465-44db-d8de-4fcc00924dbf"
   },
   "outputs": [
    {
     "data": {
      "text/plain": [
       "array([0.5, 1. , 1.5])"
      ]
     },
     "execution_count": 13,
     "metadata": {},
     "output_type": "execute_result"
    }
   ],
   "source": [
    "np.array([1, 2, 3]) / np.array([2, 2, 2])"
   ]
  },
  {
   "cell_type": "code",
   "execution_count": null,
   "metadata": {
    "id": "6ThRCnkulbYM"
   },
   "outputs": [],
   "source": [
    "def compute_biase_variance(regressor, X, y, num_runs=1000):\n",
    "    \"\"\"\n",
    "    :param regressor: sklearn estimator with fit(...) and predict(...) method\n",
    "    :param X: numpy-array representing training set ob objects, shape [n_obj, n_feat]\n",
    "    :param y: numpy-array representing target for training objects, shape [n_obj]\n",
    "    :param num_runs: int, number of samples (s in the description of the algorithm)\n",
    "    \n",
    "    :returns: bias (float), variance (float), error (float) \n",
    "    each value is computed using bootstrap\n",
    "    \"\"\" \n",
    "    n = y.shape[0]\n",
    "    predictions_sum = np.zeros(n)\n",
    "    predictions_squared_sum = np.zeros(n)\n",
    "    number_predicted = np.zeros(n)\n",
    "    all_indices = np.arange(n)\n",
    "    sum_error = 0\n",
    "\n",
    "    for i in range(num_runs):\n",
    "        indices = np.random.randint(n, size=n)\n",
    "        out_of_bag_indices = np.setdiff1d(all_indices, indices)\n",
    "        regressor = regressor.fit(X[indices], y[indices])\n",
    "        predictions = regressor.predict(X[out_of_bag_indices])\n",
    "        number_predicted[out_of_bag_indices] += 1\n",
    "        predictions_sum[out_of_bag_indices] += predictions\n",
    "        predictions_squared_sum[out_of_bag_indices] += predictions ** 2\n",
    "        sum_error += np.mean((predictions - y[out_of_bag_indices]) ** 2)\n",
    "\n",
    "    average_prediction = predictions_sum / number_predicted\n",
    "    average_squared_prediction = predictions_squared_sum / number_predicted\n",
    "\n",
    "    bias = np.mean((average_prediction - y) ** 2)\n",
    "    variance = np.mean(average_squared_prediction - (average_prediction) ** 2)\n",
    "    error = sum_error / num_runs\n",
    "    return bias, variance, error"
   ]
  },
  {
   "cell_type": "markdown",
   "metadata": {
    "id": "XifaBXAElbYN"
   },
   "source": [
    "**Задание 2. (0.5 баллa)**\n",
    "\n",
    "**(0.3 балла)** Оцените смещение, разброс и ошибку для трех алгоритмов с гиперпараметрами по умолчанию: линейная регрессия, решающее дерево, случайный лес.\n"
   ]
  },
  {
   "cell_type": "code",
   "execution_count": null,
   "metadata": {
    "id": "58dOAKdPlbYO"
   },
   "outputs": [],
   "source": [
    "from sklearn.ensemble import RandomForestRegressor\n",
    "from sklearn.tree import DecisionTreeRegressor\n",
    "from sklearn.linear_model import LinearRegression"
   ]
  },
  {
   "cell_type": "code",
   "execution_count": null,
   "metadata": {
    "colab": {
     "base_uri": "https://localhost:8080/"
    },
    "id": "JrtbN0moUQqa",
    "outputId": "1c15cc86-f34e-4915-f42c-7b2ffb4b72b0"
   },
   "outputs": [
    {
     "name": "stdout",
     "output_type": "stream",
     "text": [
      "LinearRegression: (23.67762841664891, 0.919689621104721, 24.8164364485962)\n",
      "DecisionTreeRegressor: (10.232617179434117, 13.014448967834703, 23.274099695260535)\n",
      "RandomForestRegressor: (10.70954428657453, 2.2470917086945597, 12.97563791554609)\n"
     ]
    }
   ],
   "source": [
    "print('LinearRegression:', compute_biase_variance(LinearRegression(), X, y))\n",
    "print('DecisionTreeRegressor:', compute_biase_variance(DecisionTreeRegressor(), X, y))\n",
    "print('RandomForestRegressor:', compute_biase_variance(RandomForestRegressor(), X, y))"
   ]
  },
  {
   "cell_type": "markdown",
   "metadata": {
    "id": "awvxqZIBlbYO"
   },
   "source": [
    "**(0.1 балл) (?)** Проанализируйте полученный результат. Согласуются ли полученные результаты с теми, что мы обсуждали на семинарах (с комментарием)?\n",
    "\n",
    "__Your answer here:__ Согласуются, у Линейной Регресси больше отступ, меньше разброс, у решающего дерева - наоборот\n",
    "\n",
    "**(0.1 балл) (?)** Вспомните во сколько раз в теории бутстрап уменьшает разброс базового алгоритма. Выполняется ли это в ваших экспериментах? Если нет, поясните, почему.\n",
    "\n",
    "__Your answer here:__ В N раз уменьшает, где N - количество сгенерированных выборок бутстрапом. Не выполняется, потому что у нас базовые алгоритмы скореллированы, из-за того что обучаются на одних и тех же данных"
   ]
  },
  {
   "cell_type": "markdown",
   "metadata": {
    "id": "vPZUIEzElbYP"
   },
   "source": [
    "### Визуализация предсказаний базовых алгоритмов бэггинга\n",
    "\n",
    "В материалах лекций можно найти изображение, похожее на мишень - визуализация алгоритмов с разным смещением и разным разбросом. В центре \"мишени\" - правильный ответ, а \"попадания\" - предсказания алгоритмов, обученных по разным выборкам. Построим похожее изображение на наших данных для трех алгоритмов. Наши \"мишени\" будут одномерными, потому что мы решаем задачу одномерной регрессии.\n",
    "\n",
    "__Задание 3. (1.5 балла)__\n",
    "\n",
    "**(0.5 балла)** Реализуйте фукнцию plot_predictions. Она должна выполнять следующие действия:\n",
    "1. Случайно выбрать num_test_objects пар объект-целевая переменная из выборки X, y. Получится две выборки: маленькая X_test, y_test (выбранные тестовые объекты) и X_train, y_train (остальные объекты).\n",
    "1. Сгенерировать num_runs выборок методом бутстарапа из X_train, y_train. На каждой выборке обучить алгоритм regressor и сделать предсказания для X_test.\n",
    "1. Нарисовать scatter-график. По оси абсцисс - объекты тестовой выборки (номера от 0 до num_test_objects-1), по оси ординат - предсказания для каждого из num_runs выборок. В итоге получится num_test_objects столбиков с точками. Для каждого тестового объекта надо отметить одним цветом (в рамках каждого номера объекта, т.е. предсказания для объектов с одинаковым номером -- одинаковым цветом, а с разными -- разными цветами) все предсказания для него, а также черным цветом отметить правильный ответ.\n",
    "1. Подпишите оси и название графика (аргумент title)."
   ]
  },
  {
   "cell_type": "code",
   "execution_count": null,
   "metadata": {
    "id": "04QVZL_zTCgG"
   },
   "outputs": [],
   "source": [
    "from sklearn.model_selection import train_test_split\n",
    "from random import randint"
   ]
  },
  {
   "cell_type": "code",
   "execution_count": null,
   "metadata": {
    "id": "gm-9LPRmlbYP"
   },
   "outputs": [],
   "source": [
    "def plot_predictions(regressor, X, y, num_runs=100, num_test_objects=10, title=\"\", ax=None):\n",
    "    \"\"\"\n",
    "    plot graphics described above\n",
    "    \"\"\"\n",
    "    ax.title.set_text(title)\n",
    "\n",
    "    X_train, X_test, y_train, y_test = train_test_split(X, y, test_size=num_test_objects, random_state=42)\n",
    "    n = y_train.shape[0]\n",
    "    ax_x = np.arange(num_test_objects)\n",
    "\n",
    "\n",
    "    for i in range(num_runs):\n",
    "        indices = np.random.randint(n, size=n)\n",
    "        regressor = regressor.fit(X_train[indices], y_train[indices])\n",
    "        predictions = regressor.predict(X_test)\n",
    "        ax.scatter(ax_x, predictions, c=plt.cm.rainbow(np.linspace(0, 1, 10)) )  \n",
    "    \n",
    "    ax.scatter(ax_x, y_test, c='black', label='answer')  \n",
    "    ax.legend()\n",
    "    ax.set_xlabel('test objects')\n",
    "    ax.set_ylabel('predictions')"
   ]
  },
  {
   "cell_type": "markdown",
   "metadata": {
    "id": "ke8uw0zVlbYR"
   },
   "source": [
    "**(0.5 баллa)** Нарисуйте графики для линейной регрессии, решающего дерева и случайного леса. Нарисуйте три графика в строчку (это можно сделать с помощью plt.subplot) с одинаковой осью ординат (это важно для понимания масштаба разброса у разных алгоритмов):"
   ]
  },
  {
   "cell_type": "code",
   "execution_count": null,
   "metadata": {
    "colab": {
     "base_uri": "https://localhost:8080/",
     "height": 404
    },
    "id": "Qv3vbevqlbYR",
    "outputId": "e43f1b4c-d9e7-41c7-8391-bd794154ea81"
   },
   "outputs": [
    {
     "data": {
      "image/png": "[encoded data removed]",
      "text/plain": [
       "<Figure size 1440x432 with 3 Axes>"
      ]
     },
     "metadata": {},
     "output_type": "display_data"
    }
   ],
   "source": [
    "fig, axes = plt.subplots(1, 3)\n",
    "fig.set_size_inches(20, 6)\n",
    "\n",
    "\n",
    "plot_predictions(LinearRegression(), X, y, num_runs=100, num_test_objects=10, title=\"Linear regression\", ax=axes[0])\n",
    "plot_predictions(DecisionTreeRegressor(), X, y, num_runs=100, num_test_objects=10, title=\"Decision tree\", ax=axes[1])\n",
    "plot_predictions(RandomForestRegressor(), X, y, num_runs=100, num_test_objects=10, title=\"Random forest\", ax=axes[2])\n",
    "\n",
    "for i in range(3):\n",
    "    axes[i].axis(ymin=9,ymax=41)\n",
    "\n",
    "plt.show()"
   ]
  },
  {
   "cell_type": "markdown",
   "metadata": {
    "id": "TrUOVAqrlbYR"
   },
   "source": [
    "**(0.5 балла) (?)** Для каждого графика прокомментируйте, как он характеризует смещение и разброс соответствующего алгоритма.\n",
    "\n",
    "**Ответ:** Смещение - отклонение центра масс столбика от черной точки, разброс - насколько далеко точки относительно своего центра масс для каждого столбика. Для Линейной регрессии - отклонение самое большое из всех методов, разброс примерно такой же как и у Случайного леса. В Решающем дереве смещение маленькое почти для всех объектов, а вот разброс самый большой. В Случайном лесе смещение меньше чем у Линейной регрессии, примерно такое же как в Решающем дереве.\n",
    "Эти результаты согласуются с предыдущими. "
   ]
  },
  {
   "cell_type": "markdown",
   "metadata": {
    "id": "yE0wGIC_lbYS"
   },
   "source": [
    "### Часть 2. Градиентный бустинг"
   ]
  },
  {
   "cell_type": "markdown",
   "metadata": {
    "id": "5ngr5TB_lbYS"
   },
   "source": [
    "**Задание 4 (1 балл)**\n",
    "\n",
    "Мы будем использовать данные из [соревнования](https://www.kaggle.com/t/b710e05dc0bd424995ca94da5b639869) (вам нужны только данные, посылать туда ничего не надо).\n",
    "* Загрузите таблицу application_train.csv;\n",
    "* Запишите в Y столбец с целевой переменной (TARGET);\n",
    "* Удалите ненужные столбцы:\n",
    "    * Воспользуйтесь описанием соревнования\n",
    "    * При желании, воспользуйтесь методами feature selection/стат. методами, если хотите. Объясните, что использовали и почему решили выкинуть тот или иной признак.\n",
    "* Определите тип столбцов и заполните пропуски - стратегия произвольная;\n",
    "* Разбейте выборку в соотношении 70:30 с random_state=0. Если считаете нужным, сделайте сбалансированное по классам разбиение.\n",
    "\n",
    "Так как в данных имеется значительный дисбаланс классов, в качестве метрики качества везде будем использовать площадь под precision-recall кривой (AUC-PR)."
   ]
  },
  {
   "cell_type": "code",
   "execution_count": 23,
   "metadata": {
    "colab": {
     "base_uri": "https://localhost:8080/"
    },
    "id": "FVkQkYt_1DfI",
    "outputId": "3fe86980-5951-47d0-b1e1-bd8903cda454"
   },
   "outputs": [
    {
     "name": "stdout",
     "output_type": "stream",
     "text": [
      "Drive already mounted at /content/drive; to attempt to forcibly remount, call drive.mount(\"/content/drive\", force_remount=True).\n"
     ]
    }
   ],
   "source": [
    "from google.colab import drive\n",
    "drive.mount('/content/drive')"
   ]
  },
  {
   "cell_type": "code",
   "execution_count": 63,
   "metadata": {
    "id": "LMwqxWh_lbYS"
   },
   "outputs": [],
   "source": [
    "data = pd.read_csv('/content/drive/MyDrive/cmc/ммро/смещение, разброс, градиентный бустинг/application_train.csv')"
   ]
  },
  {
   "cell_type": "code",
   "execution_count": 122,
   "metadata": {
    "id": "vKdmzHbmhPSi"
   },
   "outputs": [],
   "source": [
    "y = data['TARGET']\n",
    "X = data.drop(['TARGET'], axis=1)"
   ]
  },
  {
   "cell_type": "code",
   "execution_count": 27,
   "metadata": {
    "colab": {
     "base_uri": "https://localhost:8080/"
    },
    "id": "dhJOLCbgjcYs",
    "outputId": "f94932c6-6226-480a-deba-ccab89716009"
   },
   "outputs": [
    {
     "data": {
      "text/plain": [
       "0"
      ]
     },
     "execution_count": 27,
     "metadata": {},
     "output_type": "execute_result"
    }
   ],
   "source": [
    "y.isnull().sum()"
   ]
  },
  {
   "cell_type": "code",
   "execution_count": 29,
   "metadata": {
    "colab": {
     "base_uri": "https://localhost:8080/"
    },
    "id": "GyqeWZtO0Vqm",
    "outputId": "34d7b24b-5b07-4838-bf08-660cd8cc23b0"
   },
   "outputs": [
    {
     "name": "stdout",
     "output_type": "stream",
     "text": [
      "типы столбцов:\n",
      " [dtype('int64') dtype('O') dtype('float64')]\n"
     ]
    }
   ],
   "source": [
    "print('типы столбцов:\\n', X.dtypes.unique())"
   ]
  },
  {
   "cell_type": "code",
   "execution_count": 123,
   "metadata": {
    "id": "FXA7PED9Q0Fy"
   },
   "outputs": [],
   "source": [
    "categorical = X.columns[(X.dtypes != np.float) & (X.dtypes != np.int)]\n",
    "numeric_features = X.columns[(X.dtypes == np.float) | (X.dtypes == np.int)]\n",
    "\n",
    "#ecoding all not numeric features\n",
    "\n",
    "for column in categorical:\n",
    "    X[column] = X[column].astype('category')\n",
    "    X[column] = X[column].cat.codes\n",
    "    X[column] = X.loc[:, column].fillna(-1)"
   ]
  },
  {
   "cell_type": "code",
   "execution_count": 124,
   "metadata": {
    "id": "4JIxl6EJyD2W"
   },
   "outputs": [],
   "source": [
    "# fill all NaN values with 0\n",
    "X_zero = X.copy()\n",
    "X_zero = X_zero.fillna(0)\n",
    "\n",
    "# fill all NaN values with median\n",
    "X_median = X.copy()\n",
    "for column in X_median.columns:\n",
    "    X_median[column] = X_median.loc[:, column].fillna(X_median[column].median())\n",
    "\n",
    "# fill all NaN values with avearge\n",
    "X_average = X.copy()\n",
    "for column in X_average.columns:\n",
    "    X_average[column] = X_average.loc[:, column].fillna(X_average[column].mean())"
   ]
  },
  {
   "cell_type": "code",
   "execution_count": 114,
   "metadata": {
    "id": "_VvG0N7q089E"
   },
   "outputs": [],
   "source": [
    "from sklearn.preprocessing import OneHotEncoder\n",
    "from sklearn.compose import ColumnTransformer\n",
    "from sklearn.preprocessing import StandardScaler\n",
    "from sklearn.linear_model import RidgeClassifier\n",
    "from sklearn.pipeline import Pipeline\n",
    "\n",
    "\n",
    "\n",
    "column_transformer = ColumnTransformer([\n",
    "    ('scaling', StandardScaler(), numeric_features)\n",
    "])\n",
    "\n",
    "pipeline = Pipeline(steps=[\n",
    "    ('scaling', column_transformer),\n",
    "    ('regression', RidgeClassifier())\n",
    "])\n"
   ]
  },
  {
   "cell_type": "code",
   "execution_count": 92,
   "metadata": {
    "id": "iFeIAL8_LpEZ"
   },
   "outputs": [],
   "source": [
    "from sklearn.model_selection import train_test_split\n",
    "X_zero_train, X_zero_test, y_zero_train, y_zero_test = train_test_split(X_zero, y, test_size=0.3, random_state=42)\n",
    "X_average_train, X_average_test, y_average_train, y_average_test = train_test_split(X_average, y, test_size=0.3, random_state=42)\n",
    "X_median_train, X_median_test, y_median_train, y_median_test = train_test_split(X_median, y, test_size=0.3, random_state=42)"
   ]
  },
  {
   "cell_type": "code",
   "execution_count": 93,
   "metadata": {
    "colab": {
     "base_uri": "https://localhost:8080/"
    },
    "id": "WI9TZ_ROMYaZ",
    "outputId": "91edd9ae-0046-488d-f542-cc420154a647"
   },
   "outputs": [
    {
     "name": "stderr",
     "output_type": "stream",
     "text": [
      "/usr/local/lib/python3.7/dist-packages/sklearn/linear_model/_ridge.py:156: LinAlgWarning: Ill-conditioned matrix (rcond=2.60964e-17): result may not be accurate.\n",
      "  return linalg.solve(A, Xy, sym_pos=True, overwrite_a=True).T\n",
      "/usr/local/lib/python3.7/dist-packages/sklearn/linear_model/_ridge.py:156: LinAlgWarning: Ill-conditioned matrix (rcond=2.60964e-17): result may not be accurate.\n",
      "  return linalg.solve(A, Xy, sym_pos=True, overwrite_a=True).T\n",
      "/usr/local/lib/python3.7/dist-packages/sklearn/linear_model/_ridge.py:156: LinAlgWarning: Ill-conditioned matrix (rcond=2.60964e-17): result may not be accurate.\n",
      "  return linalg.solve(A, Xy, sym_pos=True, overwrite_a=True).T\n"
     ]
    }
   ],
   "source": [
    "model1 = RidgeClassifier().fit(X_zero_train, y_zero_train)\n",
    "model2 = RidgeClassifier().fit(X_average_train, y_average_train)\n",
    "model3 = RidgeClassifier().fit(X_median_train, y_median_train)"
   ]
  },
  {
   "cell_type": "code",
   "execution_count": 94,
   "metadata": {
    "id": "_O4O_W9Pd_2S"
   },
   "outputs": [],
   "source": [
    "y1_pred = model1.predict(X_average_test)\n",
    "y2_pred = model2.predict(X_median_test)\n",
    "y3_pred = model3.predict(X_zero_test)"
   ]
  },
  {
   "cell_type": "code",
   "execution_count": 88,
   "metadata": {
    "colab": {
     "base_uri": "https://localhost:8080/"
    },
    "id": "oQfv6o4iNJHZ",
    "outputId": "9a451c7d-235e-49a7-f78c-cf225ed4d229"
   },
   "outputs": [
    {
     "name": "stdout",
     "output_type": "stream",
     "text": [
      "fill with zeros: 0.9183777757130911\n",
      "fill with median: 0.9183777757130911\n",
      "fill with average: 0.9183777757130911\n"
     ]
    }
   ],
   "source": [
    "print('fill with zeros:', sum(y1_pred == y_zero_test) / y_zero_test.shape[0])\n",
    "print('fill with median:', sum(y2_pred == y_zero_test) / y_zero_test.shape[0])\n",
    "print('fill with average:', sum(y3_pred == y_zero_test) / y_zero_test.shape[0])"
   ]
  },
  {
   "cell_type": "markdown",
   "metadata": {
    "id": "Dcm31hOxeiVU"
   },
   "source": [
    "Поэтому оставляем второй вариант с заполением NaN медианой, хотя результаты очень похожие"
   ]
  },
  {
   "cell_type": "code",
   "execution_count": 125,
   "metadata": {
    "id": "Gpd5eaEpXf1F"
   },
   "outputs": [],
   "source": [
    "X = X_median"
   ]
  },
  {
   "cell_type": "code",
   "execution_count": 126,
   "metadata": {
    "id": "Eqc5n4UPe-aM"
   },
   "outputs": [],
   "source": [
    "from sklearn.model_selection import train_test_split\n",
    "\n",
    "scaler = StandardScaler()\n",
    "X_train, X_test, y_train, y_test = train_test_split(X, y, test_size=0.3, random_state=42)\n",
    "\n",
    "X_train_scaled = scaler.fit_transform(X_train[numeric_features])\n",
    "X_test_scaled = scaler.transform(X_test[numeric_features])\n",
    "\n",
    "\n",
    "model = RidgeClassifier()\n",
    "model.fit(X_train_scaled, y_train)\n",
    "y_pred = model.predict(X_test_scaled)\n",
    "weights = abs(model.coef_[0])"
   ]
  },
  {
   "cell_type": "code",
   "execution_count": 121,
   "metadata": {
    "id": "2ZUGK0YCYxy3"
   },
   "outputs": [],
   "source": [
    "import operator"
   ]
  },
  {
   "cell_type": "code",
   "execution_count": 130,
   "metadata": {
    "id": "NEJQm4z2bufa"
   },
   "outputs": [],
   "source": [
    "sorted_indecies_of_weights = sorted(enumerate(weights), key=operator.itemgetter(1))\n",
    "sorted_indecies_of_weights = np.array([i  for (i, _) in sorted_indecies_of_weights])\n",
    "sorted_weights = sorted(weights)\n",
    "noninformative_features = X.columns[sorted_indecies_of_weights[np.array(sorted_weights) < 0.001]]"
   ]
  },
  {
   "cell_type": "code",
   "execution_count": 100,
   "metadata": {
    "id": "KebYigtXyYlz"
   },
   "outputs": [],
   "source": [
    "descr = pd.read_csv('/content/drive/MyDrive/cmc/ммро/смещение, разброс, градиентный бустинг/HomeCredit_columns_description.csv', engine='python')"
   ]
  },
  {
   "cell_type": "code",
   "execution_count": 131,
   "metadata": {
    "colab": {
     "base_uri": "https://localhost:8080/"
    },
    "id": "o3N0cDUEihWR",
    "outputId": "67dde477-d597-4d38-8899-1b0a82a8c0c8"
   },
   "outputs": [
    {
     "name": "stdout",
     "output_type": "stream",
     "text": [
      "BASEMENTAREA_AVG : Normalized information about building where the client lives, What is average (_AVG suffix), modus (_MODE suffix), median (_MEDI suffix) apartment size, common area, living area, age of building, number of elevators, number of entrances, state of the building, number of floor \n",
      "\n",
      "FLAG_DOCUMENT_4 : Did client provide document 4 \n",
      "\n",
      "FLAG_DOCUMENT_5 : Did client provide document 5 \n",
      "\n",
      "NONLIVINGAREA_MEDI : Normalized information about building where the client lives, What is average (_AVG suffix), modus (_MODE suffix), median (_MEDI suffix) apartment size, common area, living area, age of building, number of elevators, number of entrances, state of the building, number of floor \n",
      "\n",
      "NAME_EDUCATION_TYPE : Level of highest education the client achieved \n",
      "\n",
      "EMERGENCYSTATE_MODE : Normalized information about building where the client lives, What is average (_AVG suffix), modus (_MODE suffix), median (_MEDI suffix) apartment size, common area, living area, age of building, number of elevators, number of entrances, state of the building, number of floor \n",
      "\n",
      "LIVINGAREA_MODE : Normalized information about building where the client lives, What is average (_AVG suffix), modus (_MODE suffix), median (_MEDI suffix) apartment size, common area, living area, age of building, number of elevators, number of entrances, state of the building, number of floor \n",
      "\n",
      "REGION_POPULATION_RELATIVE : Normalized population of region where client lives (higher number means the client lives in more populated region) \n",
      "\n",
      "LIVINGAREA_AVG : Normalized information about building where the client lives, What is average (_AVG suffix), modus (_MODE suffix), median (_MEDI suffix) apartment size, common area, living area, age of building, number of elevators, number of entrances, state of the building, number of floor \n",
      "\n",
      "WALLSMATERIAL_MODE : Normalized information about building where the client lives, What is average (_AVG suffix), modus (_MODE suffix), median (_MEDI suffix) apartment size, common area, living area, age of building, number of elevators, number of entrances, state of the building, number of floor \n",
      "\n",
      "LIVINGAPARTMENTS_MEDI : Normalized information about building where the client lives, What is average (_AVG suffix), modus (_MODE suffix), median (_MEDI suffix) apartment size, common area, living area, age of building, number of elevators, number of entrances, state of the building, number of floor \n",
      "\n",
      "TOTALAREA_MODE : Normalized information about building where the client lives, What is average (_AVG suffix), modus (_MODE suffix), median (_MEDI suffix) apartment size, common area, living area, age of building, number of elevators, number of entrances, state of the building, number of floor \n",
      "\n",
      "SK_ID_CURR : ID of loan in our sample \n",
      "\n",
      "HOUSETYPE_MODE : Normalized information about building where the client lives, What is average (_AVG suffix), modus (_MODE suffix), median (_MEDI suffix) apartment size, common area, living area, age of building, number of elevators, number of entrances, state of the building, number of floor \n",
      "\n",
      "FLAG_DOCUMENT_3 : Did client provide document 3 \n",
      "\n"
     ]
    }
   ],
   "source": [
    "for feature in noninformative_features:\n",
    "    print(feature, ':', descr.loc[(descr.Table == 'application_{train|test}.csv') & (descr.Row == feature)].iloc[0,3], '\\n')"
   ]
  },
  {
   "cell_type": "markdown",
   "metadata": {
    "id": "pqgoOdWSlAST"
   },
   "source": [
    "По описанию видно, что признаки действительно не особо информативные"
   ]
  },
  {
   "cell_type": "code",
   "execution_count": 132,
   "metadata": {
    "id": "ZaOo-VkXwAFR"
   },
   "outputs": [],
   "source": [
    "X = X.drop(X.columns[sorted_indecies_of_weights[np.array(sorted_weights) < 0.001]], axis=1)"
   ]
  },
  {
   "cell_type": "code",
   "execution_count": 133,
   "metadata": {
    "id": "-IQxjAMRiFWp"
   },
   "outputs": [],
   "source": [
    "X_train, X_test, y_train, y_test = train_test_split(X, y, test_size=0.3, random_state=0)"
   ]
  },
  {
   "cell_type": "markdown",
   "metadata": {
    "id": "Uj4MG1URlbYT"
   },
   "source": [
    "**Задание 5 (1 балл)**"
   ]
  },
  {
   "cell_type": "markdown",
   "metadata": {
    "id": "1e4oK7PTlbYT"
   },
   "source": [
    "**(0.7 баллa)** Обучите реализации градиентного бустинга LightGBM и Catboost на вещественных признаках без подбора параметров. \n",
    "\n",
    "**(0.3 баллa) (?) Получилась ли заметная разнциа в качестве? Как вы думаете, почему?**\n",
    "\n",
    "**Замечание:**\n",
    "* В этом и последующих экспериментах необходимо измерять время обучения моделей."
   ]
  },
  {
   "cell_type": "code",
   "execution_count": 135,
   "metadata": {
    "id": "HsDnJLdULcFl"
   },
   "outputs": [],
   "source": [
    "numeric_features = [feature for feature in numeric_features if feature in X.columns]\n",
    "categorical_features = [feature for feature in categorical if feature in X.columns]"
   ]
  },
  {
   "cell_type": "code",
   "execution_count": 136,
   "metadata": {
    "colab": {
     "base_uri": "https://localhost:8080/"
    },
    "id": "YQIR8G1jr9Cr",
    "outputId": "5e1b0d15-b88a-49a3-8ce6-d402a1ef6e0b"
   },
   "outputs": [
    {
     "name": "stdout",
     "output_type": "stream",
     "text": [
      "LightGBM score: 0.23739079244924438 time: 8.673785209655762\n"
     ]
    }
   ],
   "source": [
    "from lightgbm import LGBMClassifier\n",
    "import time\n",
    "from sklearn.metrics import average_precision_score\n",
    "\n",
    "\n",
    "start = time.time()\n",
    "model = LGBMClassifier()\n",
    "model.fit(X_train[numeric_features], y_train)\n",
    "probabilaties = model.predict_proba(X_test[numeric_features])\n",
    "print('LightGBM score:', average_precision_score(y_test, probabilaties[:, 1]), 'time:', time.time() - start)"
   ]
  },
  {
   "cell_type": "code",
   "execution_count": null,
   "metadata": {
    "id": "nUqiBv9bpL75"
   },
   "outputs": [],
   "source": [
    "from catboost import CatBoostClassifier \n",
    "\n",
    "start = time.time()\n",
    "model = CatBoostClassifier()\n",
    "model.fit(X_train[numeric_features], y_train)\n",
    "finish = time.time()\n",
    "probabilaties = model.predict_proba(X_test[numeric_features])"
   ]
  },
  {
   "cell_type": "code",
   "execution_count": 57,
   "metadata": {
    "colab": {
     "base_uri": "https://localhost:8080/"
    },
    "id": "HHG2q8DrwlC9",
    "outputId": "68ab4cb9-26e0-4a79-a68c-12cda56b7e61"
   },
   "outputs": [
    {
     "name": "stdout",
     "output_type": "stream",
     "text": [
      "Catboost score: 0.2337861185685406 time: 69.98324751853943\n"
     ]
    }
   ],
   "source": [
    "print('Catboost score:', average_precision_score(y_test, probabilaties[:, 1]), 'time:', finish - start)"
   ]
  },
  {
   "cell_type": "markdown",
   "metadata": {
    "id": "F2w5e1yXlbYU"
   },
   "source": [
    "**Your answer here:** Есть небольшое отличие в качестве, скорее всего, потому что catboost лучше работает с категориальными признаками, а мы тут обучаем только на численных. По времени сильно лучше Light GBM, потому что он строит оптимально по времени деревья в глубину, а не в ширину"
   ]
  },
  {
   "cell_type": "markdown",
   "metadata": {
    "id": "_59wQfpxlbYU"
   },
   "source": [
    "__Задание 6. (2 балла)__\n",
    "\n",
    "**(1.5 баллa)** Подберите оптимальные с точки зрения метрики качества параметры алгоритмов, изменяя:\n",
    "\n",
    "* глубину деревьев;\n",
    "* количество деревьев;\n",
    "* темп обучения;\n",
    "\n",
    "Масштаб значений предлагается посмотреть [тут](https://github.com/esokolov/ml-course-hse/blob/master/2019-fall/seminars/sem10-gbm.ipynb).\n",
    "\n",
    "**(0.5 баллa) (?)** Проанализируйте соотношения получившихся оптимальных глубины и количества деревьев в зависимости от алгоритма.** \n",
    "\n",
    "**Если на перебор гиперпараметров уходит много времени, то переберите значениях каких-нибудь 1-2 гиперпараметров, а не всех предложенных 3**"
   ]
  },
  {
   "cell_type": "code",
   "execution_count": 49,
   "metadata": {
    "id": "7dzt_HhYLGtA"
   },
   "outputs": [],
   "source": [
    "from sklearn.model_selection import GridSearchCV\n",
    "\n",
    "start = time.time()\n",
    "model = LGBMClassifier()\n",
    "parametrs = {'max_depth': [1, 4, 8, 12], 'n_estimators': [1, 50, 100, 200], 'learning_rate': [0.001, 0.01, 0.1]}\n",
    "\n",
    "clf = GridSearchCV(model, parametrs, scoring='average_precision', cv=4)\n",
    "clf.fit(X[numeric_features], y)\n",
    "finish = time.time()"
   ]
  },
  {
   "cell_type": "code",
   "execution_count": 50,
   "metadata": {
    "id": "nVxLGhxKoNYz"
   },
   "outputs": [],
   "source": [
    "LGBMClassifier_best_params = clf.best_params_\n",
    "LGBMClassifier_time = finish - start\n",
    "LGBMClassifier_score = clf.best_score_"
   ]
  },
  {
   "cell_type": "code",
   "execution_count": 58,
   "metadata": {
    "colab": {
     "base_uri": "https://localhost:8080/"
    },
    "id": "-PDS6agbpAb4",
    "outputId": "ebdc71e2-fd2c-44b8-8bca-3f24c06359ad"
   },
   "outputs": [
    {
     "name": "stdout",
     "output_type": "stream",
     "text": [
      "LGBMClassifier: {'learning_rate': 0.1, 'max_depth': 4, 'n_estimators': 200} time: 0:22:50.291391 score: 0.23416495647472185\n"
     ]
    }
   ],
   "source": [
    "from datetime import timedelta\n",
    "\n",
    "print('LGBMClassifier:', LGBMClassifier_best_params, 'time:', str(timedelta(seconds=LGBMClassifier_time)),'score:', LGBMClassifier_score)"
   ]
  },
  {
   "cell_type": "code",
   "execution_count": null,
   "metadata": {
    "id": "lg92NDSCxGBU"
   },
   "outputs": [],
   "source": [
    "start = time.time()\n",
    "model = CatBoostClassifier()\n",
    "parametrs = {'max_depth': [1, 4, 8, 12], 'n_estimators': [1, 50, 100, 200], 'learning_rate': [0.001, 0.01, 0.1]}\n",
    "\n",
    "clf = GridSearchCV(model, parametrs, scoring='average_precision', cv=4)\n",
    "clf.fit(X[numeric_features], y)\n",
    "finish = time.time()"
   ]
  },
  {
   "cell_type": "code",
   "execution_count": 60,
   "metadata": {
    "id": "w4hysiKXxqnf"
   },
   "outputs": [],
   "source": [
    "Сatboost_best_params = clf.best_params_\n",
    "Сatboost_time = finish - start\n",
    "Сatboost_score = clf.best_score_"
   ]
  },
  {
   "cell_type": "code",
   "execution_count": 61,
   "metadata": {
    "colab": {
     "base_uri": "https://localhost:8080/"
    },
    "id": "fnjo3nw-x1dY",
    "outputId": "c5401d2c-16c6-4ec3-a38c-2b09f42370c1"
   },
   "outputs": [
    {
     "name": "stdout",
     "output_type": "stream",
     "text": [
      "Сatboost: {'learning_rate': 0.1, 'max_depth': 4, 'n_estimators': 200} time: 1:16:43.542186 score: 0.233260719073233\n"
     ]
    }
   ],
   "source": [
    "print('Сatboost:', Сatboost_best_params, 'time:', str(timedelta(seconds=Сatboost_time)),'score:', Сatboost_score)"
   ]
  },
  {
   "cell_type": "markdown",
   "metadata": {
    "id": "g-HWoVHhlbYV"
   },
   "source": [
    "оптимальные значения параметров получились одинаковые, потому что, видимо, слишком большая разница между соседними элементами параметров."
   ]
  },
  {
   "cell_type": "markdown",
   "metadata": {
    "id": "iFHt1dvVlbYW"
   },
   "source": [
    "**Задание 7 (1.5 баллa)**\n",
    "\n",
    "**(1 балл)** Добавьте категориальные признаки к вещественным следующими способами:\n",
    "\n",
    "* как OHE признаки;\n",
    "* как счетчики со сглаживанием.\n",
    "\n",
    "Можно использовать библиотечные реализации; при подсчете счетчиков нельзя использовать циклы.\n",
    "\n",
    "**(0.5 баллa) (?)** Как меняется время, необходимое для обучения моделей в зависимости от способа кодирования? (Параметры можно не подбирать)."
   ]
  },
  {
   "cell_type": "code",
   "execution_count": 145,
   "metadata": {
    "id": "g5FaJjUElbYW"
   },
   "outputs": [],
   "source": [
    "OHE = pd.get_dummies(X[categorical_features])\n",
    "X_OHE = X.drop(categorical_features,axis = 1)\n",
    "X_OHE = X_OHE.join(OHE)  \n",
    "\n",
    "X_OHE_train, X_OHE_test, y_OHE_train, y_OHE_test = train_test_split(X_OHE, y, test_size=0.3, random_state=0)"
   ]
  },
  {
   "cell_type": "code",
   "execution_count": 144,
   "metadata": {
    "id": "W9gnsZS2YV89"
   },
   "outputs": [],
   "source": [
    "from category_encoders import TargetEncoder\n",
    "\n",
    "encoder = TargetEncoder()\n",
    "X_TE_train = X_train.copy()\n",
    "X_TE_train[categorical_features] = encoder.fit_transform(X_TE_train[categorical_features], y_train)\n",
    "X_TE_test = X_test.copy()\n",
    "X_TE_test[categorical_features] = encoder.transform(X_TE_test[categorical_features], y_test)"
   ]
  },
  {
   "cell_type": "code",
   "execution_count": 148,
   "metadata": {
    "colab": {
     "base_uri": "https://localhost:8080/"
    },
    "id": "9Oe7kJhfb8ak",
    "outputId": "a6611ef5-9cee-41ed-f695-709de2e9acd3"
   },
   "outputs": [
    {
     "name": "stdout",
     "output_type": "stream",
     "text": [
      "OHE LightGBM score: 0.24089378831967231 time: 9.657429218292236\n"
     ]
    }
   ],
   "source": [
    "start = time.time()\n",
    "model = LGBMClassifier()\n",
    "model.fit(X_OHE_train, y_train)\n",
    "probabilaties = model.predict_proba(X_OHE_test)\n",
    "print('OHE LightGBM score:', average_precision_score(y_test, probabilaties[:, 1]), 'time:', time.time() - start)"
   ]
  },
  {
   "cell_type": "code",
   "execution_count": 149,
   "metadata": {
    "colab": {
     "base_uri": "https://localhost:8080/"
    },
    "id": "9qVgtpMUbl4O",
    "outputId": "c960d9a2-8749-4933-ef25-41c7c3468ac0"
   },
   "outputs": [
    {
     "name": "stdout",
     "output_type": "stream",
     "text": [
      "TargetEncoder LightGBM score: 0.24089378831967231 time: 10.061611413955688\n"
     ]
    }
   ],
   "source": [
    "start = time.time()\n",
    "model = LGBMClassifier()\n",
    "model.fit(X_TE_train, y_train)\n",
    "probabilaties = model.predict_proba(X_TE_test)\n",
    "print('TargetEncoder LightGBM score:', average_precision_score(y_test, probabilaties[:, 1]), 'time:', time.time() - start)"
   ]
  },
  {
   "cell_type": "code",
   "execution_count": null,
   "metadata": {
    "id": "wqkUxGIhbl4S"
   },
   "outputs": [],
   "source": [
    "start = time.time()\n",
    "model = CatBoostClassifier()\n",
    "model.fit(X_OHE_train, y_train)\n",
    "finish = time.time()\n",
    "probabilaties = model.predict_proba(X_OHE_test)"
   ]
  },
  {
   "cell_type": "code",
   "execution_count": 152,
   "metadata": {
    "colab": {
     "base_uri": "https://localhost:8080/"
    },
    "id": "wcW6nTsHbl4U",
    "outputId": "7dde346a-89a6-4dfe-8c37-77b8c01618e2"
   },
   "outputs": [
    {
     "name": "stdout",
     "output_type": "stream",
     "text": [
      "OHE Catboost score: 0.2390470085900725 time: 74.83027291297913\n"
     ]
    }
   ],
   "source": [
    "print('OHE Catboost score:', average_precision_score(y_test, probabilaties[:, 1]), 'time:', finish - start)"
   ]
  },
  {
   "cell_type": "code",
   "execution_count": null,
   "metadata": {
    "id": "IGcXZI09cfYa"
   },
   "outputs": [],
   "source": [
    "start = time.time()\n",
    "model = CatBoostClassifier()\n",
    "model.fit(X_TE_train, y_train)\n",
    "finish = time.time()\n",
    "probabilaties = model.predict_proba(X_TE_test)"
   ]
  },
  {
   "cell_type": "code",
   "execution_count": 154,
   "metadata": {
    "colab": {
     "base_uri": "https://localhost:8080/"
    },
    "id": "aIdaHcsBcjXa",
    "outputId": "369687ff-c9e1-4c0b-8c77-5fb2e746e246"
   },
   "outputs": [
    {
     "name": "stdout",
     "output_type": "stream",
     "text": [
      "TargetEncoder Catboost score: 0.2410111265441047 time: 75.57001376152039\n"
     ]
    }
   ],
   "source": [
    "print('TargetEncoder Catboost score:', average_precision_score(y_test, probabilaties[:, 1]), 'time:', finish - start)"
   ]
  },
  {
   "cell_type": "markdown",
   "metadata": {
    "id": "Jr83Exoq1N1i"
   },
   "source": [
    "С использованием счетчиков обучается дольше в обоих методах."
   ]
  },
  {
   "cell_type": "markdown",
   "metadata": {
    "id": "eupWFUuJlbYX"
   },
   "source": [
    "**Your answer here:**"
   ]
  },
  {
   "cell_type": "markdown",
   "metadata": {
    "id": "7IcpQuWmlbYX"
   },
   "source": [
    "**Задание 8 (1 балл)**\n",
    "\n",
    "**(0.7 баллa)** Для CatBoost можно не делать ручную обработку категориальных признаков, а подавать как есть. Обучите модель CatBoost, не обрабатывая специально категориальные признаки, замерьте время обучения (параметры возьмите из предыдущего пункта).  \n",
    "\n",
    "**(0.3 баллa) (?)**Сравните с временем обучения модели CatBoost из предыдущего пункта. Как изменилось время? Почему?"
   ]
  },
  {
   "cell_type": "code",
   "execution_count": null,
   "metadata": {
    "id": "sjSaaCwSlbYY"
   },
   "outputs": [],
   "source": [
    "start = time.time()\n",
    "model = CatBoostClassifier()\n",
    "model.fit(X_train, y_train)\n",
    "finish = time.time()\n",
    "probabilaties = model.predict_proba(X_test)"
   ]
  },
  {
   "cell_type": "code",
   "execution_count": 156,
   "metadata": {
    "colab": {
     "base_uri": "https://localhost:8080/"
    },
    "id": "v9y857lKfWSK",
    "outputId": "d79c1553-f5c7-423e-85ca-11329864859e"
   },
   "outputs": [
    {
     "name": "stdout",
     "output_type": "stream",
     "text": [
      "Catboost with categorical features score: 0.2410111265441047 time: 75.11611890792847\n"
     ]
    }
   ],
   "source": [
    "print('Catboost with categorical features score:', average_precision_score(y_test, probabilaties[:, 1]), 'time:', finish - start)"
   ]
  },
  {
   "cell_type": "markdown",
   "metadata": {
    "id": "I292vlci0-d1"
   },
   "source": [
    "В этом пункте быстрее, потому что catboost быстрее работает с категориальными признаками."
   ]
  },
  {
   "cell_type": "markdown",
   "metadata": {
    "id": "WddeA6SZlbYY"
   },
   "source": [
    "**Your answer here:**"
   ]
  },
  {
   "cell_type": "markdown",
   "metadata": {
    "id": "0a8_ZKTHlbYY"
   },
   "source": [
    "**Бонус. (1 балл)**\n",
    "\n",
    "**(0.7 баллa)**Подберите оптимальные параметры для LightGBM с вещественными и категориальными признаками (предварительно обработанные каким-нибудь способом). Подберите оптимальные параметры для CatBoost с вещественными и необработанными категориальными признаками. \n",
    "\n",
    "**(0.3 баллa) (?)**Сравните качество моделей на наилучших параметрах. Какой метод получился лучше с точки зрения качества? Совпадает ли результат с вашими ожиданиями?"
   ]
  },
  {
   "cell_type": "code",
   "execution_count": 158,
   "metadata": {
    "id": "cUhBOWqgitBe"
   },
   "outputs": [],
   "source": [
    "encoder = TargetEncoder()\n",
    "X_TE = X.copy()\n",
    "X_TE[categorical_features] = encoder.fit_transform(X_TE[categorical_features], y)"
   ]
  },
  {
   "cell_type": "code",
   "execution_count": 160,
   "metadata": {
    "id": "UJi3alqxhOTp"
   },
   "outputs": [],
   "source": [
    "start = time.time()\n",
    "model = LGBMClassifier()\n",
    "parametrs = {'max_depth': [2, 4, 6], 'n_estimators': [150, 200, 250, 300], 'learning_rate': [0.005, 0.01, 0.1]}\n",
    "\n",
    "clf = GridSearchCV(model, parametrs, scoring='average_precision', cv=4)\n",
    "clf.fit(X_TE, y)\n",
    "finish = time.time()"
   ]
  },
  {
   "cell_type": "code",
   "execution_count": 161,
   "metadata": {
    "id": "qxwHn26rhOTs"
   },
   "outputs": [],
   "source": [
    "LGBMClassifier_best_params = clf.best_params_\n",
    "LGBMClassifier_time = finish - start\n",
    "LGBMClassifier_score = clf.best_score_"
   ]
  },
  {
   "cell_type": "code",
   "execution_count": 162,
   "metadata": {
    "colab": {
     "base_uri": "https://localhost:8080/"
    },
    "id": "3f5JRt4phOTu",
    "outputId": "726ba627-f3d4-4aa2-aad7-b58b757cba67"
   },
   "outputs": [
    {
     "name": "stdout",
     "output_type": "stream",
     "text": [
      "LGBMClassifier: {'learning_rate': 0.1, 'max_depth': 4, 'n_estimators': 300} time: 0:37:49.261798 score: 0.23871878225291146\n"
     ]
    }
   ],
   "source": [
    "print('LGBMClassifier:', LGBMClassifier_best_params, 'time:', str(timedelta(seconds=LGBMClassifier_time)),'score:', LGBMClassifier_score)"
   ]
  },
  {
   "cell_type": "code",
   "execution_count": null,
   "metadata": {
    "id": "Tpa-XEh4hOTx"
   },
   "outputs": [],
   "source": [
    "start = time.time()\n",
    "model = CatBoostClassifier()\n",
    "parametrs = {'max_depth': [2, 4, 6], 'n_estimators': [100, 250, 300], 'learning_rate': [0.01, 0.1]}\n",
    "\n",
    "clf = GridSearchCV(model, parametrs, scoring='average_precision', cv=4)\n",
    "clf.fit(X, y)\n",
    "finish = time.time()"
   ]
  },
  {
   "cell_type": "code",
   "execution_count": 164,
   "metadata": {
    "id": "hBueSUuxhOTy"
   },
   "outputs": [],
   "source": [
    "Сatboost_best_params = clf.best_params_\n",
    "Сatboost_time = finish - start\n",
    "Сatboost_score = clf.best_score_"
   ]
  },
  {
   "cell_type": "code",
   "execution_count": 165,
   "metadata": {
    "colab": {
     "base_uri": "https://localhost:8080/"
    },
    "id": "p_ZKEFI_hOTz",
    "outputId": "904c6713-3c41-4fc9-ccf0-82af5851d0bc"
   },
   "outputs": [
    {
     "name": "stdout",
     "output_type": "stream",
     "text": [
      "Сatboost: {'learning_rate': 0.1, 'max_depth': 4, 'n_estimators': 300} time: 0:17:43.973108 score: 0.24021022201166184\n"
     ]
    }
   ],
   "source": [
    "print('Сatboost:', Сatboost_best_params, 'time:', str(timedelta(seconds=Сatboost_time)),'score:', Сatboost_score)"
   ]
  },
  {
   "cell_type": "markdown",
   "metadata": {
    "id": "jo08QaKnyAqI"
   },
   "source": [
    "Catboost лучше работает, потому что лучше работает с категориальными признаками, я так и думала)"
   ]
  },
  {
   "cell_type": "markdown",
   "metadata": {
    "id": "XYn_3A3plbYZ"
   },
   "source": [
    "**Бонус (0.2 балла)**\n",
    "\n",
    "Ваш любимый новогодний фильм/сериал/мультик/книга/музыка/развление/ч-т-о-у-г-о-д-н-о\n",
    "\n",
    "Всем мандаринок!&#127818;"
   ]
  },
  {
   "cell_type": "markdown",
   "metadata": {
    "id": "yeK0oxVQlbYZ"
   },
   "source": [
    "#### Ваш ответ здесь Эта замечальная жизнь - это замечательный фильм) И Гринч похетитель рождества - тоже супер крутой. Спасибо за мандаринки :)"
   ]
  }
 ],
 "metadata": {
  "colab": {
   "name": "Copy of hw-practice-4.ipynb",
   "provenance": []
  },
  "kernelspec": {
   "display_name": "Python 3 (ipykernel)",
   "language": "python",
   "name": "python3"
  },
  "language_info": {
   "codemirror_mode": {
    "name": "ipython",
    "version": 3
   },
   "file_extension": ".py",
   "mimetype": "text/x-python",
   "name": "python",
   "nbconvert_exporter": "python",
   "pygments_lexer": "ipython3",
   "version": "3.8.10"
  }
 },
 "nbformat": 4,
 "nbformat_minor": 1
}
