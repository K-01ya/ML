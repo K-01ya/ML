{
  "cells": [
    {
      "cell_type": "markdown",
      "metadata": {
        "id": "RYp0bXOFK-hP"
      },
      "source": [
        "# Машинное обучение, ВМК МГУ\n",
        "\n",
        "## Практическое задание 1. Метод опорных векторов и аппроксимация ядер\n",
        "\n",
        "### Общая информация\n",
        "Дата выдачи: 17.02.2022\n",
        "\n",
        "Мягкий дедлайн: 23:59MSK 03.03.2022 **(за каждый день просрочки снимается 1 балл)**\n",
        "\n",
        "Жесткий дедлайн: 23:59MSK 10.03.2022\n",
        "\n",
        "### Оценивание и штрафы\n",
        "Каждая из задач имеет определенную «стоимость» (указана в скобках около задачи). Максимальная оценка за работу — **10 баллов + 4.3 бонусов.**\n",
        "\n",
        "Сдавать задание после указанного жёсткого срока сдачи нельзя. При выставлении неполного балла за задание в связи с наличием ошибок на усмотрение проверяющего предусмотрена возможность исправить работу на указанных в ответном письме условиях.\n",
        "\n",
        "Задание выполняется самостоятельно. «Похожие» решения считаются плагиатом и все задействованные студенты (в том числе те, у кого списали) не могут получить за него больше 0 баллов (подробнее о плагиате см. на странице курса). Если вы нашли решение какого-то из заданий (или его часть) в открытом источнике, необходимо указать ссылку на этот источник в отдельном блоке в конце вашей работы (скорее всего вы будете не единственным, кто это нашел, поэтому чтобы исключить подозрение в плагиате, необходима ссылка на источник).\n",
        "\n",
        "Неэффективная реализация кода может негативно отразиться на оценке.\n",
        "\n",
        "### Формат сдачи\n",
        "Задания сдаются через систему anytask. Посылка должна содержать:\n",
        "   * Ноутбук homework-practice-01-random-features-Username.ipynb\n",
        "\n",
        "Username — ваша фамилия и имя на латинице именно в таком порядке\n",
        "\n",
        "### А также..\n",
        "\n",
        "* Для удобства поиска вопросов, на которые от вас просят ответа, мы пометили их знаком **(?)**\n",
        "* Знак **(!)** означает, что выполнение замечания необходимо для **возможности получения полного балла**\n",
        "* Даем до +0.3 баллов за выдающиеся успехи по субъективному мнению проверяющих. Этот **бонус** не апеллируется"
      ]
    },
    {
      "cell_type": "markdown",
      "metadata": {
        "id": "putEQrFCY3N9"
      },
      "source": [
        "<p style=\"color:#de3815;font-size:25px;\">\n",
        "Напоминание об оформлении и выполнении ноутбука\n",
        "</p>"
      ]
    },
    {
      "cell_type": "markdown",
      "metadata": {
        "id": "UGXO3rwHY3N-"
      },
      "source": [
        "* Все строчки должны быть выполнены. Нужно, чтобы output команды можно было увидеть, не запуская ячейки (кроме редких случаев, когда необходимо намеренно скрыть ненужный output, про такие случаи желательно писать пояснения в тексте). **В противном случае -1 балл**\n",
        "* При оформлении ДЗ нужно пользоваться данным файлом в качестве шаблона. Не нужно удалять и видоизменять написанный код и текст, если явно не указана такая возможность. **В противном случае -1 балл**\n",
        "* В anytask обязательно нужно прикреплять отдельно файл с расширением ipynb (не в архиве, а именно отдельно). Если необходимо отправить еще какие-то файлы, то вынесите их в отдельный архив (если файлов много) и пришлите. **В противном случае -0.5 балла**\n",
        "---\n",
        "* Пишите, пожалуйста, выводы и ответы на вопросы в текстовых ячейках/при помощи print в коде. При их отсутствии мы не можем понять, сделали ли вы задание и понимаете, что происходит, и **поэтому будем снижать баллы**\n",
        "* Если алгоритм не сказано реализовывать явно, его всегда можно импортировать из библиотеки.\n",
        "---\n",
        "* Про графики. _Штрафы будут применяться к каждому результату команды отображения графика (plt.show() и др. аналогичные). Исключением являются графики, генерируемые функциями каких-либо сторонних библиотек, если их нельзя кастомизировать_\n",
        "\n",
        "    * должно быть название (plt.title) графика; **В противном случае &ndash; -0.05 балла**\n",
        "    * на графиках должны быть подписаны оси (plt.xlabel, plt.ylabel); **В противном случае &ndash; -0.025 балла за каждую ось**\n",
        "    * должны быть подписаны единицы измерения (если это возможно); **В противном случае &ndash; -0.025 балла за каждую ось**\n",
        "    * все названия должны быть понятны любому человеку, знакомому с терминологией, без заглядывания в код; **В противном случае &ndash; -0.05 балла**\n",
        "    * подписи тиков на осях не должны сливаться как на одной оси, так и между ними; **В противном случае &ndash; -0.025 балла за каждую ось**\n",
        "    * если изображено несколько сущностей на одном холсте (например несколько функций), то необходима поясняющая легенда (plt.legend); **В противном случае &ndash; -0.05 балла**\n",
        "    * все линии на графиках должны быть чётко видны (нет похожих цветов или цветов, сливающихся с фоном); **В противном случае &ndash; -0.05 балла**\n",
        "    * если отображена величина, имеющая очевидный диапазон значений (например, проценты могут быть от 0 до 100), то желательно масштабировать ось на весь диапазон значений (исключением является случай, когда вам необходимо показать малое отличие, которое незаметно в таких масштабах);\n",
        "    * графики должны быть не супер-микро и не супер-макро по размерам, так, чтобы можно было увидеть все, что нужно.\n",
        "    * при необходимости улучшения наглядности графиков, можно пользоваться логарифмической шкалой по осям x/y.\n",
        "    "
      ]
    },
    {
      "cell_type": "markdown",
      "metadata": {
        "id": "vY8vT0W_K-hR"
      },
      "source": [
        "### О задании\n",
        "\n",
        "На занятиях мы подробно обсуждали метод опорных векторов (SVM). В базовой версии в нём нет чего-то особенного — мы всего лишь используем специальную функцию потерь, которая не требует устремлять отступы к бесконечности; ей достаточно, чтобы отступы были не меньше +1. Затем мы узнали, что SVM можно переписать в двойственном виде, который, позволяет заменить скалярные произведения объектов на ядра. Это будет соответствовать построению модели в новом пространстве более высокой размерности, координаты которого представляют собой нелинейные модификации исходных признаков.\n",
        "\n",
        "Ядровой SVM, к сожалению, довольно затратен по памяти (нужно хранить матрицу Грама размера $d \\times d$) и по времени (нужно решать задачу условной оптимизации с квадратичной функцией, а это не очень быстро). Мы обсуждали, что есть способы посчитать новые признаки $\\tilde \\varphi(x)$ на основе исходных так, что скалярные произведения этих новых $\\langle \\tilde \\varphi(x), \\tilde \\varphi(z) \\rangle$ приближают ядро $K(x, z)$.\n",
        "\n",
        "Мы будем исследовать аппроксимации методом **Random Fourier Features (RFF, также в литературе встречается название Random Kitchen Sinks)** для гауссовых ядер. Будем использовать формулы, которые немного отличаются от того, что было на лекциях (мы добавим сдвиги внутрь тригонометрических функций и будем использовать только косинусы, потому что с нужным сдвигом косинус превратится в синус):\n",
        "$$\\tilde \\varphi(x) = (\n",
        "\\cos (w_1^T x + b_1),\n",
        "\\dots,\n",
        "\\cos (w_n^T x + b_n)\n",
        "),$$\n",
        "где $w_j \\sim \\mathcal{N}(0, 1/\\sigma^2)$, $b_j \\sim U[-\\pi, \\pi]$, где\n",
        "\n",
        "$1/\\sigma^2$ --- **дисперсия распределения.**\n",
        "\n",
        "На новых признаках $\\tilde \\varphi(x)$ мы будем строить любую линейную модель.\n",
        "\n",
        "Можно считать, что это некоторая новая парадигма построения сложных моделей. Можно направленно искать сложные нелинейные закономерности в данных с помощью градиентного бустинга или нейронных сетей, а можно просто нагенерировать большое количество случайных нелинейных признаков и надеяться, что быстрая и простая модель (то есть линейная) сможет показать на них хорошее качество. В этом задании мы изучим, насколько работоспособна такая идея.\n",
        "\n",
        "### Алгоритм\n",
        "\n",
        "Вам потребуется реализовать следующий алгоритм:\n",
        "1. Понизить размерность выборки до new_dim с помощью метода главных компонент.\n",
        "\n",
        "2. Для полученной выборки оценить гиперпараметр $\\sigma^2$ с помощью эвристики (рекомендуем считать медиану не по всем парам объектов, а по случайному подмножеству из где-то миллиона пар объектов): $$\\sigma^2 = \\text{median}_{i, j = 1, \\dots, \\ell, i \\neq j} \\left\\{\\sum_{k = 1}^{d} (x_{ik} - x_{jk})^2 \\right\\}$$\n",
        "**Замечание:** обратите внимание на  $i \\neq j$, без этого оценка медианы может быть смещена, а также без этого будут сниматься баллы.\n",
        "\n",
        "3. Сгенерировать n_features наборов весов $w_j$ и сдвигов $b_j$.\n",
        "\n",
        "4. Сформировать n_features новых признаков по формулам, приведённым выше.\n",
        "\n",
        "5. Обучить линейную модель (логистическую регрессию или SVM) на новых признаках.\n",
        "\n",
        "6. Повторить преобразования (PCA, формирование новых признаков) к тестовой выборке и применить модель."
      ]
    },
    {
      "cell_type": "code",
      "execution_count": 1,
      "metadata": {
        "id": "LR8ylTGNY3OE"
      },
      "outputs": [],
      "source": [
        "### Для игнорирования предупреждений \n",
        "import warnings\n",
        "warnings.filterwarnings('ignore')"
      ]
    },
    {
      "cell_type": "markdown",
      "metadata": {
        "id": "5LuXNZkBY3OF"
      },
      "source": [
        "**Напоминание:**\n",
        "    \n",
        "* Все ваши графики должны быть **\"красивыми\"** --- подробнее о том, как их оформлять, можно найти в первом практическом задании. При несоответствии какиму-то из критериев вам могут снять баллы.\n",
        "* Пишите в текстовых ячейках/print в коде ответы на **все вопросы из заданий/просьбы сделать выводы** --- при их отсутствии мы не можем понять, сделали ли вы задание и понимаете, что происходит, и поэтому будем снижать баллы"
      ]
    },
    {
      "cell_type": "markdown",
      "metadata": {
        "id": "N_sGunb7K-hS"
      },
      "source": [
        "Тестировать алгоритм мы будем на данных Fashion MNIST. Ниже код для их загрузки и подготовки."
      ]
    },
    {
      "cell_type": "code",
      "execution_count": 2,
      "metadata": {
        "colab": {
          "base_uri": "https://localhost:8080/"
        },
        "id": "YyG6dBfjK-hS",
        "outputId": "ea4c9914-1998-4b1d-8824-ea232f34b706"
      },
      "outputs": [
        {
          "output_type": "stream",
          "name": "stdout",
          "text": [
            "Downloading data from https://storage.googleapis.com/tensorflow/tf-keras-datasets/train-labels-idx1-ubyte.gz\n",
            "32768/29515 [=================================] - 0s 0us/step\n",
            "40960/29515 [=========================================] - 0s 0us/step\n",
            "Downloading data from https://storage.googleapis.com/tensorflow/tf-keras-datasets/train-images-idx3-ubyte.gz\n",
            "26427392/26421880 [==============================] - 0s 0us/step\n",
            "26435584/26421880 [==============================] - 0s 0us/step\n",
            "Downloading data from https://storage.googleapis.com/tensorflow/tf-keras-datasets/t10k-labels-idx1-ubyte.gz\n",
            "16384/5148 [===============================================================================================] - 0s 0us/step\n",
            "Downloading data from https://storage.googleapis.com/tensorflow/tf-keras-datasets/t10k-images-idx3-ubyte.gz\n",
            "4423680/4422102 [==============================] - 0s 0us/step\n",
            "4431872/4422102 [==============================] - 0s 0us/step\n"
          ]
        }
      ],
      "source": [
        "import keras\n",
        "from keras.datasets import fashion_mnist\n",
        "(x_train_pics, y_train), (x_test_pics, y_test) = fashion_mnist.load_data()\n",
        "x_train = x_train_pics.reshape(x_train_pics.shape[0], -1)\n",
        "x_test = x_test_pics.reshape(x_test_pics.shape[0], -1)"
      ]
    },
    {
      "cell_type": "markdown",
      "metadata": {
        "id": "eDljHnI3Y3OJ"
      },
      "source": [
        "**ВАЖНОЕ ЗАМЕЧАНИЕ:**\n",
        "\n",
        "Датасет по умолчанию хранится в типе 'uint8', вследствие чего при ручном подсчете дисперсии переменные переполняются и вы получаете неадекватные результаты. Бороться с этим можно преобразованием исходных данных к типу 'float'. Еще один хороший вариант &ndash; использовать специализированные функции из библиотек numpy / scipy и, в частности, **scipy.spatial.distance_matrix**.\n",
        "\n",
        "Ниже приводим подтверждающий пример."
      ]
    },
    {
      "cell_type": "code",
      "execution_count": 3,
      "metadata": {
        "colab": {
          "base_uri": "https://localhost:8080/"
        },
        "id": "yNzMrR9OY3OL",
        "outputId": "bc900003-9604-47d5-dc70-0a3da9adbc3a"
      },
      "outputs": [
        {
          "output_type": "stream",
          "name": "stdout",
          "text": [
            "8661113.5\n",
            "54265.5\n"
          ]
        }
      ],
      "source": [
        "import numpy as np\n",
        "\n",
        "indices = np.random.choice(x_train.shape[0], size=2000)\n",
        "print(np.median(np.sum((x_train[indices[:1000]].astype(float) - x_train[indices[1000:]]).astype(float) ** 2, axis=1)))\n",
        "\n",
        "print(np.median(np.sum((x_train[indices[:1000]] - x_train[indices[1000:]]) ** 2, axis=1)))"
      ]
    },
    {
      "cell_type": "markdown",
      "metadata": {
        "id": "rJNN55F7K-hT"
      },
      "source": [
        "__Задание 1. (5 баллов)__\n",
        "\n",
        "**А) (4 балла)** Реализуйте алгоритм, описанный выше. Можете воспользоваться шаблоном класса ниже или написать свой интерфейс.\n",
        "\n",
        "Ваша реализация должна поддерживать следующие опции:\n",
        "1. Возможность задавать значения параметров new_dim (по умолчанию 50) и n_features (по умолчанию 1000).\n",
        "2. Возможность включать или выключать предварительное понижение размерности с помощью метода главных компонент.\n",
        "3. Возможность выбирать тип линейной модели (логистическая регрессия или SVM с линейным ядром).\n",
        "\n",
        "\n",
        "**Важно (!)**\n",
        "* Так как мы работаем с линейными моделями, вам необходимо делать нормализацию данных.\n",
        "* Оценка гиперпраметра распределения и построение нового датасета должны быть без питоновских циклов (можно все запрограммировать векторно, используя numpy)\n",
        "\n",
        "**Б) (1 балл)** Протестируйте на данных Fashion MNIST, сформированных кодом выше. Если на тесте у вас получилась доля верных ответов **не ниже 0.84 с параметрами по умолчанию**, то вы всё сделали правильно.\n",
        "\n",
        "**Подсказка**\n",
        "* Использование метода без PCA и без нормализации признаков перед генерацией весов может дать неожиданные результаты. Сами подумайте, почему так может происходить :)"
      ]
    },
    {
      "cell_type": "code",
      "execution_count": 21,
      "metadata": {
        "id": "jP8yepx8K-hT"
      },
      "outputs": [],
      "source": [
        "from sklearn.base import BaseEstimator, TransformerMixin\n",
        "from sklearn.decomposition import PCA\n",
        "from sklearn import preprocessing\n",
        "from sklearn.svm import SVC\n",
        "from sklearn.linear_model import LogisticRegression\n",
        "import scipy\n",
        "\n",
        "\n",
        "class RFFPipeline(BaseEstimator, TransformerMixin):\n",
        "    def __init__(self, n_features=1000, new_dim=50, use_PCA=True, classifier='logreg'):\n",
        "        \"\"\"        \n",
        "        Implements pipeline, which consists of PCA decomposition,\n",
        "        Random Fourier Features approximation and linear classification model.\n",
        "        \n",
        "        n_features, int: amount of synthetic random features generated with RFF approximation.\n",
        "\n",
        "        new_dim, int: PCA output size.\n",
        "        \n",
        "        use_PCA, bool: whether to include PCA preprocessing.\n",
        "        \n",
        "        classifier, string: either 'svm' or 'logreg', a linear classification model to use on top of pipeline.\n",
        "        \n",
        "        Feel free to edit this template for your preferences.    \n",
        "        \"\"\"\n",
        "        self.n_features = n_features\n",
        "        self.use_PCA = use_PCA\n",
        "        self.new_dim = new_dim\n",
        "        self.classifier = classifier\n",
        "        \n",
        "    def fit(self, X, y):\n",
        "        \"\"\"\n",
        "        Fit all parts of algorithm (PCA, RFF, Classification) to training set.\n",
        "        \"\"\"\n",
        "\n",
        "        if self.use_PCA:\n",
        "            self.pca = PCA(n_components=self.new_dim)\n",
        "            self.pca.fit(X)\n",
        "            X = self.pca.transform(X)\n",
        "\n",
        "        self.scaler = preprocessing.StandardScaler().fit(X)\n",
        "        X = self.scaler.transform(X)\n",
        "\n",
        "        indecies = np.random.choice(X.shape[0], size=2000)\n",
        "        self.var = np.median(scipy.spatial.distance.cdist(X[indecies[:1000]].astype(float), X[indecies[1000:]].astype(float)) ** 2)\n",
        "        self.W = np.random.normal(0, self.var ** (-1/2), size=(X.shape[1], self.n_features))\n",
        "        self.B = np.random.uniform(-np.pi, np.pi, size=self.n_features)\n",
        "        new_features = np.cos(np.dot(X, self.W) + self.B)\n",
        "\n",
        "        if self.classifier == 'svm':\n",
        "            self.clf = SVC(kernel='linear')\n",
        "        else:\n",
        "            self.clf = LogisticRegression()\n",
        "\n",
        "        self.clf.fit(new_features, y)\n",
        "\n",
        "        return self\n",
        "\n",
        "    def predict_proba(self, X):\n",
        "        \"\"\"\n",
        "        Apply pipeline to obtain scores for input data.\n",
        "        \"\"\"\n",
        "        X = self.scaler.transform(X)\n",
        "        if self.use_PCA:\n",
        "            X = self.pca.transform(X)\n",
        "\n",
        "        new_features = np.cos(np.dot(X, self.W) + self.B)\n",
        "\n",
        "        return self.clf.predict_proba(new_features)\n",
        "\n",
        "        \n",
        "        \n",
        "    def predict(self, X):\n",
        "        \"\"\"\n",
        "        Apply pipeline to obtain discrete predictions for input data.\n",
        "        \"\"\"\n",
        "        if self.use_PCA:\n",
        "            X = self.pca.transform(X)\n",
        "        X = self.scaler.transform(X)\n",
        "\n",
        "        new_features = np.cos(np.dot(X, self.W) + self.B)\n",
        "\n",
        "        return self.clf.predict(new_features)"
      ]
    },
    {
      "cell_type": "code",
      "execution_count": null,
      "metadata": {
        "colab": {
          "base_uri": "https://localhost:8080/"
        },
        "id": "IqMzPmUP_rE6",
        "outputId": "c16d58f2-7adc-4bdc-a58e-a13c120354de"
      },
      "outputs": [
        {
          "data": {
            "text/plain": [
              "0.8649"
            ]
          },
          "execution_count": 5,
          "metadata": {},
          "output_type": "execute_result"
        }
      ],
      "source": [
        "clf = RFFPipeline()\n",
        "clf.fit(x_train, y_train)\n",
        "(clf.predict(x_test) == y_test).mean()"
      ]
    },
    {
      "cell_type": "markdown",
      "metadata": {
        "id": "HYqQUEi-K-hU"
      },
      "source": [
        "__Задание 2. (3 балла)__\n",
        "\n",
        "_**(?)** Сравните следующие подходы: **(2.5 балла)**_\n",
        "\n",
        "**Подход со случайными признаками = использование RFFPipeline**\n",
        "\n",
        "* 1) Подход со случайными признаками c типом модели = логистическая регрессия vs обучение линейного SVM на исходных признаках.\n",
        "* 2) Подход со случайными признаками c типом модели = линейный SVM  vs обучение линейного SVM на исходных признаках.\n",
        "* 3) Подход со случайными признаками c типом модели = логистическая регрессия vs обучение ядрового SVM на исходных признаках.\n",
        "* 4) Подход со случайными признаками c типом модели = линейный SVM vs обучение ядрового SVM на исходных признаках.\n",
        "* 5) Подход со случайными признаками c типом модели = логистическая регрессия vs вариант, в котором вы понижаете размерность с помощью PCA и обучаете градиентный бустинг. Используйте одну из реализаций CatBoost/LightGBM/XGBoost\n",
        "* 6) Подход со случайными признаками c типом модели = линейный SVM vs вариант, в котором вы понижаете размерность с помощью PCA и обучаете градиентный бустинг. Используйте одну из реализаций CatBoost/LightGBM/XGBoost\n",
        " * 5, 6) **Не забудьте** в этих случаях подобрать число деревьев и длину шага -- здесь, в ноутбуке!\n",
        "\n",
        "_Сделайте выводы: **(0.5 баллов)**_\n",
        "* **(?)** Насколько идея со случайными признаками работает?\n",
        "* **(?)** Сравните как с точки зрения качества, так и с точки зрения скорости обучения и применения.\n",
        "\n",
        "**Важные замечания**\n",
        "* Подход по случайными признаками тестируйте в двух вариантах линейной модели. То есть у вас должно получиться всего 6 пар сравнений.\n",
        "* В подходе со случайными признаками в этом задании можно оставиь все параметры, кроме типа модели, по умолчанию.\n",
        "---\n",
        "* Ядровой SVM может очень долго обучаться, поэтому можно делать любые разумные вещи для ускорения: брать подмножество объектов из обучающей выборки, например.\n",
        "* Если вы решили брать подвыборку для какого-то сравнения, то следите за тем, чтобы оба метода обучались на **одинаковом датасете**. Например, сравнивать подход со случайными признаками, обучая его на всем датасете, против ядрового SVM на подвыборке -- некорректно. Тестирование так же должно происходить на одинаковом датасете.\n",
        "* **(!)** Можно в начале этой секции выделить подвыборку и использовать ее для всех экспериментов, если вам это удобно. Необходимо оставить в таком случае хотя бы 10000 объектов. **За меньшее число будут сниматься баллы**\n",
        "---\n",
        "* При сравнении по времени не забывайте смотреть, во сколько потоков реализован алгоритм. Например, сравнивать алгоритм, с параметром n_jobs=-1 (задействовать все возможные потоки) с однопоточным алгоритмом по времени будет некорректно\n",
        "* Если **неуверены**, корректны ли ваши сравнения по времени, поставьте везде n_jobs=1 \n",
        "* Замеряйте время не только обучения, но и обучения + препроцессинга, если он есть (считайте, что формирование признаков в подходе со случайными признаками входит в понятие алгоритма). Так вы сможете более точно проанализировать временные характеристики подходов. \n",
        "---\n",
        "* Переберите хотя бы 10 различных значений количества деревьев (в разумных пределах и с разумным шагом), хотя бы 5 значений параметра learning rate (по логарифмической шкале). Если не знаете, в каких пределах пребирать, то можно найти материалы по соответствующим градиентным бустингам с разбором того, как обычно параметры перебирают.\n",
        "* Перед использованием линейного подхода необходимо нормализовывать признаки (это обычная практика при применении линейных методов, как вы знаете)\n",
        "* Отображать результаты лучше всего будет в виде таблички (pandas DataFrame например), где отображены результаты как  качеств всех алгоритмов, так и времена работы. Можно использовать графическое отображение через bar_plot. Можно также текстом.\n",
        "---\n",
        "* **(!)** Здесь и далее нигде не должно быть сильных просадок по качеству. То есть, если вы получили где-то качество 0.2/0.3/0.4 итд --- это повод задуматься, что где-то у вас есть бага. Во всех экспериментах мы ожидаем качество на тесте не ниже 0.75. **За меньшее качество будут сниматься баллы**"
      ]
    },
    {
      "cell_type": "code",
      "execution_count": null,
      "metadata": {
        "id": "qN8LUlJgK-hV"
      },
      "outputs": [],
      "source": [
        "indices_train = np.random.choice(x_train.shape[0], size=15000)\n",
        "indices_test = np.random.choice(x_test.shape[0], size= x_test.shape[0] * (x_train.shape[0] // 15000))\n",
        "\n",
        "x_train = x_train[indices_train]\n",
        "y_train = y_train[indices_train]\n",
        "x_test = x_test[indices_test]\n",
        "y_test = y_test[indices_test]"
      ]
    },
    {
      "cell_type": "code",
      "execution_count": null,
      "metadata": {
        "id": "RGEvbsg2Ba8b"
      },
      "outputs": [],
      "source": [
        "import pandas as pd  \n",
        "  \n",
        "algorithm_comparison = pd.DataFrame(columns=['RFF logreg', 'RFF SVM', 'Linear SVM'], index =['accuracy', 'run time fit', 'run time predict'])"
      ]
    },
    {
      "cell_type": "code",
      "execution_count": null,
      "metadata": {
        "id": "ZnHYk73f_DyY"
      },
      "outputs": [],
      "source": [
        "import time\n",
        "\n",
        "start = time.time()\n",
        "clf1 = RFFPipeline()\n",
        "clf1.fit(x_train, y_train)\n",
        "algorithm_comparison['RFF logreg']['run time fit'] = round(time.time() - start, 2)\n",
        "\n",
        "start = time.time()\n",
        "prediction = clf1.predict(x_test)\n",
        "algorithm_comparison['RFF logreg']['run time predict'] = round(time.time() - start, 2)\n",
        "\n",
        "algorithm_comparison['RFF logreg']['accuracy'] = (prediction == y_test).mean()"
      ]
    },
    {
      "cell_type": "code",
      "execution_count": null,
      "metadata": {
        "id": "E2sEs3h0mnYD"
      },
      "outputs": [],
      "source": [
        "start = time.time()\n",
        "clf2 = RFFPipeline(classifier='svm')\n",
        "clf2.fit(x_train, y_train)\n",
        "algorithm_comparison['RFF SVM']['run time fit'] = round(time.time() - start, 2)\n",
        "\n",
        "start = time.time()\n",
        "prediction = clf2.predict(x_test)\n",
        "algorithm_comparison['RFF SVM']['run time predict'] = round(time.time() - start, 2)\n",
        "\n",
        "algorithm_comparison['RFF SVM']['accuracy'] = (prediction == y_test).mean()"
      ]
    },
    {
      "cell_type": "code",
      "execution_count": null,
      "metadata": {
        "id": "rPzeUz68nreq"
      },
      "outputs": [],
      "source": [
        "from sklearn.preprocessing import StandardScaler\n",
        "from sklearn.svm import SVC\n",
        "\n",
        "start = time.time()\n",
        "scaler = StandardScaler()\n",
        "x_train_scaled = scaler.fit_transform(x_train)\n",
        "x_test_scaled = scaler.transform(x_test)\n",
        "clf3 = SVC(kernel='linear')\n",
        "clf3.fit(x_train_scaled, y_train)\n",
        "algorithm_comparison['Linear SVM']['run time fit'] = round(time.time() - start, 2)\n",
        "\n",
        "start = time.time()\n",
        "prediction = clf3.predict(x_test_scaled)\n",
        "algorithm_comparison['Linear SVM']['run time predict'] = round(time.time() - start, 2)\n",
        "\n",
        "algorithm_comparison['Linear SVM']['accuracy'] = (prediction == y_test).mean()"
      ]
    },
    {
      "cell_type": "code",
      "execution_count": null,
      "metadata": {
        "id": "kpolr3VbnJWn"
      },
      "outputs": [],
      "source": [
        "algorithm_comparison['Kernel (rbf) SVM'] = np.nan\n",
        "\n",
        "start = time.time()\n",
        "scaler = StandardScaler()\n",
        "x_train_scaled = scaler.fit_transform(x_train)\n",
        "x_test_scaled = scaler.transform(x_test)\n",
        "clf4 = SVC(kernel='rbf')\n",
        "clf4.fit(x_train_scaled, y_train)\n",
        "algorithm_comparison['Kernel (rbf) SVM']['run time fit'] = round(time.time() - start, 2)\n",
        "\n",
        "start = time.time()\n",
        "prediction = clf4.predict(x_test_scaled)\n",
        "algorithm_comparison['Kernel (rbf) SVM']['run time predict'] = round(time.time() - start, 2)\n",
        "\n",
        "algorithm_comparison['Kernel (rbf) SVM']['accuracy'] = (prediction == y_test).mean()"
      ]
    },
    {
      "cell_type": "code",
      "execution_count": null,
      "metadata": {
        "colab": {
          "base_uri": "https://localhost:8080/"
        },
        "id": "o-wGmXLEu8W-",
        "outputId": "b3100fdd-fbc5-408f-bf53-f4269757954e"
      },
      "outputs": [
        {
          "output_type": "stream",
          "name": "stdout",
          "text": [
            "Fitting 3 folds for each of 50 candidates, totalling 150 fits\n",
            "[CV 1/3; 1/50] START learning_rate=0.0001, n_estimators=1.......................\n",
            "[CV 1/3; 1/50] END learning_rate=0.0001, n_estimators=1;, score=0.103 total time=   0.3s\n",
            "[CV 2/3; 1/50] START learning_rate=0.0001, n_estimators=1.......................\n",
            "[CV 2/3; 1/50] END learning_rate=0.0001, n_estimators=1;, score=0.103 total time=   0.2s\n",
            "[CV 3/3; 1/50] START learning_rate=0.0001, n_estimators=1.......................\n",
            "[CV 3/3; 1/50] END learning_rate=0.0001, n_estimators=1;, score=0.103 total time=   0.2s\n",
            "[CV 1/3; 2/50] START learning_rate=0.0001, n_estimators=5.......................\n",
            "[CV 1/3; 2/50] END learning_rate=0.0001, n_estimators=5;, score=0.190 total time=   0.7s\n",
            "[CV 2/3; 2/50] START learning_rate=0.0001, n_estimators=5.......................\n",
            "[CV 2/3; 2/50] END learning_rate=0.0001, n_estimators=5;, score=0.197 total time=   0.7s\n",
            "[CV 3/3; 2/50] START learning_rate=0.0001, n_estimators=5.......................\n",
            "[CV 3/3; 2/50] END learning_rate=0.0001, n_estimators=5;, score=0.197 total time=   0.7s\n",
            "[CV 1/3; 3/50] START learning_rate=0.0001, n_estimators=10......................\n",
            "[CV 1/3; 3/50] END learning_rate=0.0001, n_estimators=10;, score=0.197 total time=   1.3s\n",
            "[CV 2/3; 3/50] START learning_rate=0.0001, n_estimators=10......................\n",
            "[CV 2/3; 3/50] END learning_rate=0.0001, n_estimators=10;, score=0.202 total time=   1.3s\n",
            "[CV 3/3; 3/50] START learning_rate=0.0001, n_estimators=10......................\n",
            "[CV 3/3; 3/50] END learning_rate=0.0001, n_estimators=10;, score=0.198 total time=   1.2s\n",
            "[CV 1/3; 4/50] START learning_rate=0.0001, n_estimators=50......................\n",
            "[CV 1/3; 4/50] END learning_rate=0.0001, n_estimators=50;, score=0.488 total time=   5.8s\n",
            "[CV 2/3; 4/50] START learning_rate=0.0001, n_estimators=50......................\n",
            "[CV 2/3; 4/50] END learning_rate=0.0001, n_estimators=50;, score=0.492 total time=   5.9s\n",
            "[CV 3/3; 4/50] START learning_rate=0.0001, n_estimators=50......................\n",
            "[CV 3/3; 4/50] END learning_rate=0.0001, n_estimators=50;, score=0.469 total time=   5.8s\n",
            "[CV 1/3; 5/50] START learning_rate=0.0001, n_estimators=100.....................\n",
            "[CV 1/3; 5/50] END learning_rate=0.0001, n_estimators=100;, score=0.537 total time=  14.4s\n",
            "[CV 2/3; 5/50] START learning_rate=0.0001, n_estimators=100.....................\n",
            "[CV 2/3; 5/50] END learning_rate=0.0001, n_estimators=100;, score=0.532 total time=  21.0s\n",
            "[CV 3/3; 5/50] START learning_rate=0.0001, n_estimators=100.....................\n",
            "[CV 3/3; 5/50] END learning_rate=0.0001, n_estimators=100;, score=0.518 total time=  11.8s\n",
            "[CV 1/3; 6/50] START learning_rate=0.0001, n_estimators=200.....................\n",
            "[CV 1/3; 6/50] END learning_rate=0.0001, n_estimators=200;, score=0.739 total time=  41.7s\n",
            "[CV 2/3; 6/50] START learning_rate=0.0001, n_estimators=200.....................\n",
            "[CV 2/3; 6/50] END learning_rate=0.0001, n_estimators=200;, score=0.738 total time=  23.2s\n",
            "[CV 3/3; 6/50] START learning_rate=0.0001, n_estimators=200.....................\n",
            "[CV 3/3; 6/50] END learning_rate=0.0001, n_estimators=200;, score=0.728 total time=  23.2s\n",
            "[CV 1/3; 7/50] START learning_rate=0.0001, n_estimators=300.....................\n",
            "[CV 1/3; 7/50] END learning_rate=0.0001, n_estimators=300;, score=0.772 total time=  35.7s\n",
            "[CV 2/3; 7/50] START learning_rate=0.0001, n_estimators=300.....................\n",
            "[CV 2/3; 7/50] END learning_rate=0.0001, n_estimators=300;, score=0.760 total time=  34.4s\n",
            "[CV 3/3; 7/50] START learning_rate=0.0001, n_estimators=300.....................\n",
            "[CV 3/3; 7/50] END learning_rate=0.0001, n_estimators=300;, score=0.765 total time=  34.6s\n",
            "[CV 1/3; 8/50] START learning_rate=0.0001, n_estimators=400.....................\n",
            "[CV 1/3; 8/50] END learning_rate=0.0001, n_estimators=400;, score=0.781 total time=  46.6s\n",
            "[CV 2/3; 8/50] START learning_rate=0.0001, n_estimators=400.....................\n",
            "[CV 2/3; 8/50] END learning_rate=0.0001, n_estimators=400;, score=0.766 total time=  58.6s\n",
            "[CV 3/3; 8/50] START learning_rate=0.0001, n_estimators=400.....................\n",
            "[CV 3/3; 8/50] END learning_rate=0.0001, n_estimators=400;, score=0.772 total time= 1.1min\n",
            "[CV 1/3; 9/50] START learning_rate=0.0001, n_estimators=500.....................\n",
            "[CV 1/3; 9/50] END learning_rate=0.0001, n_estimators=500;, score=0.785 total time=  58.4s\n",
            "[CV 2/3; 9/50] START learning_rate=0.0001, n_estimators=500.....................\n",
            "[CV 2/3; 9/50] END learning_rate=0.0001, n_estimators=500;, score=0.772 total time=  57.4s\n",
            "[CV 3/3; 9/50] START learning_rate=0.0001, n_estimators=500.....................\n",
            "[CV 3/3; 9/50] END learning_rate=0.0001, n_estimators=500;, score=0.775 total time=  58.2s\n",
            "[CV 1/3; 10/50] START learning_rate=0.0001, n_estimators=600....................\n",
            "[CV 1/3; 10/50] END learning_rate=0.0001, n_estimators=600;, score=0.791 total time= 1.2min\n",
            "[CV 2/3; 10/50] START learning_rate=0.0001, n_estimators=600....................\n",
            "[CV 2/3; 10/50] END learning_rate=0.0001, n_estimators=600;, score=0.776 total time= 1.1min\n",
            "[CV 3/3; 10/50] START learning_rate=0.0001, n_estimators=600....................\n",
            "[CV 3/3; 10/50] END learning_rate=0.0001, n_estimators=600;, score=0.777 total time= 1.1min\n",
            "[CV 1/3; 11/50] START learning_rate=0.001, n_estimators=1.......................\n",
            "[CV 1/3; 11/50] END learning_rate=0.001, n_estimators=1;, score=0.197 total time=   0.2s\n",
            "[CV 2/3; 11/50] START learning_rate=0.001, n_estimators=1.......................\n",
            "[CV 2/3; 11/50] END learning_rate=0.001, n_estimators=1;, score=0.202 total time=   0.2s\n",
            "[CV 3/3; 11/50] START learning_rate=0.001, n_estimators=1.......................\n",
            "[CV 3/3; 11/50] END learning_rate=0.001, n_estimators=1;, score=0.198 total time=   0.2s\n",
            "[CV 1/3; 12/50] START learning_rate=0.001, n_estimators=5.......................\n",
            "[CV 1/3; 12/50] END learning_rate=0.001, n_estimators=5;, score=0.486 total time=   0.7s\n",
            "[CV 2/3; 12/50] START learning_rate=0.001, n_estimators=5.......................\n",
            "[CV 2/3; 12/50] END learning_rate=0.001, n_estimators=5;, score=0.493 total time=   0.7s\n",
            "[CV 3/3; 12/50] START learning_rate=0.001, n_estimators=5.......................\n",
            "[CV 3/3; 12/50] END learning_rate=0.001, n_estimators=5;, score=0.469 total time=   0.7s\n",
            "[CV 1/3; 13/50] START learning_rate=0.001, n_estimators=10......................\n",
            "[CV 1/3; 13/50] END learning_rate=0.001, n_estimators=10;, score=0.537 total time=   1.3s\n",
            "[CV 2/3; 13/50] START learning_rate=0.001, n_estimators=10......................\n",
            "[CV 2/3; 13/50] END learning_rate=0.001, n_estimators=10;, score=0.532 total time=   1.3s\n",
            "[CV 3/3; 13/50] START learning_rate=0.001, n_estimators=10......................\n",
            "[CV 3/3; 13/50] END learning_rate=0.001, n_estimators=10;, score=0.518 total time=   1.2s\n",
            "[CV 1/3; 14/50] START learning_rate=0.001, n_estimators=50......................\n",
            "[CV 1/3; 14/50] END learning_rate=0.001, n_estimators=50;, score=0.785 total time=   5.9s\n",
            "[CV 2/3; 14/50] START learning_rate=0.001, n_estimators=50......................\n",
            "[CV 2/3; 14/50] END learning_rate=0.001, n_estimators=50;, score=0.771 total time=   5.8s\n",
            "[CV 3/3; 14/50] START learning_rate=0.001, n_estimators=50......................\n",
            "[CV 3/3; 14/50] END learning_rate=0.001, n_estimators=50;, score=0.776 total time=   6.1s\n",
            "[CV 1/3; 15/50] START learning_rate=0.001, n_estimators=100.....................\n",
            "[CV 1/3; 15/50] END learning_rate=0.001, n_estimators=100;, score=0.795 total time=  11.8s\n",
            "[CV 2/3; 15/50] START learning_rate=0.001, n_estimators=100.....................\n",
            "[CV 2/3; 15/50] END learning_rate=0.001, n_estimators=100;, score=0.784 total time=  11.5s\n",
            "[CV 3/3; 15/50] START learning_rate=0.001, n_estimators=100.....................\n",
            "[CV 3/3; 15/50] END learning_rate=0.001, n_estimators=100;, score=0.782 total time=  12.0s\n",
            "[CV 1/3; 16/50] START learning_rate=0.001, n_estimators=200.....................\n",
            "[CV 1/3; 16/50] END learning_rate=0.001, n_estimators=200;, score=0.804 total time=  50.0s\n",
            "[CV 2/3; 16/50] START learning_rate=0.001, n_estimators=200.....................\n",
            "[CV 2/3; 16/50] END learning_rate=0.001, n_estimators=200;, score=0.793 total time=  32.3s\n",
            "[CV 3/3; 16/50] START learning_rate=0.001, n_estimators=200.....................\n",
            "[CV 3/3; 16/50] END learning_rate=0.001, n_estimators=200;, score=0.795 total time=  22.0s\n",
            "[CV 1/3; 17/50] START learning_rate=0.001, n_estimators=300.....................\n",
            "[CV 1/3; 17/50] END learning_rate=0.001, n_estimators=300;, score=0.809 total time=  33.0s\n",
            "[CV 2/3; 17/50] START learning_rate=0.001, n_estimators=300.....................\n",
            "[CV 2/3; 17/50] END learning_rate=0.001, n_estimators=300;, score=0.798 total time=  32.4s\n",
            "[CV 3/3; 17/50] START learning_rate=0.001, n_estimators=300.....................\n",
            "[CV 3/3; 17/50] END learning_rate=0.001, n_estimators=300;, score=0.800 total time=  33.2s\n",
            "[CV 1/3; 18/50] START learning_rate=0.001, n_estimators=400.....................\n",
            "[CV 1/3; 18/50] END learning_rate=0.001, n_estimators=400;, score=0.812 total time=  44.1s\n",
            "[CV 2/3; 18/50] START learning_rate=0.001, n_estimators=400.....................\n",
            "[CV 2/3; 18/50] END learning_rate=0.001, n_estimators=400;, score=0.804 total time=  43.6s\n",
            "[CV 3/3; 18/50] START learning_rate=0.001, n_estimators=400.....................\n",
            "[CV 3/3; 18/50] END learning_rate=0.001, n_estimators=400;, score=0.806 total time=  44.0s\n",
            "[CV 1/3; 19/50] START learning_rate=0.001, n_estimators=500.....................\n",
            "[CV 1/3; 19/50] END learning_rate=0.001, n_estimators=500;, score=0.816 total time=  55.7s\n",
            "[CV 2/3; 19/50] START learning_rate=0.001, n_estimators=500.....................\n",
            "[CV 2/3; 19/50] END learning_rate=0.001, n_estimators=500;, score=0.807 total time=  54.6s\n",
            "[CV 3/3; 19/50] START learning_rate=0.001, n_estimators=500.....................\n",
            "[CV 3/3; 19/50] END learning_rate=0.001, n_estimators=500;, score=0.811 total time=  55.1s\n",
            "[CV 1/3; 20/50] START learning_rate=0.001, n_estimators=600.....................\n",
            "[CV 1/3; 20/50] END learning_rate=0.001, n_estimators=600;, score=0.816 total time= 1.1min\n",
            "[CV 2/3; 20/50] START learning_rate=0.001, n_estimators=600.....................\n",
            "[CV 2/3; 20/50] END learning_rate=0.001, n_estimators=600;, score=0.808 total time= 1.1min\n",
            "[CV 3/3; 20/50] START learning_rate=0.001, n_estimators=600.....................\n",
            "[CV 3/3; 20/50] END learning_rate=0.001, n_estimators=600;, score=0.813 total time= 1.1min\n",
            "[CV 1/3; 21/50] START learning_rate=0.01, n_estimators=1........................\n",
            "[CV 1/3; 21/50] END learning_rate=0.01, n_estimators=1;, score=0.534 total time=   0.2s\n",
            "[CV 2/3; 21/50] START learning_rate=0.01, n_estimators=1........................\n",
            "[CV 2/3; 21/50] END learning_rate=0.01, n_estimators=1;, score=0.532 total time=   0.2s\n",
            "[CV 3/3; 21/50] START learning_rate=0.01, n_estimators=1........................\n",
            "[CV 3/3; 21/50] END learning_rate=0.01, n_estimators=1;, score=0.517 total time=   0.2s\n",
            "[CV 1/3; 22/50] START learning_rate=0.01, n_estimators=5........................\n",
            "[CV 1/3; 22/50] END learning_rate=0.01, n_estimators=5;, score=0.786 total time=   0.6s\n",
            "[CV 2/3; 22/50] START learning_rate=0.01, n_estimators=5........................\n",
            "[CV 2/3; 22/50] END learning_rate=0.01, n_estimators=5;, score=0.772 total time=   0.6s\n",
            "[CV 3/3; 22/50] START learning_rate=0.01, n_estimators=5........................\n",
            "[CV 3/3; 22/50] END learning_rate=0.01, n_estimators=5;, score=0.776 total time=   0.6s\n",
            "[CV 1/3; 23/50] START learning_rate=0.01, n_estimators=10.......................\n",
            "[CV 1/3; 23/50] END learning_rate=0.01, n_estimators=10;, score=0.799 total time=   1.2s\n",
            "[CV 2/3; 23/50] START learning_rate=0.01, n_estimators=10.......................\n",
            "[CV 2/3; 23/50] END learning_rate=0.01, n_estimators=10;, score=0.785 total time=   1.2s\n",
            "[CV 3/3; 23/50] START learning_rate=0.01, n_estimators=10.......................\n",
            "[CV 3/3; 23/50] END learning_rate=0.01, n_estimators=10;, score=0.783 total time=   1.2s\n",
            "[CV 1/3; 24/50] START learning_rate=0.01, n_estimators=50.......................\n",
            "[CV 1/3; 24/50] END learning_rate=0.01, n_estimators=50;, score=0.816 total time=   5.6s\n",
            "[CV 2/3; 24/50] START learning_rate=0.01, n_estimators=50.......................\n",
            "[CV 2/3; 24/50] END learning_rate=0.01, n_estimators=50;, score=0.807 total time=   5.6s\n",
            "[CV 3/3; 24/50] START learning_rate=0.01, n_estimators=50.......................\n",
            "[CV 3/3; 24/50] END learning_rate=0.01, n_estimators=50;, score=0.811 total time=   5.6s\n",
            "[CV 1/3; 25/50] START learning_rate=0.01, n_estimators=100......................\n",
            "[CV 1/3; 25/50] END learning_rate=0.01, n_estimators=100;, score=0.824 total time=  11.3s\n",
            "[CV 2/3; 25/50] START learning_rate=0.01, n_estimators=100......................\n",
            "[CV 2/3; 25/50] END learning_rate=0.01, n_estimators=100;, score=0.823 total time=  11.3s\n",
            "[CV 3/3; 25/50] START learning_rate=0.01, n_estimators=100......................\n",
            "[CV 3/3; 25/50] END learning_rate=0.01, n_estimators=100;, score=0.820 total time=  11.4s\n",
            "[CV 1/3; 26/50] START learning_rate=0.01, n_estimators=200......................\n",
            "[CV 1/3; 26/50] END learning_rate=0.01, n_estimators=200;, score=0.840 total time=  23.3s\n",
            "[CV 2/3; 26/50] START learning_rate=0.01, n_estimators=200......................\n",
            "[CV 2/3; 26/50] END learning_rate=0.01, n_estimators=200;, score=0.838 total time=  23.0s\n",
            "[CV 3/3; 26/50] START learning_rate=0.01, n_estimators=200......................\n",
            "[CV 3/3; 26/50] END learning_rate=0.01, n_estimators=200;, score=0.832 total time=  23.1s\n",
            "[CV 1/3; 27/50] START learning_rate=0.01, n_estimators=300......................\n",
            "[CV 1/3; 27/50] END learning_rate=0.01, n_estimators=300;, score=0.848 total time=  35.7s\n",
            "[CV 2/3; 27/50] START learning_rate=0.01, n_estimators=300......................\n",
            "[CV 2/3; 27/50] END learning_rate=0.01, n_estimators=300;, score=0.848 total time=  35.5s\n",
            "[CV 3/3; 27/50] START learning_rate=0.01, n_estimators=300......................\n",
            "[CV 3/3; 27/50] END learning_rate=0.01, n_estimators=300;, score=0.843 total time=  35.6s\n",
            "[CV 1/3; 28/50] START learning_rate=0.01, n_estimators=400......................\n",
            "[CV 1/3; 28/50] END learning_rate=0.01, n_estimators=400;, score=0.854 total time=  48.1s\n",
            "[CV 2/3; 28/50] START learning_rate=0.01, n_estimators=400......................\n",
            "[CV 2/3; 28/50] END learning_rate=0.01, n_estimators=400;, score=0.856 total time=  48.2s\n",
            "[CV 3/3; 28/50] START learning_rate=0.01, n_estimators=400......................\n",
            "[CV 3/3; 28/50] END learning_rate=0.01, n_estimators=400;, score=0.852 total time=  48.1s\n",
            "[CV 1/3; 29/50] START learning_rate=0.01, n_estimators=500......................\n",
            "[CV 1/3; 29/50] END learning_rate=0.01, n_estimators=500;, score=0.861 total time= 1.0min\n",
            "[CV 2/3; 29/50] START learning_rate=0.01, n_estimators=500......................\n",
            "[CV 2/3; 29/50] END learning_rate=0.01, n_estimators=500;, score=0.862 total time= 1.0min\n",
            "[CV 3/3; 29/50] START learning_rate=0.01, n_estimators=500......................\n",
            "[CV 3/3; 29/50] END learning_rate=0.01, n_estimators=500;, score=0.859 total time= 1.0min\n",
            "[CV 1/3; 30/50] START learning_rate=0.01, n_estimators=600......................\n",
            "[CV 1/3; 30/50] END learning_rate=0.01, n_estimators=600;, score=0.866 total time= 1.2min\n",
            "[CV 2/3; 30/50] START learning_rate=0.01, n_estimators=600......................\n",
            "[CV 2/3; 30/50] END learning_rate=0.01, n_estimators=600;, score=0.865 total time= 1.2min\n",
            "[CV 3/3; 30/50] START learning_rate=0.01, n_estimators=600......................\n",
            "[CV 3/3; 30/50] END learning_rate=0.01, n_estimators=600;, score=0.866 total time= 1.4min\n",
            "[CV 1/3; 31/50] START learning_rate=0.1, n_estimators=1.........................\n",
            "[CV 1/3; 31/50] END learning_rate=0.1, n_estimators=1;, score=0.777 total time=   0.2s\n",
            "[CV 2/3; 31/50] START learning_rate=0.1, n_estimators=1.........................\n",
            "[CV 2/3; 31/50] END learning_rate=0.1, n_estimators=1;, score=0.762 total time=   0.2s\n",
            "[CV 3/3; 31/50] START learning_rate=0.1, n_estimators=1.........................\n",
            "[CV 3/3; 31/50] END learning_rate=0.1, n_estimators=1;, score=0.757 total time=   0.2s\n",
            "[CV 1/3; 32/50] START learning_rate=0.1, n_estimators=5.........................\n",
            "[CV 1/3; 32/50] END learning_rate=0.1, n_estimators=5;, score=0.814 total time=   0.6s\n",
            "[CV 2/3; 32/50] START learning_rate=0.1, n_estimators=5.........................\n",
            "[CV 2/3; 32/50] END learning_rate=0.1, n_estimators=5;, score=0.806 total time=   0.6s\n",
            "[CV 3/3; 32/50] START learning_rate=0.1, n_estimators=5.........................\n",
            "[CV 3/3; 32/50] END learning_rate=0.1, n_estimators=5;, score=0.812 total time=   0.6s\n",
            "[CV 1/3; 33/50] START learning_rate=0.1, n_estimators=10........................\n",
            "[CV 1/3; 33/50] END learning_rate=0.1, n_estimators=10;, score=0.822 total time=   1.2s\n",
            "[CV 2/3; 33/50] START learning_rate=0.1, n_estimators=10........................\n",
            "[CV 2/3; 33/50] END learning_rate=0.1, n_estimators=10;, score=0.821 total time=   1.2s\n",
            "[CV 3/3; 33/50] START learning_rate=0.1, n_estimators=10........................\n",
            "[CV 3/3; 33/50] END learning_rate=0.1, n_estimators=10;, score=0.820 total time=   1.2s\n",
            "[CV 1/3; 34/50] START learning_rate=0.1, n_estimators=50........................\n",
            "[CV 1/3; 34/50] END learning_rate=0.1, n_estimators=50;, score=0.860 total time=   6.2s\n",
            "[CV 2/3; 34/50] START learning_rate=0.1, n_estimators=50........................\n",
            "[CV 2/3; 34/50] END learning_rate=0.1, n_estimators=50;, score=0.859 total time=   6.2s\n",
            "[CV 3/3; 34/50] START learning_rate=0.1, n_estimators=50........................\n",
            "[CV 3/3; 34/50] END learning_rate=0.1, n_estimators=50;, score=0.861 total time=   6.1s\n",
            "[CV 1/3; 35/50] START learning_rate=0.1, n_estimators=100.......................\n",
            "[CV 1/3; 35/50] END learning_rate=0.1, n_estimators=100;, score=0.877 total time=  16.1s\n",
            "[CV 2/3; 35/50] START learning_rate=0.1, n_estimators=100.......................\n",
            "[CV 2/3; 35/50] END learning_rate=0.1, n_estimators=100;, score=0.871 total time=  12.9s\n",
            "[CV 3/3; 35/50] START learning_rate=0.1, n_estimators=100.......................\n",
            "[CV 3/3; 35/50] END learning_rate=0.1, n_estimators=100;, score=0.873 total time=  12.9s\n",
            "[CV 1/3; 36/50] START learning_rate=0.1, n_estimators=200.......................\n",
            "[CV 1/3; 36/50] END learning_rate=0.1, n_estimators=200;, score=0.882 total time=  33.7s\n",
            "[CV 2/3; 36/50] START learning_rate=0.1, n_estimators=200.......................\n",
            "[CV 2/3; 36/50] END learning_rate=0.1, n_estimators=200;, score=0.875 total time=  26.4s\n",
            "[CV 3/3; 36/50] START learning_rate=0.1, n_estimators=200.......................\n",
            "[CV 3/3; 36/50] END learning_rate=0.1, n_estimators=200;, score=0.879 total time=  26.4s\n",
            "[CV 1/3; 37/50] START learning_rate=0.1, n_estimators=300.......................\n",
            "[CV 1/3; 37/50] END learning_rate=0.1, n_estimators=300;, score=0.884 total time=  38.6s\n",
            "[CV 2/3; 37/50] START learning_rate=0.1, n_estimators=300.......................\n",
            "[CV 2/3; 37/50] END learning_rate=0.1, n_estimators=300;, score=0.878 total time=  38.7s\n",
            "[CV 3/3; 37/50] START learning_rate=0.1, n_estimators=300.......................\n",
            "[CV 3/3; 37/50] END learning_rate=0.1, n_estimators=300;, score=0.881 total time=  38.7s\n",
            "[CV 1/3; 38/50] START learning_rate=0.1, n_estimators=400.......................\n",
            "[CV 1/3; 38/50] END learning_rate=0.1, n_estimators=400;, score=0.885 total time=  47.4s\n",
            "[CV 2/3; 38/50] START learning_rate=0.1, n_estimators=400.......................\n",
            "[CV 2/3; 38/50] END learning_rate=0.1, n_estimators=400;, score=0.881 total time=  47.8s\n",
            "[CV 3/3; 38/50] START learning_rate=0.1, n_estimators=400.......................\n",
            "[CV 3/3; 38/50] END learning_rate=0.1, n_estimators=400;, score=0.880 total time=  48.1s\n",
            "[CV 1/3; 39/50] START learning_rate=0.1, n_estimators=500.......................\n",
            "[CV 1/3; 39/50] END learning_rate=0.1, n_estimators=500;, score=0.885 total time=  55.6s\n",
            "[CV 2/3; 39/50] START learning_rate=0.1, n_estimators=500.......................\n",
            "[CV 2/3; 39/50] END learning_rate=0.1, n_estimators=500;, score=0.881 total time=  55.9s\n",
            "[CV 3/3; 39/50] START learning_rate=0.1, n_estimators=500.......................\n",
            "[CV 3/3; 39/50] END learning_rate=0.1, n_estimators=500;, score=0.881 total time=  55.5s\n",
            "[CV 1/3; 40/50] START learning_rate=0.1, n_estimators=600.......................\n",
            "[CV 1/3; 40/50] END learning_rate=0.1, n_estimators=600;, score=0.886 total time= 1.0min\n",
            "[CV 2/3; 40/50] START learning_rate=0.1, n_estimators=600.......................\n",
            "[CV 2/3; 40/50] END learning_rate=0.1, n_estimators=600;, score=0.884 total time= 1.0min\n",
            "[CV 3/3; 40/50] START learning_rate=0.1, n_estimators=600.......................\n",
            "[CV 3/3; 40/50] END learning_rate=0.1, n_estimators=600;, score=0.880 total time= 1.0min\n",
            "[CV 1/3; 41/50] START learning_rate=1, n_estimators=1...........................\n",
            "[CV 1/3; 41/50] END learning_rate=1, n_estimators=1;, score=0.783 total time=   0.2s\n",
            "[CV 2/3; 41/50] START learning_rate=1, n_estimators=1...........................\n",
            "[CV 2/3; 41/50] END learning_rate=1, n_estimators=1;, score=0.766 total time=   0.2s\n",
            "[CV 3/3; 41/50] START learning_rate=1, n_estimators=1...........................\n",
            "[CV 3/3; 41/50] END learning_rate=1, n_estimators=1;, score=0.760 total time=   0.2s\n",
            "[CV 1/3; 42/50] START learning_rate=1, n_estimators=5...........................\n",
            "[CV 1/3; 42/50] END learning_rate=1, n_estimators=5;, score=0.769 total time=   0.7s\n",
            "[CV 2/3; 42/50] START learning_rate=1, n_estimators=5...........................\n",
            "[CV 2/3; 42/50] END learning_rate=1, n_estimators=5;, score=0.769 total time=   0.7s\n",
            "[CV 3/3; 42/50] START learning_rate=1, n_estimators=5...........................\n",
            "[CV 3/3; 42/50] END learning_rate=1, n_estimators=5;, score=0.760 total time=   0.7s\n",
            "[CV 1/3; 43/50] START learning_rate=1, n_estimators=10..........................\n",
            "[CV 1/3; 43/50] END learning_rate=1, n_estimators=10;, score=0.690 total time=   1.2s\n",
            "[CV 2/3; 43/50] START learning_rate=1, n_estimators=10..........................\n",
            "[CV 2/3; 43/50] END learning_rate=1, n_estimators=10;, score=0.659 total time=   1.2s\n",
            "[CV 3/3; 43/50] START learning_rate=1, n_estimators=10..........................\n",
            "[CV 3/3; 43/50] END learning_rate=1, n_estimators=10;, score=0.669 total time=   1.2s\n",
            "[CV 1/3; 44/50] START learning_rate=1, n_estimators=50..........................\n",
            "[CV 1/3; 44/50] END learning_rate=1, n_estimators=50;, score=0.152 total time=   4.1s\n",
            "[CV 2/3; 44/50] START learning_rate=1, n_estimators=50..........................\n",
            "[CV 2/3; 44/50] END learning_rate=1, n_estimators=50;, score=0.384 total time=   4.0s\n",
            "[CV 3/3; 44/50] START learning_rate=1, n_estimators=50..........................\n",
            "[CV 3/3; 44/50] END learning_rate=1, n_estimators=50;, score=0.533 total time=   4.3s\n",
            "[CV 1/3; 45/50] START learning_rate=1, n_estimators=100.........................\n",
            "[CV 1/3; 45/50] END learning_rate=1, n_estimators=100;, score=0.152 total time=   4.6s\n",
            "[CV 2/3; 45/50] START learning_rate=1, n_estimators=100.........................\n",
            "[CV 2/3; 45/50] END learning_rate=1, n_estimators=100;, score=0.384 total time=   4.6s\n",
            "[CV 3/3; 45/50] START learning_rate=1, n_estimators=100.........................\n",
            "[CV 3/3; 45/50] END learning_rate=1, n_estimators=100;, score=0.533 total time=   4.9s\n",
            "[CV 1/3; 46/50] START learning_rate=1, n_estimators=200.........................\n",
            "[CV 1/3; 46/50] END learning_rate=1, n_estimators=200;, score=0.152 total time=   5.8s\n",
            "[CV 2/3; 46/50] START learning_rate=1, n_estimators=200.........................\n",
            "[CV 2/3; 46/50] END learning_rate=1, n_estimators=200;, score=0.384 total time=   5.7s\n",
            "[CV 3/3; 46/50] START learning_rate=1, n_estimators=200.........................\n",
            "[CV 3/3; 46/50] END learning_rate=1, n_estimators=200;, score=0.533 total time=   6.0s\n",
            "[CV 1/3; 47/50] START learning_rate=1, n_estimators=300.........................\n",
            "[CV 1/3; 47/50] END learning_rate=1, n_estimators=300;, score=0.152 total time=   6.8s\n",
            "[CV 2/3; 47/50] START learning_rate=1, n_estimators=300.........................\n",
            "[CV 2/3; 47/50] END learning_rate=1, n_estimators=300;, score=0.384 total time=   6.8s\n",
            "[CV 3/3; 47/50] START learning_rate=1, n_estimators=300.........................\n",
            "[CV 3/3; 47/50] END learning_rate=1, n_estimators=300;, score=0.533 total time=   7.0s\n",
            "[CV 1/3; 48/50] START learning_rate=1, n_estimators=400.........................\n",
            "[CV 1/3; 48/50] END learning_rate=1, n_estimators=400;, score=0.152 total time=   7.9s\n",
            "[CV 2/3; 48/50] START learning_rate=1, n_estimators=400.........................\n",
            "[CV 2/3; 48/50] END learning_rate=1, n_estimators=400;, score=0.384 total time=   7.8s\n",
            "[CV 3/3; 48/50] START learning_rate=1, n_estimators=400.........................\n",
            "[CV 3/3; 48/50] END learning_rate=1, n_estimators=400;, score=0.533 total time=   8.2s\n",
            "[CV 1/3; 49/50] START learning_rate=1, n_estimators=500.........................\n",
            "[CV 1/3; 49/50] END learning_rate=1, n_estimators=500;, score=0.152 total time=   9.0s\n",
            "[CV 2/3; 49/50] START learning_rate=1, n_estimators=500.........................\n",
            "[CV 2/3; 49/50] END learning_rate=1, n_estimators=500;, score=0.384 total time=   9.0s\n",
            "[CV 3/3; 49/50] START learning_rate=1, n_estimators=500.........................\n",
            "[CV 3/3; 49/50] END learning_rate=1, n_estimators=500;, score=0.533 total time=   9.3s\n",
            "[CV 1/3; 50/50] START learning_rate=1, n_estimators=600.........................\n",
            "[CV 1/3; 50/50] END learning_rate=1, n_estimators=600;, score=0.152 total time=  10.1s\n",
            "[CV 2/3; 50/50] START learning_rate=1, n_estimators=600.........................\n",
            "[CV 2/3; 50/50] END learning_rate=1, n_estimators=600;, score=0.384 total time=  10.0s\n",
            "[CV 3/3; 50/50] START learning_rate=1, n_estimators=600.........................\n",
            "[CV 3/3; 50/50] END learning_rate=1, n_estimators=600;, score=0.533 total time=  10.3s\n"
          ]
        },
        {
          "output_type": "execute_result",
          "data": {
            "text/plain": [
              "GridSearchCV(cv=3, estimator=LGBMClassifier(), n_jobs=1,\n",
              "             param_grid={'learning_rate': [0.0001, 0.001, 0.01, 0.1, 1],\n",
              "                         'n_estimators': [1, 5, 10, 50, 100, 200, 300, 400, 500,\n",
              "                                          600]},\n",
              "             scoring='accuracy', verbose=10)"
            ]
          },
          "metadata": {},
          "execution_count": 8
        }
      ],
      "source": [
        "from sklearn.model_selection import GridSearchCV\n",
        "from lightgbm import LGBMClassifier\n",
        "\n",
        "\n",
        "pca = PCA(n_components=50)\n",
        "pca.fit(x_train)\n",
        "x_train_pca = pca.transform(x_train)\n",
        "\n",
        "model = LGBMClassifier()\n",
        "parametrs = {'n_estimators': [1, 5, 10, 50, 100, 200, 300, 400, 500, 600], 'learning_rate': [0.0001, 0.001, 0.01, 0.1, 1]}\n",
        "\n",
        "clf = GridSearchCV(model, parametrs, scoring='accuracy', cv=3, n_jobs=1, verbose=10)\n",
        "clf.fit(x_train_pca, y_train)"
      ]
    },
    {
      "cell_type": "code",
      "execution_count": null,
      "metadata": {
        "colab": {
          "base_uri": "https://localhost:8080/"
        },
        "id": "Fng1TNH2C0ch",
        "outputId": "4d3c5589-3055-4b77-921f-efd313979ec8"
      },
      "outputs": [
        {
          "output_type": "execute_result",
          "data": {
            "text/plain": [
              "{'learning_rate': 0.1, 'n_estimators': 600}"
            ]
          },
          "metadata": {},
          "execution_count": 9
        }
      ],
      "source": [
        "clf.best_params_"
      ]
    },
    {
      "cell_type": "code",
      "execution_count": null,
      "metadata": {
        "id": "KfMDKJ3hBmen"
      },
      "outputs": [],
      "source": [
        "algorithm_comparison['Gradient Boosting (LGBM)'] = np.nan\n",
        "\n",
        "start = time.time()\n",
        "clf5 = LGBMClassifier(n_jobs=1, n_estimators=600, learning_rate=0.1)\n",
        "pca = PCA(n_components=50)\n",
        "pca.fit(x_train)\n",
        "x_train_pca = pca.transform(x_train)\n",
        "x_test_pca = pca.transform(x_test)\n",
        "clf5.fit(x_train_pca, y_train)\n",
        "algorithm_comparison['Gradient Boosting (LGBM)']['run time fit'] = round(time.time() - start, 2)\n",
        "\n",
        "start = time.time()\n",
        "prediction = clf5.predict(x_test_pca)\n",
        "algorithm_comparison['Gradient Boosting (LGBM)']['run time predict'] = round(time.time() - start, 2)\n",
        "algorithm_comparison['Gradient Boosting (LGBM)']['accuracy'] = (prediction == y_test).mean()"
      ]
    },
    {
      "cell_type": "code",
      "execution_count": null,
      "metadata": {
        "colab": {
          "base_uri": "https://localhost:8080/",
          "height": 143
        },
        "id": "20hwnCTVm2-h",
        "outputId": "cd0dbef8-85a0-4b95-e122-4ac8ac2821f0"
      },
      "outputs": [
        {
          "output_type": "execute_result",
          "data": {
            "text/html": [
              "\n",
              "  <div id=\"df-0d88d54f-eaf7-4665-b24c-3a973209c3f2\">\n",
              "    <div class=\"colab-df-container\">\n",
              "      <div>\n",
              "<style scoped>\n",
              "    .dataframe tbody tr th:only-of-type {\n",
              "        vertical-align: middle;\n",
              "    }\n",
              "\n",
              "    .dataframe tbody tr th {\n",
              "        vertical-align: top;\n",
              "    }\n",
              "\n",
              "    .dataframe thead th {\n",
              "        text-align: right;\n",
              "    }\n",
              "</style>\n",
              "<table border=\"1\" class=\"dataframe\">\n",
              "  <thead>\n",
              "    <tr style=\"text-align: right;\">\n",
              "      <th></th>\n",
              "      <th>RFF logreg</th>\n",
              "      <th>RFF SVM</th>\n",
              "      <th>Linear SVM</th>\n",
              "      <th>Gradient Boosting (LGBM)</th>\n",
              "      <th>Kernel (rbf) SVM</th>\n",
              "    </tr>\n",
              "  </thead>\n",
              "  <tbody>\n",
              "    <tr>\n",
              "      <th>accuracy</th>\n",
              "      <td>0.85175</td>\n",
              "      <td>0.841575</td>\n",
              "      <td>0.806975</td>\n",
              "      <td>0.857875</td>\n",
              "      <td>0.861575</td>\n",
              "    </tr>\n",
              "    <tr>\n",
              "      <th>run time fit</th>\n",
              "      <td>24.09</td>\n",
              "      <td>42.14</td>\n",
              "      <td>40.44</td>\n",
              "      <td>96.840000</td>\n",
              "      <td>33.020000</td>\n",
              "    </tr>\n",
              "    <tr>\n",
              "      <th>run time predict</th>\n",
              "      <td>2.38</td>\n",
              "      <td>145.69</td>\n",
              "      <td>107.38</td>\n",
              "      <td>23.190000</td>\n",
              "      <td>234.250000</td>\n",
              "    </tr>\n",
              "  </tbody>\n",
              "</table>\n",
              "</div>\n",
              "      <button class=\"colab-df-convert\" onclick=\"convertToInteractive('df-0d88d54f-eaf7-4665-b24c-3a973209c3f2')\"\n",
              "              title=\"Convert this dataframe to an interactive table.\"\n",
              "              style=\"display:none;\">\n",
              "        \n",
              "  <svg xmlns=\"http://www.w3.org/2000/svg\" height=\"24px\"viewBox=\"0 0 24 24\"\n",
              "       width=\"24px\">\n",
              "    <path d=\"M0 0h24v24H0V0z\" fill=\"none\"/>\n",
              "    <path d=\"M18.56 5.44l.94 2.06.94-2.06 2.06-.94-2.06-.94-.94-2.06-.94 2.06-2.06.94zm-11 1L8.5 8.5l.94-2.06 2.06-.94-2.06-.94L8.5 2.5l-.94 2.06-2.06.94zm10 10l.94 2.06.94-2.06 2.06-.94-2.06-.94-.94-2.06-.94 2.06-2.06.94z\"/><path d=\"M17.41 7.96l-1.37-1.37c-.4-.4-.92-.59-1.43-.59-.52 0-1.04.2-1.43.59L10.3 9.45l-7.72 7.72c-.78.78-.78 2.05 0 2.83L4 21.41c.39.39.9.59 1.41.59.51 0 1.02-.2 1.41-.59l7.78-7.78 2.81-2.81c.8-.78.8-2.07 0-2.86zM5.41 20L4 18.59l7.72-7.72 1.47 1.35L5.41 20z\"/>\n",
              "  </svg>\n",
              "      </button>\n",
              "      \n",
              "  <style>\n",
              "    .colab-df-container {\n",
              "      display:flex;\n",
              "      flex-wrap:wrap;\n",
              "      gap: 12px;\n",
              "    }\n",
              "\n",
              "    .colab-df-convert {\n",
              "      background-color: #E8F0FE;\n",
              "      border: none;\n",
              "      border-radius: 50%;\n",
              "      cursor: pointer;\n",
              "      display: none;\n",
              "      fill: #1967D2;\n",
              "      height: 32px;\n",
              "      padding: 0 0 0 0;\n",
              "      width: 32px;\n",
              "    }\n",
              "\n",
              "    .colab-df-convert:hover {\n",
              "      background-color: #E2EBFA;\n",
              "      box-shadow: 0px 1px 2px rgba(60, 64, 67, 0.3), 0px 1px 3px 1px rgba(60, 64, 67, 0.15);\n",
              "      fill: #174EA6;\n",
              "    }\n",
              "\n",
              "    [theme=dark] .colab-df-convert {\n",
              "      background-color: #3B4455;\n",
              "      fill: #D2E3FC;\n",
              "    }\n",
              "\n",
              "    [theme=dark] .colab-df-convert:hover {\n",
              "      background-color: #434B5C;\n",
              "      box-shadow: 0px 1px 3px 1px rgba(0, 0, 0, 0.15);\n",
              "      filter: drop-shadow(0px 1px 2px rgba(0, 0, 0, 0.3));\n",
              "      fill: #FFFFFF;\n",
              "    }\n",
              "  </style>\n",
              "\n",
              "      <script>\n",
              "        const buttonEl =\n",
              "          document.querySelector('#df-0d88d54f-eaf7-4665-b24c-3a973209c3f2 button.colab-df-convert');\n",
              "        buttonEl.style.display =\n",
              "          google.colab.kernel.accessAllowed ? 'block' : 'none';\n",
              "\n",
              "        async function convertToInteractive(key) {\n",
              "          const element = document.querySelector('#df-0d88d54f-eaf7-4665-b24c-3a973209c3f2');\n",
              "          const dataTable =\n",
              "            await google.colab.kernel.invokeFunction('convertToInteractive',\n",
              "                                                     [key], {});\n",
              "          if (!dataTable) return;\n",
              "\n",
              "          const docLinkHtml = 'Like what you see? Visit the ' +\n",
              "            '<a target=\"_blank\" href=https://colab.research.google.com/notebooks/data_table.ipynb>data table notebook</a>'\n",
              "            + ' to learn more about interactive tables.';\n",
              "          element.innerHTML = '';\n",
              "          dataTable['output_type'] = 'display_data';\n",
              "          await google.colab.output.renderOutput(dataTable, element);\n",
              "          const docLink = document.createElement('div');\n",
              "          docLink.innerHTML = docLinkHtml;\n",
              "          element.appendChild(docLink);\n",
              "        }\n",
              "      </script>\n",
              "    </div>\n",
              "  </div>\n",
              "  "
            ],
            "text/plain": [
              "                 RFF logreg  ... Kernel (rbf) SVM\n",
              "accuracy            0.85175  ...         0.861575\n",
              "run time fit          24.09  ...        33.020000\n",
              "run time predict       2.38  ...       234.250000\n",
              "\n",
              "[3 rows x 5 columns]"
            ]
          },
          "metadata": {},
          "execution_count": 16
        }
      ],
      "source": [
        "algorithm_comparison"
      ]
    },
    {
      "cell_type": "markdown",
      "source": [
        "**Выводы:** RFF с logreg работает лучше всего по времени, и примерно как остальные по качеству, лучше всего рабоатет SVM с rbf ядром, но это очень долгая работающая модель. То есть идея со случайными признаками хорошо рабоатет."
      ],
      "metadata": {
        "id": "C77NFvPOaj3m"
      }
    },
    {
      "cell_type": "markdown",
      "metadata": {
        "id": "e6umjhWuK-hV"
      },
      "source": [
        "__Задание 3. (2 балла)__\n",
        "\n",
        "Проведите эксперименты **(1.5 балла)** над моделью **RFFPipeline**, после которых вы сможете ответить на следующие вопросы **(?)** **(0.5 балла)**:\n",
        "1. Помогает ли предварительное понижение размерности с помощью PCA? \n",
        "2. Как зависит итоговое качество от n_features? Выходит ли оно на плато при росте n_features?\n",
        "3. Важно ли, какую модель обучать — логистическую регрессию или SVM?\n",
        "\n",
        "**Замечания (!):**\n",
        "* В п.2 необходимо перебрать хотя бы 30 значений признаков по разумной сетке, затрагивающей значения в 50 и в 3000 признаков (или максимальное из того, что позволяет ваш компьтер за разумное время). **За меньшее число признаков и меньшее максимальное значение будут сниматься баллы**\n",
        "* В п.2 используйте логистическую регрессию\n",
        "* В п.2 отобразите качества (accuracy_score) на обучении и на тесте в виде графиков на одном полотне. **За отсутствие будут сниматься баллы**\n",
        "* Везде делайте замеры по времени и результаты включайте в выводы. **За отсутствие будут сниматься баллы**"
      ]
    },
    {
      "cell_type": "markdown",
      "source": [
        "1. Понижение размерности немного улучшает точность и уменьшает время работы, так что помогает\n",
        "\n",
        "2. На плато выходит при n_features примерно 2000\n",
        "\n",
        "3. Да, важно, логистическая регрессия себя показывает сильно лучше по времени работы, и немного лучше по качесвту."
      ],
      "metadata": {
        "id": "GXmPL3XHsnFu"
      }
    },
    {
      "cell_type": "code",
      "execution_count": null,
      "metadata": {
        "id": "c2QIHIMbK-hW"
      },
      "outputs": [],
      "source": [
        "(x_train_pics, y_train), (x_test_pics, y_test) = fashion_mnist.load_data()\n",
        "x_train = x_train_pics.reshape(x_train_pics.shape[0], -1)\n",
        "x_test = x_test_pics.reshape(x_test_pics.shape[0], -1)"
      ]
    },
    {
      "cell_type": "code",
      "source": [
        "import time\n",
        "import pandas as pd\n",
        "\n",
        "comparison_13 = pd.DataFrame(columns=['use_PCA=TRUE, logreg', 'use_PCA=FALSE, logreg', \n",
        "                                             'use_PCA=TRUE, SVM', 'use_PCA=FALSE, SVM'],\n",
        "                                    index =['accuracy test', 'accuracy train', 'run time fit', 'run time predict'])\n",
        "\n",
        "start = time.time()\n",
        "clf1 = RFFPipeline(use_PCA=True)\n",
        "clf1.fit(x_train, y_train)\n",
        "comparison_13['use_PCA=TRUE, logreg']['run time fit'] = round(time.time() - start, 2)\n",
        "\n",
        "start = time.time()\n",
        "prediction = clf1.predict(x_test)\n",
        "comparison_13['use_PCA=TRUE, logreg']['run time predict'] = round(time.time() - start, 2)\n",
        "\n",
        "comparison_13['use_PCA=TRUE, logreg']['accuracy test'] = (prediction == y_test).mean()\n",
        "comparison_13['use_PCA=TRUE, logreg']['accuracy train'] = (clf1.predict(x_train) == y_train).mean()"
      ],
      "metadata": {
        "id": "SDT3mqaa3t5m"
      },
      "execution_count": null,
      "outputs": []
    },
    {
      "cell_type": "code",
      "source": [
        "start = time.time()\n",
        "clf2 = RFFPipeline(use_PCA=False)\n",
        "clf2.fit(x_train, y_train)\n",
        "comparison_13['use_PCA=FALSE, logreg']['run time fit'] = round(time.time() - start, 2)\n",
        "\n",
        "start = time.time()\n",
        "prediction = clf2.predict(x_test)\n",
        "comparison_13['use_PCA=FALSE, logreg']['run time predict'] = round(time.time() - start, 2)\n",
        "\n",
        "comparison_13['use_PCA=FALSE, logreg']['accuracy test'] = (prediction == y_test).mean()\n",
        "comparison_13['use_PCA=FALSE, logreg']['accuracy train'] = (clf2.predict(x_train) == y_train).mean()"
      ],
      "metadata": {
        "id": "dfWNWmLNdCRJ"
      },
      "execution_count": null,
      "outputs": []
    },
    {
      "cell_type": "code",
      "source": [
        "start = time.time()\n",
        "clf3 = RFFPipeline(classifier='svm', use_PCA=True)\n",
        "clf3.fit(x_train, y_train)\n",
        "comparison_13['use_PCA=TRUE, SVM']['run time fit'] = round(time.time() - start, 2)\n",
        "\n",
        "start = time.time()\n",
        "prediction = clf3.predict(x_test)\n",
        "comparison_13['use_PCA=TRUE, SVM']['run time predict'] = round(time.time() - start, 2)\n",
        "\n",
        "comparison_13['use_PCA=TRUE, SVM']['accuracy test'] = (prediction == y_test).mean()\n",
        "comparison_13['use_PCA=TRUE, SVM']['accuracy train'] = (clf3.predict(x_train) == y_train).mean()"
      ],
      "metadata": {
        "id": "CVwVH43jde-h"
      },
      "execution_count": null,
      "outputs": []
    },
    {
      "cell_type": "code",
      "source": [
        "start = time.time()\n",
        "clf4 = RFFPipeline(classifier='svm', use_PCA=False)\n",
        "clf4.fit(x_train, y_train)\n",
        "comparison_13['use_PCA=FALSE, SVM']['run time fit'] = round(time.time() - start, 2)\n",
        "\n",
        "start = time.time()\n",
        "prediction = clf4.predict(x_test)\n",
        "comparison_13['use_PCA=FALSE, SVM']['run time predict'] = round(time.time() - start, 2)\n",
        "\n",
        "comparison_13['use_PCA=FALSE, SVM']['accuracy test'] = (prediction == y_test).mean()\n",
        "comparison_13['use_PCA=FALSE, SVM']['accuracy train'] = (clf4.predict(x_train) == y_train).mean()"
      ],
      "metadata": {
        "id": "pJNZEECFes38"
      },
      "execution_count": null,
      "outputs": []
    },
    {
      "cell_type": "code",
      "source": [
        "comparison_13"
      ],
      "metadata": {
        "id": "uiBBN1l7oQLG",
        "colab": {
          "base_uri": "https://localhost:8080/",
          "height": 175
        },
        "outputId": "58071aab-eeb4-47ab-f361-2c64f17d39d3"
      },
      "execution_count": null,
      "outputs": [
        {
          "output_type": "execute_result",
          "data": {
            "text/html": [
              "\n",
              "  <div id=\"df-ed8e5afb-b584-4bf8-b955-1f39575167f8\">\n",
              "    <div class=\"colab-df-container\">\n",
              "      <div>\n",
              "<style scoped>\n",
              "    .dataframe tbody tr th:only-of-type {\n",
              "        vertical-align: middle;\n",
              "    }\n",
              "\n",
              "    .dataframe tbody tr th {\n",
              "        vertical-align: top;\n",
              "    }\n",
              "\n",
              "    .dataframe thead th {\n",
              "        text-align: right;\n",
              "    }\n",
              "</style>\n",
              "<table border=\"1\" class=\"dataframe\">\n",
              "  <thead>\n",
              "    <tr style=\"text-align: right;\">\n",
              "      <th></th>\n",
              "      <th>use_PCA=TRUE, logreg</th>\n",
              "      <th>use_PCA=FALSE, logreg</th>\n",
              "      <th>use_PCA=TRUE, SVM</th>\n",
              "      <th>use_PCA=FALSE, SVM</th>\n",
              "    </tr>\n",
              "  </thead>\n",
              "  <tbody>\n",
              "    <tr>\n",
              "      <th>accuracy test</th>\n",
              "      <td>0.8642</td>\n",
              "      <td>0.8637</td>\n",
              "      <td>0.8646</td>\n",
              "      <td>0.8599</td>\n",
              "    </tr>\n",
              "    <tr>\n",
              "      <th>accuracy train</th>\n",
              "      <td>0.8892</td>\n",
              "      <td>0.886883</td>\n",
              "      <td>0.93935</td>\n",
              "      <td>0.9421</td>\n",
              "    </tr>\n",
              "    <tr>\n",
              "      <th>run time fit</th>\n",
              "      <td>66.31</td>\n",
              "      <td>64.65</td>\n",
              "      <td>845.04</td>\n",
              "      <td>710.21</td>\n",
              "    </tr>\n",
              "    <tr>\n",
              "      <th>run time predict</th>\n",
              "      <td>0.55</td>\n",
              "      <td>0.91</td>\n",
              "      <td>113.2</td>\n",
              "      <td>115.64</td>\n",
              "    </tr>\n",
              "  </tbody>\n",
              "</table>\n",
              "</div>\n",
              "      <button class=\"colab-df-convert\" onclick=\"convertToInteractive('df-ed8e5afb-b584-4bf8-b955-1f39575167f8')\"\n",
              "              title=\"Convert this dataframe to an interactive table.\"\n",
              "              style=\"display:none;\">\n",
              "        \n",
              "  <svg xmlns=\"http://www.w3.org/2000/svg\" height=\"24px\"viewBox=\"0 0 24 24\"\n",
              "       width=\"24px\">\n",
              "    <path d=\"M0 0h24v24H0V0z\" fill=\"none\"/>\n",
              "    <path d=\"M18.56 5.44l.94 2.06.94-2.06 2.06-.94-2.06-.94-.94-2.06-.94 2.06-2.06.94zm-11 1L8.5 8.5l.94-2.06 2.06-.94-2.06-.94L8.5 2.5l-.94 2.06-2.06.94zm10 10l.94 2.06.94-2.06 2.06-.94-2.06-.94-.94-2.06-.94 2.06-2.06.94z\"/><path d=\"M17.41 7.96l-1.37-1.37c-.4-.4-.92-.59-1.43-.59-.52 0-1.04.2-1.43.59L10.3 9.45l-7.72 7.72c-.78.78-.78 2.05 0 2.83L4 21.41c.39.39.9.59 1.41.59.51 0 1.02-.2 1.41-.59l7.78-7.78 2.81-2.81c.8-.78.8-2.07 0-2.86zM5.41 20L4 18.59l7.72-7.72 1.47 1.35L5.41 20z\"/>\n",
              "  </svg>\n",
              "      </button>\n",
              "      \n",
              "  <style>\n",
              "    .colab-df-container {\n",
              "      display:flex;\n",
              "      flex-wrap:wrap;\n",
              "      gap: 12px;\n",
              "    }\n",
              "\n",
              "    .colab-df-convert {\n",
              "      background-color: #E8F0FE;\n",
              "      border: none;\n",
              "      border-radius: 50%;\n",
              "      cursor: pointer;\n",
              "      display: none;\n",
              "      fill: #1967D2;\n",
              "      height: 32px;\n",
              "      padding: 0 0 0 0;\n",
              "      width: 32px;\n",
              "    }\n",
              "\n",
              "    .colab-df-convert:hover {\n",
              "      background-color: #E2EBFA;\n",
              "      box-shadow: 0px 1px 2px rgba(60, 64, 67, 0.3), 0px 1px 3px 1px rgba(60, 64, 67, 0.15);\n",
              "      fill: #174EA6;\n",
              "    }\n",
              "\n",
              "    [theme=dark] .colab-df-convert {\n",
              "      background-color: #3B4455;\n",
              "      fill: #D2E3FC;\n",
              "    }\n",
              "\n",
              "    [theme=dark] .colab-df-convert:hover {\n",
              "      background-color: #434B5C;\n",
              "      box-shadow: 0px 1px 3px 1px rgba(0, 0, 0, 0.15);\n",
              "      filter: drop-shadow(0px 1px 2px rgba(0, 0, 0, 0.3));\n",
              "      fill: #FFFFFF;\n",
              "    }\n",
              "  </style>\n",
              "\n",
              "      <script>\n",
              "        const buttonEl =\n",
              "          document.querySelector('#df-ed8e5afb-b584-4bf8-b955-1f39575167f8 button.colab-df-convert');\n",
              "        buttonEl.style.display =\n",
              "          google.colab.kernel.accessAllowed ? 'block' : 'none';\n",
              "\n",
              "        async function convertToInteractive(key) {\n",
              "          const element = document.querySelector('#df-ed8e5afb-b584-4bf8-b955-1f39575167f8');\n",
              "          const dataTable =\n",
              "            await google.colab.kernel.invokeFunction('convertToInteractive',\n",
              "                                                     [key], {});\n",
              "          if (!dataTable) return;\n",
              "\n",
              "          const docLinkHtml = 'Like what you see? Visit the ' +\n",
              "            '<a target=\"_blank\" href=https://colab.research.google.com/notebooks/data_table.ipynb>data table notebook</a>'\n",
              "            + ' to learn more about interactive tables.';\n",
              "          element.innerHTML = '';\n",
              "          dataTable['output_type'] = 'display_data';\n",
              "          await google.colab.output.renderOutput(dataTable, element);\n",
              "          const docLink = document.createElement('div');\n",
              "          docLink.innerHTML = docLinkHtml;\n",
              "          element.appendChild(docLink);\n",
              "        }\n",
              "      </script>\n",
              "    </div>\n",
              "  </div>\n",
              "  "
            ],
            "text/plain": [
              "                 use_PCA=TRUE, logreg use_PCA=FALSE, logreg use_PCA=TRUE, SVM  \\\n",
              "accuracy test                  0.8642                0.8637            0.8646   \n",
              "accuracy train                 0.8892              0.886883           0.93935   \n",
              "run time fit                    66.31                 64.65            845.04   \n",
              "run time predict                 0.55                  0.91             113.2   \n",
              "\n",
              "                 use_PCA=FALSE, SVM  \n",
              "accuracy test                0.8599  \n",
              "accuracy train               0.9421  \n",
              "run time fit                 710.21  \n",
              "run time predict             115.64  "
            ]
          },
          "metadata": {},
          "execution_count": 16
        }
      ]
    },
    {
      "cell_type": "code",
      "source": [
        "n_features_array = np.concatenate((np.arange(start=50, stop=800, step=50),\n",
        "                                   np.arange(start=800, stop=1600, step=100),\n",
        "                                   np.arange(start=1600, stop=3001, step=200)))\n",
        "run_time_train = []\n",
        "run_time_predict = []\n",
        "accuracy_train = []\n",
        "accuracy_test = []\n",
        "\n",
        "plt.figure(figsize=(8, 5))\n",
        "\n",
        "for i, n_features in enumerate(n_features_array):\n",
        "    start=time.time()\n",
        "    clf = RFFPipeline(n_features=n_features)\n",
        "    clf.fit(x_train, y_train)\n",
        "    run_time_train.append(round(time.time() - start, 2))\n",
        "\n",
        "    start = time.time()\n",
        "    prediction = clf.predict(x_test)\n",
        "    run_time_predict.append(round(time.time() - start, 2))\n",
        "\n",
        "    accuracy_train.append((clf.predict(x_train) == y_train).mean())\n",
        "    accuracy_test.append((prediction == y_test).mean())\n",
        "    plt.plot(n_features_array[:i + 1], accuracy_train, marker='.', label='train')\n",
        "    plt.plot(n_features_array[:i + 1], accuracy_test, marker='.', label='test')\n",
        "    plt.xlabel('n_features')\n",
        "    plt.ylabel('accuracy score')\n",
        "    plt.legend()\n",
        "\n",
        "    plt.show()"
      ],
      "metadata": {
        "id": "n5Ee9iZh3PKE"
      },
      "execution_count": null,
      "outputs": []
    },
    {
      "cell_type": "code",
      "source": [
        "plt.plot(n_features_array, accuracy_train, marker='.', label='train')\n",
        "plt.plot(n_features_array, accuracy_test, marker='.', label='test')\n",
        "plt.xlabel('n_features')\n",
        "plt.ylabel('accuracy score')\n",
        "plt.legend()\n",
        "plt.title('Accuracy')\n",
        "\n",
        "plt.show()"
      ],
      "metadata": {
        "colab": {
          "base_uri": "https://localhost:8080/",
          "height": 296
        },
        "id": "93Lo5BHpuNZb",
        "outputId": "f2e8e732-238f-4195-e04f-6df22ac81050"
      },
      "execution_count": null,
      "outputs": [
        {
          "output_type": "display_data",
          "data": {
            "image/png": "[encoded data removed]",
            "text/plain": [
              "<Figure size 432x288 with 1 Axes>"
            ]
          },
          "metadata": {
            "needs_background": "light"
          }
        }
      ]
    },
    {
      "cell_type": "code",
      "source": [
        "plt.plot(n_features_array, run_time_train, marker='.', label='fit')\n",
        "plt.plot(n_features_array, run_time_predict, marker='.', label='predict')\n",
        "plt.xlabel('n_features')\n",
        "plt.ylabel('run time')\n",
        "plt.legend()\n",
        "plt.title('Run time')\n",
        "\n",
        "plt.show()"
      ],
      "metadata": {
        "colab": {
          "base_uri": "https://localhost:8080/",
          "height": 296
        },
        "id": "myyourKIBavV",
        "outputId": "aafe61e5-2d83-46f1-cdf8-6586ffa0ea38"
      },
      "execution_count": null,
      "outputs": [
        {
          "output_type": "display_data",
          "data": {
            "image/png": "[encoded data removed]",
            "text/plain": [
              "<Figure size 432x288 with 1 Axes>"
            ]
          },
          "metadata": {
            "needs_background": "light"
          }
        }
      ]
    },
    {
      "cell_type": "markdown",
      "metadata": {
        "id": "CJqXVuasK-hW"
      },
      "source": [
        "### Бонус"
      ]
    },
    {
      "cell_type": "markdown",
      "metadata": {
        "id": "QVDWHCdrK-hX"
      },
      "source": [
        "__Задание 4. (Максимум 2 балла)__\n",
        "\n",
        "Многие алгоритмы машинного обучения работают лучше, если признаки данных некоррелированы. Оказывается, что для RFF существует модификация, позволяющая получать ортогональные случайные признаки (Orthogonal Random Features, ORF). Об этом методе можно прочитать в [статье](https://proceedings.neurips.cc/paper/2016/file/53adaf494dc89ef7196d73636eb2451b-Paper.pdf). Реализуйте класс для вычисления ORF по аналогии с основным заданием. Обратите внимание, что ваш класс должен уметь работать со случаем n_features > new_dim (в статье есть замечание на этот счет). Проведите эксперименты, сравнивающие RFF и ORF, **(?)** сделайте выводы.\n",
        "\n",
        "**Замечание:**\n",
        "* Сравнения делайте как по времени, так и по качеству.\n",
        "* Можно сравнивать качество двух методов на разном числе признаков, в таком случае очень полезным будет график зависимости качества от числа признаков"
      ]
    },
    {
      "cell_type": "code",
      "execution_count": 40,
      "metadata": {
        "id": "HSxvGI9iK-hX"
      },
      "outputs": [],
      "source": [
        "from sklearn.base import BaseEstimator, TransformerMixin\n",
        "from sklearn.decomposition import PCA\n",
        "from sklearn import preprocessing\n",
        "from sklearn.svm import SVC\n",
        "from sklearn.linear_model import LogisticRegression\n",
        "import scipy\n",
        "\n",
        "\n",
        "class ORFPipeline(BaseEstimator, TransformerMixin):\n",
        "    def __init__(self, n_features=1000, new_dim=50, use_PCA=True, classifier='logreg'):\n",
        "        \"\"\"        \n",
        "        Implements pipeline, which consists of PCA decomposition,\n",
        "        Random Fourier Features approximation and linear classification model.\n",
        "        \n",
        "        n_features, int: amount of synthetic random features generated with RFF approximation.\n",
        "\n",
        "        new_dim, int: PCA output size.\n",
        "        \n",
        "        use_PCA, bool: whether to include PCA preprocessing.\n",
        "        \n",
        "        classifier, string: either 'svm' or 'logreg', a linear classification model to use on top of pipeline.\n",
        "        \n",
        "        Feel free to edit this template for your preferences.    \n",
        "        \"\"\"\n",
        "        self.n_features = n_features\n",
        "        self.use_PCA = use_PCA\n",
        "        self.new_dim = new_dim\n",
        "        self.classifier = classifier\n",
        "        \n",
        "    def fit(self, X, y):\n",
        "        \"\"\"\n",
        "        Fit all parts of algorithm (PCA, RFF, Classification) to training set.\n",
        "        \"\"\"\n",
        "\n",
        "        if self.use_PCA:\n",
        "            self.pca = PCA(n_components=self.new_dim)\n",
        "            self.pca.fit(X)\n",
        "            X = self.pca.transform(X)\n",
        "\n",
        "        self.scaler = preprocessing.StandardScaler().fit(X)\n",
        "        X = self.scaler.transform(X)\n",
        "\n",
        "        indecies = np.random.choice(X.shape[0], size=2000)\n",
        "        self.var = np.median(scipy.spatial.distance.cdist(X[indecies[:1000]].astype(float), X[indecies[1000:]].astype(float)) ** 2)\n",
        "        G = np.random.normal(0, self.var ** (-1/2), size=(X.shape[1], X.shape[1]))\n",
        "        Q, R = np.linalg.qr(G)\n",
        "        S = np.diag(np.random.chisquare(X.shape[1], X.shape[1]))\n",
        "        W = np.dot(S, Q)\n",
        "        W_shape = X.shape[1]\n",
        "        while W_shape < self.n_features:\n",
        "            G = np.random.normal(0, self.var ** (-1/2), size=(X.shape[1], X.shape[1]))\n",
        "            Q, R = np.linalg.qr(G)\n",
        "            S = np.diag(np.sqrt(np.random.chisquare(X.shape[1], X.shape[1])))\n",
        "            W = np.concatenate((W, np.dot(S, Q)), axis=1)\n",
        "            W_shape += X.shape[1]\n",
        "        \n",
        "        self.W = W[:, :self.n_features] / self.var\n",
        "        self.B = np.random.uniform(-np.pi, np.pi, size=self.n_features)\n",
        "\n",
        "        # print(X.shape, self.W.shape, 'new_dim =', self.new_dim, 'n_features =', self.n_features)\n",
        "        new_features = np.cos(np.dot(X, self.W) + self.B)\n",
        "\n",
        "        if self.classifier == 'svm':\n",
        "            self.clf = SVC(kernel='linear')\n",
        "        else:\n",
        "            self.clf = LogisticRegression()\n",
        "\n",
        "        self.clf.fit(new_features, y)\n",
        "\n",
        "        return self\n",
        "\n",
        "    def predict_proba(self, X):\n",
        "        \"\"\"\n",
        "        Apply pipeline to obtain scores for input data.\n",
        "        \"\"\"\n",
        "        X = self.scaler.transform(X)\n",
        "        if self.use_PCA:\n",
        "            X = self.pca.transform(X)\n",
        "\n",
        "        new_features = np.cos(np.dot(X, self.W) + self.B)\n",
        "\n",
        "        return self.clf.predict_proba(new_features)\n",
        "\n",
        "        \n",
        "        \n",
        "    def predict(self, X):\n",
        "        \"\"\"\n",
        "        Apply pipeline to obtain discrete predictions for input data.\n",
        "        \"\"\"\n",
        "        if self.use_PCA:\n",
        "            X = self.pca.transform(X)\n",
        "        X = self.scaler.transform(X)\n",
        "\n",
        "        new_features = np.cos(np.dot(X, self.W) + self.B)\n",
        "\n",
        "        return self.clf.predict(new_features)"
      ]
    },
    {
      "cell_type": "code",
      "source": [
        "import matplotlib.pyplot as plt\n",
        "from tqdm import tqdm\n",
        "import time\n",
        "\n",
        "\n",
        "n_features_array = np.arange(start=50, stop=1000, step=50)\n",
        "run_time_train_orf = []\n",
        "run_time_predict_orf = []\n",
        "accuracy_train_orf = []\n",
        "accuracy_test_orf = []\n",
        "\n",
        "run_time_train_rff = []\n",
        "run_time_predict_rff = []\n",
        "accuracy_train_rff = []\n",
        "accuracy_test_rff = []\n",
        "\n",
        "plt.figure(figsize=(8, 5))\n",
        "\n",
        "for i, n_features in tqdm(enumerate(n_features_array)):\n",
        "    start=time.time()\n",
        "    clf = RFFPipeline(new_dim=100, n_features=n_features)\n",
        "    clf.fit(x_train, y_train)\n",
        "    run_time_train_rff.append(round(time.time() - start, 2))\n",
        "\n",
        "    start = time.time()\n",
        "    prediction = clf.predict(x_test)\n",
        "    run_time_predict_rff.append(round(time.time() - start, 2))\n",
        "\n",
        "    accuracy_train_rff.append((clf.predict(x_train) == y_train).mean())\n",
        "    accuracy_test_rff.append((prediction == y_test).mean())\n",
        "    plt.plot(n_features_array[:i + 1], accuracy_train_rff, marker='.', label='train RFF')\n",
        "    plt.plot(n_features_array[:i + 1], accuracy_test_rff, marker='.', label='test RFF')\n",
        "\n",
        "\n",
        "    start=time.time()\n",
        "    clf = ORFPipeline(new_dim=100, n_features=n_features)\n",
        "    clf.fit(x_train, y_train)\n",
        "    run_time_train_orf.append(round(time.time() - start, 2))\n",
        "\n",
        "    start = time.time()\n",
        "    prediction = clf.predict(x_test)\n",
        "    run_time_predict_orf.append(round(time.time() - start, 2))\n",
        "\n",
        "    accuracy_train_orf.append((clf.predict(x_train) == y_train).mean())\n",
        "    accuracy_test_orf.append((prediction == y_test).mean())\n",
        "    plt.plot(n_features_array[:i + 1], accuracy_train_orf, marker='.', label='train ORF')\n",
        "    plt.plot(n_features_array[:i + 1], accuracy_test_orf, marker='.', label='test ORF')\n",
        "\n",
        "\n",
        "    plt.xlabel('n_features')\n",
        "    plt.ylabel('accuracy score')\n",
        "    plt.legend()\n",
        "\n",
        "    plt.show()"
      ],
      "metadata": {
        "id": "f45zuV4nnuV4"
      },
      "execution_count": null,
      "outputs": []
    },
    {
      "cell_type": "code",
      "source": [
        "plt.plot(n_features_array, accuracy_train_rff, marker='.', label='train RFF')\n",
        "plt.plot(n_features_array, accuracy_test_rff, marker='.', label='test RFF')\n",
        "plt.plot(n_features_array, accuracy_train_orf, marker='.', label='train ORF')\n",
        "plt.plot(n_features_array, accuracy_test_orf, marker='.', label='test ORF')\n",
        "plt.xlabel('n_features, new_dim=100')\n",
        "plt.ylabel('accuracy score')\n",
        "plt.legend()\n",
        "plt.title('Accuracy')\n",
        "\n",
        "plt.show()"
      ],
      "metadata": {
        "colab": {
          "base_uri": "https://localhost:8080/",
          "height": 296
        },
        "id": "wBqf1ark26J3",
        "outputId": "3eaca05e-0412-41e4-afc3-93ff77c2508f"
      },
      "execution_count": 36,
      "outputs": [
        {
          "output_type": "display_data",
          "data": {
            "image/png": "[encoded data removed]",
            "text/plain": [
              "<Figure size 432x288 with 1 Axes>"
            ]
          },
          "metadata": {
            "needs_background": "light"
          }
        }
      ]
    },
    {
      "cell_type": "markdown",
      "source": [
        "Непонятно, почему RFF работает лучше, в статье при $D/d < 10$ вроде бы ORF лучше :("
      ],
      "metadata": {
        "id": "E0WAPsEJ2mS0"
      }
    },
    {
      "cell_type": "code",
      "source": [
        "plt.plot(n_features_array, run_time_train_rff, marker='.', label='fit RFF')\n",
        "plt.plot(n_features_array, run_time_predict_rff, marker='.', label='predict RFF')\n",
        "plt.plot(n_features_array, run_time_train_orf, marker='.', label='fit ORF')\n",
        "plt.plot(n_features_array, run_time_predict_orf, marker='.', label='predict ORF')\n",
        "plt.xlabel('n_features, new_dim=100')\n",
        "plt.ylabel('run time')\n",
        "plt.legend()\n",
        "plt.title('Run time')\n",
        "\n",
        "plt.show()"
      ],
      "metadata": {
        "colab": {
          "base_uri": "https://localhost:8080/",
          "height": 296
        },
        "id": "z6EObj3P34Db",
        "outputId": "86d3778a-0e69-445e-f112-3745ef9e59c1"
      },
      "execution_count": 37,
      "outputs": [
        {
          "output_type": "display_data",
          "data": {
            "image/png": "[encoded data removed]",
            "text/plain": [
              "<Figure size 432x288 with 1 Axes>"
            ]
          },
          "metadata": {
            "needs_background": "light"
          }
        }
      ]
    },
    {
      "cell_type": "code",
      "source": [
        "import time\n",
        "import pandas as pd\n",
        "\n",
        "comparison_orf = pd.DataFrame(columns=['use_PCA=TRUE, logreg', 'use_PCA=FALSE, logreg', \n",
        "                                             'use_PCA=TRUE, SVM', 'use_PCA=FALSE, SVM'],\n",
        "                                    index =['accuracy test', 'accuracy train', 'run time fit', 'run time predict'])\n",
        "\n",
        "start = time.time()\n",
        "clf1 = ORFPipeline(use_PCA=True)\n",
        "clf1.fit(x_train, y_train)\n",
        "comparison_orf['use_PCA=TRUE, logreg']['run time fit'] = round(time.time() - start, 2)\n",
        "\n",
        "start = time.time()\n",
        "prediction = clf1.predict(x_test)\n",
        "comparison_orf['use_PCA=TRUE, logreg']['run time predict'] = round(time.time() - start, 2)\n",
        "\n",
        "comparison_orf['use_PCA=TRUE, logreg']['accuracy test'] = (prediction == y_test).mean()\n",
        "comparison_orf['use_PCA=TRUE, logreg']['accuracy train'] = (clf1.predict(x_train) == y_train).mean()"
      ],
      "metadata": {
        "id": "sDT5MKJY6wXU"
      },
      "execution_count": 38,
      "outputs": []
    },
    {
      "cell_type": "code",
      "source": [
        "start = time.time()\n",
        "clf2 = ORFPipeline(use_PCA=False)\n",
        "clf2.fit(x_train, y_train)\n",
        "comparison_orf['use_PCA=FALSE, logreg']['run time fit'] = round(time.time() - start, 2)\n",
        "\n",
        "start = time.time()\n",
        "prediction = clf2.predict(x_test)\n",
        "comparison_orf['use_PCA=FALSE, logreg']['run time predict'] = round(time.time() - start, 2)\n",
        "\n",
        "comparison_orf['use_PCA=FALSE, logreg']['accuracy test'] = (prediction == y_test).mean()\n",
        "comparison_orf['use_PCA=FALSE, logreg']['accuracy train'] = (clf2.predict(x_train) == y_train).mean()"
      ],
      "metadata": {
        "id": "-N0Y2Z7Z6wXZ"
      },
      "execution_count": 41,
      "outputs": []
    },
    {
      "cell_type": "code",
      "source": [
        "start = time.time()\n",
        "clf3 = ORFPipeline(classifier='svm', use_PCA=True)\n",
        "clf3.fit(x_train, y_train)\n",
        "comparison_orf['use_PCA=TRUE, SVM']['run time fit'] = round(time.time() - start, 2)\n",
        "\n",
        "start = time.time()\n",
        "prediction = clf3.predict(x_test)\n",
        "comparison_orf['use_PCA=TRUE, SVM']['run time predict'] = round(time.time() - start, 2)\n",
        "\n",
        "comparison_orf['use_PCA=TRUE, SVM']['accuracy test'] = (prediction == y_test).mean()\n",
        "comparison_orf['use_PCA=TRUE, SVM']['accuracy train'] = (clf3.predict(x_train) == y_train).mean()"
      ],
      "metadata": {
        "id": "TydNemr56wXc"
      },
      "execution_count": 42,
      "outputs": []
    },
    {
      "cell_type": "code",
      "source": [
        "start = time.time()\n",
        "clf4 = ORFPipeline(classifier='svm', use_PCA=False)\n",
        "clf4.fit(x_train, y_train)\n",
        "comparison_orf['use_PCA=FALSE, SVM']['run time fit'] = round(time.time() - start, 2)\n",
        "\n",
        "start = time.time()\n",
        "prediction = clf4.predict(x_test)\n",
        "comparison_orf['use_PCA=FALSE, SVM']['run time predict'] = round(time.time() - start, 2)\n",
        "\n",
        "comparison_orf['use_PCA=FALSE, SVM']['accuracy test'] = (prediction == y_test).mean()\n",
        "comparison_orf['use_PCA=FALSE, SVM']['accuracy train'] = (clf4.predict(x_train) == y_train).mean()"
      ],
      "metadata": {
        "id": "UVZDav_-6wXf"
      },
      "execution_count": 43,
      "outputs": []
    },
    {
      "cell_type": "markdown",
      "source": [
        "Это все для ORF"
      ],
      "metadata": {
        "id": "4FqaEaMU71Zv"
      }
    },
    {
      "cell_type": "code",
      "source": [
        "comparison_orf"
      ],
      "metadata": {
        "colab": {
          "base_uri": "https://localhost:8080/",
          "height": 175
        },
        "id": "PHK3wTXx7YLp",
        "outputId": "14c7732a-7c01-42fa-bd06-552a6bd53a12"
      },
      "execution_count": 44,
      "outputs": [
        {
          "output_type": "execute_result",
          "data": {
            "text/html": [
              "\n",
              "  <div id=\"df-359a040b-b4c2-4693-907b-f43c08438f08\">\n",
              "    <div class=\"colab-df-container\">\n",
              "      <div>\n",
              "<style scoped>\n",
              "    .dataframe tbody tr th:only-of-type {\n",
              "        vertical-align: middle;\n",
              "    }\n",
              "\n",
              "    .dataframe tbody tr th {\n",
              "        vertical-align: top;\n",
              "    }\n",
              "\n",
              "    .dataframe thead th {\n",
              "        text-align: right;\n",
              "    }\n",
              "</style>\n",
              "<table border=\"1\" class=\"dataframe\">\n",
              "  <thead>\n",
              "    <tr style=\"text-align: right;\">\n",
              "      <th></th>\n",
              "      <th>use_PCA=TRUE, logreg</th>\n",
              "      <th>use_PCA=FALSE, logreg</th>\n",
              "      <th>use_PCA=TRUE, SVM</th>\n",
              "      <th>use_PCA=FALSE, SVM</th>\n",
              "    </tr>\n",
              "  </thead>\n",
              "  <tbody>\n",
              "    <tr>\n",
              "      <th>accuracy test</th>\n",
              "      <td>0.8187</td>\n",
              "      <td>0.8518</td>\n",
              "      <td>0.8492</td>\n",
              "      <td>0.8548</td>\n",
              "    </tr>\n",
              "    <tr>\n",
              "      <th>accuracy train</th>\n",
              "      <td>0.830433</td>\n",
              "      <td>0.874117</td>\n",
              "      <td>0.8664</td>\n",
              "      <td>0.928417</td>\n",
              "    </tr>\n",
              "    <tr>\n",
              "      <th>run time fit</th>\n",
              "      <td>74.36</td>\n",
              "      <td>60.81</td>\n",
              "      <td>482.77</td>\n",
              "      <td>538.19</td>\n",
              "    </tr>\n",
              "    <tr>\n",
              "      <th>run time predict</th>\n",
              "      <td>0.5</td>\n",
              "      <td>0.87</td>\n",
              "      <td>135.97</td>\n",
              "      <td>111.04</td>\n",
              "    </tr>\n",
              "  </tbody>\n",
              "</table>\n",
              "</div>\n",
              "      <button class=\"colab-df-convert\" onclick=\"convertToInteractive('df-359a040b-b4c2-4693-907b-f43c08438f08')\"\n",
              "              title=\"Convert this dataframe to an interactive table.\"\n",
              "              style=\"display:none;\">\n",
              "        \n",
              "  <svg xmlns=\"http://www.w3.org/2000/svg\" height=\"24px\"viewBox=\"0 0 24 24\"\n",
              "       width=\"24px\">\n",
              "    <path d=\"M0 0h24v24H0V0z\" fill=\"none\"/>\n",
              "    <path d=\"M18.56 5.44l.94 2.06.94-2.06 2.06-.94-2.06-.94-.94-2.06-.94 2.06-2.06.94zm-11 1L8.5 8.5l.94-2.06 2.06-.94-2.06-.94L8.5 2.5l-.94 2.06-2.06.94zm10 10l.94 2.06.94-2.06 2.06-.94-2.06-.94-.94-2.06-.94 2.06-2.06.94z\"/><path d=\"M17.41 7.96l-1.37-1.37c-.4-.4-.92-.59-1.43-.59-.52 0-1.04.2-1.43.59L10.3 9.45l-7.72 7.72c-.78.78-.78 2.05 0 2.83L4 21.41c.39.39.9.59 1.41.59.51 0 1.02-.2 1.41-.59l7.78-7.78 2.81-2.81c.8-.78.8-2.07 0-2.86zM5.41 20L4 18.59l7.72-7.72 1.47 1.35L5.41 20z\"/>\n",
              "  </svg>\n",
              "      </button>\n",
              "      \n",
              "  <style>\n",
              "    .colab-df-container {\n",
              "      display:flex;\n",
              "      flex-wrap:wrap;\n",
              "      gap: 12px;\n",
              "    }\n",
              "\n",
              "    .colab-df-convert {\n",
              "      background-color: #E8F0FE;\n",
              "      border: none;\n",
              "      border-radius: 50%;\n",
              "      cursor: pointer;\n",
              "      display: none;\n",
              "      fill: #1967D2;\n",
              "      height: 32px;\n",
              "      padding: 0 0 0 0;\n",
              "      width: 32px;\n",
              "    }\n",
              "\n",
              "    .colab-df-convert:hover {\n",
              "      background-color: #E2EBFA;\n",
              "      box-shadow: 0px 1px 2px rgba(60, 64, 67, 0.3), 0px 1px 3px 1px rgba(60, 64, 67, 0.15);\n",
              "      fill: #174EA6;\n",
              "    }\n",
              "\n",
              "    [theme=dark] .colab-df-convert {\n",
              "      background-color: #3B4455;\n",
              "      fill: #D2E3FC;\n",
              "    }\n",
              "\n",
              "    [theme=dark] .colab-df-convert:hover {\n",
              "      background-color: #434B5C;\n",
              "      box-shadow: 0px 1px 3px 1px rgba(0, 0, 0, 0.15);\n",
              "      filter: drop-shadow(0px 1px 2px rgba(0, 0, 0, 0.3));\n",
              "      fill: #FFFFFF;\n",
              "    }\n",
              "  </style>\n",
              "\n",
              "      <script>\n",
              "        const buttonEl =\n",
              "          document.querySelector('#df-359a040b-b4c2-4693-907b-f43c08438f08 button.colab-df-convert');\n",
              "        buttonEl.style.display =\n",
              "          google.colab.kernel.accessAllowed ? 'block' : 'none';\n",
              "\n",
              "        async function convertToInteractive(key) {\n",
              "          const element = document.querySelector('#df-359a040b-b4c2-4693-907b-f43c08438f08');\n",
              "          const dataTable =\n",
              "            await google.colab.kernel.invokeFunction('convertToInteractive',\n",
              "                                                     [key], {});\n",
              "          if (!dataTable) return;\n",
              "\n",
              "          const docLinkHtml = 'Like what you see? Visit the ' +\n",
              "            '<a target=\"_blank\" href=https://colab.research.google.com/notebooks/data_table.ipynb>data table notebook</a>'\n",
              "            + ' to learn more about interactive tables.';\n",
              "          element.innerHTML = '';\n",
              "          dataTable['output_type'] = 'display_data';\n",
              "          await google.colab.output.renderOutput(dataTable, element);\n",
              "          const docLink = document.createElement('div');\n",
              "          docLink.innerHTML = docLinkHtml;\n",
              "          element.appendChild(docLink);\n",
              "        }\n",
              "      </script>\n",
              "    </div>\n",
              "  </div>\n",
              "  "
            ],
            "text/plain": [
              "                 use_PCA=TRUE, logreg use_PCA=FALSE, logreg use_PCA=TRUE, SVM  \\\n",
              "accuracy test                  0.8187                0.8518            0.8492   \n",
              "accuracy train               0.830433              0.874117            0.8664   \n",
              "run time fit                    74.36                 60.81            482.77   \n",
              "run time predict                  0.5                  0.87            135.97   \n",
              "\n",
              "                 use_PCA=FALSE, SVM  \n",
              "accuracy test                0.8548  \n",
              "accuracy train             0.928417  \n",
              "run time fit                 538.19  \n",
              "run time predict             111.04  "
            ]
          },
          "metadata": {},
          "execution_count": 44
        }
      ]
    },
    {
      "cell_type": "markdown",
      "source": [
        "А это для RFF из предыдущего пункта"
      ],
      "metadata": {
        "id": "kaYHnfp075j5"
      }
    },
    {
      "cell_type": "code",
      "source": [
        "comparison_13"
      ],
      "metadata": {
        "colab": {
          "base_uri": "https://localhost:8080/",
          "height": 175
        },
        "outputId": "58071aab-eeb4-47ab-f361-2c64f17d39d3",
        "id": "sAhsY8-K7_2Q"
      },
      "execution_count": null,
      "outputs": [
        {
          "output_type": "execute_result",
          "data": {
            "text/html": [
              "\n",
              "  <div id=\"df-ed8e5afb-b584-4bf8-b955-1f39575167f8\">\n",
              "    <div class=\"colab-df-container\">\n",
              "      <div>\n",
              "<style scoped>\n",
              "    .dataframe tbody tr th:only-of-type {\n",
              "        vertical-align: middle;\n",
              "    }\n",
              "\n",
              "    .dataframe tbody tr th {\n",
              "        vertical-align: top;\n",
              "    }\n",
              "\n",
              "    .dataframe thead th {\n",
              "        text-align: right;\n",
              "    }\n",
              "</style>\n",
              "<table border=\"1\" class=\"dataframe\">\n",
              "  <thead>\n",
              "    <tr style=\"text-align: right;\">\n",
              "      <th></th>\n",
              "      <th>use_PCA=TRUE, logreg</th>\n",
              "      <th>use_PCA=FALSE, logreg</th>\n",
              "      <th>use_PCA=TRUE, SVM</th>\n",
              "      <th>use_PCA=FALSE, SVM</th>\n",
              "    </tr>\n",
              "  </thead>\n",
              "  <tbody>\n",
              "    <tr>\n",
              "      <th>accuracy test</th>\n",
              "      <td>0.8642</td>\n",
              "      <td>0.8637</td>\n",
              "      <td>0.8646</td>\n",
              "      <td>0.8599</td>\n",
              "    </tr>\n",
              "    <tr>\n",
              "      <th>accuracy train</th>\n",
              "      <td>0.8892</td>\n",
              "      <td>0.886883</td>\n",
              "      <td>0.93935</td>\n",
              "      <td>0.9421</td>\n",
              "    </tr>\n",
              "    <tr>\n",
              "      <th>run time fit</th>\n",
              "      <td>66.31</td>\n",
              "      <td>64.65</td>\n",
              "      <td>845.04</td>\n",
              "      <td>710.21</td>\n",
              "    </tr>\n",
              "    <tr>\n",
              "      <th>run time predict</th>\n",
              "      <td>0.55</td>\n",
              "      <td>0.91</td>\n",
              "      <td>113.2</td>\n",
              "      <td>115.64</td>\n",
              "    </tr>\n",
              "  </tbody>\n",
              "</table>\n",
              "</div>\n",
              "      <button class=\"colab-df-convert\" onclick=\"convertToInteractive('df-ed8e5afb-b584-4bf8-b955-1f39575167f8')\"\n",
              "              title=\"Convert this dataframe to an interactive table.\"\n",
              "              style=\"display:none;\">\n",
              "        \n",
              "  <svg xmlns=\"http://www.w3.org/2000/svg\" height=\"24px\"viewBox=\"0 0 24 24\"\n",
              "       width=\"24px\">\n",
              "    <path d=\"M0 0h24v24H0V0z\" fill=\"none\"/>\n",
              "    <path d=\"M18.56 5.44l.94 2.06.94-2.06 2.06-.94-2.06-.94-.94-2.06-.94 2.06-2.06.94zm-11 1L8.5 8.5l.94-2.06 2.06-.94-2.06-.94L8.5 2.5l-.94 2.06-2.06.94zm10 10l.94 2.06.94-2.06 2.06-.94-2.06-.94-.94-2.06-.94 2.06-2.06.94z\"/><path d=\"M17.41 7.96l-1.37-1.37c-.4-.4-.92-.59-1.43-.59-.52 0-1.04.2-1.43.59L10.3 9.45l-7.72 7.72c-.78.78-.78 2.05 0 2.83L4 21.41c.39.39.9.59 1.41.59.51 0 1.02-.2 1.41-.59l7.78-7.78 2.81-2.81c.8-.78.8-2.07 0-2.86zM5.41 20L4 18.59l7.72-7.72 1.47 1.35L5.41 20z\"/>\n",
              "  </svg>\n",
              "      </button>\n",
              "      \n",
              "  <style>\n",
              "    .colab-df-container {\n",
              "      display:flex;\n",
              "      flex-wrap:wrap;\n",
              "      gap: 12px;\n",
              "    }\n",
              "\n",
              "    .colab-df-convert {\n",
              "      background-color: #E8F0FE;\n",
              "      border: none;\n",
              "      border-radius: 50%;\n",
              "      cursor: pointer;\n",
              "      display: none;\n",
              "      fill: #1967D2;\n",
              "      height: 32px;\n",
              "      padding: 0 0 0 0;\n",
              "      width: 32px;\n",
              "    }\n",
              "\n",
              "    .colab-df-convert:hover {\n",
              "      background-color: #E2EBFA;\n",
              "      box-shadow: 0px 1px 2px rgba(60, 64, 67, 0.3), 0px 1px 3px 1px rgba(60, 64, 67, 0.15);\n",
              "      fill: #174EA6;\n",
              "    }\n",
              "\n",
              "    [theme=dark] .colab-df-convert {\n",
              "      background-color: #3B4455;\n",
              "      fill: #D2E3FC;\n",
              "    }\n",
              "\n",
              "    [theme=dark] .colab-df-convert:hover {\n",
              "      background-color: #434B5C;\n",
              "      box-shadow: 0px 1px 3px 1px rgba(0, 0, 0, 0.15);\n",
              "      filter: drop-shadow(0px 1px 2px rgba(0, 0, 0, 0.3));\n",
              "      fill: #FFFFFF;\n",
              "    }\n",
              "  </style>\n",
              "\n",
              "      <script>\n",
              "        const buttonEl =\n",
              "          document.querySelector('#df-ed8e5afb-b584-4bf8-b955-1f39575167f8 button.colab-df-convert');\n",
              "        buttonEl.style.display =\n",
              "          google.colab.kernel.accessAllowed ? 'block' : 'none';\n",
              "\n",
              "        async function convertToInteractive(key) {\n",
              "          const element = document.querySelector('#df-ed8e5afb-b584-4bf8-b955-1f39575167f8');\n",
              "          const dataTable =\n",
              "            await google.colab.kernel.invokeFunction('convertToInteractive',\n",
              "                                                     [key], {});\n",
              "          if (!dataTable) return;\n",
              "\n",
              "          const docLinkHtml = 'Like what you see? Visit the ' +\n",
              "            '<a target=\"_blank\" href=https://colab.research.google.com/notebooks/data_table.ipynb>data table notebook</a>'\n",
              "            + ' to learn more about interactive tables.';\n",
              "          element.innerHTML = '';\n",
              "          dataTable['output_type'] = 'display_data';\n",
              "          await google.colab.output.renderOutput(dataTable, element);\n",
              "          const docLink = document.createElement('div');\n",
              "          docLink.innerHTML = docLinkHtml;\n",
              "          element.appendChild(docLink);\n",
              "        }\n",
              "      </script>\n",
              "    </div>\n",
              "  </div>\n",
              "  "
            ],
            "text/plain": [
              "                 use_PCA=TRUE, logreg use_PCA=FALSE, logreg use_PCA=TRUE, SVM  \\\n",
              "accuracy test                  0.8642                0.8637            0.8646   \n",
              "accuracy train                 0.8892              0.886883           0.93935   \n",
              "run time fit                    66.31                 64.65            845.04   \n",
              "run time predict                 0.55                  0.91             113.2   \n",
              "\n",
              "                 use_PCA=FALSE, SVM  \n",
              "accuracy test                0.8599  \n",
              "accuracy train               0.9421  \n",
              "run time fit                 710.21  \n",
              "run time predict             115.64  "
            ]
          },
          "metadata": {},
          "execution_count": 16
        }
      ]
    },
    {
      "cell_type": "markdown",
      "source": [
        "Вывод: у меня получилось, что ORF и RFF сравнимы по качеству и времени работы."
      ],
      "metadata": {
        "id": "GuiGDtzBsT1o"
      }
    },
    {
      "cell_type": "markdown",
      "metadata": {
        "id": "4pc7-1jmK-hY"
      },
      "source": [
        "__Задание 5. (Максимум 2 балла)__\n",
        "\n",
        "Поэкспериментируйте с функциями для вычисления новых случайных признаков. Не обязательно использовать косинус от скалярного произведения — можно брать знак от него, хэш и т.д. Придумайте побольше вариантов для генерации признаков и проверьте, не получается ли с их помощью добиваться более высокого качества. Также можете попробовать другой классификатор поверх случайных признаков, **(?)** сравните результаты."
      ]
    },
    {
      "cell_type": "markdown",
      "metadata": {
        "id": "Hl9_QeK5Y3OV"
      },
      "source": [
        "**Замечание:**\n",
        "* Сравнения делайте как по времени, так и по качеству.\n",
        "* В качестве основной модели можете брать как RFF, так и ORF. А можете и то и другое :)"
      ]
    },
    {
      "cell_type": "code",
      "source": [
        "a = np.array([1, 2, 3])\n",
        "1 / (1 + np.exp(-a))"
      ],
      "metadata": {
        "colab": {
          "base_uri": "https://localhost:8080/"
        },
        "id": "f3NeioLRrnea",
        "outputId": "af5aa529-bad8-4301-8be4-09563fa255b0"
      },
      "execution_count": 8,
      "outputs": [
        {
          "output_type": "execute_result",
          "data": {
            "text/plain": [
              "array([0.73105858, 0.88079708, 0.95257413])"
            ]
          },
          "metadata": {},
          "execution_count": 8
        }
      ]
    },
    {
      "cell_type": "code",
      "execution_count": 16,
      "metadata": {
        "id": "dWj-O2vjK-hY"
      },
      "outputs": [],
      "source": [
        "from sklearn.base import BaseEstimator, TransformerMixin\n",
        "from sklearn.decomposition import PCA\n",
        "from sklearn import preprocessing\n",
        "from sklearn.svm import SVC\n",
        "from sklearn.linear_model import LogisticRegression\n",
        "import scipy\n",
        "\n",
        "\n",
        "class RFFPipeline(BaseEstimator, TransformerMixin):\n",
        "    def __init__(self, n_features=1000, new_dim=50, use_PCA=True, classifier='logreg', function='cos'):\n",
        "        \"\"\"        \n",
        "        Implements pipeline, which consists of PCA decomposition,\n",
        "        Random Fourier Features approximation and linear classification model.\n",
        "        \n",
        "        n_features, int: amount of synthetic random features generated with RFF approximation.\n",
        "\n",
        "        new_dim, int: PCA output size.\n",
        "        \n",
        "        use_PCA, bool: whether to include PCA preprocessing.\n",
        "        \n",
        "        classifier, string: either 'svm' or 'logreg', a linear classification model to use on top of pipeline.\n",
        "        \n",
        "        Feel free to edit this template for your preferences.    \n",
        "        \"\"\"\n",
        "        self.n_features = n_features\n",
        "        self.use_PCA = use_PCA\n",
        "        self.new_dim = new_dim\n",
        "        self.classifier = classifier\n",
        "        self.function = function\n",
        "        \n",
        "    def fit(self, X, y):\n",
        "        \"\"\"\n",
        "        Fit all parts of algorithm (PCA, RFF, Classification) to training set.\n",
        "        \"\"\"\n",
        "\n",
        "        if self.use_PCA:\n",
        "            self.pca = PCA(n_components=self.new_dim)\n",
        "            self.pca.fit(X)\n",
        "            X = self.pca.transform(X)\n",
        "\n",
        "        self.scaler = preprocessing.StandardScaler().fit(X)\n",
        "        X = self.scaler.transform(X)\n",
        "\n",
        "        indecies = np.random.choice(X.shape[0], size=2000)\n",
        "        self.var = np.median(scipy.spatial.distance.cdist(X[indecies[:1000]].astype(float), X[indecies[1000:]].astype(float)) ** 2)\n",
        "        self.W = np.random.normal(0, self.var ** (-1/2), size=(X.shape[1], self.n_features))\n",
        "        self.B = np.random.uniform(-np.pi, np.pi, size=self.n_features)\n",
        "        \n",
        "        if self.function == 'cos':\n",
        "            new_features = np.cos(np.dot(X, self.W) + self.B)\n",
        "        elif self.function == 'sign':\n",
        "            new_features = np.sign(np.dot(X, self.W) + self.B)\n",
        "        elif self.function == 'sigmoid':\n",
        "            new_features = 1 / (1 + np.exp(-np.dot(X, self.W) + self.B))\n",
        "\n",
        "        if self.classifier == 'svm':\n",
        "            self.clf = SVC(kernel='linear')\n",
        "        else:\n",
        "            self.clf = LogisticRegression()\n",
        "\n",
        "        self.clf.fit(new_features, y)\n",
        "\n",
        "        return self\n",
        "\n",
        "    def predict_proba(self, X):\n",
        "        \"\"\"\n",
        "        Apply pipeline to obtain scores for input data.\n",
        "        \"\"\"\n",
        "        X = self.scaler.transform(X)\n",
        "        if self.use_PCA:\n",
        "            X = self.pca.transform(X)\n",
        "\n",
        "        if self.function == 'cos':\n",
        "            new_features = np.cos(np.dot(X, self.W) + self.B)\n",
        "        elif self.function == 'sign':\n",
        "            new_features = np.sign(np.dot(X, self.W) + self.B)\n",
        "        elif self.function == 'sigmoid':\n",
        "            new_features = 1 / (1 + np.exp(-np.dot(X, self.W) + self.B))\n",
        "\n",
        "        return self.clf.predict_proba(new_features)\n",
        "\n",
        "        \n",
        "        \n",
        "    def predict(self, X):\n",
        "        \"\"\"\n",
        "        Apply pipeline to obtain discrete predictions for input data.\n",
        "        \"\"\"\n",
        "        if self.use_PCA:\n",
        "            X = self.pca.transform(X)\n",
        "        X = self.scaler.transform(X)\n",
        "\n",
        "        if self.function == 'cos':\n",
        "            new_features = np.cos(np.dot(X, self.W) + self.B)\n",
        "        elif self.function == 'sign':\n",
        "            new_features = np.sign(np.dot(X, self.W) + self.B)\n",
        "        elif self.function == 'sigmoid':\n",
        "            new_features = 1 / (1 + np.exp(-np.dot(X, self.W) + self.B))\n",
        "\n",
        "\n",
        "        return self.clf.predict(new_features)"
      ]
    },
    {
      "cell_type": "code",
      "source": [
        "import time\n",
        "import pandas as pd\n",
        "\n",
        "comparison = pd.DataFrame(columns=['cos', 'sign', 'sigmoid'],\n",
        "                             index =['accuracy test', 'accuracy train', 'run time fit', 'run time predict'])\n",
        "\n",
        "\n",
        "start = time.time()\n",
        "clf1 = RFFPipeline(function='cos')\n",
        "clf1.fit(x_train, y_train)\n",
        "comparison['cos']['run time fit'] = round(time.time() - start, 2)\n",
        "\n",
        "start = time.time()\n",
        "prediction = clf1.predict(x_test)\n",
        "comparison['cos']['run time predict'] = round(time.time() - start, 2)\n",
        "\n",
        "comparison['cos']['accuracy test'] = (prediction == y_test).mean()\n",
        "comparison['cos']['accuracy train'] = (clf1.predict(x_train) == y_train).mean()"
      ],
      "metadata": {
        "id": "FO9yOe_JvN1_"
      },
      "execution_count": 17,
      "outputs": []
    },
    {
      "cell_type": "code",
      "source": [
        "start = time.time()\n",
        "clf2 = RFFPipeline(function='sign')\n",
        "clf2.fit(x_train, y_train)\n",
        "comparison['sign']['run time fit'] = round(time.time() - start, 2)\n",
        "\n",
        "start = time.time()\n",
        "prediction = clf2.predict(x_test)\n",
        "comparison['sign']['run time predict'] = round(time.time() - start, 2)\n",
        "\n",
        "comparison['sign']['accuracy test'] = (prediction == y_test).mean()\n",
        "comparison['sign']['accuracy train'] = (clf2.predict(x_train) == y_train).mean()"
      ],
      "metadata": {
        "id": "HjsZL43pxjUI"
      },
      "execution_count": 18,
      "outputs": []
    },
    {
      "cell_type": "code",
      "source": [
        "start = time.time()\n",
        "clf3 = RFFPipeline(function='sigmoid')\n",
        "clf3.fit(x_train, y_train)\n",
        "comparison['sigmoid']['run time fit'] = round(time.time() - start, 2)\n",
        "\n",
        "start = time.time()\n",
        "prediction = clf3.predict(x_test)\n",
        "comparison['sigmoid']['run time predict'] = round(time.time() - start, 2)\n",
        "\n",
        "comparison['sigmoid']['accuracy test'] = (prediction == y_test).mean()\n",
        "comparison['sigmoid']['accuracy train'] = (clf3.predict(x_train) == y_train).mean()"
      ],
      "metadata": {
        "id": "5yHT6VlQx9vi"
      },
      "execution_count": 19,
      "outputs": []
    },
    {
      "cell_type": "code",
      "source": [
        "comparison"
      ],
      "metadata": {
        "colab": {
          "base_uri": "https://localhost:8080/",
          "height": 175
        },
        "id": "B40xEn6myIm2",
        "outputId": "74de6f5f-66f6-4468-89ca-5014b4b412f1"
      },
      "execution_count": 20,
      "outputs": [
        {
          "output_type": "execute_result",
          "data": {
            "text/html": [
              "\n",
              "  <div id=\"df-ad0df78a-f61b-4242-9ad0-37c9f7af89e3\">\n",
              "    <div class=\"colab-df-container\">\n",
              "      <div>\n",
              "<style scoped>\n",
              "    .dataframe tbody tr th:only-of-type {\n",
              "        vertical-align: middle;\n",
              "    }\n",
              "\n",
              "    .dataframe tbody tr th {\n",
              "        vertical-align: top;\n",
              "    }\n",
              "\n",
              "    .dataframe thead th {\n",
              "        text-align: right;\n",
              "    }\n",
              "</style>\n",
              "<table border=\"1\" class=\"dataframe\">\n",
              "  <thead>\n",
              "    <tr style=\"text-align: right;\">\n",
              "      <th></th>\n",
              "      <th>cos</th>\n",
              "      <th>sign</th>\n",
              "      <th>sigmoid</th>\n",
              "    </tr>\n",
              "  </thead>\n",
              "  <tbody>\n",
              "    <tr>\n",
              "      <th>accuracy test</th>\n",
              "      <td>0.8666</td>\n",
              "      <td>0.824</td>\n",
              "      <td>0.8296</td>\n",
              "    </tr>\n",
              "    <tr>\n",
              "      <th>accuracy train</th>\n",
              "      <td>0.89085</td>\n",
              "      <td>0.849017</td>\n",
              "      <td>0.845467</td>\n",
              "    </tr>\n",
              "    <tr>\n",
              "      <th>run time fit</th>\n",
              "      <td>65.47</td>\n",
              "      <td>61.41</td>\n",
              "      <td>63.64</td>\n",
              "    </tr>\n",
              "    <tr>\n",
              "      <th>run time predict</th>\n",
              "      <td>0.51</td>\n",
              "      <td>0.25</td>\n",
              "      <td>0.45</td>\n",
              "    </tr>\n",
              "  </tbody>\n",
              "</table>\n",
              "</div>\n",
              "      <button class=\"colab-df-convert\" onclick=\"convertToInteractive('df-ad0df78a-f61b-4242-9ad0-37c9f7af89e3')\"\n",
              "              title=\"Convert this dataframe to an interactive table.\"\n",
              "              style=\"display:none;\">\n",
              "        \n",
              "  <svg xmlns=\"http://www.w3.org/2000/svg\" height=\"24px\"viewBox=\"0 0 24 24\"\n",
              "       width=\"24px\">\n",
              "    <path d=\"M0 0h24v24H0V0z\" fill=\"none\"/>\n",
              "    <path d=\"M18.56 5.44l.94 2.06.94-2.06 2.06-.94-2.06-.94-.94-2.06-.94 2.06-2.06.94zm-11 1L8.5 8.5l.94-2.06 2.06-.94-2.06-.94L8.5 2.5l-.94 2.06-2.06.94zm10 10l.94 2.06.94-2.06 2.06-.94-2.06-.94-.94-2.06-.94 2.06-2.06.94z\"/><path d=\"M17.41 7.96l-1.37-1.37c-.4-.4-.92-.59-1.43-.59-.52 0-1.04.2-1.43.59L10.3 9.45l-7.72 7.72c-.78.78-.78 2.05 0 2.83L4 21.41c.39.39.9.59 1.41.59.51 0 1.02-.2 1.41-.59l7.78-7.78 2.81-2.81c.8-.78.8-2.07 0-2.86zM5.41 20L4 18.59l7.72-7.72 1.47 1.35L5.41 20z\"/>\n",
              "  </svg>\n",
              "      </button>\n",
              "      \n",
              "  <style>\n",
              "    .colab-df-container {\n",
              "      display:flex;\n",
              "      flex-wrap:wrap;\n",
              "      gap: 12px;\n",
              "    }\n",
              "\n",
              "    .colab-df-convert {\n",
              "      background-color: #E8F0FE;\n",
              "      border: none;\n",
              "      border-radius: 50%;\n",
              "      cursor: pointer;\n",
              "      display: none;\n",
              "      fill: #1967D2;\n",
              "      height: 32px;\n",
              "      padding: 0 0 0 0;\n",
              "      width: 32px;\n",
              "    }\n",
              "\n",
              "    .colab-df-convert:hover {\n",
              "      background-color: #E2EBFA;\n",
              "      box-shadow: 0px 1px 2px rgba(60, 64, 67, 0.3), 0px 1px 3px 1px rgba(60, 64, 67, 0.15);\n",
              "      fill: #174EA6;\n",
              "    }\n",
              "\n",
              "    [theme=dark] .colab-df-convert {\n",
              "      background-color: #3B4455;\n",
              "      fill: #D2E3FC;\n",
              "    }\n",
              "\n",
              "    [theme=dark] .colab-df-convert:hover {\n",
              "      background-color: #434B5C;\n",
              "      box-shadow: 0px 1px 3px 1px rgba(0, 0, 0, 0.15);\n",
              "      filter: drop-shadow(0px 1px 2px rgba(0, 0, 0, 0.3));\n",
              "      fill: #FFFFFF;\n",
              "    }\n",
              "  </style>\n",
              "\n",
              "      <script>\n",
              "        const buttonEl =\n",
              "          document.querySelector('#df-ad0df78a-f61b-4242-9ad0-37c9f7af89e3 button.colab-df-convert');\n",
              "        buttonEl.style.display =\n",
              "          google.colab.kernel.accessAllowed ? 'block' : 'none';\n",
              "\n",
              "        async function convertToInteractive(key) {\n",
              "          const element = document.querySelector('#df-ad0df78a-f61b-4242-9ad0-37c9f7af89e3');\n",
              "          const dataTable =\n",
              "            await google.colab.kernel.invokeFunction('convertToInteractive',\n",
              "                                                     [key], {});\n",
              "          if (!dataTable) return;\n",
              "\n",
              "          const docLinkHtml = 'Like what you see? Visit the ' +\n",
              "            '<a target=\"_blank\" href=https://colab.research.google.com/notebooks/data_table.ipynb>data table notebook</a>'\n",
              "            + ' to learn more about interactive tables.';\n",
              "          element.innerHTML = '';\n",
              "          dataTable['output_type'] = 'display_data';\n",
              "          await google.colab.output.renderOutput(dataTable, element);\n",
              "          const docLink = document.createElement('div');\n",
              "          docLink.innerHTML = docLinkHtml;\n",
              "          element.appendChild(docLink);\n",
              "        }\n",
              "      </script>\n",
              "    </div>\n",
              "  </div>\n",
              "  "
            ],
            "text/plain": [
              "                      cos      sign   sigmoid\n",
              "accuracy test      0.8666     0.824    0.8296\n",
              "accuracy train    0.89085  0.849017  0.845467\n",
              "run time fit        65.47     61.41     63.64\n",
              "run time predict     0.51      0.25      0.45"
            ]
          },
          "metadata": {},
          "execution_count": 20
        }
      ]
    },
    {
      "cell_type": "markdown",
      "source": [
        "Все функции работают примерно одинаково хорошо, но косинус чуть-чуть лучше по качесву и совсем чуть-чуть хуже по времени"
      ],
      "metadata": {
        "id": "vb-BmpxP4vG7"
      }
    },
    {
      "cell_type": "code",
      "source": [
        ""
      ],
      "metadata": {
        "id": "TKZk-zjPy6-y"
      },
      "execution_count": null,
      "outputs": []
    }
  ],
  "metadata": {
    "colab": {
      "collapsed_sections": [],
      "name": "homework-practice-01-random-features-Kozlova-Olga.ipynb",
      "provenance": []
    },
    "kernelspec": {
      "display_name": "Python 3",
      "language": "python",
      "name": "python3"
    },
    "language_info": {
      "codemirror_mode": {
        "name": "ipython",
        "version": 3
      },
      "file_extension": ".py",
      "mimetype": "text/x-python",
      "name": "python",
      "nbconvert_exporter": "python",
      "pygments_lexer": "ipython3",
      "version": "3.8.8"
    }
  },
  "nbformat": 4,
  "nbformat_minor": 0
}