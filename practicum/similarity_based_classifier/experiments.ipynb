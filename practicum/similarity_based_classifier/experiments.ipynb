{
  "nbformat": 4,
  "nbformat_minor": 0,
  "metadata": {
    "colab": {
      "name": "task_1.ipynb",
      "provenance": [],
      "collapsed_sections": [],
      "machine_shape": "hm"
    },
    "kernelspec": {
      "name": "python3",
      "display_name": "Python 3"
    },
    "language_info": {
      "name": "python"
    }
  },
  "cells": [
    {
      "cell_type": "code",
      "metadata": {
        "id": "egz-d7epcD5V"
      },
      "source": [
        "from sklearn import datasets\n",
        "import numpy as np"
      ],
      "execution_count": 4,
      "outputs": []
    },
    {
      "cell_type": "code",
      "metadata": {
        "colab": {
          "base_uri": "https://localhost:8080/"
        },
        "id": "HC-IKkR1jRUg",
        "outputId": "9122d043-00dd-409f-a294-0ee3d6d553e9"
      },
      "source": [
        "from google.colab import drive\n",
        "drive.mount('/content/drive')\n",
        "import sys\n",
        "sys.path.insert(0,'/content/drive/My Drive/Colab Notebooks')\n",
        "from nearest_neighbors import KNNClassifier"
      ],
      "execution_count": 5,
      "outputs": [
        {
          "output_type": "stream",
          "name": "stdout",
          "text": [
            "Mounted at /content/drive\n"
          ]
        }
      ]
    },
    {
      "cell_type": "code",
      "metadata": {
        "id": "xGeOt4aNcHSD"
      },
      "source": [
        "from scipy import ndimage, misc\n",
        "import matplotlib.pyplot as plt"
      ],
      "execution_count": 14,
      "outputs": []
    },
    {
      "cell_type": "code",
      "metadata": {
        "id": "oKzrAh0IgBCs"
      },
      "source": [
        "data = datasets.fetch_openml(\"mnist_784\")\n",
        "# data"
      ],
      "execution_count": 6,
      "outputs": []
    },
    {
      "cell_type": "code",
      "metadata": {
        "id": "DsmwMwmKVqSt"
      },
      "source": [
        "import time"
      ],
      "execution_count": 7,
      "outputs": []
    },
    {
      "cell_type": "code",
      "metadata": {
        "id": "EdNApdNV9qIL"
      },
      "source": [
        "from cross_validation import knn_cross_val_score"
      ],
      "execution_count": 8,
      "outputs": []
    },
    {
      "cell_type": "code",
      "metadata": {
        "colab": {
          "base_uri": "https://localhost:8080/"
        },
        "id": "qhE16g2Ngf06",
        "outputId": "95826677-969a-4a2c-947c-9b00d381730f"
      },
      "source": [
        "X_train, X_test = data['data'][:60000], data['data'][60000:]\n",
        "y_train, y_test = np.array(data['target'][:60000], dtype=int), np.array(data['target'][60000:], dtype=int)\n",
        "X_train.shape, y_train.shape, y_train"
      ],
      "execution_count": 9,
      "outputs": [
        {
          "output_type": "execute_result",
          "data": {
            "text/plain": [
              "((60000, 784), (60000,), array([5, 0, 4, ..., 5, 6, 8]))"
            ]
          },
          "metadata": {},
          "execution_count": 9
        }
      ]
    },
    {
      "cell_type": "markdown",
      "metadata": {
        "id": "syzCBStVNomd"
      },
      "source": [
        "## Эксперемент 1"
      ]
    },
    {
      "cell_type": "code",
      "metadata": {
        "id": "finmkZici-aD"
      },
      "source": [
        "rng = np.random.default_rng()\n",
        "sample_10 = rng.choice(784, 10, False)\n",
        "sample_20 = rng.choice(784, 20, False)\n",
        "sample_100 = rng.choice(784, 100, False)\n",
        "train_samples = [X_train[:, sample_10], X_train[:, sample_20], X_train[:, sample_100]]\n",
        "test_samples = [X_test[:, sample_10], X_test[:, sample_20], X_test[:, sample_100]]\n",
        "stratagies = ['my_own', 'brute', 'kd_tree', 'ball_tree']"
      ],
      "execution_count": null,
      "outputs": []
    },
    {
      "cell_type": "code",
      "metadata": {
        "colab": {
          "base_uri": "https://localhost:8080/"
        },
        "id": "QmrfGCrTdYGq",
        "outputId": "794da8ef-701d-48e3-c23d-bd7dc55e3aa9"
      },
      "source": [
        "start = time.time()\n",
        "clf = KNNClassifier(5, 'my_own', 'euclidean', False, 4)\n",
        "clf.fit(X_train, y_train)\n",
        "clf.find_kneighbors(X_test, False)\n",
        "finish = time.time()\n",
        "print(finish - start)"
      ],
      "execution_count": null,
      "outputs": [
        {
          "output_type": "stream",
          "name": "stdout",
          "text": [
            "26.32133722305298\n"
          ]
        }
      ]
    },
    {
      "cell_type": "code",
      "metadata": {
        "colab": {
          "base_uri": "https://localhost:8080/"
        },
        "id": "pjkMXTUfdwUs",
        "outputId": "9e3863da-036b-478e-c2b2-d54f2ce2edc8"
      },
      "source": [
        "start = time.time()\n",
        "clf = KNNClassifier(5, 'brute', 'euclidean', False, 4)\n",
        "clf.fit(X_train, y_train)\n",
        "clf.find_kneighbors(X_test, False)\n",
        "finish = time.time()\n",
        "print(finish - start)"
      ],
      "execution_count": null,
      "outputs": [
        {
          "output_type": "stream",
          "name": "stdout",
          "text": [
            "26.33659815788269\n"
          ]
        }
      ]
    },
    {
      "cell_type": "code",
      "metadata": {
        "colab": {
          "base_uri": "https://localhost:8080/"
        },
        "id": "xWE1NG12DAb5",
        "outputId": "9f8cdcc5-07e0-4481-8c56-a6beddf1a6c7"
      },
      "source": [
        "for i in range(3):\n",
        "  for strategy in stratagies:\n",
        "    start = time.time()\n",
        "    clf = KNNClassifier(5, strategy, 'euclidean', False, 4)\n",
        "    clf.fit(train_samples[i], y_train)\n",
        "    clf.find_kneighbors(test_samples[i], False)\n",
        "    finish = time.time()\n",
        "    print(strategy, ': ', finish - start)\n",
        "    \n"
      ],
      "execution_count": null,
      "outputs": [
        {
          "output_type": "stream",
          "name": "stdout",
          "text": [
            "my_own :  15.120441436767578\n",
            "brute :  10.73365068435669\n",
            "kd_tree :  4.160662412643433\n",
            "ball_tree :  7.660752534866333\n",
            "my_own :  14.11626935005188\n",
            "brute :  11.321485757827759\n",
            "kd_tree :  10.727381706237793\n",
            "ball_tree :  24.075584173202515\n",
            "my_own :  14.958858489990234\n",
            "brute :  12.304533243179321\n",
            "kd_tree :  179.205810546875\n",
            "ball_tree :  207.1886785030365\n"
          ]
        }
      ]
    },
    {
      "cell_type": "code",
      "metadata": {
        "colab": {
          "base_uri": "https://localhost:8080/"
        },
        "id": "4ZuXc1N_9zBf",
        "outputId": "6eb73a20-b25e-46c4-c121-bade53859bd5"
      },
      "source": [
        "%time\n",
        "print(knn_cross_val_score(X_train, y_train, [5], 'accuracy', cv=3, strategy='brute', metric='euclidean', weights=False))\n"
      ],
      "execution_count": null,
      "outputs": [
        {
          "output_type": "stream",
          "name": "stdout",
          "text": [
            "CPU times: user 4 µs, sys: 0 ns, total: 4 µs\n",
            "Wall time: 7.15 µs\n",
            "{5: array([0.9681, 0.9673, 0.9672])}\n"
          ]
        }
      ]
    },
    {
      "cell_type": "code",
      "metadata": {
        "colab": {
          "base_uri": "https://localhost:8080/"
        },
        "id": "Xrc5IYtsCBxd",
        "outputId": "daa2c534-135f-4e38-edb7-1bbf470340bb"
      },
      "source": [
        "%time\n",
        "print(knn_cross_val_score(X_train[:, sample_100], y_train, [5], 'accuracy', cv=3, strategy='brute', metric='euclidean', weights=False))\n"
      ],
      "execution_count": null,
      "outputs": [
        {
          "output_type": "stream",
          "name": "stdout",
          "text": [
            "CPU times: user 4 µs, sys: 0 ns, total: 4 µs\n",
            "Wall time: 8.11 µs\n",
            "{5: array([0.8904 , 0.886  , 0.89125])}\n"
          ]
        }
      ]
    },
    {
      "cell_type": "markdown",
      "metadata": {
        "id": "2c0L6B6xNxKC"
      },
      "source": [
        "## Эксперемент 2 и 3"
      ]
    },
    {
      "cell_type": "code",
      "metadata": {
        "colab": {
          "base_uri": "https://localhost:8080/"
        },
        "id": "NbQhZsxhGieR",
        "outputId": "1128d1a0-d519-49d2-a7b1-e4a41811fa84"
      },
      "source": [
        "knn_false = {}\n",
        "for m in ['euclidean', 'cosine']:\n",
        "  start = time.time()\n",
        "  knn_false[m] = knn_cross_val_score(data['data'], np.array(data['target'], dtype=int), np.arange(1, 11), 'accuracy', cv=3, \n",
        "                                  strategy='brute', metric=m, weights=False)\n",
        "  print(m, ': ', knn_false)\n",
        "  finish = time.time()\n",
        "  print(finish - start)\n",
        "\n"
      ],
      "execution_count": null,
      "outputs": [
        {
          "output_type": "stream",
          "name": "stdout",
          "text": [
            "euclidean :  {'euclidean': {1: array([0.96961515, 0.96725668, 0.96674238]), 2: array([0.96258678, 0.96138516, 0.96211374]), 3: array([0.96991515, 0.96819955, 0.9682424 ]), 4: array([0.9685009 , 0.9657138 , 0.96742811]), 5: array([0.96845804, 0.9660138 , 0.96759954]), 6: array([0.96807234, 0.96459949, 0.96652809]), 7: array([0.9681152 , 0.96524236, 0.9668281 ]), 8: array([0.96670095, 0.9640852 , 0.96622809]), 9: array([0.96614382, 0.96262804, 0.96567094]), 10: array([0.96541527, 0.9626709 , 0.96554236])}}\n",
            "273.09833908081055\n",
            "cosine :  {'euclidean': {1: array([0.96961515, 0.96725668, 0.96674238]), 2: array([0.96258678, 0.96138516, 0.96211374]), 3: array([0.96991515, 0.96819955, 0.9682424 ]), 4: array([0.9685009 , 0.9657138 , 0.96742811]), 5: array([0.96845804, 0.9660138 , 0.96759954]), 6: array([0.96807234, 0.96459949, 0.96652809]), 7: array([0.9681152 , 0.96524236, 0.9668281 ]), 8: array([0.96670095, 0.9640852 , 0.96622809]), 9: array([0.96614382, 0.96262804, 0.96567094]), 10: array([0.96541527, 0.9626709 , 0.96554236])}, 'cosine': {1: array([0.97411503, 0.97107102, 0.97111387]), 2: array([0.97150081, 0.96751382, 0.96802811]), 3: array([0.97445787, 0.97278533, 0.97205674]), 4: array([0.97351504, 0.97154245, 0.97188531]), 5: array([0.97364361, 0.97192817, 0.97162817]), 6: array([0.9724865 , 0.97149959, 0.97205674]), 7: array([0.97235793, 0.96961385, 0.97081387]), 8: array([0.97162938, 0.96935671, 0.97115673]), 9: array([0.97094369, 0.96832812, 0.97038529]), 10: array([0.97068655, 0.96819955, 0.97029958])}}\n",
            "272.7150008678436\n"
          ]
        }
      ]
    },
    {
      "cell_type": "code",
      "metadata": {
        "colab": {
          "base_uri": "https://localhost:8080/"
        },
        "id": "BGIKlkP0IcPz",
        "outputId": "6ecd87ff-d257-4aa2-b7ac-f340f6d1b0c6"
      },
      "source": [
        "knn_true = {}\n",
        "for m in ['euclidean', 'cosine']:\n",
        "  start = time.time()\n",
        "  knn_true[m] = knn_cross_val_score(data['data'], np.array(data['target'], dtype=int), np.arange(1, 11), 'accuracy', cv=3, \n",
        "                                  strategy='brute', metric=m, weights=True)\n",
        "  print(m, ': ', knn_true[m])\n",
        "  finish = time.time()\n",
        "  print(finish - start)"
      ],
      "execution_count": null,
      "outputs": [
        {
          "output_type": "stream",
          "name": "stdout",
          "text": [
            "euclidean :  {1: array([0.96961515, 0.96725668, 0.96674238]), 2: array([0.96961515, 0.96725668, 0.96674238]), 3: array([0.9714151 , 0.96922813, 0.96931385]), 4: array([0.9721008 , 0.96935671, 0.969871  ]), 5: array([0.96978658, 0.9671281 , 0.96888527]), 6: array([0.97128653, 0.96717096, 0.96935671]), 7: array([0.96940087, 0.96622809, 0.96764239]), 8: array([0.96918659, 0.96678524, 0.96811383]), 9: array([0.9674295 , 0.96438521, 0.96691381]), 10: array([0.96764378, 0.96455664, 0.96665667])}\n",
            "258.5757474899292\n",
            "cosine :  {1: array([0.97411503, 0.97107102, 0.97111387]), 2: array([0.97411503, 0.97107102, 0.97111387]), 3: array([0.97475786, 0.9732139 , 0.97282818]), 4: array([0.97548641, 0.97295676, 0.97385677]), 5: array([0.97420074, 0.97308533, 0.97317105]), 6: array([0.975015  , 0.97257104, 0.97351391]), 7: array([0.97325791, 0.97115673, 0.97214246]), 8: array([0.9735579 , 0.97137102, 0.97257104]), 9: array([0.97257221, 0.96978528, 0.97124245]), 10: array([0.97188652, 0.970171  , 0.97132816])}\n",
            "250.23732233047485\n"
          ]
        }
      ]
    },
    {
      "cell_type": "code",
      "metadata": {
        "colab": {
          "base_uri": "https://localhost:8080/"
        },
        "id": "lu2_CLbJSLs_",
        "outputId": "2fa9e75e-fe8e-4b0a-ed66-508c8502e0fc"
      },
      "source": [
        "knn_false_train = {}\n",
        "for m in ['euclidean', 'cosine']:\n",
        "  start = time.time()\n",
        "  knn_false_train[m] = knn_cross_val_score(X_train, y_train, np.arange(1, 11), 'accuracy', cv=3, \n",
        "                                  strategy='brute', metric=m, weights=False)\n",
        "  print(m, ': ', knn_false_train[m])\n",
        "  finish = time.time()\n",
        "  print(finish - start)"
      ],
      "execution_count": null,
      "outputs": [
        {
          "output_type": "stream",
          "name": "stdout",
          "text": [
            "euclidean :  {1: array([0.96895, 0.96675, 0.9667 ]), 2: array([0.9603 , 0.95995, 0.96125]), 3: array([0.96955, 0.96825, 0.96715]), 4: array([0.96705, 0.9667 , 0.9671 ]), 5: array([0.9681, 0.9673, 0.9672]), 6: array([0.96555, 0.96495, 0.9657 ]), 7: array([0.9652, 0.965 , 0.9656]), 8: array([0.96415, 0.9639 , 0.96525]), 9: array([0.9637 , 0.9632 , 0.96455]), 10: array([0.96245, 0.9622 , 0.9637 ])}\n",
            "187.1373815536499\n",
            "cosine :  {1: array([0.9733 , 0.9708 , 0.97045]), 2: array([0.96895, 0.9664 , 0.96775]), 3: array([0.97365, 0.97155, 0.9709 ]), 4: array([0.9725 , 0.97095, 0.9722 ]), 5: array([0.97275, 0.97015, 0.9716 ]), 6: array([0.97195, 0.9697 , 0.97215]), 7: array([0.97125, 0.96815, 0.97075]), 8: array([0.97125, 0.96835, 0.97155]), 9: array([0.97005, 0.967  , 0.9707 ]), 10: array([0.96935, 0.96615, 0.9707 ])}\n",
            "184.91912531852722\n"
          ]
        }
      ]
    },
    {
      "cell_type": "code",
      "metadata": {
        "colab": {
          "base_uri": "https://localhost:8080/"
        },
        "id": "6UeS_38WSgi0",
        "outputId": "47f838a8-405d-4ce9-8c3c-fe7c032b73c2"
      },
      "source": [
        "knn_true_train = {}\n",
        "for m in ['euclidean', 'cosine']:\n",
        "  start = time.time()\n",
        "  knn_true_train[m] = knn_cross_val_score(X_train, y_train, np.arange(1, 11), 'accuracy', cv=3, \n",
        "                                  strategy='brute', metric=m, weights=True)\n",
        "  print(m, ': ', knn_true_train[m])\n",
        "  finish = time.time()\n",
        "  print(finish - start)"
      ],
      "execution_count": null,
      "outputs": [
        {
          "output_type": "stream",
          "name": "stdout",
          "text": [
            "euclidean :  {1: array([0.96895, 0.96675, 0.9667 ]), 2: array([0.96895, 0.96675, 0.9667 ]), 3: array([0.97075, 0.9691 , 0.96825]), 4: array([0.9713, 0.9698, 0.9701]), 5: array([0.96925, 0.96825, 0.96875]), 6: array([0.9704 , 0.96845, 0.96945]), 7: array([0.96735, 0.96595, 0.967  ]), 8: array([0.9676 , 0.96665, 0.9678 ]), 9: array([0.9651, 0.9643, 0.9657]), 10: array([0.9647 , 0.96465, 0.9657 ])}\n",
            "185.96527552604675\n",
            "cosine :  {1: array([0.9733 , 0.9708 , 0.97045]), 2: array([0.9733 , 0.9708 , 0.97045]), 3: array([0.97495, 0.9725 , 0.97175]), 4: array([0.97545, 0.9732 , 0.97365]), 5: array([0.974  , 0.97095, 0.973  ]), 6: array([0.97465, 0.9714 , 0.97305]), 7: array([0.9726 , 0.9693 , 0.97195]), 8: array([0.97295, 0.97045, 0.9722 ]), 9: array([0.97165, 0.96865, 0.97145]), 10: array([0.97145, 0.96855, 0.9714 ])}\n",
            "183.4543228149414\n"
          ]
        }
      ]
    },
    {
      "cell_type": "code",
      "metadata": {
        "id": "7XXhP_A9SxXi"
      },
      "source": [
        "accuracy = [knn_false, knn_true, knn_false_train, knn_true_train]"
      ],
      "execution_count": null,
      "outputs": []
    },
    {
      "cell_type": "code",
      "metadata": {
        "colab": {
          "base_uri": "https://localhost:8080/"
        },
        "id": "8F0hU5TUTAlD",
        "outputId": "b26db3e1-95ac-4fa6-95f1-8f2489fdf5b7"
      },
      "source": [
        "new_accuracy = []\n",
        "for i in range(4):\n",
        "  new_accuracy.append({})\n",
        "  for m in ['euclidean', 'cosine']:\n",
        "    new_accuracy[i][m] = {}\n",
        "    for k in accuracy[i][m]:\n",
        "      new_accuracy[i][m][k] = accuracy[i][m][k].sum() / 3\n",
        "\n",
        "print(new_accuracy)"
      ],
      "execution_count": null,
      "outputs": [
        {
          "output_type": "stream",
          "name": "stdout",
          "text": [
            "[{'euclidean': {1: 0.9678714036607117, 2: 0.9620285634540031, 3: 0.9687856981507553, 4: 0.9672142673338193, 5: 0.9673571271297582, 6: 0.9663999761090759, 7: 0.9667285516193558, 8: 0.9656714138637494, 9: 0.9648142667206038, 10: 0.9645428446795833}, 'cosine': {1: 0.9720999712135132, 2: 0.9690142501919419, 3: 0.9730999806015425, 4: 0.9723142685603733, 5: 0.9723999822338865, 6: 0.9720142789682655, 7: 0.970928551008834, 8: 0.9707142726412946, 9: 0.969885699171598, 10: 0.9697285577429419}}, {'euclidean': {1: 0.9678714036607117, 2: 0.9678714036607117, 3: 0.969985693865592, 4: 0.9704428334576619, 5: 0.9685999830486504, 6: 0.9692713997837873, 7: 0.9677571193749303, 8: 0.9680285548851458, 9: 0.9662428401905454, 10: 0.9662856948844754}, 'cosine': {1: 0.9720999712135132, 2: 0.9720999712135132, 3: 0.9735999834588486, 4: 0.9740999801937931, 5: 0.9734857040709564, 6: 0.9736999812140236, 7: 0.9721856989684579, 8: 0.9724999848869506, 9: 0.9711999803966882, 10: 0.9711285606006154}}, {'euclidean': {1: 0.9674666666666667, 2: 0.9605, 3: 0.9683166666666668, 4: 0.9669499999999999, 5: 0.9675333333333334, 6: 0.9653999999999999, 7: 0.9652666666666666, 8: 0.9644333333333334, 9: 0.9638166666666667, 10: 0.9627833333333333}, 'cosine': {1: 0.9715166666666667, 2: 0.9677000000000001, 3: 0.9720333333333334, 4: 0.9718833333333333, 5: 0.9714999999999999, 6: 0.9712666666666667, 7: 0.97005, 8: 0.9703833333333334, 9: 0.9692500000000001, 10: 0.9687333333333333}}, {'euclidean': {1: 0.9674666666666667, 2: 0.9674666666666667, 3: 0.9693666666666667, 4: 0.9704, 5: 0.96875, 6: 0.9694333333333334, 7: 0.9667666666666667, 8: 0.96735, 9: 0.9650333333333334, 10: 0.9650166666666666}, 'cosine': {1: 0.9715166666666667, 2: 0.9715166666666667, 3: 0.9730666666666666, 4: 0.9741, 5: 0.9726499999999999, 6: 0.9730333333333334, 7: 0.9712833333333334, 8: 0.9718666666666667, 9: 0.9705833333333334, 10: 0.9704666666666667}}]\n"
          ]
        }
      ]
    },
    {
      "cell_type": "code",
      "metadata": {
        "colab": {
          "base_uri": "https://localhost:8080/"
        },
        "id": "I4Z_pQtDT5Xc",
        "outputId": "d3bec358-a6ca-40cf-9f74-ec844d512882"
      },
      "source": [
        "for acc in new_accuracy:\n",
        "  for m in acc:\n",
        "    max_key = max(acc[m], key=acc[m].get)\n",
        "    print(m, max_key, acc[m][max_key])"
      ],
      "execution_count": null,
      "outputs": [
        {
          "output_type": "stream",
          "name": "stdout",
          "text": [
            "euclidean 3 0.9687856981507553\n",
            "cosine 3 0.9730999806015425\n",
            "euclidean 4 0.9704428334576619\n",
            "cosine 4 0.9740999801937931\n",
            "euclidean 3 0.9683166666666668\n",
            "cosine 3 0.9720333333333334\n",
            "euclidean 4 0.9704\n",
            "cosine 4 0.9741\n"
          ]
        }
      ]
    },
    {
      "cell_type": "markdown",
      "metadata": {
        "id": "2a_1RgK4OVDE"
      },
      "source": [
        "## Эксперемент 4 (надо brute cosine true)\n",
        "\n",
        "\n"
      ]
    },
    {
      "cell_type": "code",
      "metadata": {
        "id": "vDa7pp7fNjIf"
      },
      "source": [
        "clf = KNNClassifier(4, 'brute', 'cosine', True)\n",
        "clf.fit(X_train, y_train)"
      ],
      "execution_count": null,
      "outputs": []
    },
    {
      "cell_type": "code",
      "metadata": {
        "id": "0Mbm6xp9NjSg"
      },
      "source": [
        "y_predicted = clf.predict(X_test)"
      ],
      "execution_count": null,
      "outputs": []
    },
    {
      "cell_type": "code",
      "metadata": {
        "colab": {
          "base_uri": "https://localhost:8080/"
        },
        "id": "1uVok6w90oNj",
        "outputId": "78de1de4-caee-40b2-b753-c0e9d0450504"
      },
      "source": [
        "np.sum(y_predicted == y_test) / y_test.shape[0]"
      ],
      "execution_count": null,
      "outputs": [
        {
          "output_type": "execute_result",
          "data": {
            "text/plain": [
              "0.9752"
            ]
          },
          "metadata": {},
          "execution_count": 20
        }
      ]
    },
    {
      "cell_type": "code",
      "metadata": {
        "id": "S1EAh8J80_7J"
      },
      "source": [
        "from sklearn.metrics import confusion_matrix"
      ],
      "execution_count": 11,
      "outputs": []
    },
    {
      "cell_type": "code",
      "metadata": {
        "colab": {
          "base_uri": "https://localhost:8080/"
        },
        "id": "q5Np2fTsNAlk",
        "outputId": "61527e9b-464a-4d99-bfe5-9efeeffb634f"
      },
      "source": [
        "confusion_matrix(y_predicted, y_test)"
      ],
      "execution_count": null,
      "outputs": [
        {
          "output_type": "execute_result",
          "data": {
            "text/plain": [
              "array([[ 977,    0,    8,    0,    2,    4,    3,    2,    7,    7],\n",
              "       [   1, 1129,    0,    1,    1,    0,    3,   10,    1,    7],\n",
              "       [   0,    3, 1009,    3,    0,    0,    0,    4,    2,    2],\n",
              "       [   0,    1,    1,  976,    0,    9,    0,    0,    9,    5],\n",
              "       [   0,    0,    1,    1,  946,    1,    1,    1,    3,    7],\n",
              "       [   0,    0,    0,   12,    0,  863,    3,    0,    3,    3],\n",
              "       [   1,    2,    0,    0,    6,    7,  948,    0,    5,    1],\n",
              "       [   1,    0,    8,    4,    2,    1,    0,  998,    4,    4],\n",
              "       [   0,    0,    5,    9,    0,    4,    0,    0,  936,    3],\n",
              "       [   0,    0,    0,    4,   25,    3,    0,   13,    4,  970]])"
            ]
          },
          "metadata": {},
          "execution_count": 22
        }
      ]
    },
    {
      "cell_type": "code",
      "metadata": {
        "id": "g0RdbFraPHER"
      },
      "source": [
        "import matplotlib.pyplot as plt\n",
        "from google.colab import files"
      ],
      "execution_count": 10,
      "outputs": []
    },
    {
      "cell_type": "code",
      "metadata": {
        "colab": {
          "base_uri": "https://localhost:8080/"
        },
        "id": "5k_Wdf3RP12F",
        "outputId": "51d5c7ed-691d-494a-ce7d-483cc70fc928"
      },
      "source": [
        "X_test[y_predicted != y_test][0].shape"
      ],
      "execution_count": null,
      "outputs": [
        {
          "output_type": "execute_result",
          "data": {
            "text/plain": [
              "(784,)"
            ]
          },
          "metadata": {},
          "execution_count": 24
        }
      ]
    },
    {
      "cell_type": "code",
      "metadata": {
        "colab": {
          "base_uri": "https://localhost:8080/",
          "height": 1000
        },
        "id": "-rMKA5pfOo-6",
        "outputId": "1b14a431-df9c-4e3f-cb5c-2d99b2c72994"
      },
      "source": [
        "wrong_predict = (y_predicted != y_test)\n",
        "for i in range(10):\n",
        "  fig, ax = plt.subplots()\n",
        "  i_number = (y_test[wrong_predict] == i)\n",
        "  im = ax.imshow(X_test[wrong_predict][i_number][0].reshape((28, 28)), cmap='Greys')\n",
        "  plt.axis('off')\n",
        "  print(y_predicted[wrong_predict][i_number][0], y_test[wrong_predict][i_number][0])\n",
        "  # plt.savefig(str(y_test[wrong_predict][i_number][0]) + '_number.png')\n",
        "  # files.download(str(y_test[wrong_predict][i_number][0]) + '_number.png')\n",
        "  plt.show()"
      ],
      "execution_count": null,
      "outputs": [
        {
          "output_type": "stream",
          "name": "stdout",
          "text": [
            "7 0\n"
          ]
        },
        {
          "output_type": "display_data",
          "data": {
            "application/javascript": [
              "\n",
              "    async function download(id, filename, size) {\n",
              "      if (!google.colab.kernel.accessAllowed) {\n",
              "        return;\n",
              "      }\n",
              "      const div = document.createElement('div');\n",
              "      const label = document.createElement('label');\n",
              "      label.textContent = `Downloading \"${filename}\": `;\n",
              "      div.appendChild(label);\n",
              "      const progress = document.createElement('progress');\n",
              "      progress.max = size;\n",
              "      div.appendChild(progress);\n",
              "      document.body.appendChild(div);\n",
              "\n",
              "      const buffers = [];\n",
              "      let downloaded = 0;\n",
              "\n",
              "      const channel = await google.colab.kernel.comms.open(id);\n",
              "      // Send a message to notify the kernel that we're ready.\n",
              "      channel.send({})\n",
              "\n",
              "      for await (const message of channel.messages) {\n",
              "        // Send a message to notify the kernel that we're ready.\n",
              "        channel.send({})\n",
              "        if (message.buffers) {\n",
              "          for (const buffer of message.buffers) {\n",
              "            buffers.push(buffer);\n",
              "            downloaded += buffer.byteLength;\n",
              "            progress.value = downloaded;\n",
              "          }\n",
              "        }\n",
              "      }\n",
              "      const blob = new Blob(buffers, {type: 'application/binary'});\n",
              "      const a = document.createElement('a');\n",
              "      a.href = window.URL.createObjectURL(blob);\n",
              "      a.download = filename;\n",
              "      div.appendChild(a);\n",
              "      a.click();\n",
              "      div.remove();\n",
              "    }\n",
              "  "
            ],
            "text/plain": [
              "<IPython.core.display.Javascript object>"
            ]
          },
          "metadata": {}
        },
        {
          "output_type": "display_data",
          "data": {
            "application/javascript": [
              "download(\"download_11c1b953-d87d-46de-a6e8-cc47a5e226c6\", \"0_number.png\", 2259)"
            ],
            "text/plain": [
              "<IPython.core.display.Javascript object>"
            ]
          },
          "metadata": {}
        },
        {
          "output_type": "display_data",
          "data": {
            "image/png": "[encoded data removed]",
            "text/plain": [
              "<Figure size 432x288 with 1 Axes>"
            ]
          },
          "metadata": {
            "needs_background": "light"
          }
        },
        {
          "output_type": "stream",
          "name": "stdout",
          "text": [
            "2 1\n"
          ]
        },
        {
          "output_type": "display_data",
          "data": {
            "application/javascript": [
              "\n",
              "    async function download(id, filename, size) {\n",
              "      if (!google.colab.kernel.accessAllowed) {\n",
              "        return;\n",
              "      }\n",
              "      const div = document.createElement('div');\n",
              "      const label = document.createElement('label');\n",
              "      label.textContent = `Downloading \"${filename}\": `;\n",
              "      div.appendChild(label);\n",
              "      const progress = document.createElement('progress');\n",
              "      progress.max = size;\n",
              "      div.appendChild(progress);\n",
              "      document.body.appendChild(div);\n",
              "\n",
              "      const buffers = [];\n",
              "      let downloaded = 0;\n",
              "\n",
              "      const channel = await google.colab.kernel.comms.open(id);\n",
              "      // Send a message to notify the kernel that we're ready.\n",
              "      channel.send({})\n",
              "\n",
              "      for await (const message of channel.messages) {\n",
              "        // Send a message to notify the kernel that we're ready.\n",
              "        channel.send({})\n",
              "        if (message.buffers) {\n",
              "          for (const buffer of message.buffers) {\n",
              "            buffers.push(buffer);\n",
              "            downloaded += buffer.byteLength;\n",
              "            progress.value = downloaded;\n",
              "          }\n",
              "        }\n",
              "      }\n",
              "      const blob = new Blob(buffers, {type: 'application/binary'});\n",
              "      const a = document.createElement('a');\n",
              "      a.href = window.URL.createObjectURL(blob);\n",
              "      a.download = filename;\n",
              "      div.appendChild(a);\n",
              "      a.click();\n",
              "      div.remove();\n",
              "    }\n",
              "  "
            ],
            "text/plain": [
              "<IPython.core.display.Javascript object>"
            ]
          },
          "metadata": {}
        },
        {
          "output_type": "display_data",
          "data": {
            "application/javascript": [
              "download(\"download_1d69bed7-377d-470a-ad58-cf239b8fbddd\", \"1_number.png\", 1606)"
            ],
            "text/plain": [
              "<IPython.core.display.Javascript object>"
            ]
          },
          "metadata": {}
        },
        {
          "output_type": "display_data",
          "data": {
            "image/png": "[encoded data removed]",
            "text/plain": [
              "<Figure size 432x288 with 1 Axes>"
            ]
          },
          "metadata": {
            "needs_background": "light"
          }
        },
        {
          "output_type": "stream",
          "name": "stdout",
          "text": [
            "7 2\n"
          ]
        },
        {
          "output_type": "display_data",
          "data": {
            "application/javascript": [
              "\n",
              "    async function download(id, filename, size) {\n",
              "      if (!google.colab.kernel.accessAllowed) {\n",
              "        return;\n",
              "      }\n",
              "      const div = document.createElement('div');\n",
              "      const label = document.createElement('label');\n",
              "      label.textContent = `Downloading \"${filename}\": `;\n",
              "      div.appendChild(label);\n",
              "      const progress = document.createElement('progress');\n",
              "      progress.max = size;\n",
              "      div.appendChild(progress);\n",
              "      document.body.appendChild(div);\n",
              "\n",
              "      const buffers = [];\n",
              "      let downloaded = 0;\n",
              "\n",
              "      const channel = await google.colab.kernel.comms.open(id);\n",
              "      // Send a message to notify the kernel that we're ready.\n",
              "      channel.send({})\n",
              "\n",
              "      for await (const message of channel.messages) {\n",
              "        // Send a message to notify the kernel that we're ready.\n",
              "        channel.send({})\n",
              "        if (message.buffers) {\n",
              "          for (const buffer of message.buffers) {\n",
              "            buffers.push(buffer);\n",
              "            downloaded += buffer.byteLength;\n",
              "            progress.value = downloaded;\n",
              "          }\n",
              "        }\n",
              "      }\n",
              "      const blob = new Blob(buffers, {type: 'application/binary'});\n",
              "      const a = document.createElement('a');\n",
              "      a.href = window.URL.createObjectURL(blob);\n",
              "      a.download = filename;\n",
              "      div.appendChild(a);\n",
              "      a.click();\n",
              "      div.remove();\n",
              "    }\n",
              "  "
            ],
            "text/plain": [
              "<IPython.core.display.Javascript object>"
            ]
          },
          "metadata": {}
        },
        {
          "output_type": "display_data",
          "data": {
            "application/javascript": [
              "download(\"download_70159856-8005-4491-bc05-92abf5937da4\", \"2_number.png\", 2048)"
            ],
            "text/plain": [
              "<IPython.core.display.Javascript object>"
            ]
          },
          "metadata": {}
        },
        {
          "output_type": "display_data",
          "data": {
            "image/png": "[encoded data removed]",
            "text/plain": [
              "<Figure size 432x288 with 1 Axes>"
            ]
          },
          "metadata": {
            "needs_background": "light"
          }
        },
        {
          "output_type": "stream",
          "name": "stdout",
          "text": [
            "7 3\n"
          ]
        },
        {
          "output_type": "display_data",
          "data": {
            "application/javascript": [
              "\n",
              "    async function download(id, filename, size) {\n",
              "      if (!google.colab.kernel.accessAllowed) {\n",
              "        return;\n",
              "      }\n",
              "      const div = document.createElement('div');\n",
              "      const label = document.createElement('label');\n",
              "      label.textContent = `Downloading \"${filename}\": `;\n",
              "      div.appendChild(label);\n",
              "      const progress = document.createElement('progress');\n",
              "      progress.max = size;\n",
              "      div.appendChild(progress);\n",
              "      document.body.appendChild(div);\n",
              "\n",
              "      const buffers = [];\n",
              "      let downloaded = 0;\n",
              "\n",
              "      const channel = await google.colab.kernel.comms.open(id);\n",
              "      // Send a message to notify the kernel that we're ready.\n",
              "      channel.send({})\n",
              "\n",
              "      for await (const message of channel.messages) {\n",
              "        // Send a message to notify the kernel that we're ready.\n",
              "        channel.send({})\n",
              "        if (message.buffers) {\n",
              "          for (const buffer of message.buffers) {\n",
              "            buffers.push(buffer);\n",
              "            downloaded += buffer.byteLength;\n",
              "            progress.value = downloaded;\n",
              "          }\n",
              "        }\n",
              "      }\n",
              "      const blob = new Blob(buffers, {type: 'application/binary'});\n",
              "      const a = document.createElement('a');\n",
              "      a.href = window.URL.createObjectURL(blob);\n",
              "      a.download = filename;\n",
              "      div.appendChild(a);\n",
              "      a.click();\n",
              "      div.remove();\n",
              "    }\n",
              "  "
            ],
            "text/plain": [
              "<IPython.core.display.Javascript object>"
            ]
          },
          "metadata": {}
        },
        {
          "output_type": "display_data",
          "data": {
            "application/javascript": [
              "download(\"download_85be331b-feed-4f38-bb1a-6b1a0e06504f\", \"3_number.png\", 2310)"
            ],
            "text/plain": [
              "<IPython.core.display.Javascript object>"
            ]
          },
          "metadata": {}
        },
        {
          "output_type": "display_data",
          "data": {
            "image/png": "[encoded data removed]",
            "text/plain": [
              "<Figure size 432x288 with 1 Axes>"
            ]
          },
          "metadata": {
            "needs_background": "light"
          }
        },
        {
          "output_type": "stream",
          "name": "stdout",
          "text": [
            "9 4\n"
          ]
        },
        {
          "output_type": "display_data",
          "data": {
            "application/javascript": [
              "\n",
              "    async function download(id, filename, size) {\n",
              "      if (!google.colab.kernel.accessAllowed) {\n",
              "        return;\n",
              "      }\n",
              "      const div = document.createElement('div');\n",
              "      const label = document.createElement('label');\n",
              "      label.textContent = `Downloading \"${filename}\": `;\n",
              "      div.appendChild(label);\n",
              "      const progress = document.createElement('progress');\n",
              "      progress.max = size;\n",
              "      div.appendChild(progress);\n",
              "      document.body.appendChild(div);\n",
              "\n",
              "      const buffers = [];\n",
              "      let downloaded = 0;\n",
              "\n",
              "      const channel = await google.colab.kernel.comms.open(id);\n",
              "      // Send a message to notify the kernel that we're ready.\n",
              "      channel.send({})\n",
              "\n",
              "      for await (const message of channel.messages) {\n",
              "        // Send a message to notify the kernel that we're ready.\n",
              "        channel.send({})\n",
              "        if (message.buffers) {\n",
              "          for (const buffer of message.buffers) {\n",
              "            buffers.push(buffer);\n",
              "            downloaded += buffer.byteLength;\n",
              "            progress.value = downloaded;\n",
              "          }\n",
              "        }\n",
              "      }\n",
              "      const blob = new Blob(buffers, {type: 'application/binary'});\n",
              "      const a = document.createElement('a');\n",
              "      a.href = window.URL.createObjectURL(blob);\n",
              "      a.download = filename;\n",
              "      div.appendChild(a);\n",
              "      a.click();\n",
              "      div.remove();\n",
              "    }\n",
              "  "
            ],
            "text/plain": [
              "<IPython.core.display.Javascript object>"
            ]
          },
          "metadata": {}
        },
        {
          "output_type": "display_data",
          "data": {
            "application/javascript": [
              "download(\"download_4e75a5bb-35e2-4871-884b-10fca1c30042\", \"4_number.png\", 2026)"
            ],
            "text/plain": [
              "<IPython.core.display.Javascript object>"
            ]
          },
          "metadata": {}
        },
        {
          "output_type": "display_data",
          "data": {
            "image/png": "[encoded data removed]",
            "text/plain": [
              "<Figure size 432x288 with 1 Axes>"
            ]
          },
          "metadata": {
            "needs_background": "light"
          }
        },
        {
          "output_type": "stream",
          "name": "stdout",
          "text": [
            "4 5\n"
          ]
        },
        {
          "output_type": "display_data",
          "data": {
            "application/javascript": [
              "\n",
              "    async function download(id, filename, size) {\n",
              "      if (!google.colab.kernel.accessAllowed) {\n",
              "        return;\n",
              "      }\n",
              "      const div = document.createElement('div');\n",
              "      const label = document.createElement('label');\n",
              "      label.textContent = `Downloading \"${filename}\": `;\n",
              "      div.appendChild(label);\n",
              "      const progress = document.createElement('progress');\n",
              "      progress.max = size;\n",
              "      div.appendChild(progress);\n",
              "      document.body.appendChild(div);\n",
              "\n",
              "      const buffers = [];\n",
              "      let downloaded = 0;\n",
              "\n",
              "      const channel = await google.colab.kernel.comms.open(id);\n",
              "      // Send a message to notify the kernel that we're ready.\n",
              "      channel.send({})\n",
              "\n",
              "      for await (const message of channel.messages) {\n",
              "        // Send a message to notify the kernel that we're ready.\n",
              "        channel.send({})\n",
              "        if (message.buffers) {\n",
              "          for (const buffer of message.buffers) {\n",
              "            buffers.push(buffer);\n",
              "            downloaded += buffer.byteLength;\n",
              "            progress.value = downloaded;\n",
              "          }\n",
              "        }\n",
              "      }\n",
              "      const blob = new Blob(buffers, {type: 'application/binary'});\n",
              "      const a = document.createElement('a');\n",
              "      a.href = window.URL.createObjectURL(blob);\n",
              "      a.download = filename;\n",
              "      div.appendChild(a);\n",
              "      a.click();\n",
              "      div.remove();\n",
              "    }\n",
              "  "
            ],
            "text/plain": [
              "<IPython.core.display.Javascript object>"
            ]
          },
          "metadata": {}
        },
        {
          "output_type": "display_data",
          "data": {
            "application/javascript": [
              "download(\"download_0109fcad-09b5-4832-aa4f-4307632f30df\", \"5_number.png\", 2152)"
            ],
            "text/plain": [
              "<IPython.core.display.Javascript object>"
            ]
          },
          "metadata": {}
        },
        {
          "output_type": "display_data",
          "data": {
            "image/png": "[encoded data removed]",
            "text/plain": [
              "<Figure size 432x288 with 1 Axes>"
            ]
          },
          "metadata": {
            "needs_background": "light"
          }
        },
        {
          "output_type": "stream",
          "name": "stdout",
          "text": [
            "0 6\n"
          ]
        },
        {
          "output_type": "display_data",
          "data": {
            "application/javascript": [
              "\n",
              "    async function download(id, filename, size) {\n",
              "      if (!google.colab.kernel.accessAllowed) {\n",
              "        return;\n",
              "      }\n",
              "      const div = document.createElement('div');\n",
              "      const label = document.createElement('label');\n",
              "      label.textContent = `Downloading \"${filename}\": `;\n",
              "      div.appendChild(label);\n",
              "      const progress = document.createElement('progress');\n",
              "      progress.max = size;\n",
              "      div.appendChild(progress);\n",
              "      document.body.appendChild(div);\n",
              "\n",
              "      const buffers = [];\n",
              "      let downloaded = 0;\n",
              "\n",
              "      const channel = await google.colab.kernel.comms.open(id);\n",
              "      // Send a message to notify the kernel that we're ready.\n",
              "      channel.send({})\n",
              "\n",
              "      for await (const message of channel.messages) {\n",
              "        // Send a message to notify the kernel that we're ready.\n",
              "        channel.send({})\n",
              "        if (message.buffers) {\n",
              "          for (const buffer of message.buffers) {\n",
              "            buffers.push(buffer);\n",
              "            downloaded += buffer.byteLength;\n",
              "            progress.value = downloaded;\n",
              "          }\n",
              "        }\n",
              "      }\n",
              "      const blob = new Blob(buffers, {type: 'application/binary'});\n",
              "      const a = document.createElement('a');\n",
              "      a.href = window.URL.createObjectURL(blob);\n",
              "      a.download = filename;\n",
              "      div.appendChild(a);\n",
              "      a.click();\n",
              "      div.remove();\n",
              "    }\n",
              "  "
            ],
            "text/plain": [
              "<IPython.core.display.Javascript object>"
            ]
          },
          "metadata": {}
        },
        {
          "output_type": "display_data",
          "data": {
            "application/javascript": [
              "download(\"download_a0a32d7f-2f99-44ea-80c0-4aaaea518afc\", \"6_number.png\", 2236)"
            ],
            "text/plain": [
              "<IPython.core.display.Javascript object>"
            ]
          },
          "metadata": {}
        },
        {
          "output_type": "display_data",
          "data": {
            "image/png": "[encoded data removed]",
            "text/plain": [
              "<Figure size 432x288 with 1 Axes>"
            ]
          },
          "metadata": {
            "needs_background": "light"
          }
        },
        {
          "output_type": "stream",
          "name": "stdout",
          "text": [
            "4 7\n"
          ]
        },
        {
          "output_type": "display_data",
          "data": {
            "application/javascript": [
              "\n",
              "    async function download(id, filename, size) {\n",
              "      if (!google.colab.kernel.accessAllowed) {\n",
              "        return;\n",
              "      }\n",
              "      const div = document.createElement('div');\n",
              "      const label = document.createElement('label');\n",
              "      label.textContent = `Downloading \"${filename}\": `;\n",
              "      div.appendChild(label);\n",
              "      const progress = document.createElement('progress');\n",
              "      progress.max = size;\n",
              "      div.appendChild(progress);\n",
              "      document.body.appendChild(div);\n",
              "\n",
              "      const buffers = [];\n",
              "      let downloaded = 0;\n",
              "\n",
              "      const channel = await google.colab.kernel.comms.open(id);\n",
              "      // Send a message to notify the kernel that we're ready.\n",
              "      channel.send({})\n",
              "\n",
              "      for await (const message of channel.messages) {\n",
              "        // Send a message to notify the kernel that we're ready.\n",
              "        channel.send({})\n",
              "        if (message.buffers) {\n",
              "          for (const buffer of message.buffers) {\n",
              "            buffers.push(buffer);\n",
              "            downloaded += buffer.byteLength;\n",
              "            progress.value = downloaded;\n",
              "          }\n",
              "        }\n",
              "      }\n",
              "      const blob = new Blob(buffers, {type: 'application/binary'});\n",
              "      const a = document.createElement('a');\n",
              "      a.href = window.URL.createObjectURL(blob);\n",
              "      a.download = filename;\n",
              "      div.appendChild(a);\n",
              "      a.click();\n",
              "      div.remove();\n",
              "    }\n",
              "  "
            ],
            "text/plain": [
              "<IPython.core.display.Javascript object>"
            ]
          },
          "metadata": {}
        },
        {
          "output_type": "display_data",
          "data": {
            "application/javascript": [
              "download(\"download_e433cb3a-3189-410d-8ad2-a8ec147239a7\", \"7_number.png\", 1907)"
            ],
            "text/plain": [
              "<IPython.core.display.Javascript object>"
            ]
          },
          "metadata": {}
        },
        {
          "output_type": "display_data",
          "data": {
            "image/png": "[encoded data removed]",
            "text/plain": [
              "<Figure size 432x288 with 1 Axes>"
            ]
          },
          "metadata": {
            "needs_background": "light"
          }
        },
        {
          "output_type": "stream",
          "name": "stdout",
          "text": [
            "0 8\n"
          ]
        },
        {
          "output_type": "display_data",
          "data": {
            "application/javascript": [
              "\n",
              "    async function download(id, filename, size) {\n",
              "      if (!google.colab.kernel.accessAllowed) {\n",
              "        return;\n",
              "      }\n",
              "      const div = document.createElement('div');\n",
              "      const label = document.createElement('label');\n",
              "      label.textContent = `Downloading \"${filename}\": `;\n",
              "      div.appendChild(label);\n",
              "      const progress = document.createElement('progress');\n",
              "      progress.max = size;\n",
              "      div.appendChild(progress);\n",
              "      document.body.appendChild(div);\n",
              "\n",
              "      const buffers = [];\n",
              "      let downloaded = 0;\n",
              "\n",
              "      const channel = await google.colab.kernel.comms.open(id);\n",
              "      // Send a message to notify the kernel that we're ready.\n",
              "      channel.send({})\n",
              "\n",
              "      for await (const message of channel.messages) {\n",
              "        // Send a message to notify the kernel that we're ready.\n",
              "        channel.send({})\n",
              "        if (message.buffers) {\n",
              "          for (const buffer of message.buffers) {\n",
              "            buffers.push(buffer);\n",
              "            downloaded += buffer.byteLength;\n",
              "            progress.value = downloaded;\n",
              "          }\n",
              "        }\n",
              "      }\n",
              "      const blob = new Blob(buffers, {type: 'application/binary'});\n",
              "      const a = document.createElement('a');\n",
              "      a.href = window.URL.createObjectURL(blob);\n",
              "      a.download = filename;\n",
              "      div.appendChild(a);\n",
              "      a.click();\n",
              "      div.remove();\n",
              "    }\n",
              "  "
            ],
            "text/plain": [
              "<IPython.core.display.Javascript object>"
            ]
          },
          "metadata": {}
        },
        {
          "output_type": "display_data",
          "data": {
            "application/javascript": [
              "download(\"download_e7ed9b9c-e55f-4f65-b03b-c22a525edf38\", \"8_number.png\", 2287)"
            ],
            "text/plain": [
              "<IPython.core.display.Javascript object>"
            ]
          },
          "metadata": {}
        },
        {
          "output_type": "display_data",
          "data": {
            "image/png": "[encoded data removed]",
            "text/plain": [
              "<Figure size 432x288 with 1 Axes>"
            ]
          },
          "metadata": {
            "needs_background": "light"
          }
        },
        {
          "output_type": "stream",
          "name": "stdout",
          "text": [
            "8 9\n"
          ]
        },
        {
          "output_type": "display_data",
          "data": {
            "application/javascript": [
              "\n",
              "    async function download(id, filename, size) {\n",
              "      if (!google.colab.kernel.accessAllowed) {\n",
              "        return;\n",
              "      }\n",
              "      const div = document.createElement('div');\n",
              "      const label = document.createElement('label');\n",
              "      label.textContent = `Downloading \"${filename}\": `;\n",
              "      div.appendChild(label);\n",
              "      const progress = document.createElement('progress');\n",
              "      progress.max = size;\n",
              "      div.appendChild(progress);\n",
              "      document.body.appendChild(div);\n",
              "\n",
              "      const buffers = [];\n",
              "      let downloaded = 0;\n",
              "\n",
              "      const channel = await google.colab.kernel.comms.open(id);\n",
              "      // Send a message to notify the kernel that we're ready.\n",
              "      channel.send({})\n",
              "\n",
              "      for await (const message of channel.messages) {\n",
              "        // Send a message to notify the kernel that we're ready.\n",
              "        channel.send({})\n",
              "        if (message.buffers) {\n",
              "          for (const buffer of message.buffers) {\n",
              "            buffers.push(buffer);\n",
              "            downloaded += buffer.byteLength;\n",
              "            progress.value = downloaded;\n",
              "          }\n",
              "        }\n",
              "      }\n",
              "      const blob = new Blob(buffers, {type: 'application/binary'});\n",
              "      const a = document.createElement('a');\n",
              "      a.href = window.URL.createObjectURL(blob);\n",
              "      a.download = filename;\n",
              "      div.appendChild(a);\n",
              "      a.click();\n",
              "      div.remove();\n",
              "    }\n",
              "  "
            ],
            "text/plain": [
              "<IPython.core.display.Javascript object>"
            ]
          },
          "metadata": {}
        },
        {
          "output_type": "display_data",
          "data": {
            "application/javascript": [
              "download(\"download_3ce603c1-dd18-4fcb-814f-70cc001cec86\", \"9_number.png\", 2220)"
            ],
            "text/plain": [
              "<IPython.core.display.Javascript object>"
            ]
          },
          "metadata": {}
        },
        {
          "output_type": "display_data",
          "data": {
            "image/png": "[encoded data removed]",
            "text/plain": [
              "<Figure size 432x288 with 1 Axes>"
            ]
          },
          "metadata": {
            "needs_background": "light"
          }
        }
      ]
    },
    {
      "cell_type": "markdown",
      "metadata": {
        "id": "7ImK00ZZWfR1"
      },
      "source": [
        "## Эксперимент 5"
      ]
    },
    {
      "cell_type": "code",
      "metadata": {
        "id": "An5o9dasWkD2"
      },
      "source": [
        "from scipy import ndimage, misc\n",
        "import matplotlib.pyplot as plt"
      ],
      "execution_count": null,
      "outputs": []
    },
    {
      "cell_type": "code",
      "metadata": {
        "id": "uOcl1ljffS-R"
      },
      "source": [
        "from cross_validation import knn_cross_val_score"
      ],
      "execution_count": null,
      "outputs": []
    },
    {
      "cell_type": "code",
      "metadata": {
        "colab": {
          "base_uri": "https://localhost:8080/",
          "height": 248
        },
        "id": "y-vxNbBqdjcc",
        "outputId": "1df895b9-53f3-471d-d99c-2c671630e3b2"
      },
      "source": [
        "img = ndimage.rotate(X_train[0].reshape((28, 28)), 10, reshape=False, prefilter=False)\n",
        "fig, ax = plt.subplots()\n",
        "plt.axis('off')\n",
        "ax.imshow(img, cmap='Greys')\n",
        "plt.show()"
      ],
      "execution_count": null,
      "outputs": [
        {
          "output_type": "display_data",
          "data": {
            "image/png": "[encoded data removed]",
            "text/plain": [
              "<Figure size 432x288 with 1 Axes>"
            ]
          },
          "metadata": {
            "needs_background": "light"
          }
        }
      ]
    },
    {
      "cell_type": "code",
      "metadata": {
        "id": "Ykpm25udjq1k"
      },
      "source": [
        "X = data['data']\n",
        "y = np.array(data['target'], dtype=int)"
      ],
      "execution_count": null,
      "outputs": []
    },
    {
      "cell_type": "code",
      "metadata": {
        "id": "29L7FJRElqHw"
      },
      "source": [
        "def rotation_func(row):\n",
        "  img = np.array(ndimage.rotate(row.reshape((28, 28)), angle, reshape=False, prefilter=False))\n",
        "  return img.reshape((784, ))"
      ],
      "execution_count": 16,
      "outputs": []
    },
    {
      "cell_type": "code",
      "metadata": {
        "id": "ipyKdO_XZD26"
      },
      "source": [
        "def rotation_func(row):\n",
        "  img = np.array(ndimage.rotate(row.reshape((28, 28)), 10, reshape=False, prefilter=False))\n",
        "  return img.reshape((784, ))"
      ],
      "execution_count": 20,
      "outputs": []
    },
    {
      "cell_type": "code",
      "metadata": {
        "colab": {
          "base_uri": "https://localhost:8080/"
        },
        "id": "1NteDdw2ZD3E",
        "outputId": "791ee415-9f31-4149-9317-2757cbd935d8"
      },
      "source": [
        "score_rotation = []\n",
        "for angle in [-15, -10, -5, 5, 10, 15]:\n",
        "  s = knn_cross_val_score(np.concatenate((np.array(X), np.apply_along_axis(rotation_func, -1, X)), axis=0),\n",
        "                                   np.concatenate((y, y)), [4], 'accuracy', cv=3, strategy='brute', metric='cosine', weights=True)\n",
        "  score_rotation.append(s)\n",
        "  print(angle, s)"
      ],
      "execution_count": null,
      "outputs": [
        {
          "output_type": "stream",
          "name": "stdout",
          "text": [
            "-15 {4: array([0.96615, 0.97185, 0.96795])}\n",
            "-10 {4: array([0.9832 , 0.98025, 0.97815])}\n",
            "-5 {4: array([0.9959 , 0.9937 , 0.99195])}\n",
            "5 {4: array([0.9956 , 0.9941 , 0.99145])}\n",
            "10 {4: array([0.98415, 0.9807 , 0.9779 ])}\n",
            "15 {4: array([0.9693 , 0.97185, 0.96615])}\n"
          ]
        }
      ]
    },
    {
      "cell_type": "code",
      "metadata": {
        "id": "CrgJxgvE9WUZ"
      },
      "source": [
        "def shift_func(row):\n",
        "  img = np.array(ndimage.shift(row.reshape((28, 28)), [0, 1], prefilter=False))\n",
        "  return img.reshape((784, ))"
      ],
      "execution_count": 21,
      "outputs": []
    },
    {
      "cell_type": "code",
      "metadata": {
        "colab": {
          "base_uri": "https://localhost:8080/"
        },
        "id": "DYg1qzxS-Xrh",
        "outputId": "f179ce10-5bb9-4964-9853-8c25fc1f90a8"
      },
      "source": [
        "for i in [0, 1, 2, 3]:\n",
        "  for j in [0, 1, 2, 3]:\n",
        "    s = knn_cross_val_score(np.concatenate((np.array(X), np.apply_along_axis(shift_func, -1, X)), axis=0),\n",
        "                                    np.concatenate((y, y)), [4], 'accuracy', cv=3, strategy='brute', metric='cosine', weights=True)\n",
        "    score_shift[i, j] = s\n",
        "    print(i, j, s)"
      ],
      "execution_count": null,
      "outputs": [
        {
          "output_type": "stream",
          "name": "stdout",
          "text": [
            "0 0 {4: array([1.    , 1.    , 0.9999])}\n",
            "0 1 {4: array([0.98375, 0.9813 , 0.97725])}\n",
            "0 2 {4: array([0.964  , 0.96825, 0.96055])}\n",
            "0 3 {4: array([0.9607, 0.9671, 0.9606])}\n",
            "1 0 {4: array([0.98465, 0.98325, 0.9772 ])}\n",
            "1 1 {4: array([0.96835, 0.9705 , 0.96385])}\n",
            "1 2 {4: array([0.96215, 0.96715, 0.9596 ])}\n",
            "1 3 {4: array([0.9603, 0.9669, 0.9605])}\n",
            "2 0 {4: array([0.96055, 0.96815, 0.9625 ])}\n",
            "2 1 {4: array([0.96075, 0.9671 , 0.96075])}\n",
            "2 2 {4: array([0.9609 , 0.96665, 0.96005])}\n",
            "2 3 {4: array([0.9604, 0.9669, 0.9605])}\n",
            "3 0 {4: array([0.9603 , 0.96725, 0.96035])}\n",
            "3 1 {4: array([0.9604 , 0.96675, 0.96035])}\n",
            "3 2 {4: array([0.95965, 0.9664 , 0.9601 ])}\n",
            "3 3 {4: array([0.9597, 0.9667, 0.9602])}\n"
          ]
        }
      ]
    },
    {
      "cell_type": "code",
      "metadata": {
        "id": "xZdaE6GhTkG7"
      },
      "source": [
        "def gaus_func(row):\n",
        "  img = np.array(ndimage.gaussian_filter(row.reshape((28, 28)), sigma=1.5))\n",
        "  return img.reshape((784, ))"
      ],
      "execution_count": 22,
      "outputs": []
    },
    {
      "cell_type": "code",
      "metadata": {
        "colab": {
          "base_uri": "https://localhost:8080/"
        },
        "id": "0FyMAMZ8TxLC",
        "outputId": "49a27279-bb4c-4cdf-876f-53ea892c98c6"
      },
      "source": [
        "score_gaus = []\n",
        "for sigma in [0.5, 1, 1.5]:\n",
        "  s = knn_cross_val_score(np.concatenate((np.array(X), np.apply_along_axis(gaus_func, -1, X)), axis=0),\n",
        "                                    np.concatenate((y, y)), [4], 'accuracy', cv=3, strategy='brute', metric='cosine', weights=True)\n",
        "  score_gaus.append(s)\n",
        "  print(sigma, s)"
      ],
      "execution_count": null,
      "outputs": [
        {
          "output_type": "stream",
          "name": "stdout",
          "text": [
            "0.5 {4: array([1., 1., 1.])}\n",
            "1 {4: array([0.9955, 0.99  , 0.9849])}\n",
            "1.5 {4: array([0.9888 , 0.97805, 0.96215])}\n"
          ]
        }
      ]
    },
    {
      "cell_type": "code",
      "metadata": {
        "id": "Fu72XzI3ZOEJ"
      },
      "source": [
        "confusion_matrix(y_test, y_test)"
      ],
      "execution_count": null,
      "outputs": []
    },
    {
      "cell_type": "code",
      "metadata": {
        "id": "wJbEju_Za-V3"
      },
      "source": [
        ""
      ],
      "execution_count": 25,
      "outputs": []
    },
    {
      "cell_type": "code",
      "metadata": {
        "colab": {
          "base_uri": "https://localhost:8080/"
        },
        "id": "vsN6hf4yZjNz",
        "outputId": "1b61c4cc-5c4b-4c5d-9028-b82e5901ffa9"
      },
      "source": [
        "y1 = []\n",
        "clf = KNNClassifier(4, 'brute', 'cosine', True)\n",
        "clf.fit(np.concatenate((np.array(X_train), np.apply_along_axis(rotation_func, -1, X_train)), axis=0), np.concatenate((y_train, y_train)))\n",
        "result = clf.predict(X_test)\n",
        "print(result)\n",
        "y1 = result"
      ],
      "execution_count": 85,
      "outputs": [
        {
          "output_type": "stream",
          "name": "stdout",
          "text": [
            "[7 2 1 ... 4 5 6]\n"
          ]
        }
      ]
    },
    {
      "cell_type": "code",
      "metadata": {
        "colab": {
          "base_uri": "https://localhost:8080/"
        },
        "id": "TjCo4XntcXge",
        "outputId": "5d0b5d71-7668-45c0-9201-2f679ec45648"
      },
      "source": [
        "y2 = []\n",
        "clf = KNNClassifier(4, 'brute', 'cosine', True)\n",
        "clf.fit(np.concatenate((np.array(X_train), np.apply_along_axis(shift_func, -1, X_train)), axis=0), np.concatenate((y_train, y_train)))\n",
        "result = clf.predict(X_test)\n",
        "print(result)\n",
        "y2 = result"
      ],
      "execution_count": 86,
      "outputs": [
        {
          "output_type": "stream",
          "name": "stdout",
          "text": [
            "[7 2 1 ... 4 5 6]\n"
          ]
        }
      ]
    },
    {
      "cell_type": "code",
      "metadata": {
        "colab": {
          "base_uri": "https://localhost:8080/"
        },
        "id": "ny2ZevwIcrli",
        "outputId": "3894769e-ab64-4ea7-c7cc-ec777d56b5cf"
      },
      "source": [
        "y3 = []\n",
        "clf = KNNClassifier(4, 'brute', 'cosine', True)\n",
        "clf.fit(np.concatenate((np.array(X_train), np.apply_along_axis(gaus_func, -1, X_train)), axis=0), np.concatenate((y_train, y_train)))\n",
        "result = clf.predict(X_test)\n",
        "print(result)\n",
        "y3 = result"
      ],
      "execution_count": 87,
      "outputs": [
        {
          "output_type": "stream",
          "name": "stdout",
          "text": [
            "[7 2 1 ... 4 5 6]\n"
          ]
        }
      ]
    },
    {
      "cell_type": "code",
      "metadata": {
        "colab": {
          "base_uri": "https://localhost:8080/"
        },
        "id": "xMvppqhKjp4U",
        "outputId": "cc726705-cec6-4310-efc2-a359a2242e55"
      },
      "source": [
        "len(y1[0])"
      ],
      "execution_count": 62,
      "outputs": [
        {
          "output_type": "execute_result",
          "data": {
            "text/plain": [
              "10000"
            ]
          },
          "metadata": {},
          "execution_count": 62
        }
      ]
    },
    {
      "cell_type": "code",
      "metadata": {
        "id": "ivye8YqzdPbS"
      },
      "source": [
        "fin_y1 = []\n",
        "for i in range (len(y_test)):\n",
        "  fin_y1.append(np.argmax(np.bincount(np.array([y1[0][i], y2[0][i], y3[0][i]]))))"
      ],
      "execution_count": 66,
      "outputs": []
    },
    {
      "cell_type": "code",
      "metadata": {
        "colab": {
          "base_uri": "https://localhost:8080/"
        },
        "id": "Jbu4DV0Fg4tj",
        "outputId": "4ee07bda-58a6-44d7-9520-ea67c08baf4f"
      },
      "source": [
        "confusion_matrix(y_test, fin_y1)"
      ],
      "execution_count": 67,
      "outputs": [
        {
          "output_type": "execute_result",
          "data": {
            "text/plain": [
              "array([[ 977,    1,    0,    0,    0,    0,    1,    1,    0,    0],\n",
              "       [   0, 1132,    3,    0,    0,    0,    0,    0,    0,    0],\n",
              "       [   6,    1, 1011,    1,    0,    0,    1,    9,    3,    0],\n",
              "       [   0,    0,    2,  990,    1,    5,    0,    4,    4,    4],\n",
              "       [   0,    2,    0,    0,  956,    0,    4,    2,    0,   18],\n",
              "       [   2,    0,    0,    9,    1,  869,    2,    1,    5,    3],\n",
              "       [   3,    2,    0,    0,    0,    3,  950,    0,    0,    0],\n",
              "       [   0,   12,    7,    0,    1,    1,    0, 1000,    0,    7],\n",
              "       [   7,    0,    3,    9,    2,    3,    1,    4,  942,    3],\n",
              "       [   2,    6,    1,    5,    5,    1,    1,    6,    3,  979]])"
            ]
          },
          "metadata": {},
          "execution_count": 67
        }
      ]
    },
    {
      "cell_type": "code",
      "metadata": {
        "colab": {
          "base_uri": "https://localhost:8080/"
        },
        "id": "u9msrq2tkoRt",
        "outputId": "1d2c2aa6-aa37-4759-8111-a289a77f2199"
      },
      "source": [
        "np.sum(fin_y1 == y_test)/y_test.shape[0]"
      ],
      "execution_count": 69,
      "outputs": [
        {
          "output_type": "execute_result",
          "data": {
            "text/plain": [
              "0.9806"
            ]
          },
          "metadata": {},
          "execution_count": 69
        }
      ]
    },
    {
      "cell_type": "code",
      "metadata": {
        "colab": {
          "base_uri": "https://localhost:8080/"
        },
        "id": "QIIuKgg5mHTm",
        "outputId": "eca3e511-70da-43d4-9303-0d973aed6fbe"
      },
      "source": [
        "y1 = []\n",
        "clf = KNNClassifier(4, 'brute', 'cosine', True)\n",
        "clf.fit(X_train, y_train)\n",
        "result = clf.predict(np.concatenate((X_test, np.apply_along_axis(rotation_func, -1, X_test))))\n",
        "print(result)\n",
        "y1 = result"
      ],
      "execution_count": 72,
      "outputs": [
        {
          "output_type": "stream",
          "name": "stdout",
          "text": [
            "[7 2 1 ... 4 5 6]\n"
          ]
        }
      ]
    },
    {
      "cell_type": "code",
      "metadata": {
        "colab": {
          "base_uri": "https://localhost:8080/"
        },
        "id": "7cKerx_soDtZ",
        "outputId": "595fa1e3-b966-429e-8003-94abcadad91a"
      },
      "source": [
        "clf = KNNClassifier(4, 'brute', 'cosine', True)\n",
        "clf.fit(X_train, y_train)\n",
        "result = clf.predict(np.concatenate((X_test, np.apply_along_axis(shift_func, -1, X_test))))\n",
        "print(result)\n",
        "y2 = result"
      ],
      "execution_count": 73,
      "outputs": [
        {
          "output_type": "stream",
          "name": "stdout",
          "text": [
            "[7 2 1 ... 4 5 6]\n"
          ]
        }
      ]
    },
    {
      "cell_type": "code",
      "metadata": {
        "colab": {
          "base_uri": "https://localhost:8080/"
        },
        "id": "rqG7Yn2uoEY9",
        "outputId": "fbfad0a5-1185-40bd-867a-6e407c03e444"
      },
      "source": [
        "clf = KNNClassifier(4, 'brute', 'cosine', True)\n",
        "clf.fit(X_train, y_train)\n",
        "result = clf.predict(np.concatenate((X_test, np.apply_along_axis(gaus_func, -1, X_test))))\n",
        "print(result)\n",
        "y3 = result"
      ],
      "execution_count": 74,
      "outputs": [
        {
          "output_type": "stream",
          "name": "stdout",
          "text": [
            "[7 2 1 ... 4 5 6]\n"
          ]
        }
      ]
    },
    {
      "cell_type": "code",
      "metadata": {
        "colab": {
          "base_uri": "https://localhost:8080/"
        },
        "id": "4DScpm8Nosx3",
        "outputId": "43bcb92a-f49c-4148-9ebd-101be1257e4d"
      },
      "source": [
        "len(y3)"
      ],
      "execution_count": 79,
      "outputs": [
        {
          "output_type": "execute_result",
          "data": {
            "text/plain": [
              "20000"
            ]
          },
          "metadata": {},
          "execution_count": 79
        }
      ]
    },
    {
      "cell_type": "code",
      "metadata": {
        "id": "9dAZ7KIboRf6"
      },
      "source": [
        "fin_y1 = []\n",
        "for i in range (len(y_test) * 2):\n",
        "  fin_y1.append(np.argmax(np.bincount(np.array([y1[i], y2[i], y3[i]]))))"
      ],
      "execution_count": 80,
      "outputs": []
    },
    {
      "cell_type": "code",
      "metadata": {
        "colab": {
          "base_uri": "https://localhost:8080/"
        },
        "id": "HVIAHVK-olv7",
        "outputId": "a1c43f49-57ce-4b8d-fb28-383c7b5843ff"
      },
      "source": [
        "len(fin_y1)"
      ],
      "execution_count": 78,
      "outputs": [
        {
          "output_type": "execute_result",
          "data": {
            "text/plain": [
              "10000"
            ]
          },
          "metadata": {},
          "execution_count": 78
        }
      ]
    },
    {
      "cell_type": "code",
      "metadata": {
        "colab": {
          "base_uri": "https://localhost:8080/"
        },
        "id": "jtx1kMFxoc1P",
        "outputId": "bb2f52d1-ea9e-4b74-cfec-8b4c3b7a4390"
      },
      "source": [
        "confusion_matrix(np.concatenate((y_test, y_test)), fin_y1)"
      ],
      "execution_count": 81,
      "outputs": [
        {
          "output_type": "execute_result",
          "data": {
            "text/plain": [
              "array([[1953,    2,    0,    0,    0,    1,    2,    2,    0,    0],\n",
              "       [   0, 2258,    5,    3,    0,    0,    4,    0,    0,    0],\n",
              "       [  29,    1, 1996,    2,    1,    0,    1,   20,   14,    0],\n",
              "       [   4,    2,    6, 1943,    1,   16,    0,   10,   28,   10],\n",
              "       [  14,    5,    1,    0, 1860,    0,   17,    2,    0,   65],\n",
              "       [  15,    3,    0,   30,    1, 1680,   27,    1,   18,    9],\n",
              "       [  12,    6,    0,    0,    2,    3, 1892,    0,    1,    0],\n",
              "       [   6,   21,   10,    0,    4,    0,    0, 1968,    1,   46],\n",
              "       [  13,    9,    3,   10,    8,    8,    9,   10, 1870,    8],\n",
              "       [  27,   14,    3,   10,   14,    7,    4,    8,    8, 1923]])"
            ]
          },
          "metadata": {},
          "execution_count": 81
        }
      ]
    },
    {
      "cell_type": "code",
      "metadata": {
        "colab": {
          "base_uri": "https://localhost:8080/"
        },
        "id": "aptyyCmgogKt",
        "outputId": "ae1dc503-27e9-4ad9-a895-27afd2da83a8"
      },
      "source": [
        "np.sum(fin_y1 == np.concatenate((y_test, y_test)))/(y_test.shape[0] * 2)"
      ],
      "execution_count": 84,
      "outputs": [
        {
          "output_type": "execute_result",
          "data": {
            "text/plain": [
              "0.96715"
            ]
          },
          "metadata": {},
          "execution_count": 84
        }
      ]
    },
    {
      "cell_type": "code",
      "metadata": {
        "id": "ZVUxukLQctS2",
        "colab": {
          "base_uri": "https://localhost:8080/"
        },
        "outputId": "fcfb4403-b3e2-4871-b685-dc77aff82d40"
      },
      "source": [
        "conf_matrix = np.array([[1953,    2,    0,    0,    0,    1,    2,    2,    0,    0],\n",
        "       [   0, 2258,    5,    3,    0,    0,    4,    0,    0,    0],\n",
        "       [  29,    1, 1996,    2,    1,    0,    1,   20,   14,    0],\n",
        "       [   4,    2,    6, 1943,    1,   16,    0,   10,   28,   10],\n",
        "       [  14,    5,    1,    0, 1860,    0,   17,    2,    0,   65],\n",
        "       [  15,    3,    0,   30,    1, 1680,   27,    1,   18,    9],\n",
        "       [  12,    6,    0,    0,    2,    3, 1892,    0,    1,    0],\n",
        "       [   6,   21,   10,    0,    4,    0,    0, 1968,    1,   46],\n",
        "       [  13,    9,    3,   10,    8,    8,    9,   10, 1870,    8],\n",
        "       [  27,   14,    3,   10,   14,    7,    4,    8,    8, 1923]]) //2\n",
        "       \n",
        "conf_matrix"
      ],
      "execution_count": 104,
      "outputs": [
        {
          "output_type": "execute_result",
          "data": {
            "text/plain": [
              "array([[ 976,    1,    0,    0,    0,    0,    1,    1,    0,    0],\n",
              "       [   0, 1129,    2,    1,    0,    0,    2,    0,    0,    0],\n",
              "       [  14,    0,  998,    1,    0,    0,    0,   10,    7,    0],\n",
              "       [   2,    1,    3,  971,    0,    8,    0,    5,   14,    5],\n",
              "       [   7,    2,    0,    0,  930,    0,    8,    1,    0,   32],\n",
              "       [   7,    1,    0,   15,    0,  840,   13,    0,    9,    4],\n",
              "       [   6,    3,    0,    0,    1,    1,  946,    0,    0,    0],\n",
              "       [   3,   10,    5,    0,    2,    0,    0,  984,    0,   23],\n",
              "       [   6,    4,    1,    5,    4,    4,    4,    5,  935,    4],\n",
              "       [  13,    7,    1,    5,    7,    3,    2,    4,    4,  961]])"
            ]
          },
          "metadata": {},
          "execution_count": 104
        }
      ]
    },
    {
      "cell_type": "code",
      "metadata": {
        "colab": {
          "base_uri": "https://localhost:8080/",
          "height": 248
        },
        "id": "ap4ATVe-d2ZB",
        "outputId": "4473111c-aed6-4167-91d3-16285fae458f"
      },
      "source": [
        "fig, ax = plt.subplots()\n",
        "rcolors = plt.cm.BuPu(np.full(10, 0.2))\n",
        "ccolors = plt.cm.BuPu(np.full(10, 0.1))\n",
        "\n",
        "the_table = plt.table(cellText=conf_matrix,\n",
        "                      rowLabels=np.arange(10),\n",
        "                      rowColours=rcolors,\n",
        "                      colWidths=[0.1]*11,\n",
        "                      rowLoc='right',\n",
        "                      colColours=ccolors,\n",
        "                      colLabels=np.arange(10),\n",
        "                      loc='center')\n",
        "\n",
        "cellDict = the_table.get_celld()\n",
        "for i in range(0 ,10):\n",
        "    cellDict[(0,i)].set_height(.08)\n",
        "    for j in range(0,11):\n",
        "        cellDict[(j,i)].set_height(.08)\n",
        "      \n",
        "for i in range(1, 11):\n",
        "  cellDict[(i,-1)].set_height(.08)\n",
        "  cellDict[(i,-1)].set_width(.1)\n",
        "\n",
        "\n",
        "plt.axis('off')\n",
        "\n",
        "plt.savefig('conf_test.pdf')\n",
        "files.download('conf_test.pdf')\n",
        "plt.show()"
      ],
      "execution_count": 105,
      "outputs": [
        {
          "output_type": "display_data",
          "data": {
            "application/javascript": [
              "\n",
              "    async function download(id, filename, size) {\n",
              "      if (!google.colab.kernel.accessAllowed) {\n",
              "        return;\n",
              "      }\n",
              "      const div = document.createElement('div');\n",
              "      const label = document.createElement('label');\n",
              "      label.textContent = `Downloading \"${filename}\": `;\n",
              "      div.appendChild(label);\n",
              "      const progress = document.createElement('progress');\n",
              "      progress.max = size;\n",
              "      div.appendChild(progress);\n",
              "      document.body.appendChild(div);\n",
              "\n",
              "      const buffers = [];\n",
              "      let downloaded = 0;\n",
              "\n",
              "      const channel = await google.colab.kernel.comms.open(id);\n",
              "      // Send a message to notify the kernel that we're ready.\n",
              "      channel.send({})\n",
              "\n",
              "      for await (const message of channel.messages) {\n",
              "        // Send a message to notify the kernel that we're ready.\n",
              "        channel.send({})\n",
              "        if (message.buffers) {\n",
              "          for (const buffer of message.buffers) {\n",
              "            buffers.push(buffer);\n",
              "            downloaded += buffer.byteLength;\n",
              "            progress.value = downloaded;\n",
              "          }\n",
              "        }\n",
              "      }\n",
              "      const blob = new Blob(buffers, {type: 'application/binary'});\n",
              "      const a = document.createElement('a');\n",
              "      a.href = window.URL.createObjectURL(blob);\n",
              "      a.download = filename;\n",
              "      div.appendChild(a);\n",
              "      a.click();\n",
              "      div.remove();\n",
              "    }\n",
              "  "
            ],
            "text/plain": [
              "<IPython.core.display.Javascript object>"
            ]
          },
          "metadata": {}
        },
        {
          "output_type": "display_data",
          "data": {
            "application/javascript": [
              "download(\"download_cfd75523-5a8b-43ea-b46b-ef053c876681\", \"conf_test.pdf\", 8573)"
            ],
            "text/plain": [
              "<IPython.core.display.Javascript object>"
            ]
          },
          "metadata": {}
        },
        {
          "output_type": "display_data",
          "data": {
            "image/png": "[encoded data removed]",
            "text/plain": [
              "<Figure size 432x288 with 1 Axes>"
            ]
          },
          "metadata": {
            "needs_background": "light"
          }
        }
      ]
    },
    {
      "cell_type": "code",
      "metadata": {
        "colab": {
          "base_uri": "https://localhost:8080/",
          "height": 248
        },
        "id": "7BxCi6zp5mjH",
        "outputId": "df9c180c-894a-403e-f658-a06549c8b7d3"
      },
      "source": [
        "img = ndimage.rotate(X_train[0].reshape((28, 28)), 10, reshape=False, prefilter=False)\n",
        "fig, ax = plt.subplots()\n",
        "plt.axis('off')\n",
        "ax.imshow(img, cmap='Greys')\n",
        "plt.show()"
      ],
      "execution_count": null,
      "outputs": [
        {
          "output_type": "display_data",
          "data": {
            "image/png": "[encoded data removed]",
            "text/plain": [
              "<Figure size 432x288 with 1 Axes>"
            ]
          },
          "metadata": {
            "needs_background": "light"
          }
        }
      ]
    },
    {
      "cell_type": "code",
      "metadata": {
        "id": "nihrIoR55mjM"
      },
      "source": [
        "X = data['data'][:30000]\n",
        "y = np.array(data['target'], dtype=int)[:30000]"
      ],
      "execution_count": null,
      "outputs": []
    },
    {
      "cell_type": "code",
      "metadata": {
        "id": "8kKW3YA75mjP"
      },
      "source": [
        "def rotation_func(row):\n",
        "  img = np.array(ndimage.rotate(row.reshape((28, 28)), angle, reshape=False, prefilter=False))\n",
        "  return img.reshape((784, ))"
      ],
      "execution_count": null,
      "outputs": []
    },
    {
      "cell_type": "code",
      "metadata": {
        "colab": {
          "base_uri": "https://localhost:8080/"
        },
        "id": "41eOO9WJ3tE4",
        "outputId": "46b43ab7-9ad2-44a1-e6bf-6c8b723e543e"
      },
      "source": [
        "score = knn_cross_val_score(X, y, [4], 'accuracy', cv=3, strategy='brute', metric='cosine', weights=True)\n",
        "score"
      ],
      "execution_count": null,
      "outputs": [
        {
          "output_type": "execute_result",
          "data": {
            "text/plain": [
              "{4: array([0.9681, 0.9703, 0.9622])}"
            ]
          },
          "metadata": {},
          "execution_count": 14
        }
      ]
    },
    {
      "cell_type": "code",
      "metadata": {
        "colab": {
          "base_uri": "https://localhost:8080/"
        },
        "id": "wISkRdj55mjS",
        "outputId": "791ee415-9f31-4149-9317-2757cbd935d8"
      },
      "source": [
        "score_rotation = []\n",
        "for angle in [-15, -10, -5, 5, 10, 15]:\n",
        "  s = knn_cross_val_score(np.concatenate((np.array(X), np.apply_along_axis(rotation_func, -1, X)), axis=0),\n",
        "                                   np.concatenate((y, y)), [4], 'accuracy', cv=3, strategy='brute', metric='cosine', weights=True)\n",
        "  score_rotation.append(s)\n",
        "  print(angle, s)"
      ],
      "execution_count": null,
      "outputs": [
        {
          "output_type": "stream",
          "name": "stdout",
          "text": [
            "-15 {4: array([0.96615, 0.97185, 0.96795])}\n",
            "-10 {4: array([0.9832 , 0.98025, 0.97815])}\n",
            "-5 {4: array([0.9959 , 0.9937 , 0.99195])}\n",
            "5 {4: array([0.9956 , 0.9941 , 0.99145])}\n",
            "10 {4: array([0.98415, 0.9807 , 0.9779 ])}\n",
            "15 {4: array([0.9693 , 0.97185, 0.96615])}\n"
          ]
        }
      ]
    },
    {
      "cell_type": "code",
      "metadata": {
        "colab": {
          "base_uri": "https://localhost:8080/"
        },
        "id": "h1iZvjjpN0Iv",
        "outputId": "30f10feb-7ca0-495f-81ad-98193215ab4d"
      },
      "source": [
        "a = [{4: np.array([0.96615, 0.97185, 0.96795])},\n",
        "{4: np.array([0.9832 , 0.98025, 0.97815])},\n",
        "{4: np.array([0.9959 , 0.9937 , 0.99195])},\n",
        "{4: np.array([0.9956 , 0.9941 , 0.99145])},\n",
        "{4: np.array([0.98415, 0.9807 , 0.9779 ])},\n",
        "{4: np.array([0.9693 , 0.97185, 0.96615])}]\n",
        "for elem in a:\n",
        "  print(elem[4].mean())\n",
        "\n"
      ],
      "execution_count": null,
      "outputs": [
        {
          "output_type": "stream",
          "name": "stdout",
          "text": [
            "0.9686499999999999\n",
            "0.9805333333333333\n",
            "0.99385\n",
            "0.9937166666666667\n",
            "0.9809166666666668\n",
            "0.9691\n"
          ]
        }
      ]
    },
    {
      "cell_type": "code",
      "metadata": {
        "colab": {
          "base_uri": "https://localhost:8080/",
          "height": 248
        },
        "id": "RjSHw_zT9wMw",
        "outputId": "7d076068-7a1d-4875-f096-424d0f40792b"
      },
      "source": [
        "img = ndimage.shift(X_train[0].reshape((28, 28)), shift=[6, 3], prefilter=False)\n",
        "fig, ax = plt.subplots()\n",
        "plt.axis('off')\n",
        "ax.imshow(img, cmap='Greys')\n",
        "plt.show()"
      ],
      "execution_count": null,
      "outputs": [
        {
          "output_type": "display_data",
          "data": {
            "image/png": "[encoded data removed]",
            "text/plain": [
              "<Figure size 432x288 with 1 Axes>"
            ]
          },
          "metadata": {
            "needs_background": "light"
          }
        }
      ]
    },
    {
      "cell_type": "code",
      "metadata": {
        "id": "0dJSh4_Orm7y"
      },
      "source": [
        "score_shift = np.empty((4, 4), dtype=dict)"
      ],
      "execution_count": null,
      "outputs": []
    },
    {
      "cell_type": "code",
      "metadata": {
        "id": "kwIUcGNg5mjY"
      },
      "source": [
        "def shift_func(row):\n",
        "  img = np.array(ndimage.shift(row.reshape((28, 28)), [i, j], prefilter=False))\n",
        "  return img.reshape((784, ))"
      ],
      "execution_count": null,
      "outputs": []
    },
    {
      "cell_type": "code",
      "metadata": {
        "colab": {
          "base_uri": "https://localhost:8080/"
        },
        "id": "EvZFptGg5mjZ",
        "outputId": "f179ce10-5bb9-4964-9853-8c25fc1f90a8"
      },
      "source": [
        "for i in [0, 1, 2, 3]:\n",
        "  for j in [0, 1, 2, 3]:\n",
        "    s = knn_cross_val_score(np.concatenate((np.array(X), np.apply_along_axis(shift_func, -1, X)), axis=0),\n",
        "                                    np.concatenate((y, y)), [4], 'accuracy', cv=3, strategy='brute', metric='cosine', weights=True)\n",
        "    score_shift[i, j] = s\n",
        "    print(i, j, s)"
      ],
      "execution_count": null,
      "outputs": [
        {
          "output_type": "stream",
          "name": "stdout",
          "text": [
            "0 0 {4: array([1.    , 1.    , 0.9999])}\n",
            "0 1 {4: array([0.98375, 0.9813 , 0.97725])}\n",
            "0 2 {4: array([0.964  , 0.96825, 0.96055])}\n",
            "0 3 {4: array([0.9607, 0.9671, 0.9606])}\n",
            "1 0 {4: array([0.98465, 0.98325, 0.9772 ])}\n",
            "1 1 {4: array([0.96835, 0.9705 , 0.96385])}\n",
            "1 2 {4: array([0.96215, 0.96715, 0.9596 ])}\n",
            "1 3 {4: array([0.9603, 0.9669, 0.9605])}\n",
            "2 0 {4: array([0.96055, 0.96815, 0.9625 ])}\n",
            "2 1 {4: array([0.96075, 0.9671 , 0.96075])}\n",
            "2 2 {4: array([0.9609 , 0.96665, 0.96005])}\n",
            "2 3 {4: array([0.9604, 0.9669, 0.9605])}\n",
            "3 0 {4: array([0.9603 , 0.96725, 0.96035])}\n",
            "3 1 {4: array([0.9604 , 0.96675, 0.96035])}\n",
            "3 2 {4: array([0.95965, 0.9664 , 0.9601 ])}\n",
            "3 3 {4: array([0.9597, 0.9667, 0.9602])}\n"
          ]
        }
      ]
    },
    {
      "cell_type": "code",
      "metadata": {
        "colab": {
          "base_uri": "https://localhost:8080/"
        },
        "id": "Zca27pzsTcg1",
        "outputId": "18708887-18b8-484d-f6df-9ac7f7c85feb"
      },
      "source": [
        "a = [{4: np.array([1.    , 1.    , 0.9999])},\n",
        "{4: np.array([0.98375, 0.9813 , 0.97725])},\n",
        "{4: np.array([0.964  , 0.96825, 0.96055])},\n",
        "{4: np.array([0.9607, 0.9671, 0.9606])},\n",
        "{4: np.array([0.98465, 0.98325, 0.9772 ])},\n",
        "{4: np.array([0.96835, 0.9705 , 0.96385])},\n",
        "{4: np.array([0.96215, 0.96715, 0.9596 ])},\n",
        "{4: np.array([0.9603, 0.9669, 0.9605])},\n",
        "{4: np.array([0.96055, 0.96815, 0.9625 ])},\n",
        "{4: np.array([0.96075, 0.9671 , 0.96075])},\n",
        "{4: np.array([0.9609 , 0.96665, 0.96005])},\n",
        "{4: np.array([0.9604, 0.9669, 0.9605])},\n",
        "{4: np.array([0.9603 , 0.96725, 0.96035])},\n",
        "{4: np.array([0.9604 , 0.96675, 0.96035])},\n",
        "{4: np.array([0.95965, 0.9664 , 0.9601 ])},\n",
        "{4: np.array([0.9597, 0.9667, 0.9602])}]\n",
        "for elem in a:\n",
        "  print(elem[4].mean())"
      ],
      "execution_count": null,
      "outputs": [
        {
          "output_type": "stream",
          "name": "stdout",
          "text": [
            "0.9999666666666668\n",
            "0.9807666666666667\n",
            "0.9642666666666667\n",
            "0.9628\n",
            "0.9817\n",
            "0.9675666666666666\n",
            "0.9629666666666666\n",
            "0.9625666666666667\n",
            "0.9637333333333333\n",
            "0.9628666666666666\n",
            "0.9625333333333334\n",
            "0.9626\n",
            "0.9626333333333333\n",
            "0.9625\n",
            "0.96205\n",
            "0.9622\n"
          ]
        }
      ]
    },
    {
      "cell_type": "code",
      "metadata": {
        "colab": {
          "base_uri": "https://localhost:8080/",
          "height": 248
        },
        "id": "kqHQ7YibBocP",
        "outputId": "24d7dbc5-0926-4723-bd98-6a941004fb9a"
      },
      "source": [
        "img = ndimage.gaussian_filter(X_train[0].reshape((28, 28)), sigma=1.5)\n",
        "fig, ax = plt.subplots()\n",
        "plt.axis('off')\n",
        "ax.imshow(img, cmap='Greys')\n",
        "plt.show()"
      ],
      "execution_count": null,
      "outputs": [
        {
          "output_type": "display_data",
          "data": {
            "image/png": "[encoded data removed]",
            "text/plain": [
              "<Figure size 432x288 with 1 Axes>"
            ]
          },
          "metadata": {
            "needs_background": "light"
          }
        }
      ]
    },
    {
      "cell_type": "code",
      "metadata": {
        "colab": {
          "base_uri": "https://localhost:8080/",
          "height": 248
        },
        "id": "vw4C0uAnTUG3",
        "outputId": "bc5730e0-7e3c-426f-9ab4-c76a1694ed87"
      },
      "source": [
        "img = ndimage.gaussian_filter(X_train[0].reshape((28, 28)), sigma=0.5)\n",
        "fig, ax = plt.subplots()\n",
        "plt.axis('off')\n",
        "ax.imshow(X_train[0].reshape((28, 28)), cmap='Greys')\n",
        "plt.show()"
      ],
      "execution_count": null,
      "outputs": [
        {
          "output_type": "display_data",
          "data": {
            "image/png": "[encoded data removed]",
            "text/plain": [
              "<Figure size 432x288 with 1 Axes>"
            ]
          },
          "metadata": {
            "needs_background": "light"
          }
        }
      ]
    },
    {
      "cell_type": "code",
      "metadata": {
        "id": "KxccYfhe5mjd"
      },
      "source": [
        "def gaus_func(row):\n",
        "  img = np.array(ndimage.gaussian_filter(row.reshape((28, 28)), sigma=sigma))\n",
        "  return img.reshape((784, ))"
      ],
      "execution_count": null,
      "outputs": []
    },
    {
      "cell_type": "code",
      "metadata": {
        "colab": {
          "base_uri": "https://localhost:8080/"
        },
        "id": "IPxyG-2o5mjd",
        "outputId": "49a27279-bb4c-4cdf-876f-53ea892c98c6"
      },
      "source": [
        "score_gaus = []\n",
        "for sigma in [0.5, 1, 1.5]:\n",
        "  s = knn_cross_val_score(np.concatenate((np.array(X), np.apply_along_axis(gaus_func, -1, X)), axis=0),\n",
        "                                    np.concatenate((y, y)), [4], 'accuracy', cv=3, strategy='brute', metric='cosine', weights=True)\n",
        "  score_gaus.append(s)\n",
        "  print(sigma, s)"
      ],
      "execution_count": null,
      "outputs": [
        {
          "output_type": "stream",
          "name": "stdout",
          "text": [
            "0.5 {4: array([1., 1., 1.])}\n",
            "1 {4: array([0.9955, 0.99  , 0.9849])}\n",
            "1.5 {4: array([0.9888 , 0.97805, 0.96215])}\n"
          ]
        }
      ]
    },
    {
      "cell_type": "code",
      "metadata": {
        "colab": {
          "base_uri": "https://localhost:8080/"
        },
        "id": "IXIYBrCXXjon",
        "outputId": "5256f099-c2d8-4d8e-afc5-89bd5a642ce5"
      },
      "source": [
        "a = [{4: np.array([1., 1., 1.])},\n",
        "{4: np.array([0.9955, 0.99  , 0.9849])},\n",
        "{4: np.array([0.9888 , 0.97805, 0.96215])}]\n",
        "for elem in a:\n",
        "  print(elem[4].mean())"
      ],
      "execution_count": null,
      "outputs": [
        {
          "output_type": "stream",
          "name": "stdout",
          "text": [
            "1.0\n",
            "0.9901333333333334\n",
            "0.9763333333333333\n"
          ]
        }
      ]
    },
    {
      "cell_type": "code",
      "metadata": {
        "colab": {
          "base_uri": "https://localhost:8080/"
        },
        "id": "e8U6ghwAek6c",
        "outputId": "8c293244-8fe8-4a49-edd9-f95d9c341bd0"
      },
      "source": [
        "a = [{'euclidean': {1: 0.9678714036607117, 2: 0.9620285634540031, 3: 0.9687856981507553, 4: 0.9672142673338193, 5: 0.9673571271297582, 6: 0.9663999761090759, 7: 0.9667285516193558, 8: 0.9656714138637494, 9: 0.9648142667206038, 10: 0.9645428446795833}, 'cosine': {1: 0.9720999712135132, 2: 0.9690142501919419, 3: 0.9730999806015425, 4: 0.9723142685603733, 5: 0.9723999822338865, 6: 0.9720142789682655, 7: 0.970928551008834, 8: 0.9707142726412946, 9: 0.969885699171598, 10: 0.9697285577429419}}, {'euclidean': {1: 0.9678714036607117, 2: 0.9678714036607117, 3: 0.969985693865592, 4: 0.9704428334576619, 5: 0.9685999830486504, 6: 0.9692713997837873, 7: 0.9677571193749303, 8: 0.9680285548851458, 9: 0.9662428401905454, 10: 0.9662856948844754}, 'cosine': {1: 0.9720999712135132, 2: 0.9720999712135132, 3: 0.9735999834588486, 4: 0.9740999801937931, 5: 0.9734857040709564, 6: 0.9736999812140236, 7: 0.9721856989684579, 8: 0.9724999848869506, 9: 0.9711999803966882, 10: 0.9711285606006154}}, {'euclidean': {1: 0.9674666666666667, 2: 0.9605, 3: 0.9683166666666668, 4: 0.9669499999999999, 5: 0.9675333333333334, 6: 0.9653999999999999, 7: 0.9652666666666666, 8: 0.9644333333333334, 9: 0.9638166666666667, 10: 0.9627833333333333}, 'cosine': {1: 0.9715166666666667, 2: 0.9677000000000001, 3: 0.9720333333333334, 4: 0.9718833333333333, 5: 0.9714999999999999, 6: 0.9712666666666667, 7: 0.97005, 8: 0.9703833333333334, 9: 0.9692500000000001, 10: 0.9687333333333333}}, {'euclidean': {1: 0.9674666666666667, 2: 0.9674666666666667, 3: 0.9693666666666667, 4: 0.9704, 5: 0.96875, 6: 0.9694333333333334, 7: 0.9667666666666667, 8: 0.96735, 9: 0.9650333333333334, 10: 0.9650166666666666}, 'cosine': {1: 0.9715166666666667, 2: 0.9715166666666667, 3: 0.9730666666666666, 4: 0.9741, 5: 0.9726499999999999, 6: 0.9730333333333334, 7: 0.9712833333333334, 8: 0.9718666666666667, 9: 0.9705833333333334, 10: 0.9704666666666667}}]\n",
        "a\n"
      ],
      "execution_count": null,
      "outputs": [
        {
          "output_type": "execute_result",
          "data": {
            "text/plain": [
              "[{'cosine': {1: 0.9720999712135132,\n",
              "   2: 0.9690142501919419,\n",
              "   3: 0.9730999806015425,\n",
              "   4: 0.9723142685603733,\n",
              "   5: 0.9723999822338865,\n",
              "   6: 0.9720142789682655,\n",
              "   7: 0.970928551008834,\n",
              "   8: 0.9707142726412946,\n",
              "   9: 0.969885699171598,\n",
              "   10: 0.9697285577429419},\n",
              "  'euclidean': {1: 0.9678714036607117,\n",
              "   2: 0.9620285634540031,\n",
              "   3: 0.9687856981507553,\n",
              "   4: 0.9672142673338193,\n",
              "   5: 0.9673571271297582,\n",
              "   6: 0.9663999761090759,\n",
              "   7: 0.9667285516193558,\n",
              "   8: 0.9656714138637494,\n",
              "   9: 0.9648142667206038,\n",
              "   10: 0.9645428446795833}},\n",
              " {'cosine': {1: 0.9720999712135132,\n",
              "   2: 0.9720999712135132,\n",
              "   3: 0.9735999834588486,\n",
              "   4: 0.9740999801937931,\n",
              "   5: 0.9734857040709564,\n",
              "   6: 0.9736999812140236,\n",
              "   7: 0.9721856989684579,\n",
              "   8: 0.9724999848869506,\n",
              "   9: 0.9711999803966882,\n",
              "   10: 0.9711285606006154},\n",
              "  'euclidean': {1: 0.9678714036607117,\n",
              "   2: 0.9678714036607117,\n",
              "   3: 0.969985693865592,\n",
              "   4: 0.9704428334576619,\n",
              "   5: 0.9685999830486504,\n",
              "   6: 0.9692713997837873,\n",
              "   7: 0.9677571193749303,\n",
              "   8: 0.9680285548851458,\n",
              "   9: 0.9662428401905454,\n",
              "   10: 0.9662856948844754}},\n",
              " {'cosine': {1: 0.9715166666666667,\n",
              "   2: 0.9677000000000001,\n",
              "   3: 0.9720333333333334,\n",
              "   4: 0.9718833333333333,\n",
              "   5: 0.9714999999999999,\n",
              "   6: 0.9712666666666667,\n",
              "   7: 0.97005,\n",
              "   8: 0.9703833333333334,\n",
              "   9: 0.9692500000000001,\n",
              "   10: 0.9687333333333333},\n",
              "  'euclidean': {1: 0.9674666666666667,\n",
              "   2: 0.9605,\n",
              "   3: 0.9683166666666668,\n",
              "   4: 0.9669499999999999,\n",
              "   5: 0.9675333333333334,\n",
              "   6: 0.9653999999999999,\n",
              "   7: 0.9652666666666666,\n",
              "   8: 0.9644333333333334,\n",
              "   9: 0.9638166666666667,\n",
              "   10: 0.9627833333333333}},\n",
              " {'cosine': {1: 0.9715166666666667,\n",
              "   2: 0.9715166666666667,\n",
              "   3: 0.9730666666666666,\n",
              "   4: 0.9741,\n",
              "   5: 0.9726499999999999,\n",
              "   6: 0.9730333333333334,\n",
              "   7: 0.9712833333333334,\n",
              "   8: 0.9718666666666667,\n",
              "   9: 0.9705833333333334,\n",
              "   10: 0.9704666666666667},\n",
              "  'euclidean': {1: 0.9674666666666667,\n",
              "   2: 0.9674666666666667,\n",
              "   3: 0.9693666666666667,\n",
              "   4: 0.9704,\n",
              "   5: 0.96875,\n",
              "   6: 0.9694333333333334,\n",
              "   7: 0.9667666666666667,\n",
              "   8: 0.96735,\n",
              "   9: 0.9650333333333334,\n",
              "   10: 0.9650166666666666}}]"
            ]
          },
          "metadata": {},
          "execution_count": 44
        }
      ]
    },
    {
      "cell_type": "code",
      "metadata": {
        "id": "VwlptGEWkcW6",
        "colab": {
          "base_uri": "https://localhost:8080/",
          "height": 202
        },
        "outputId": "e94f48cc-3d9f-4c3c-e237-c83b7f2e575e"
      },
      "source": [
        "import numpy as np\n",
        "from matplotlib import pyplot as plt\n",
        "\n",
        "import matplotlib_inline\n",
        "matplotlib_inline.backend_inline.set_matplotlib_formats('pdf', 'svg')"
      ],
      "execution_count": null,
      "outputs": [
        {
          "output_type": "error",
          "ename": "AttributeError",
          "evalue": "ignored",
          "traceback": [
            "\u001b[0;31m---------------------------------------------------------------------------\u001b[0m",
            "\u001b[0;31mAttributeError\u001b[0m                            Traceback (most recent call last)",
            "\u001b[0;32m<ipython-input-46-13e99f3cdb1d>\u001b[0m in \u001b[0;36m<module>\u001b[0;34m()\u001b[0m\n\u001b[1;32m      3\u001b[0m \u001b[0;34m\u001b[0m\u001b[0m\n\u001b[1;32m      4\u001b[0m \u001b[0;32mimport\u001b[0m \u001b[0mmatplotlib_inline\u001b[0m\u001b[0;34m\u001b[0m\u001b[0;34m\u001b[0m\u001b[0m\n\u001b[0;32m----> 5\u001b[0;31m \u001b[0mmatplotlib_inline\u001b[0m\u001b[0;34m.\u001b[0m\u001b[0mbackend_inline\u001b[0m\u001b[0;34m.\u001b[0m\u001b[0mset_matplotlib_formats\u001b[0m\u001b[0;34m(\u001b[0m\u001b[0;34m'pdf'\u001b[0m\u001b[0;34m,\u001b[0m \u001b[0;34m'svg'\u001b[0m\u001b[0;34m)\u001b[0m\u001b[0;34m\u001b[0m\u001b[0;34m\u001b[0m\u001b[0m\n\u001b[0m",
            "\u001b[0;31mAttributeError\u001b[0m: module 'matplotlib_inline' has no attribute 'backend_inline'"
          ]
        }
      ]
    },
    {
      "cell_type": "markdown",
      "metadata": {
        "id": "08WxWwV4gCdj"
      },
      "source": [
        "## Эксперимент 6"
      ]
    },
    {
      "cell_type": "code",
      "metadata": {
        "id": "sMOdJwHugFyQ"
      },
      "source": [
        "clf = KNNClassifier(4, 'brute', 'cosine', True)\n",
        "clf.fit(X_train, y_train)"
      ],
      "execution_count": null,
      "outputs": []
    },
    {
      "cell_type": "code",
      "metadata": {
        "id": "yQYK8BsHfnTx"
      },
      "source": [
        "scores = \n",
        "for angle in [-15, -10, -5, 5, 10, 15]:\n",
        "  y = clf.predict(np.apply_along_axis(rotation_func, -1, X)), axis=0)\n",
        "  score_rotation.append(s)\n",
        "  print(angle, s)"
      ],
      "execution_count": null,
      "outputs": []
    },
    {
      "cell_type": "code",
      "metadata": {
        "id": "Ab7lZFKaPrU6"
      },
      "source": [
        "\n",
        "\n"
      ],
      "execution_count": null,
      "outputs": []
    },
    {
      "cell_type": "code",
      "metadata": {
        "ExecuteTime": {
          "end_time": "2021-09-27T11:39:20.309186Z",
          "start_time": "2021-09-27T11:39:20.053187Z"
        },
        "id": "g6LXfRxKGJ2T"
      },
      "source": [
        "import numpy as np\n",
        "from matplotlib import pyplot as plt\n",
        "\n",
        "from IPython.display import set_matplotlib_formats\n",
        "set_matplotlib_formats('pdf', 'svg')"
      ],
      "execution_count": null,
      "outputs": []
    },
    {
      "cell_type": "code",
      "metadata": {
        "id": "R4WKM7zaRoqj"
      },
      "source": [
        "a = [{'euclidean': {1: 0.9678714036607117, 2: 0.9620285634540031, 3: 0.9687856981507553, 4: 0.9672142673338193, 5: 0.9673571271297582, 6: 0.9663999761090759, 7: 0.9667285516193558, 8: 0.9656714138637494, 9: 0.9648142667206038, 10: 0.9645428446795833}, 'cosine': {1: 0.9720999712135132, 2: 0.9690142501919419, 3: 0.9730999806015425, 4: 0.9723142685603733, 5: 0.9723999822338865, 6: 0.9720142789682655, 7: 0.970928551008834, 8: 0.9707142726412946, 9: 0.969885699171598, 10: 0.9697285577429419}}, {'euclidean': {1: 0.9678714036607117, 2: 0.9678714036607117, 3: 0.969985693865592, 4: 0.9704428334576619, 5: 0.9685999830486504, 6: 0.9692713997837873, 7: 0.9677571193749303, 8: 0.9680285548851458, 9: 0.9662428401905454, 10: 0.9662856948844754}, 'cosine': {1: 0.9720999712135132, 2: 0.9720999712135132, 3: 0.9735999834588486, 4: 0.9740999801937931, 5: 0.9734857040709564, 6: 0.9736999812140236, 7: 0.9721856989684579, 8: 0.9724999848869506, 9: 0.9711999803966882, 10: 0.9711285606006154}}, {'euclidean': {1: 0.9674666666666667, 2: 0.9605, 3: 0.9683166666666668, 4: 0.9669499999999999, 5: 0.9675333333333334, 6: 0.9653999999999999, 7: 0.9652666666666666, 8: 0.9644333333333334, 9: 0.9638166666666667, 10: 0.9627833333333333}, 'cosine': {1: 0.9715166666666667, 2: 0.9677000000000001, 3: 0.9720333333333334, 4: 0.9718833333333333, 5: 0.9714999999999999, 6: 0.9712666666666667, 7: 0.97005, 8: 0.9703833333333334, 9: 0.9692500000000001, 10: 0.9687333333333333}}, {'euclidean': {1: 0.9674666666666667, 2: 0.9674666666666667, 3: 0.9693666666666667, 4: 0.9704, 5: 0.96875, 6: 0.9694333333333334, 7: 0.9667666666666667, 8: 0.96735, 9: 0.9650333333333334, 10: 0.9650166666666666}, 'cosine': {1: 0.9715166666666667, 2: 0.9715166666666667, 3: 0.9730666666666666, 4: 0.9741, 5: 0.9726499999999999, 6: 0.9730333333333334, 7: 0.9712833333333334, 8: 0.9718666666666667, 9: 0.9705833333333334, 10: 0.9704666666666667}}]\n",
        "a = a[:2]"
      ],
      "execution_count": null,
      "outputs": []
    },
    {
      "cell_type": "code",
      "metadata": {
        "colab": {
          "base_uri": "https://localhost:8080/"
        },
        "id": "4DIgXNu-RqtM",
        "outputId": "233fd69d-c883-4a24-bf44-262f0bfeb038"
      },
      "source": [
        "for acc in a:\n",
        "  for m in acc:\n",
        "    print(list(acc[m].values()))\n",
        "    min_key = min(acc[m], key=acc[m].get)\n",
        "    # print(m, min_key, acc[m][min_key])"
      ],
      "execution_count": null,
      "outputs": [
        {
          "output_type": "stream",
          "name": "stdout",
          "text": [
            "[0.9678714036607117, 0.9620285634540031, 0.9687856981507553, 0.9672142673338193, 0.9673571271297582, 0.9663999761090759, 0.9667285516193558, 0.9656714138637494, 0.9648142667206038, 0.9645428446795833]\n",
            "[0.9720999712135132, 0.9690142501919419, 0.9730999806015425, 0.9723142685603733, 0.9723999822338865, 0.9720142789682655, 0.970928551008834, 0.9707142726412946, 0.969885699171598, 0.9697285577429419]\n",
            "[0.9678714036607117, 0.9678714036607117, 0.969985693865592, 0.9704428334576619, 0.9685999830486504, 0.9692713997837873, 0.9677571193749303, 0.9680285548851458, 0.9662428401905454, 0.9662856948844754]\n",
            "[0.9720999712135132, 0.9720999712135132, 0.9735999834588486, 0.9740999801937931, 0.9734857040709564, 0.9736999812140236, 0.9721856989684579, 0.9724999848869506, 0.9711999803966882, 0.9711285606006154]\n"
          ]
        }
      ]
    },
    {
      "cell_type": "code",
      "metadata": {
        "colab": {
          "base_uri": "https://localhost:8080/"
        },
        "id": "5uKj4u67UMWy",
        "outputId": "76cb5aa9-1aa2-4b9b-f7c6-737f19abe8ef"
      },
      "source": [
        "np.arange(1, 11)"
      ],
      "execution_count": null,
      "outputs": [
        {
          "output_type": "execute_result",
          "data": {
            "text/plain": [
              "array([ 1,  2,  3,  4,  5,  6,  7,  8,  9, 10])"
            ]
          },
          "metadata": {},
          "execution_count": 28
        }
      ]
    },
    {
      "cell_type": "code",
      "metadata": {
        "id": "Bsgmfr1TdXeq"
      },
      "source": [
        "\n",
        "from google.colab import files"
      ],
      "execution_count": null,
      "outputs": []
    },
    {
      "cell_type": "code",
      "metadata": {
        "colab": {
          "base_uri": "https://localhost:8080/",
          "height": 494
        },
        "id": "8VOmBJ5sPgpu",
        "outputId": "b683b0ed-29be-49b7-974a-0cc88c143f7f"
      },
      "source": [
        "with plt.style.context(\"default\"):\n",
        "    fig = plt.figure(figsize=(10, 5))\n",
        "    ax = fig.add_subplot()\n",
        "    \n",
        "    plt.title(\"Сравнение эффективности алгоритмов по точности\", fontsize=20)\n",
        "    plt.xlabel(\"Количество соседей\", fontsize=18)\n",
        "    plt.ylabel(\"Точность\", fontsize=18)\n",
        "    ax.set_xticks(np.arange(1, 11))\n",
        "    ax.set_xticklabels(np.arange(1, 11), fontsize=14)\n",
        "    # ax.set_yticklabels(np.linspace(0.96, 0.99, 7), rotation=45, fontsize=14)\n",
        "\n",
        "    lw = 2\n",
        "    color = [\"darkblue\", \"darkred\", \"royalblue\", \"lightcoral\"]\n",
        "    labels = ['weights=False, Euclidean', 'weights=False, Cosine','weights=True, Euclidean', 'weights=True, Cosine']\n",
        "    i = 0\n",
        "    for acc in a:\n",
        "      for m in acc:\n",
        "        plt.plot(np.arange(1, 11), list(acc[m].values()), color=color[i], linewidth=lw, label=labels[i])\n",
        "        i += 1\n",
        "\n",
        "    plt.legend(loc='upper right', borderaxespad=0.)\n",
        "    plt.grid()\n",
        "    #plt.ylim(-10,400)\n",
        "    \n",
        "    fig.savefig(\"plot_1.pdf\", bbox_inches = 'tight')\n",
        "    files.download('plot_1.pdf')\n",
        "\n",
        "    plt.show()"
      ],
      "execution_count": null,
      "outputs": [
        {
          "output_type": "display_data",
          "data": {
            "application/javascript": [
              "\n",
              "    async function download(id, filename, size) {\n",
              "      if (!google.colab.kernel.accessAllowed) {\n",
              "        return;\n",
              "      }\n",
              "      const div = document.createElement('div');\n",
              "      const label = document.createElement('label');\n",
              "      label.textContent = `Downloading \"${filename}\": `;\n",
              "      div.appendChild(label);\n",
              "      const progress = document.createElement('progress');\n",
              "      progress.max = size;\n",
              "      div.appendChild(progress);\n",
              "      document.body.appendChild(div);\n",
              "\n",
              "      const buffers = [];\n",
              "      let downloaded = 0;\n",
              "\n",
              "      const channel = await google.colab.kernel.comms.open(id);\n",
              "      // Send a message to notify the kernel that we're ready.\n",
              "      channel.send({})\n",
              "\n",
              "      for await (const message of channel.messages) {\n",
              "        // Send a message to notify the kernel that we're ready.\n",
              "        channel.send({})\n",
              "        if (message.buffers) {\n",
              "          for (const buffer of message.buffers) {\n",
              "            buffers.push(buffer);\n",
              "            downloaded += buffer.byteLength;\n",
              "            progress.value = downloaded;\n",
              "          }\n",
              "        }\n",
              "      }\n",
              "      const blob = new Blob(buffers, {type: 'application/binary'});\n",
              "      const a = document.createElement('a');\n",
              "      a.href = window.URL.createObjectURL(blob);\n",
              "      a.download = filename;\n",
              "      div.appendChild(a);\n",
              "      a.click();\n",
              "      div.remove();\n",
              "    }\n",
              "  "
            ],
            "text/plain": [
              "<IPython.core.display.Javascript object>"
            ]
          },
          "metadata": {}
        },
        {
          "output_type": "display_data",
          "data": {
            "application/javascript": [
              "download(\"download_c59b6e83-774c-4ada-ae5e-0fd3b63e2cbb\", \"plot_1.pdf\", 22275)"
            ],
            "text/plain": [
              "<IPython.core.display.Javascript object>"
            ]
          },
          "metadata": {}
        },
        {
          "output_type": "display_data",
          "data": {
            "application/pdf": "[encoded data removed]",
            "text/plain": [
              "<Figure size 1000x500 with 1 Axes>"
            ],
            "image/svg+xml": "<?xml version=\"1.0\" encoding=\"utf-8\" standalone=\"no\"?>\n<!DOCTYPE svg PUBLIC \"-//W3C//DTD SVG 1.1//EN\"\n  \"http://www.w3.org/Graphics/SVG/1.1/DTD/svg11.dtd\">\n<!-- Created with matplotlib (https://matplotlib.org/) -->\n<svg height=\"354.766875pt\" version=\"1.1\" viewBox=\"0 0 629.44875 354.766875\" width=\"629.44875pt\" xmlns=\"http://www.w3.org/2000/svg\" xmlns:xlink=\"http://www.w3.org/1999/xlink\">\n <defs>\n  <style type=\"text/css\">\n*{stroke-linecap:butt;stroke-linejoin:round;}\n  </style>\n </defs>\n <g id=\"figure_1\">\n  <g id=\"patch_1\">\n   <path d=\"M -0 354.766875 \nL 629.44875 354.766875 \nL 629.44875 0 \nL -0 0 \nz\n\" style=\"fill:#ffffff;\"/>\n  </g>\n  <g id=\"axes_1\">\n   <g id=\"patch_2\">\n    <path d=\"M 64.24875 305.596875 \nL 622.24875 305.596875 \nL 622.24875 28.396875 \nL 64.24875 28.396875 \nz\n\" style=\"fill:#ffffff;\"/>\n   </g>\n   <g id=\"matplotlib.axis_1\">\n    <g id=\"xtick_1\">\n     <g id=\"line2d_1\">\n      <path clip-path=\"url(#pf93a074da6)\" d=\"M 89.612386 305.596875 \nL 89.612386 28.396875 \n\" style=\"fill:none;stroke:#b0b0b0;stroke-linecap:square;stroke-width:0.8;\"/>\n     </g>\n     <g id=\"line2d_2\">\n      <defs>\n       <path d=\"M 0 0 \nL 0 3.5 \n\" id=\"mf84df52dc6\" style=\"stroke:#000000;stroke-width:0.8;\"/>\n      </defs>\n      <g>\n       <use style=\"stroke:#000000;stroke-width:0.8;\" x=\"89.612386\" xlink:href=\"#mf84df52dc6\" y=\"305.596875\"/>\n      </g>\n     </g>\n     <g id=\"text_1\">\n      <!-- 1 -->\n      <defs>\n       <path d=\"M 12.40625 8.296875 \nL 28.515625 8.296875 \nL 28.515625 63.921875 \nL 10.984375 60.40625 \nL 10.984375 69.390625 \nL 28.421875 72.90625 \nL 38.28125 72.90625 \nL 38.28125 8.296875 \nL 54.390625 8.296875 \nL 54.390625 0 \nL 12.40625 0 \nz\n\" id=\"DejaVuSans-49\"/>\n      </defs>\n      <g transform=\"translate(85.158636 323.234687)scale(0.14 -0.14)\">\n       <use xlink:href=\"#DejaVuSans-49\"/>\n      </g>\n     </g>\n    </g>\n    <g id=\"xtick_2\">\n     <g id=\"line2d_3\">\n      <path clip-path=\"url(#pf93a074da6)\" d=\"M 145.976023 305.596875 \nL 145.976023 28.396875 \n\" style=\"fill:none;stroke:#b0b0b0;stroke-linecap:square;stroke-width:0.8;\"/>\n     </g>\n     <g id=\"line2d_4\">\n      <g>\n       <use style=\"stroke:#000000;stroke-width:0.8;\" x=\"145.976023\" xlink:href=\"#mf84df52dc6\" y=\"305.596875\"/>\n      </g>\n     </g>\n     <g id=\"text_2\">\n      <!-- 2 -->\n      <defs>\n       <path d=\"M 19.1875 8.296875 \nL 53.609375 8.296875 \nL 53.609375 0 \nL 7.328125 0 \nL 7.328125 8.296875 \nQ 12.9375 14.109375 22.625 23.890625 \nQ 32.328125 33.6875 34.8125 36.53125 \nQ 39.546875 41.84375 41.421875 45.53125 \nQ 43.3125 49.21875 43.3125 52.78125 \nQ 43.3125 58.59375 39.234375 62.25 \nQ 35.15625 65.921875 28.609375 65.921875 \nQ 23.96875 65.921875 18.8125 64.3125 \nQ 13.671875 62.703125 7.8125 59.421875 \nL 7.8125 69.390625 \nQ 13.765625 71.78125 18.9375 73 \nQ 24.125 74.21875 28.421875 74.21875 \nQ 39.75 74.21875 46.484375 68.546875 \nQ 53.21875 62.890625 53.21875 53.421875 \nQ 53.21875 48.921875 51.53125 44.890625 \nQ 49.859375 40.875 45.40625 35.40625 \nQ 44.1875 33.984375 37.640625 27.21875 \nQ 31.109375 20.453125 19.1875 8.296875 \nz\n\" id=\"DejaVuSans-50\"/>\n      </defs>\n      <g transform=\"translate(141.522273 323.234687)scale(0.14 -0.14)\">\n       <use xlink:href=\"#DejaVuSans-50\"/>\n      </g>\n     </g>\n    </g>\n    <g id=\"xtick_3\">\n     <g id=\"line2d_5\">\n      <path clip-path=\"url(#pf93a074da6)\" d=\"M 202.339659 305.596875 \nL 202.339659 28.396875 \n\" style=\"fill:none;stroke:#b0b0b0;stroke-linecap:square;stroke-width:0.8;\"/>\n     </g>\n     <g id=\"line2d_6\">\n      <g>\n       <use style=\"stroke:#000000;stroke-width:0.8;\" x=\"202.339659\" xlink:href=\"#mf84df52dc6\" y=\"305.596875\"/>\n      </g>\n     </g>\n     <g id=\"text_3\">\n      <!-- 3 -->\n      <defs>\n       <path d=\"M 40.578125 39.3125 \nQ 47.65625 37.796875 51.625 33 \nQ 55.609375 28.21875 55.609375 21.1875 \nQ 55.609375 10.40625 48.1875 4.484375 \nQ 40.765625 -1.421875 27.09375 -1.421875 \nQ 22.515625 -1.421875 17.65625 -0.515625 \nQ 12.796875 0.390625 7.625 2.203125 \nL 7.625 11.71875 \nQ 11.71875 9.328125 16.59375 8.109375 \nQ 21.484375 6.890625 26.8125 6.890625 \nQ 36.078125 6.890625 40.9375 10.546875 \nQ 45.796875 14.203125 45.796875 21.1875 \nQ 45.796875 27.640625 41.28125 31.265625 \nQ 36.765625 34.90625 28.71875 34.90625 \nL 20.21875 34.90625 \nL 20.21875 43.015625 \nL 29.109375 43.015625 \nQ 36.375 43.015625 40.234375 45.921875 \nQ 44.09375 48.828125 44.09375 54.296875 \nQ 44.09375 59.90625 40.109375 62.90625 \nQ 36.140625 65.921875 28.71875 65.921875 \nQ 24.65625 65.921875 20.015625 65.03125 \nQ 15.375 64.15625 9.8125 62.3125 \nL 9.8125 71.09375 \nQ 15.4375 72.65625 20.34375 73.4375 \nQ 25.25 74.21875 29.59375 74.21875 \nQ 40.828125 74.21875 47.359375 69.109375 \nQ 53.90625 64.015625 53.90625 55.328125 \nQ 53.90625 49.265625 50.4375 45.09375 \nQ 46.96875 40.921875 40.578125 39.3125 \nz\n\" id=\"DejaVuSans-51\"/>\n      </defs>\n      <g transform=\"translate(197.885909 323.234687)scale(0.14 -0.14)\">\n       <use xlink:href=\"#DejaVuSans-51\"/>\n      </g>\n     </g>\n    </g>\n    <g id=\"xtick_4\">\n     <g id=\"line2d_7\">\n      <path clip-path=\"url(#pf93a074da6)\" d=\"M 258.703295 305.596875 \nL 258.703295 28.396875 \n\" style=\"fill:none;stroke:#b0b0b0;stroke-linecap:square;stroke-width:0.8;\"/>\n     </g>\n     <g id=\"line2d_8\">\n      <g>\n       <use style=\"stroke:#000000;stroke-width:0.8;\" x=\"258.703295\" xlink:href=\"#mf84df52dc6\" y=\"305.596875\"/>\n      </g>\n     </g>\n     <g id=\"text_4\">\n      <!-- 4 -->\n      <defs>\n       <path d=\"M 37.796875 64.3125 \nL 12.890625 25.390625 \nL 37.796875 25.390625 \nz\nM 35.203125 72.90625 \nL 47.609375 72.90625 \nL 47.609375 25.390625 \nL 58.015625 25.390625 \nL 58.015625 17.1875 \nL 47.609375 17.1875 \nL 47.609375 0 \nL 37.796875 0 \nL 37.796875 17.1875 \nL 4.890625 17.1875 \nL 4.890625 26.703125 \nz\n\" id=\"DejaVuSans-52\"/>\n      </defs>\n      <g transform=\"translate(254.249545 323.234687)scale(0.14 -0.14)\">\n       <use xlink:href=\"#DejaVuSans-52\"/>\n      </g>\n     </g>\n    </g>\n    <g id=\"xtick_5\">\n     <g id=\"line2d_9\">\n      <path clip-path=\"url(#pf93a074da6)\" d=\"M 315.066932 305.596875 \nL 315.066932 28.396875 \n\" style=\"fill:none;stroke:#b0b0b0;stroke-linecap:square;stroke-width:0.8;\"/>\n     </g>\n     <g id=\"line2d_10\">\n      <g>\n       <use style=\"stroke:#000000;stroke-width:0.8;\" x=\"315.066932\" xlink:href=\"#mf84df52dc6\" y=\"305.596875\"/>\n      </g>\n     </g>\n     <g id=\"text_5\">\n      <!-- 5 -->\n      <defs>\n       <path d=\"M 10.796875 72.90625 \nL 49.515625 72.90625 \nL 49.515625 64.59375 \nL 19.828125 64.59375 \nL 19.828125 46.734375 \nQ 21.96875 47.46875 24.109375 47.828125 \nQ 26.265625 48.1875 28.421875 48.1875 \nQ 40.625 48.1875 47.75 41.5 \nQ 54.890625 34.8125 54.890625 23.390625 \nQ 54.890625 11.625 47.5625 5.09375 \nQ 40.234375 -1.421875 26.90625 -1.421875 \nQ 22.3125 -1.421875 17.546875 -0.640625 \nQ 12.796875 0.140625 7.71875 1.703125 \nL 7.71875 11.625 \nQ 12.109375 9.234375 16.796875 8.0625 \nQ 21.484375 6.890625 26.703125 6.890625 \nQ 35.15625 6.890625 40.078125 11.328125 \nQ 45.015625 15.765625 45.015625 23.390625 \nQ 45.015625 31 40.078125 35.4375 \nQ 35.15625 39.890625 26.703125 39.890625 \nQ 22.75 39.890625 18.8125 39.015625 \nQ 14.890625 38.140625 10.796875 36.28125 \nz\n\" id=\"DejaVuSans-53\"/>\n      </defs>\n      <g transform=\"translate(310.613182 323.234687)scale(0.14 -0.14)\">\n       <use xlink:href=\"#DejaVuSans-53\"/>\n      </g>\n     </g>\n    </g>\n    <g id=\"xtick_6\">\n     <g id=\"line2d_11\">\n      <path clip-path=\"url(#pf93a074da6)\" d=\"M 371.430568 305.596875 \nL 371.430568 28.396875 \n\" style=\"fill:none;stroke:#b0b0b0;stroke-linecap:square;stroke-width:0.8;\"/>\n     </g>\n     <g id=\"line2d_12\">\n      <g>\n       <use style=\"stroke:#000000;stroke-width:0.8;\" x=\"371.430568\" xlink:href=\"#mf84df52dc6\" y=\"305.596875\"/>\n      </g>\n     </g>\n     <g id=\"text_6\">\n      <!-- 6 -->\n      <defs>\n       <path d=\"M 33.015625 40.375 \nQ 26.375 40.375 22.484375 35.828125 \nQ 18.609375 31.296875 18.609375 23.390625 \nQ 18.609375 15.53125 22.484375 10.953125 \nQ 26.375 6.390625 33.015625 6.390625 \nQ 39.65625 6.390625 43.53125 10.953125 \nQ 47.40625 15.53125 47.40625 23.390625 \nQ 47.40625 31.296875 43.53125 35.828125 \nQ 39.65625 40.375 33.015625 40.375 \nz\nM 52.59375 71.296875 \nL 52.59375 62.3125 \nQ 48.875 64.0625 45.09375 64.984375 \nQ 41.3125 65.921875 37.59375 65.921875 \nQ 27.828125 65.921875 22.671875 59.328125 \nQ 17.53125 52.734375 16.796875 39.40625 \nQ 19.671875 43.65625 24.015625 45.921875 \nQ 28.375 48.1875 33.59375 48.1875 \nQ 44.578125 48.1875 50.953125 41.515625 \nQ 57.328125 34.859375 57.328125 23.390625 \nQ 57.328125 12.15625 50.6875 5.359375 \nQ 44.046875 -1.421875 33.015625 -1.421875 \nQ 20.359375 -1.421875 13.671875 8.265625 \nQ 6.984375 17.96875 6.984375 36.375 \nQ 6.984375 53.65625 15.1875 63.9375 \nQ 23.390625 74.21875 37.203125 74.21875 \nQ 40.921875 74.21875 44.703125 73.484375 \nQ 48.484375 72.75 52.59375 71.296875 \nz\n\" id=\"DejaVuSans-54\"/>\n      </defs>\n      <g transform=\"translate(366.976818 323.234687)scale(0.14 -0.14)\">\n       <use xlink:href=\"#DejaVuSans-54\"/>\n      </g>\n     </g>\n    </g>\n    <g id=\"xtick_7\">\n     <g id=\"line2d_13\">\n      <path clip-path=\"url(#pf93a074da6)\" d=\"M 427.794205 305.596875 \nL 427.794205 28.396875 \n\" style=\"fill:none;stroke:#b0b0b0;stroke-linecap:square;stroke-width:0.8;\"/>\n     </g>\n     <g id=\"line2d_14\">\n      <g>\n       <use style=\"stroke:#000000;stroke-width:0.8;\" x=\"427.794205\" xlink:href=\"#mf84df52dc6\" y=\"305.596875\"/>\n      </g>\n     </g>\n     <g id=\"text_7\">\n      <!-- 7 -->\n      <defs>\n       <path d=\"M 8.203125 72.90625 \nL 55.078125 72.90625 \nL 55.078125 68.703125 \nL 28.609375 0 \nL 18.3125 0 \nL 43.21875 64.59375 \nL 8.203125 64.59375 \nz\n\" id=\"DejaVuSans-55\"/>\n      </defs>\n      <g transform=\"translate(423.340455 323.234687)scale(0.14 -0.14)\">\n       <use xlink:href=\"#DejaVuSans-55\"/>\n      </g>\n     </g>\n    </g>\n    <g id=\"xtick_8\">\n     <g id=\"line2d_15\">\n      <path clip-path=\"url(#pf93a074da6)\" d=\"M 484.157841 305.596875 \nL 484.157841 28.396875 \n\" style=\"fill:none;stroke:#b0b0b0;stroke-linecap:square;stroke-width:0.8;\"/>\n     </g>\n     <g id=\"line2d_16\">\n      <g>\n       <use style=\"stroke:#000000;stroke-width:0.8;\" x=\"484.157841\" xlink:href=\"#mf84df52dc6\" y=\"305.596875\"/>\n      </g>\n     </g>\n     <g id=\"text_8\">\n      <!-- 8 -->\n      <defs>\n       <path d=\"M 31.78125 34.625 \nQ 24.75 34.625 20.71875 30.859375 \nQ 16.703125 27.09375 16.703125 20.515625 \nQ 16.703125 13.921875 20.71875 10.15625 \nQ 24.75 6.390625 31.78125 6.390625 \nQ 38.8125 6.390625 42.859375 10.171875 \nQ 46.921875 13.96875 46.921875 20.515625 \nQ 46.921875 27.09375 42.890625 30.859375 \nQ 38.875 34.625 31.78125 34.625 \nz\nM 21.921875 38.8125 \nQ 15.578125 40.375 12.03125 44.71875 \nQ 8.5 49.078125 8.5 55.328125 \nQ 8.5 64.0625 14.71875 69.140625 \nQ 20.953125 74.21875 31.78125 74.21875 \nQ 42.671875 74.21875 48.875 69.140625 \nQ 55.078125 64.0625 55.078125 55.328125 \nQ 55.078125 49.078125 51.53125 44.71875 \nQ 48 40.375 41.703125 38.8125 \nQ 48.828125 37.15625 52.796875 32.3125 \nQ 56.78125 27.484375 56.78125 20.515625 \nQ 56.78125 9.90625 50.3125 4.234375 \nQ 43.84375 -1.421875 31.78125 -1.421875 \nQ 19.734375 -1.421875 13.25 4.234375 \nQ 6.78125 9.90625 6.78125 20.515625 \nQ 6.78125 27.484375 10.78125 32.3125 \nQ 14.796875 37.15625 21.921875 38.8125 \nz\nM 18.3125 54.390625 \nQ 18.3125 48.734375 21.84375 45.5625 \nQ 25.390625 42.390625 31.78125 42.390625 \nQ 38.140625 42.390625 41.71875 45.5625 \nQ 45.3125 48.734375 45.3125 54.390625 \nQ 45.3125 60.0625 41.71875 63.234375 \nQ 38.140625 66.40625 31.78125 66.40625 \nQ 25.390625 66.40625 21.84375 63.234375 \nQ 18.3125 60.0625 18.3125 54.390625 \nz\n\" id=\"DejaVuSans-56\"/>\n      </defs>\n      <g transform=\"translate(479.704091 323.234687)scale(0.14 -0.14)\">\n       <use xlink:href=\"#DejaVuSans-56\"/>\n      </g>\n     </g>\n    </g>\n    <g id=\"xtick_9\">\n     <g id=\"line2d_17\">\n      <path clip-path=\"url(#pf93a074da6)\" d=\"M 540.521477 305.596875 \nL 540.521477 28.396875 \n\" style=\"fill:none;stroke:#b0b0b0;stroke-linecap:square;stroke-width:0.8;\"/>\n     </g>\n     <g id=\"line2d_18\">\n      <g>\n       <use style=\"stroke:#000000;stroke-width:0.8;\" x=\"540.521477\" xlink:href=\"#mf84df52dc6\" y=\"305.596875\"/>\n      </g>\n     </g>\n     <g id=\"text_9\">\n      <!-- 9 -->\n      <defs>\n       <path d=\"M 10.984375 1.515625 \nL 10.984375 10.5 \nQ 14.703125 8.734375 18.5 7.8125 \nQ 22.3125 6.890625 25.984375 6.890625 \nQ 35.75 6.890625 40.890625 13.453125 \nQ 46.046875 20.015625 46.78125 33.40625 \nQ 43.953125 29.203125 39.59375 26.953125 \nQ 35.25 24.703125 29.984375 24.703125 \nQ 19.046875 24.703125 12.671875 31.3125 \nQ 6.296875 37.9375 6.296875 49.421875 \nQ 6.296875 60.640625 12.9375 67.421875 \nQ 19.578125 74.21875 30.609375 74.21875 \nQ 43.265625 74.21875 49.921875 64.515625 \nQ 56.59375 54.828125 56.59375 36.375 \nQ 56.59375 19.140625 48.40625 8.859375 \nQ 40.234375 -1.421875 26.421875 -1.421875 \nQ 22.703125 -1.421875 18.890625 -0.6875 \nQ 15.09375 0.046875 10.984375 1.515625 \nz\nM 30.609375 32.421875 \nQ 37.25 32.421875 41.125 36.953125 \nQ 45.015625 41.5 45.015625 49.421875 \nQ 45.015625 57.28125 41.125 61.84375 \nQ 37.25 66.40625 30.609375 66.40625 \nQ 23.96875 66.40625 20.09375 61.84375 \nQ 16.21875 57.28125 16.21875 49.421875 \nQ 16.21875 41.5 20.09375 36.953125 \nQ 23.96875 32.421875 30.609375 32.421875 \nz\n\" id=\"DejaVuSans-57\"/>\n      </defs>\n      <g transform=\"translate(536.067727 323.234687)scale(0.14 -0.14)\">\n       <use xlink:href=\"#DejaVuSans-57\"/>\n      </g>\n     </g>\n    </g>\n    <g id=\"xtick_10\">\n     <g id=\"line2d_19\">\n      <path clip-path=\"url(#pf93a074da6)\" d=\"M 596.885114 305.596875 \nL 596.885114 28.396875 \n\" style=\"fill:none;stroke:#b0b0b0;stroke-linecap:square;stroke-width:0.8;\"/>\n     </g>\n     <g id=\"line2d_20\">\n      <g>\n       <use style=\"stroke:#000000;stroke-width:0.8;\" x=\"596.885114\" xlink:href=\"#mf84df52dc6\" y=\"305.596875\"/>\n      </g>\n     </g>\n     <g id=\"text_10\">\n      <!-- 10 -->\n      <defs>\n       <path d=\"M 31.78125 66.40625 \nQ 24.171875 66.40625 20.328125 58.90625 \nQ 16.5 51.421875 16.5 36.375 \nQ 16.5 21.390625 20.328125 13.890625 \nQ 24.171875 6.390625 31.78125 6.390625 \nQ 39.453125 6.390625 43.28125 13.890625 \nQ 47.125 21.390625 47.125 36.375 \nQ 47.125 51.421875 43.28125 58.90625 \nQ 39.453125 66.40625 31.78125 66.40625 \nz\nM 31.78125 74.21875 \nQ 44.046875 74.21875 50.515625 64.515625 \nQ 56.984375 54.828125 56.984375 36.375 \nQ 56.984375 17.96875 50.515625 8.265625 \nQ 44.046875 -1.421875 31.78125 -1.421875 \nQ 19.53125 -1.421875 13.0625 8.265625 \nQ 6.59375 17.96875 6.59375 36.375 \nQ 6.59375 54.828125 13.0625 64.515625 \nQ 19.53125 74.21875 31.78125 74.21875 \nz\n\" id=\"DejaVuSans-48\"/>\n      </defs>\n      <g transform=\"translate(587.977614 323.234687)scale(0.14 -0.14)\">\n       <use xlink:href=\"#DejaVuSans-49\"/>\n       <use x=\"63.623047\" xlink:href=\"#DejaVuSans-48\"/>\n      </g>\n     </g>\n    </g>\n    <g id=\"text_11\">\n     <!-- Количество соседей -->\n     <defs>\n      <path d=\"M 9.8125 72.90625 \nL 19.671875 72.90625 \nL 19.671875 36.859375 \nL 54.9375 72.90625 \nL 67.578125 72.90625 \nL 39.40625 44.09375 \nL 69.046875 0 \nL 58.296875 0 \nL 33.015625 37.546875 \nL 19.671875 23.921875 \nL 19.671875 0 \nL 9.8125 0 \nz\n\" id=\"DejaVuSans-1050\"/>\n      <path d=\"M 30.609375 48.390625 \nQ 23.390625 48.390625 19.1875 42.75 \nQ 14.984375 37.109375 14.984375 27.296875 \nQ 14.984375 17.484375 19.15625 11.84375 \nQ 23.34375 6.203125 30.609375 6.203125 \nQ 37.796875 6.203125 41.984375 11.859375 \nQ 46.1875 17.53125 46.1875 27.296875 \nQ 46.1875 37.015625 41.984375 42.703125 \nQ 37.796875 48.390625 30.609375 48.390625 \nz\nM 30.609375 56 \nQ 42.328125 56 49.015625 48.375 \nQ 55.71875 40.765625 55.71875 27.296875 \nQ 55.71875 13.875 49.015625 6.21875 \nQ 42.328125 -1.421875 30.609375 -1.421875 \nQ 18.84375 -1.421875 12.171875 6.21875 \nQ 5.515625 13.875 5.515625 27.296875 \nQ 5.515625 40.765625 12.171875 48.375 \nQ 18.84375 56 30.609375 56 \nz\n\" id=\"DejaVuSans-1086\"/>\n      <path d=\"M 3.71875 0 \nL 3.71875 7.46875 \nQ 12.59375 8.84375 15.328125 14.984375 \nQ 18.65625 23.640625 18.65625 45.75 \nL 18.65625 54.6875 \nL 55.609375 54.6875 \nL 55.609375 0 \nL 46.625 0 \nL 46.625 47.515625 \nL 27.640625 47.515625 \nL 27.640625 42.09375 \nQ 27.640625 21 23.34375 11.53125 \nQ 18.75 1.421875 3.71875 0 \nz\n\" id=\"DejaVuSans-1083\"/>\n      <path d=\"M 55.90625 54.6875 \nL 55.90625 0 \nL 46.96875 0 \nL 46.96875 43.890625 \nL 20.609375 0 \nL 9.078125 0 \nL 9.078125 54.6875 \nL 18.015625 54.6875 \nL 18.015625 10.890625 \nL 44.34375 54.6875 \nz\n\" id=\"DejaVuSans-1080\"/>\n      <path d=\"M 41.015625 0 \nL 41.015625 23 \nL 24.265625 23 \nQ 16.796875 23 11.8125 27.640625 \nQ 7.328125 31.84375 7.328125 40.828125 \nL 7.328125 54.6875 \nL 16.3125 54.6875 \nL 16.3125 41.65625 \nQ 16.3125 35.9375 18.84375 33.0625 \nQ 21.4375 30.171875 26.515625 30.171875 \nL 41.015625 30.171875 \nL 41.015625 54.6875 \nL 50 54.6875 \nL 50 0 \nz\n\" id=\"DejaVuSans-1095\"/>\n      <path d=\"M 56.203125 29.59375 \nL 56.203125 25.203125 \nL 14.890625 25.203125 \nQ 15.484375 15.921875 20.484375 11.0625 \nQ 25.484375 6.203125 34.421875 6.203125 \nQ 39.59375 6.203125 44.453125 7.46875 \nQ 49.3125 8.734375 54.109375 11.28125 \nL 54.109375 2.78125 \nQ 49.265625 0.734375 44.1875 -0.34375 \nQ 39.109375 -1.421875 33.890625 -1.421875 \nQ 20.796875 -1.421875 13.15625 6.1875 \nQ 5.515625 13.8125 5.515625 26.8125 \nQ 5.515625 40.234375 12.765625 48.109375 \nQ 20.015625 56 32.328125 56 \nQ 43.359375 56 49.78125 48.890625 \nQ 56.203125 41.796875 56.203125 29.59375 \nz\nM 47.21875 32.234375 \nQ 47.125 39.59375 43.09375 43.984375 \nQ 39.0625 48.390625 32.421875 48.390625 \nQ 24.90625 48.390625 20.390625 44.140625 \nQ 15.875 39.890625 15.1875 32.171875 \nz\n\" id=\"DejaVuSans-1077\"/>\n      <path d=\"M 48.78125 52.59375 \nL 48.78125 44.1875 \nQ 44.96875 46.296875 41.140625 47.34375 \nQ 37.3125 48.390625 33.40625 48.390625 \nQ 24.65625 48.390625 19.8125 42.84375 \nQ 14.984375 37.3125 14.984375 27.296875 \nQ 14.984375 17.28125 19.8125 11.734375 \nQ 24.65625 6.203125 33.40625 6.203125 \nQ 37.3125 6.203125 41.140625 7.25 \nQ 44.96875 8.296875 48.78125 10.40625 \nL 48.78125 2.09375 \nQ 45.015625 0.34375 40.984375 -0.53125 \nQ 36.96875 -1.421875 32.421875 -1.421875 \nQ 20.0625 -1.421875 12.78125 6.34375 \nQ 5.515625 14.109375 5.515625 27.296875 \nQ 5.515625 40.671875 12.859375 48.328125 \nQ 20.21875 56 33.015625 56 \nQ 37.15625 56 41.109375 55.140625 \nQ 45.0625 54.296875 48.78125 52.59375 \nz\n\" id=\"DejaVuSans-1089\"/>\n      <path d=\"M 2.9375 54.6875 \nL 55.328125 54.6875 \nL 55.328125 47.515625 \nL 33.546875 47.515625 \nL 33.546875 0 \nL 24.703125 0 \nL 24.703125 47.515625 \nL 2.9375 47.515625 \nz\n\" id=\"DejaVuSans-1090\"/>\n      <path d=\"M 18.0625 25.203125 \nL 18.0625 7.171875 \nL 30.859375 7.171875 \nQ 37.015625 7.171875 40.234375 9.484375 \nQ 43.453125 11.8125 43.453125 16.21875 \nQ 43.453125 20.609375 40.234375 22.90625 \nQ 37.015625 25.203125 30.859375 25.203125 \nz\nM 18.0625 47.515625 \nL 18.0625 32.375 \nL 29.890625 32.375 \nQ 34.96875 32.375 38.1875 34.390625 \nQ 41.40625 36.421875 41.40625 40.046875 \nQ 41.40625 43.65625 38.1875 45.578125 \nQ 34.96875 47.515625 29.890625 47.515625 \nz\nM 9.078125 54.6875 \nL 30.46875 54.6875 \nQ 40.09375 54.6875 45.265625 51.171875 \nQ 50.4375 47.65625 50.4375 41.15625 \nQ 50.4375 36.140625 47.796875 33.171875 \nQ 45.171875 30.21875 39.984375 29.5 \nQ 46.1875 28.328125 49.609375 24.609375 \nQ 53.03125 20.90625 53.03125 15.328125 \nQ 53.03125 8.015625 47.390625 4 \nQ 41.75 0 31.296875 0 \nL 9.078125 0 \nz\n\" id=\"DejaVuSans-1074\"/>\n      <path id=\"DejaVuSans-32\"/>\n      <path d=\"M 21.625 7.171875 \nL 47.703125 7.171875 \nL 47.703125 47.515625 \nL 28.8125 47.515625 \nL 28.8125 40.671875 \nQ 28.8125 20.5625 23.046875 9.8125 \nz\nM 8.59375 7.171875 \nQ 13.03125 9.125 14.984375 13.28125 \nQ 19.78125 23.578125 19.78125 44.34375 \nL 19.78125 54.6875 \nL 56.734375 54.6875 \nL 56.734375 7.171875 \nL 63.921875 7.171875 \nL 63.921875 -13.8125 \nL 56.734375 -13.8125 \nL 56.734375 0 \nL 12.40625 0 \nL 12.40625 -13.8125 \nL 5.21875 -13.8125 \nL 5.21875 7.171875 \nz\n\" id=\"DejaVuSans-1076\"/>\n      <path d=\"M 55.90625 54.6875 \nL 55.90625 0 \nL 46.96875 0 \nL 46.96875 43.890625 \nL 20.609375 0 \nL 9.078125 0 \nL 9.078125 54.6875 \nL 18.015625 54.6875 \nL 18.015625 10.890625 \nL 44.34375 54.6875 \nz\nM 17.21875 75.515625 \nL 22.984375 75.515625 \nQ 23.515625 71.859375 25.875 70.015625 \nQ 28.25 68.1875 32.5 68.1875 \nQ 36.703125 68.1875 39.046875 70 \nQ 41.390625 71.8125 42.015625 75.515625 \nL 47.78125 75.515625 \nQ 47.296875 68.53125 43.4375 65.015625 \nQ 39.578125 61.5 32.5 61.5 \nQ 25.421875 61.5 21.5625 65.015625 \nQ 17.703125 68.53125 17.21875 75.515625 \nz\n\" id=\"DejaVuSans-1081\"/>\n     </defs>\n     <g transform=\"translate(246.481875 343.823437)scale(0.18 -0.18)\">\n      <use xlink:href=\"#DejaVuSans-1050\"/>\n      <use x=\"70.996094\" xlink:href=\"#DejaVuSans-1086\"/>\n      <use x=\"132.177734\" xlink:href=\"#DejaVuSans-1083\"/>\n      <use x=\"196.09375\" xlink:href=\"#DejaVuSans-1080\"/>\n      <use x=\"261.083984\" xlink:href=\"#DejaVuSans-1095\"/>\n      <use x=\"320.166016\" xlink:href=\"#DejaVuSans-1077\"/>\n      <use x=\"381.689453\" xlink:href=\"#DejaVuSans-1089\"/>\n      <use x=\"436.669922\" xlink:href=\"#DejaVuSans-1090\"/>\n      <use x=\"494.921875\" xlink:href=\"#DejaVuSans-1074\"/>\n      <use x=\"553.857422\" xlink:href=\"#DejaVuSans-1086\"/>\n      <use x=\"615.039062\" xlink:href=\"#DejaVuSans-32\"/>\n      <use x=\"646.826172\" xlink:href=\"#DejaVuSans-1089\"/>\n      <use x=\"701.806641\" xlink:href=\"#DejaVuSans-1086\"/>\n      <use x=\"762.988281\" xlink:href=\"#DejaVuSans-1089\"/>\n      <use x=\"817.96875\" xlink:href=\"#DejaVuSans-1077\"/>\n      <use x=\"879.492188\" xlink:href=\"#DejaVuSans-1076\"/>\n      <use x=\"948.632812\" xlink:href=\"#DejaVuSans-1077\"/>\n      <use x=\"1010.15625\" xlink:href=\"#DejaVuSans-1081\"/>\n     </g>\n    </g>\n   </g>\n   <g id=\"matplotlib.axis_2\">\n    <g id=\"ytick_1\">\n     <g id=\"line2d_21\">\n      <path clip-path=\"url(#pf93a074da6)\" d=\"M 64.24875 293.593159 \nL 622.24875 293.593159 \n\" style=\"fill:none;stroke:#b0b0b0;stroke-linecap:square;stroke-width:0.8;\"/>\n     </g>\n     <g id=\"line2d_22\">\n      <defs>\n       <path d=\"M 0 0 \nL -3.5 0 \n\" id=\"mbc4d75c47d\" style=\"stroke:#000000;stroke-width:0.8;\"/>\n      </defs>\n      <g>\n       <use style=\"stroke:#000000;stroke-width:0.8;\" x=\"64.24875\" xlink:href=\"#mbc4d75c47d\" y=\"293.593159\"/>\n      </g>\n     </g>\n     <g id=\"text_12\">\n      <!-- 0.962 -->\n      <defs>\n       <path d=\"M 10.6875 12.40625 \nL 21 12.40625 \nL 21 0 \nL 10.6875 0 \nz\n\" id=\"DejaVuSans-46\"/>\n      </defs>\n      <g transform=\"translate(28.620625 297.392378)scale(0.1 -0.1)\">\n       <use xlink:href=\"#DejaVuSans-48\"/>\n       <use x=\"63.623047\" xlink:href=\"#DejaVuSans-46\"/>\n       <use x=\"95.410156\" xlink:href=\"#DejaVuSans-57\"/>\n       <use x=\"159.033203\" xlink:href=\"#DejaVuSans-54\"/>\n       <use x=\"222.65625\" xlink:href=\"#DejaVuSans-50\"/>\n      </g>\n     </g>\n    </g>\n    <g id=\"ytick_2\">\n     <g id=\"line2d_23\">\n      <path clip-path=\"url(#pf93a074da6)\" d=\"M 64.24875 251.841639 \nL 622.24875 251.841639 \n\" style=\"fill:none;stroke:#b0b0b0;stroke-linecap:square;stroke-width:0.8;\"/>\n     </g>\n     <g id=\"line2d_24\">\n      <g>\n       <use style=\"stroke:#000000;stroke-width:0.8;\" x=\"64.24875\" xlink:href=\"#mbc4d75c47d\" y=\"251.841639\"/>\n      </g>\n     </g>\n     <g id=\"text_13\">\n      <!-- 0.964 -->\n      <g transform=\"translate(28.620625 255.640857)scale(0.1 -0.1)\">\n       <use xlink:href=\"#DejaVuSans-48\"/>\n       <use x=\"63.623047\" xlink:href=\"#DejaVuSans-46\"/>\n       <use x=\"95.410156\" xlink:href=\"#DejaVuSans-57\"/>\n       <use x=\"159.033203\" xlink:href=\"#DejaVuSans-54\"/>\n       <use x=\"222.65625\" xlink:href=\"#DejaVuSans-52\"/>\n      </g>\n     </g>\n    </g>\n    <g id=\"ytick_3\">\n     <g id=\"line2d_25\">\n      <path clip-path=\"url(#pf93a074da6)\" d=\"M 64.24875 210.090118 \nL 622.24875 210.090118 \n\" style=\"fill:none;stroke:#b0b0b0;stroke-linecap:square;stroke-width:0.8;\"/>\n     </g>\n     <g id=\"line2d_26\">\n      <g>\n       <use style=\"stroke:#000000;stroke-width:0.8;\" x=\"64.24875\" xlink:href=\"#mbc4d75c47d\" y=\"210.090118\"/>\n      </g>\n     </g>\n     <g id=\"text_14\">\n      <!-- 0.966 -->\n      <g transform=\"translate(28.620625 213.889337)scale(0.1 -0.1)\">\n       <use xlink:href=\"#DejaVuSans-48\"/>\n       <use x=\"63.623047\" xlink:href=\"#DejaVuSans-46\"/>\n       <use x=\"95.410156\" xlink:href=\"#DejaVuSans-57\"/>\n       <use x=\"159.033203\" xlink:href=\"#DejaVuSans-54\"/>\n       <use x=\"222.65625\" xlink:href=\"#DejaVuSans-54\"/>\n      </g>\n     </g>\n    </g>\n    <g id=\"ytick_4\">\n     <g id=\"line2d_27\">\n      <path clip-path=\"url(#pf93a074da6)\" d=\"M 64.24875 168.338598 \nL 622.24875 168.338598 \n\" style=\"fill:none;stroke:#b0b0b0;stroke-linecap:square;stroke-width:0.8;\"/>\n     </g>\n     <g id=\"line2d_28\">\n      <g>\n       <use style=\"stroke:#000000;stroke-width:0.8;\" x=\"64.24875\" xlink:href=\"#mbc4d75c47d\" y=\"168.338598\"/>\n      </g>\n     </g>\n     <g id=\"text_15\">\n      <!-- 0.968 -->\n      <g transform=\"translate(28.620625 172.137817)scale(0.1 -0.1)\">\n       <use xlink:href=\"#DejaVuSans-48\"/>\n       <use x=\"63.623047\" xlink:href=\"#DejaVuSans-46\"/>\n       <use x=\"95.410156\" xlink:href=\"#DejaVuSans-57\"/>\n       <use x=\"159.033203\" xlink:href=\"#DejaVuSans-54\"/>\n       <use x=\"222.65625\" xlink:href=\"#DejaVuSans-56\"/>\n      </g>\n     </g>\n    </g>\n    <g id=\"ytick_5\">\n     <g id=\"line2d_29\">\n      <path clip-path=\"url(#pf93a074da6)\" d=\"M 64.24875 126.587078 \nL 622.24875 126.587078 \n\" style=\"fill:none;stroke:#b0b0b0;stroke-linecap:square;stroke-width:0.8;\"/>\n     </g>\n     <g id=\"line2d_30\">\n      <g>\n       <use style=\"stroke:#000000;stroke-width:0.8;\" x=\"64.24875\" xlink:href=\"#mbc4d75c47d\" y=\"126.587078\"/>\n      </g>\n     </g>\n     <g id=\"text_16\">\n      <!-- 0.970 -->\n      <g transform=\"translate(28.620625 130.386297)scale(0.1 -0.1)\">\n       <use xlink:href=\"#DejaVuSans-48\"/>\n       <use x=\"63.623047\" xlink:href=\"#DejaVuSans-46\"/>\n       <use x=\"95.410156\" xlink:href=\"#DejaVuSans-57\"/>\n       <use x=\"159.033203\" xlink:href=\"#DejaVuSans-55\"/>\n       <use x=\"222.65625\" xlink:href=\"#DejaVuSans-48\"/>\n      </g>\n     </g>\n    </g>\n    <g id=\"ytick_6\">\n     <g id=\"line2d_31\">\n      <path clip-path=\"url(#pf93a074da6)\" d=\"M 64.24875 84.835558 \nL 622.24875 84.835558 \n\" style=\"fill:none;stroke:#b0b0b0;stroke-linecap:square;stroke-width:0.8;\"/>\n     </g>\n     <g id=\"line2d_32\">\n      <g>\n       <use style=\"stroke:#000000;stroke-width:0.8;\" x=\"64.24875\" xlink:href=\"#mbc4d75c47d\" y=\"84.835558\"/>\n      </g>\n     </g>\n     <g id=\"text_17\">\n      <!-- 0.972 -->\n      <g transform=\"translate(28.620625 88.634777)scale(0.1 -0.1)\">\n       <use xlink:href=\"#DejaVuSans-48\"/>\n       <use x=\"63.623047\" xlink:href=\"#DejaVuSans-46\"/>\n       <use x=\"95.410156\" xlink:href=\"#DejaVuSans-57\"/>\n       <use x=\"159.033203\" xlink:href=\"#DejaVuSans-55\"/>\n       <use x=\"222.65625\" xlink:href=\"#DejaVuSans-50\"/>\n      </g>\n     </g>\n    </g>\n    <g id=\"ytick_7\">\n     <g id=\"line2d_33\">\n      <path clip-path=\"url(#pf93a074da6)\" d=\"M 64.24875 43.084038 \nL 622.24875 43.084038 \n\" style=\"fill:none;stroke:#b0b0b0;stroke-linecap:square;stroke-width:0.8;\"/>\n     </g>\n     <g id=\"line2d_34\">\n      <g>\n       <use style=\"stroke:#000000;stroke-width:0.8;\" x=\"64.24875\" xlink:href=\"#mbc4d75c47d\" y=\"43.084038\"/>\n      </g>\n     </g>\n     <g id=\"text_18\">\n      <!-- 0.974 -->\n      <g transform=\"translate(28.620625 46.883256)scale(0.1 -0.1)\">\n       <use xlink:href=\"#DejaVuSans-48\"/>\n       <use x=\"63.623047\" xlink:href=\"#DejaVuSans-46\"/>\n       <use x=\"95.410156\" xlink:href=\"#DejaVuSans-57\"/>\n       <use x=\"159.033203\" xlink:href=\"#DejaVuSans-55\"/>\n       <use x=\"222.65625\" xlink:href=\"#DejaVuSans-52\"/>\n      </g>\n     </g>\n    </g>\n    <g id=\"text_19\">\n     <!-- Точность -->\n     <defs>\n      <path d=\"M -0.296875 72.90625 \nL 61.375 72.90625 \nL 61.375 64.59375 \nL 35.5 64.59375 \nL 35.5 0 \nL 25.59375 0 \nL 25.59375 64.59375 \nL -0.296875 64.59375 \nz\n\" id=\"DejaVuSans-1058\"/>\n      <path d=\"M 9.078125 54.6875 \nL 18.109375 54.6875 \nL 18.109375 32.375 \nL 47.265625 32.375 \nL 47.265625 54.6875 \nL 56.296875 54.6875 \nL 56.296875 0 \nL 47.265625 0 \nL 47.265625 25.203125 \nL 18.109375 25.203125 \nL 18.109375 0 \nL 9.078125 0 \nz\n\" id=\"DejaVuSans-1085\"/>\n      <path d=\"M 43.453125 16.21875 \nQ 43.453125 20.609375 40.25 22.90625 \nQ 37.0625 25.203125 30.90625 25.203125 \nL 18.109375 25.203125 \nL 18.109375 7.171875 \nL 30.90625 7.171875 \nQ 37.0625 7.171875 40.25 9.484375 \nQ 43.453125 11.8125 43.453125 16.21875 \nz\nM 9.078125 54.6875 \nL 18.109375 54.6875 \nL 18.109375 32.375 \nL 31.296875 32.375 \nQ 41.75 32.375 47.390625 28.390625 \nQ 53.03125 24.421875 53.03125 16.21875 \nQ 53.03125 8.015625 47.390625 4 \nQ 41.75 0 31.296875 0 \nL 9.078125 0 \nz\n\" id=\"DejaVuSans-1100\"/>\n     </defs>\n     <g transform=\"translate(20.877187 210.203906)rotate(-90)scale(0.18 -0.18)\">\n      <use xlink:href=\"#DejaVuSans-1058\"/>\n      <use x=\"61.083984\" xlink:href=\"#DejaVuSans-1086\"/>\n      <use x=\"122.265625\" xlink:href=\"#DejaVuSans-1095\"/>\n      <use x=\"181.347656\" xlink:href=\"#DejaVuSans-1085\"/>\n      <use x=\"246.728516\" xlink:href=\"#DejaVuSans-1086\"/>\n      <use x=\"307.910156\" xlink:href=\"#DejaVuSans-1089\"/>\n      <use x=\"362.890625\" xlink:href=\"#DejaVuSans-1090\"/>\n      <use x=\"421.142578\" xlink:href=\"#DejaVuSans-1100\"/>\n     </g>\n    </g>\n   </g>\n   <g id=\"line2d_35\">\n    <path clip-path=\"url(#pf93a074da6)\" d=\"M 89.612386 171.023145 \nL 145.976023 292.996875 \nL 202.339659 151.936552 \nL 258.703295 184.741365 \nL 315.066932 181.759058 \nL 371.430568 201.740313 \nL 427.794205 194.88105 \nL 484.157841 216.949604 \nL 540.521477 234.843202 \nL 596.885114 240.509343 \n\" style=\"fill:none;stroke:#00008b;stroke-linecap:square;stroke-width:2;\"/>\n   </g>\n   <g id=\"line2d_36\">\n    <path clip-path=\"url(#pf93a074da6)\" d=\"M 89.612386 82.748583 \nL 145.976023 147.165354 \nL 202.339659 61.872627 \nL 258.703295 78.274963 \nL 315.066932 76.485625 \nL 371.430568 84.537473 \nL 427.794205 107.20287 \nL 484.157841 111.676094 \nL 540.521477 128.973195 \nL 596.885114 132.253641 \n\" style=\"fill:none;stroke:#8b0000;stroke-linecap:square;stroke-width:2;\"/>\n   </g>\n   <g id=\"line2d_37\">\n    <path clip-path=\"url(#pf93a074da6)\" d=\"M 89.612386 171.023145 \nL 145.976023 171.023145 \nL 202.339659 126.885729 \nL 258.703295 117.342593 \nL 315.066932 155.813496 \nL 371.430568 141.797161 \nL 427.794205 173.408916 \nL 484.157841 167.742493 \nL 540.521477 205.020645 \nL 596.885114 204.126021 \n\" style=\"fill:none;stroke:#4169e1;stroke-linecap:square;stroke-width:2;\"/>\n   </g>\n   <g id=\"line2d_38\">\n    <path clip-path=\"url(#pf93a074da6)\" d=\"M 89.612386 82.748583 \nL 145.976023 82.748583 \nL 202.339659 51.434687 \nL 258.703295 40.996875 \nL 315.066932 53.820356 \nL 371.430568 49.347158 \nL 427.794205 80.958951 \nL 484.157841 74.397993 \nL 540.521477 101.536575 \nL 596.885114 103.027518 \n\" style=\"fill:none;stroke:#f08080;stroke-linecap:square;stroke-width:2;\"/>\n   </g>\n   <g id=\"patch_3\">\n    <path d=\"M 64.24875 305.596875 \nL 64.24875 28.396875 \n\" style=\"fill:none;stroke:#000000;stroke-linecap:square;stroke-linejoin:miter;stroke-width:0.8;\"/>\n   </g>\n   <g id=\"patch_4\">\n    <path d=\"M 622.24875 305.596875 \nL 622.24875 28.396875 \n\" style=\"fill:none;stroke:#000000;stroke-linecap:square;stroke-linejoin:miter;stroke-width:0.8;\"/>\n   </g>\n   <g id=\"patch_5\">\n    <path d=\"M 64.24875 305.596875 \nL 622.24875 305.596875 \n\" style=\"fill:none;stroke:#000000;stroke-linecap:square;stroke-linejoin:miter;stroke-width:0.8;\"/>\n   </g>\n   <g id=\"patch_6\">\n    <path d=\"M 64.24875 28.396875 \nL 622.24875 28.396875 \n\" style=\"fill:none;stroke:#000000;stroke-linecap:square;stroke-linejoin:miter;stroke-width:0.8;\"/>\n   </g>\n   <g id=\"text_20\">\n    <!-- Сравнение эффективности алгоритмов по точности -->\n    <defs>\n     <path d=\"M 64.40625 67.28125 \nL 64.40625 56.890625 \nQ 59.421875 61.53125 53.78125 63.8125 \nQ 48.140625 66.109375 41.796875 66.109375 \nQ 29.296875 66.109375 22.65625 58.46875 \nQ 16.015625 50.828125 16.015625 36.375 \nQ 16.015625 21.96875 22.65625 14.328125 \nQ 29.296875 6.6875 41.796875 6.6875 \nQ 48.140625 6.6875 53.78125 8.984375 \nQ 59.421875 11.28125 64.40625 15.921875 \nL 64.40625 5.609375 \nQ 59.234375 2.09375 53.4375 0.328125 \nQ 47.65625 -1.421875 41.21875 -1.421875 \nQ 24.65625 -1.421875 15.125 8.703125 \nQ 5.609375 18.84375 5.609375 36.375 \nQ 5.609375 53.953125 15.125 64.078125 \nQ 24.65625 74.21875 41.21875 74.21875 \nQ 47.75 74.21875 53.53125 72.484375 \nQ 59.328125 70.75 64.40625 67.28125 \nz\n\" id=\"DejaVuSans-1057\"/>\n     <path d=\"M 18.109375 8.203125 \nL 18.109375 -20.796875 \nL 9.078125 -20.796875 \nL 9.078125 54.6875 \nL 18.109375 54.6875 \nL 18.109375 46.390625 \nQ 20.953125 51.265625 25.265625 53.625 \nQ 29.59375 56 35.59375 56 \nQ 45.5625 56 51.78125 48.09375 \nQ 58.015625 40.1875 58.015625 27.296875 \nQ 58.015625 14.40625 51.78125 6.484375 \nQ 45.5625 -1.421875 35.59375 -1.421875 \nQ 29.59375 -1.421875 25.265625 0.953125 \nQ 20.953125 3.328125 18.109375 8.203125 \nz\nM 48.6875 27.296875 \nQ 48.6875 37.203125 44.609375 42.84375 \nQ 40.53125 48.484375 33.40625 48.484375 \nQ 26.265625 48.484375 22.1875 42.84375 \nQ 18.109375 37.203125 18.109375 27.296875 \nQ 18.109375 17.390625 22.1875 11.75 \nQ 26.265625 6.109375 33.40625 6.109375 \nQ 40.53125 6.109375 44.609375 11.75 \nQ 48.6875 17.390625 48.6875 27.296875 \nz\n\" id=\"DejaVuSans-1088\"/>\n     <path d=\"M 34.28125 27.484375 \nQ 23.390625 27.484375 19.1875 25 \nQ 14.984375 22.515625 14.984375 16.5 \nQ 14.984375 11.71875 18.140625 8.90625 \nQ 21.296875 6.109375 26.703125 6.109375 \nQ 34.1875 6.109375 38.703125 11.40625 \nQ 43.21875 16.703125 43.21875 25.484375 \nL 43.21875 27.484375 \nz\nM 52.203125 31.203125 \nL 52.203125 0 \nL 43.21875 0 \nL 43.21875 8.296875 \nQ 40.140625 3.328125 35.546875 0.953125 \nQ 30.953125 -1.421875 24.3125 -1.421875 \nQ 15.921875 -1.421875 10.953125 3.296875 \nQ 6 8.015625 6 15.921875 \nQ 6 25.140625 12.171875 29.828125 \nQ 18.359375 34.515625 30.609375 34.515625 \nL 43.21875 34.515625 \nL 43.21875 35.40625 \nQ 43.21875 41.609375 39.140625 45 \nQ 35.0625 48.390625 27.6875 48.390625 \nQ 23 48.390625 18.546875 47.265625 \nQ 14.109375 46.140625 10.015625 43.890625 \nL 10.015625 52.203125 \nQ 14.9375 54.109375 19.578125 55.046875 \nQ 24.21875 56 28.609375 56 \nQ 40.484375 56 46.34375 49.84375 \nQ 52.203125 43.703125 52.203125 31.203125 \nz\n\" id=\"DejaVuSans-1072\"/>\n     <path d=\"M 5.515625 10.40625 \nQ 13.234375 6.203125 20.90625 6.203125 \nQ 28.078125 6.203125 33.203125 10.375 \nQ 38.328125 14.546875 39.265625 25.203125 \nL 11.53125 25.203125 \nL 11.53125 32.375 \nL 38.96875 32.375 \nQ 38.375 37.5 34.484375 42.9375 \nQ 30.609375 48.390625 20.90625 48.390625 \nQ 13.375 48.390625 5.515625 44.1875 \nL 5.515625 52.59375 \nQ 13.1875 56 21.296875 56 \nQ 34.078125 56 41.421875 48.265625 \nQ 48.78125 40.53125 48.78125 27.296875 \nQ 48.78125 14.109375 41.625 6.34375 \nQ 34.46875 -1.421875 21.921875 -1.421875 \nQ 12.703125 -1.421875 5.515625 2.09375 \nz\n\" id=\"DejaVuSans-1101\"/>\n     <path d=\"M 14.796875 27.296875 \nQ 14.796875 15.828125 18.328125 10.96875 \nQ 21.875 6.109375 27.875 6.109375 \nQ 32.671875 6.109375 38.234375 14.3125 \nL 38.234375 40.28125 \nQ 32.671875 48.484375 27.875 48.484375 \nQ 21.875 48.484375 18.328125 43.625 \nQ 14.796875 38.765625 14.796875 27.296875 \nz\nM 38.234375 -20.796875 \nL 38.234375 6.984375 \nQ 35.453125 2.390625 32.25 0.484375 \nQ 29.046875 -1.421875 25 -1.421875 \nQ 16.84375 -1.421875 11.15625 6.125 \nQ 5.46875 13.671875 5.46875 27.09375 \nQ 5.46875 40.53125 11.15625 48.265625 \nQ 16.84375 56 25 56 \nQ 29.046875 56 32.25 54.140625 \nQ 35.453125 52.296875 38.234375 47.703125 \nL 38.234375 72.90625 \nL 47.265625 72.90625 \nL 47.265625 47.703125 \nQ 50.046875 52.296875 53.25 54.140625 \nQ 56.453125 56 60.5 56 \nQ 68.65625 56 74.34375 48.265625 \nQ 80.03125 40.53125 80.03125 27.09375 \nQ 80.03125 13.671875 74.34375 6.125 \nQ 68.65625 -1.421875 60.5 -1.421875 \nQ 56.453125 -1.421875 53.25 0.484375 \nQ 50.046875 2.390625 47.265625 6.984375 \nL 47.265625 -20.796875 \nz\nM 70.703125 27.296875 \nQ 70.703125 38.765625 67.15625 43.625 \nQ 63.625 48.484375 57.625 48.484375 \nQ 52.828125 48.484375 47.265625 40.28125 \nL 47.265625 14.3125 \nQ 52.828125 6.109375 57.625 6.109375 \nQ 63.625 6.109375 67.15625 10.96875 \nQ 70.703125 15.828125 70.703125 27.296875 \nz\n\" id=\"DejaVuSans-1092\"/>\n     <path d=\"M 9.078125 54.6875 \nL 18.015625 54.6875 \nL 18.015625 29 \nL 43.359375 54.6875 \nL 54.390625 54.6875 \nL 33.5 33.546875 \nL 57.078125 0 \nL 47.015625 0 \nL 27.640625 27.59375 \nL 18.015625 17.828125 \nL 18.015625 0 \nL 9.078125 0 \nz\n\" id=\"DejaVuSans-1082\"/>\n     <path d=\"M 9.078125 0 \nL 9.078125 54.6875 \nL 47.65625 54.6875 \nL 47.65625 47.515625 \nL 18.109375 47.515625 \nL 18.109375 0 \nz\n\" id=\"DejaVuSans-1075\"/>\n     <path d=\"M 9.078125 54.6875 \nL 22.21875 54.6875 \nL 37.75 18.0625 \nL 53.328125 54.6875 \nL 66.359375 54.6875 \nL 66.359375 0 \nL 57.328125 0 \nL 57.328125 46.09375 \nL 42.234375 10.5 \nL 33.25 10.5 \nL 18.109375 46.09375 \nL 18.109375 0 \nL 9.078125 0 \nz\n\" id=\"DejaVuSans-1084\"/>\n     <path d=\"M 56.296875 54.6875 \nL 56.296875 0 \nL 47.265625 0 \nL 47.265625 47.515625 \nL 18.109375 47.515625 \nL 18.109375 0 \nL 9.078125 0 \nL 9.078125 54.6875 \nz\n\" id=\"DejaVuSans-1087\"/>\n    </defs>\n    <g transform=\"translate(66.7175 22.396875)scale(0.2 -0.2)\">\n     <use xlink:href=\"#DejaVuSans-1057\"/>\n     <use x=\"69.824219\" xlink:href=\"#DejaVuSans-1088\"/>\n     <use x=\"133.300781\" xlink:href=\"#DejaVuSans-1072\"/>\n     <use x=\"194.580078\" xlink:href=\"#DejaVuSans-1074\"/>\n     <use x=\"253.515625\" xlink:href=\"#DejaVuSans-1085\"/>\n     <use x=\"318.896484\" xlink:href=\"#DejaVuSans-1077\"/>\n     <use x=\"380.419922\" xlink:href=\"#DejaVuSans-1085\"/>\n     <use x=\"445.800781\" xlink:href=\"#DejaVuSans-1080\"/>\n     <use x=\"510.791016\" xlink:href=\"#DejaVuSans-1077\"/>\n     <use x=\"572.314453\" xlink:href=\"#DejaVuSans-32\"/>\n     <use x=\"604.101562\" xlink:href=\"#DejaVuSans-1101\"/>\n     <use x=\"658.984375\" xlink:href=\"#DejaVuSans-1092\"/>\n     <use x=\"744.482422\" xlink:href=\"#DejaVuSans-1092\"/>\n     <use x=\"829.980469\" xlink:href=\"#DejaVuSans-1077\"/>\n     <use x=\"891.503906\" xlink:href=\"#DejaVuSans-1082\"/>\n     <use x=\"951.904297\" xlink:href=\"#DejaVuSans-1090\"/>\n     <use x=\"1010.15625\" xlink:href=\"#DejaVuSans-1080\"/>\n     <use x=\"1075.146484\" xlink:href=\"#DejaVuSans-1074\"/>\n     <use x=\"1134.082031\" xlink:href=\"#DejaVuSans-1085\"/>\n     <use x=\"1199.462891\" xlink:href=\"#DejaVuSans-1086\"/>\n     <use x=\"1260.644531\" xlink:href=\"#DejaVuSans-1089\"/>\n     <use x=\"1315.625\" xlink:href=\"#DejaVuSans-1090\"/>\n     <use x=\"1373.876953\" xlink:href=\"#DejaVuSans-1080\"/>\n     <use x=\"1438.867188\" xlink:href=\"#DejaVuSans-32\"/>\n     <use x=\"1470.654297\" xlink:href=\"#DejaVuSans-1072\"/>\n     <use x=\"1531.933594\" xlink:href=\"#DejaVuSans-1083\"/>\n     <use x=\"1595.849609\" xlink:href=\"#DejaVuSans-1075\"/>\n     <use x=\"1648.388672\" xlink:href=\"#DejaVuSans-1086\"/>\n     <use x=\"1709.570312\" xlink:href=\"#DejaVuSans-1088\"/>\n     <use x=\"1773.046875\" xlink:href=\"#DejaVuSans-1080\"/>\n     <use x=\"1838.037109\" xlink:href=\"#DejaVuSans-1090\"/>\n     <use x=\"1896.289062\" xlink:href=\"#DejaVuSans-1084\"/>\n     <use x=\"1971.728516\" xlink:href=\"#DejaVuSans-1086\"/>\n     <use x=\"2032.910156\" xlink:href=\"#DejaVuSans-1074\"/>\n     <use x=\"2091.845703\" xlink:href=\"#DejaVuSans-32\"/>\n     <use x=\"2123.632812\" xlink:href=\"#DejaVuSans-1087\"/>\n     <use x=\"2189.013672\" xlink:href=\"#DejaVuSans-1086\"/>\n     <use x=\"2250.195312\" xlink:href=\"#DejaVuSans-32\"/>\n     <use x=\"2281.982422\" xlink:href=\"#DejaVuSans-1090\"/>\n     <use x=\"2340.234375\" xlink:href=\"#DejaVuSans-1086\"/>\n     <use x=\"2401.416016\" xlink:href=\"#DejaVuSans-1095\"/>\n     <use x=\"2460.498047\" xlink:href=\"#DejaVuSans-1085\"/>\n     <use x=\"2525.878906\" xlink:href=\"#DejaVuSans-1086\"/>\n     <use x=\"2587.060547\" xlink:href=\"#DejaVuSans-1089\"/>\n     <use x=\"2642.041016\" xlink:href=\"#DejaVuSans-1090\"/>\n     <use x=\"2700.292969\" xlink:href=\"#DejaVuSans-1080\"/>\n    </g>\n   </g>\n   <g id=\"legend_1\">\n    <g id=\"patch_7\">\n     <path d=\"M 460.801875 90.109375 \nL 620.24875 90.109375 \nQ 622.24875 90.109375 622.24875 88.109375 \nL 622.24875 30.396875 \nQ 622.24875 28.396875 620.24875 28.396875 \nL 460.801875 28.396875 \nQ 458.801875 28.396875 458.801875 30.396875 \nL 458.801875 88.109375 \nQ 458.801875 90.109375 460.801875 90.109375 \nz\n\" style=\"fill:#ffffff;opacity:0.8;stroke:#cccccc;stroke-linejoin:miter;\"/>\n    </g>\n    <g id=\"line2d_39\">\n     <path d=\"M 462.801875 36.495313 \nL 482.801875 36.495313 \n\" style=\"fill:none;stroke:#00008b;stroke-linecap:square;stroke-width:2;\"/>\n    </g>\n    <g id=\"line2d_40\"/>\n    <g id=\"text_21\">\n     <!-- weights=False, Euclidean -->\n     <defs>\n      <path d=\"M 4.203125 54.6875 \nL 13.1875 54.6875 \nL 24.421875 12.015625 \nL 35.59375 54.6875 \nL 46.1875 54.6875 \nL 57.421875 12.015625 \nL 68.609375 54.6875 \nL 77.59375 54.6875 \nL 63.28125 0 \nL 52.6875 0 \nL 40.921875 44.828125 \nL 29.109375 0 \nL 18.5 0 \nz\n\" id=\"DejaVuSans-119\"/>\n      <path d=\"M 56.203125 29.59375 \nL 56.203125 25.203125 \nL 14.890625 25.203125 \nQ 15.484375 15.921875 20.484375 11.0625 \nQ 25.484375 6.203125 34.421875 6.203125 \nQ 39.59375 6.203125 44.453125 7.46875 \nQ 49.3125 8.734375 54.109375 11.28125 \nL 54.109375 2.78125 \nQ 49.265625 0.734375 44.1875 -0.34375 \nQ 39.109375 -1.421875 33.890625 -1.421875 \nQ 20.796875 -1.421875 13.15625 6.1875 \nQ 5.515625 13.8125 5.515625 26.8125 \nQ 5.515625 40.234375 12.765625 48.109375 \nQ 20.015625 56 32.328125 56 \nQ 43.359375 56 49.78125 48.890625 \nQ 56.203125 41.796875 56.203125 29.59375 \nz\nM 47.21875 32.234375 \nQ 47.125 39.59375 43.09375 43.984375 \nQ 39.0625 48.390625 32.421875 48.390625 \nQ 24.90625 48.390625 20.390625 44.140625 \nQ 15.875 39.890625 15.1875 32.171875 \nz\n\" id=\"DejaVuSans-101\"/>\n      <path d=\"M 9.421875 54.6875 \nL 18.40625 54.6875 \nL 18.40625 0 \nL 9.421875 0 \nz\nM 9.421875 75.984375 \nL 18.40625 75.984375 \nL 18.40625 64.59375 \nL 9.421875 64.59375 \nz\n\" id=\"DejaVuSans-105\"/>\n      <path d=\"M 45.40625 27.984375 \nQ 45.40625 37.75 41.375 43.109375 \nQ 37.359375 48.484375 30.078125 48.484375 \nQ 22.859375 48.484375 18.828125 43.109375 \nQ 14.796875 37.75 14.796875 27.984375 \nQ 14.796875 18.265625 18.828125 12.890625 \nQ 22.859375 7.515625 30.078125 7.515625 \nQ 37.359375 7.515625 41.375 12.890625 \nQ 45.40625 18.265625 45.40625 27.984375 \nz\nM 54.390625 6.78125 \nQ 54.390625 -7.171875 48.1875 -13.984375 \nQ 42 -20.796875 29.203125 -20.796875 \nQ 24.46875 -20.796875 20.265625 -20.09375 \nQ 16.0625 -19.390625 12.109375 -17.921875 \nL 12.109375 -9.1875 \nQ 16.0625 -11.328125 19.921875 -12.34375 \nQ 23.78125 -13.375 27.78125 -13.375 \nQ 36.625 -13.375 41.015625 -8.765625 \nQ 45.40625 -4.15625 45.40625 5.171875 \nL 45.40625 9.625 \nQ 42.625 4.78125 38.28125 2.390625 \nQ 33.9375 0 27.875 0 \nQ 17.828125 0 11.671875 7.65625 \nQ 5.515625 15.328125 5.515625 27.984375 \nQ 5.515625 40.671875 11.671875 48.328125 \nQ 17.828125 56 27.875 56 \nQ 33.9375 56 38.28125 53.609375 \nQ 42.625 51.21875 45.40625 46.390625 \nL 45.40625 54.6875 \nL 54.390625 54.6875 \nz\n\" id=\"DejaVuSans-103\"/>\n      <path d=\"M 54.890625 33.015625 \nL 54.890625 0 \nL 45.90625 0 \nL 45.90625 32.71875 \nQ 45.90625 40.484375 42.875 44.328125 \nQ 39.84375 48.1875 33.796875 48.1875 \nQ 26.515625 48.1875 22.3125 43.546875 \nQ 18.109375 38.921875 18.109375 30.90625 \nL 18.109375 0 \nL 9.078125 0 \nL 9.078125 75.984375 \nL 18.109375 75.984375 \nL 18.109375 46.1875 \nQ 21.34375 51.125 25.703125 53.5625 \nQ 30.078125 56 35.796875 56 \nQ 45.21875 56 50.046875 50.171875 \nQ 54.890625 44.34375 54.890625 33.015625 \nz\n\" id=\"DejaVuSans-104\"/>\n      <path d=\"M 18.3125 70.21875 \nL 18.3125 54.6875 \nL 36.8125 54.6875 \nL 36.8125 47.703125 \nL 18.3125 47.703125 \nL 18.3125 18.015625 \nQ 18.3125 11.328125 20.140625 9.421875 \nQ 21.96875 7.515625 27.59375 7.515625 \nL 36.8125 7.515625 \nL 36.8125 0 \nL 27.59375 0 \nQ 17.1875 0 13.234375 3.875 \nQ 9.28125 7.765625 9.28125 18.015625 \nL 9.28125 47.703125 \nL 2.6875 47.703125 \nL 2.6875 54.6875 \nL 9.28125 54.6875 \nL 9.28125 70.21875 \nz\n\" id=\"DejaVuSans-116\"/>\n      <path d=\"M 44.28125 53.078125 \nL 44.28125 44.578125 \nQ 40.484375 46.53125 36.375 47.5 \nQ 32.28125 48.484375 27.875 48.484375 \nQ 21.1875 48.484375 17.84375 46.4375 \nQ 14.5 44.390625 14.5 40.28125 \nQ 14.5 37.15625 16.890625 35.375 \nQ 19.28125 33.59375 26.515625 31.984375 \nL 29.59375 31.296875 \nQ 39.15625 29.25 43.1875 25.515625 \nQ 47.21875 21.78125 47.21875 15.09375 \nQ 47.21875 7.46875 41.1875 3.015625 \nQ 35.15625 -1.421875 24.609375 -1.421875 \nQ 20.21875 -1.421875 15.453125 -0.5625 \nQ 10.6875 0.296875 5.421875 2 \nL 5.421875 11.28125 \nQ 10.40625 8.6875 15.234375 7.390625 \nQ 20.0625 6.109375 24.8125 6.109375 \nQ 31.15625 6.109375 34.5625 8.28125 \nQ 37.984375 10.453125 37.984375 14.40625 \nQ 37.984375 18.0625 35.515625 20.015625 \nQ 33.0625 21.96875 24.703125 23.78125 \nL 21.578125 24.515625 \nQ 13.234375 26.265625 9.515625 29.90625 \nQ 5.8125 33.546875 5.8125 39.890625 \nQ 5.8125 47.609375 11.28125 51.796875 \nQ 16.75 56 26.8125 56 \nQ 31.78125 56 36.171875 55.265625 \nQ 40.578125 54.546875 44.28125 53.078125 \nz\n\" id=\"DejaVuSans-115\"/>\n      <path d=\"M 10.59375 45.40625 \nL 73.1875 45.40625 \nL 73.1875 37.203125 \nL 10.59375 37.203125 \nz\nM 10.59375 25.484375 \nL 73.1875 25.484375 \nL 73.1875 17.1875 \nL 10.59375 17.1875 \nz\n\" id=\"DejaVuSans-61\"/>\n      <path d=\"M 9.8125 72.90625 \nL 51.703125 72.90625 \nL 51.703125 64.59375 \nL 19.671875 64.59375 \nL 19.671875 43.109375 \nL 48.578125 43.109375 \nL 48.578125 34.8125 \nL 19.671875 34.8125 \nL 19.671875 0 \nL 9.8125 0 \nz\n\" id=\"DejaVuSans-70\"/>\n      <path d=\"M 34.28125 27.484375 \nQ 23.390625 27.484375 19.1875 25 \nQ 14.984375 22.515625 14.984375 16.5 \nQ 14.984375 11.71875 18.140625 8.90625 \nQ 21.296875 6.109375 26.703125 6.109375 \nQ 34.1875 6.109375 38.703125 11.40625 \nQ 43.21875 16.703125 43.21875 25.484375 \nL 43.21875 27.484375 \nz\nM 52.203125 31.203125 \nL 52.203125 0 \nL 43.21875 0 \nL 43.21875 8.296875 \nQ 40.140625 3.328125 35.546875 0.953125 \nQ 30.953125 -1.421875 24.3125 -1.421875 \nQ 15.921875 -1.421875 10.953125 3.296875 \nQ 6 8.015625 6 15.921875 \nQ 6 25.140625 12.171875 29.828125 \nQ 18.359375 34.515625 30.609375 34.515625 \nL 43.21875 34.515625 \nL 43.21875 35.40625 \nQ 43.21875 41.609375 39.140625 45 \nQ 35.0625 48.390625 27.6875 48.390625 \nQ 23 48.390625 18.546875 47.265625 \nQ 14.109375 46.140625 10.015625 43.890625 \nL 10.015625 52.203125 \nQ 14.9375 54.109375 19.578125 55.046875 \nQ 24.21875 56 28.609375 56 \nQ 40.484375 56 46.34375 49.84375 \nQ 52.203125 43.703125 52.203125 31.203125 \nz\n\" id=\"DejaVuSans-97\"/>\n      <path d=\"M 9.421875 75.984375 \nL 18.40625 75.984375 \nL 18.40625 0 \nL 9.421875 0 \nz\n\" id=\"DejaVuSans-108\"/>\n      <path d=\"M 11.71875 12.40625 \nL 22.015625 12.40625 \nL 22.015625 4 \nL 14.015625 -11.625 \nL 7.71875 -11.625 \nL 11.71875 4 \nz\n\" id=\"DejaVuSans-44\"/>\n      <path d=\"M 9.8125 72.90625 \nL 55.90625 72.90625 \nL 55.90625 64.59375 \nL 19.671875 64.59375 \nL 19.671875 43.015625 \nL 54.390625 43.015625 \nL 54.390625 34.71875 \nL 19.671875 34.71875 \nL 19.671875 8.296875 \nL 56.78125 8.296875 \nL 56.78125 0 \nL 9.8125 0 \nz\n\" id=\"DejaVuSans-69\"/>\n      <path d=\"M 8.5 21.578125 \nL 8.5 54.6875 \nL 17.484375 54.6875 \nL 17.484375 21.921875 \nQ 17.484375 14.15625 20.5 10.265625 \nQ 23.53125 6.390625 29.59375 6.390625 \nQ 36.859375 6.390625 41.078125 11.03125 \nQ 45.3125 15.671875 45.3125 23.6875 \nL 45.3125 54.6875 \nL 54.296875 54.6875 \nL 54.296875 0 \nL 45.3125 0 \nL 45.3125 8.40625 \nQ 42.046875 3.421875 37.71875 1 \nQ 33.40625 -1.421875 27.6875 -1.421875 \nQ 18.265625 -1.421875 13.375 4.4375 \nQ 8.5 10.296875 8.5 21.578125 \nz\nM 31.109375 56 \nz\n\" id=\"DejaVuSans-117\"/>\n      <path d=\"M 48.78125 52.59375 \nL 48.78125 44.1875 \nQ 44.96875 46.296875 41.140625 47.34375 \nQ 37.3125 48.390625 33.40625 48.390625 \nQ 24.65625 48.390625 19.8125 42.84375 \nQ 14.984375 37.3125 14.984375 27.296875 \nQ 14.984375 17.28125 19.8125 11.734375 \nQ 24.65625 6.203125 33.40625 6.203125 \nQ 37.3125 6.203125 41.140625 7.25 \nQ 44.96875 8.296875 48.78125 10.40625 \nL 48.78125 2.09375 \nQ 45.015625 0.34375 40.984375 -0.53125 \nQ 36.96875 -1.421875 32.421875 -1.421875 \nQ 20.0625 -1.421875 12.78125 6.34375 \nQ 5.515625 14.109375 5.515625 27.296875 \nQ 5.515625 40.671875 12.859375 48.328125 \nQ 20.21875 56 33.015625 56 \nQ 37.15625 56 41.109375 55.140625 \nQ 45.0625 54.296875 48.78125 52.59375 \nz\n\" id=\"DejaVuSans-99\"/>\n      <path d=\"M 45.40625 46.390625 \nL 45.40625 75.984375 \nL 54.390625 75.984375 \nL 54.390625 0 \nL 45.40625 0 \nL 45.40625 8.203125 \nQ 42.578125 3.328125 38.25 0.953125 \nQ 33.9375 -1.421875 27.875 -1.421875 \nQ 17.96875 -1.421875 11.734375 6.484375 \nQ 5.515625 14.40625 5.515625 27.296875 \nQ 5.515625 40.1875 11.734375 48.09375 \nQ 17.96875 56 27.875 56 \nQ 33.9375 56 38.25 53.625 \nQ 42.578125 51.265625 45.40625 46.390625 \nz\nM 14.796875 27.296875 \nQ 14.796875 17.390625 18.875 11.75 \nQ 22.953125 6.109375 30.078125 6.109375 \nQ 37.203125 6.109375 41.296875 11.75 \nQ 45.40625 17.390625 45.40625 27.296875 \nQ 45.40625 37.203125 41.296875 42.84375 \nQ 37.203125 48.484375 30.078125 48.484375 \nQ 22.953125 48.484375 18.875 42.84375 \nQ 14.796875 37.203125 14.796875 27.296875 \nz\n\" id=\"DejaVuSans-100\"/>\n      <path d=\"M 54.890625 33.015625 \nL 54.890625 0 \nL 45.90625 0 \nL 45.90625 32.71875 \nQ 45.90625 40.484375 42.875 44.328125 \nQ 39.84375 48.1875 33.796875 48.1875 \nQ 26.515625 48.1875 22.3125 43.546875 \nQ 18.109375 38.921875 18.109375 30.90625 \nL 18.109375 0 \nL 9.078125 0 \nL 9.078125 54.6875 \nL 18.109375 54.6875 \nL 18.109375 46.1875 \nQ 21.34375 51.125 25.703125 53.5625 \nQ 30.078125 56 35.796875 56 \nQ 45.21875 56 50.046875 50.171875 \nQ 54.890625 44.34375 54.890625 33.015625 \nz\n\" id=\"DejaVuSans-110\"/>\n     </defs>\n     <g transform=\"translate(490.801875 39.995313)scale(0.1 -0.1)\">\n      <use xlink:href=\"#DejaVuSans-119\"/>\n      <use x=\"81.787109\" xlink:href=\"#DejaVuSans-101\"/>\n      <use x=\"143.310547\" xlink:href=\"#DejaVuSans-105\"/>\n      <use x=\"171.09375\" xlink:href=\"#DejaVuSans-103\"/>\n      <use x=\"234.570312\" xlink:href=\"#DejaVuSans-104\"/>\n      <use x=\"297.949219\" xlink:href=\"#DejaVuSans-116\"/>\n      <use x=\"337.158203\" xlink:href=\"#DejaVuSans-115\"/>\n      <use x=\"389.257812\" xlink:href=\"#DejaVuSans-61\"/>\n      <use x=\"473.046875\" xlink:href=\"#DejaVuSans-70\"/>\n      <use x=\"521.441406\" xlink:href=\"#DejaVuSans-97\"/>\n      <use x=\"582.720703\" xlink:href=\"#DejaVuSans-108\"/>\n      <use x=\"610.503906\" xlink:href=\"#DejaVuSans-115\"/>\n      <use x=\"662.603516\" xlink:href=\"#DejaVuSans-101\"/>\n      <use x=\"724.126953\" xlink:href=\"#DejaVuSans-44\"/>\n      <use x=\"755.914062\" xlink:href=\"#DejaVuSans-32\"/>\n      <use x=\"787.701172\" xlink:href=\"#DejaVuSans-69\"/>\n      <use x=\"850.884766\" xlink:href=\"#DejaVuSans-117\"/>\n      <use x=\"914.263672\" xlink:href=\"#DejaVuSans-99\"/>\n      <use x=\"969.244141\" xlink:href=\"#DejaVuSans-108\"/>\n      <use x=\"997.027344\" xlink:href=\"#DejaVuSans-105\"/>\n      <use x=\"1024.810547\" xlink:href=\"#DejaVuSans-100\"/>\n      <use x=\"1088.287109\" xlink:href=\"#DejaVuSans-101\"/>\n      <use x=\"1149.810547\" xlink:href=\"#DejaVuSans-97\"/>\n      <use x=\"1211.089844\" xlink:href=\"#DejaVuSans-110\"/>\n     </g>\n    </g>\n    <g id=\"line2d_41\">\n     <path d=\"M 462.801875 51.173438 \nL 482.801875 51.173438 \n\" style=\"fill:none;stroke:#8b0000;stroke-linecap:square;stroke-width:2;\"/>\n    </g>\n    <g id=\"line2d_42\"/>\n    <g id=\"text_22\">\n     <!-- weights=False, Cosine -->\n     <defs>\n      <path d=\"M 64.40625 67.28125 \nL 64.40625 56.890625 \nQ 59.421875 61.53125 53.78125 63.8125 \nQ 48.140625 66.109375 41.796875 66.109375 \nQ 29.296875 66.109375 22.65625 58.46875 \nQ 16.015625 50.828125 16.015625 36.375 \nQ 16.015625 21.96875 22.65625 14.328125 \nQ 29.296875 6.6875 41.796875 6.6875 \nQ 48.140625 6.6875 53.78125 8.984375 \nQ 59.421875 11.28125 64.40625 15.921875 \nL 64.40625 5.609375 \nQ 59.234375 2.09375 53.4375 0.328125 \nQ 47.65625 -1.421875 41.21875 -1.421875 \nQ 24.65625 -1.421875 15.125 8.703125 \nQ 5.609375 18.84375 5.609375 36.375 \nQ 5.609375 53.953125 15.125 64.078125 \nQ 24.65625 74.21875 41.21875 74.21875 \nQ 47.75 74.21875 53.53125 72.484375 \nQ 59.328125 70.75 64.40625 67.28125 \nz\n\" id=\"DejaVuSans-67\"/>\n      <path d=\"M 30.609375 48.390625 \nQ 23.390625 48.390625 19.1875 42.75 \nQ 14.984375 37.109375 14.984375 27.296875 \nQ 14.984375 17.484375 19.15625 11.84375 \nQ 23.34375 6.203125 30.609375 6.203125 \nQ 37.796875 6.203125 41.984375 11.859375 \nQ 46.1875 17.53125 46.1875 27.296875 \nQ 46.1875 37.015625 41.984375 42.703125 \nQ 37.796875 48.390625 30.609375 48.390625 \nz\nM 30.609375 56 \nQ 42.328125 56 49.015625 48.375 \nQ 55.71875 40.765625 55.71875 27.296875 \nQ 55.71875 13.875 49.015625 6.21875 \nQ 42.328125 -1.421875 30.609375 -1.421875 \nQ 18.84375 -1.421875 12.171875 6.21875 \nQ 5.515625 13.875 5.515625 27.296875 \nQ 5.515625 40.765625 12.171875 48.375 \nQ 18.84375 56 30.609375 56 \nz\n\" id=\"DejaVuSans-111\"/>\n     </defs>\n     <g transform=\"translate(490.801875 54.673438)scale(0.1 -0.1)\">\n      <use xlink:href=\"#DejaVuSans-119\"/>\n      <use x=\"81.787109\" xlink:href=\"#DejaVuSans-101\"/>\n      <use x=\"143.310547\" xlink:href=\"#DejaVuSans-105\"/>\n      <use x=\"171.09375\" xlink:href=\"#DejaVuSans-103\"/>\n      <use x=\"234.570312\" xlink:href=\"#DejaVuSans-104\"/>\n      <use x=\"297.949219\" xlink:href=\"#DejaVuSans-116\"/>\n      <use x=\"337.158203\" xlink:href=\"#DejaVuSans-115\"/>\n      <use x=\"389.257812\" xlink:href=\"#DejaVuSans-61\"/>\n      <use x=\"473.046875\" xlink:href=\"#DejaVuSans-70\"/>\n      <use x=\"521.441406\" xlink:href=\"#DejaVuSans-97\"/>\n      <use x=\"582.720703\" xlink:href=\"#DejaVuSans-108\"/>\n      <use x=\"610.503906\" xlink:href=\"#DejaVuSans-115\"/>\n      <use x=\"662.603516\" xlink:href=\"#DejaVuSans-101\"/>\n      <use x=\"724.126953\" xlink:href=\"#DejaVuSans-44\"/>\n      <use x=\"755.914062\" xlink:href=\"#DejaVuSans-32\"/>\n      <use x=\"787.701172\" xlink:href=\"#DejaVuSans-67\"/>\n      <use x=\"857.525391\" xlink:href=\"#DejaVuSans-111\"/>\n      <use x=\"918.707031\" xlink:href=\"#DejaVuSans-115\"/>\n      <use x=\"970.806641\" xlink:href=\"#DejaVuSans-105\"/>\n      <use x=\"998.589844\" xlink:href=\"#DejaVuSans-110\"/>\n      <use x=\"1061.96875\" xlink:href=\"#DejaVuSans-101\"/>\n     </g>\n    </g>\n    <g id=\"line2d_43\">\n     <path d=\"M 462.801875 65.851562 \nL 482.801875 65.851562 \n\" style=\"fill:none;stroke:#4169e1;stroke-linecap:square;stroke-width:2;\"/>\n    </g>\n    <g id=\"line2d_44\"/>\n    <g id=\"text_23\">\n     <!-- weights=True, Euclidean -->\n     <defs>\n      <path d=\"M -0.296875 72.90625 \nL 61.375 72.90625 \nL 61.375 64.59375 \nL 35.5 64.59375 \nL 35.5 0 \nL 25.59375 0 \nL 25.59375 64.59375 \nL -0.296875 64.59375 \nz\n\" id=\"DejaVuSans-84\"/>\n      <path d=\"M 41.109375 46.296875 \nQ 39.59375 47.171875 37.8125 47.578125 \nQ 36.03125 48 33.890625 48 \nQ 26.265625 48 22.1875 43.046875 \nQ 18.109375 38.09375 18.109375 28.8125 \nL 18.109375 0 \nL 9.078125 0 \nL 9.078125 54.6875 \nL 18.109375 54.6875 \nL 18.109375 46.1875 \nQ 20.953125 51.171875 25.484375 53.578125 \nQ 30.03125 56 36.53125 56 \nQ 37.453125 56 38.578125 55.875 \nQ 39.703125 55.765625 41.0625 55.515625 \nz\n\" id=\"DejaVuSans-114\"/>\n     </defs>\n     <g transform=\"translate(490.801875 69.351562)scale(0.1 -0.1)\">\n      <use xlink:href=\"#DejaVuSans-119\"/>\n      <use x=\"81.787109\" xlink:href=\"#DejaVuSans-101\"/>\n      <use x=\"143.310547\" xlink:href=\"#DejaVuSans-105\"/>\n      <use x=\"171.09375\" xlink:href=\"#DejaVuSans-103\"/>\n      <use x=\"234.570312\" xlink:href=\"#DejaVuSans-104\"/>\n      <use x=\"297.949219\" xlink:href=\"#DejaVuSans-116\"/>\n      <use x=\"337.158203\" xlink:href=\"#DejaVuSans-115\"/>\n      <use x=\"389.257812\" xlink:href=\"#DejaVuSans-61\"/>\n      <use x=\"473.046875\" xlink:href=\"#DejaVuSans-84\"/>\n      <use x=\"519.380859\" xlink:href=\"#DejaVuSans-114\"/>\n      <use x=\"560.494141\" xlink:href=\"#DejaVuSans-117\"/>\n      <use x=\"623.873047\" xlink:href=\"#DejaVuSans-101\"/>\n      <use x=\"685.396484\" xlink:href=\"#DejaVuSans-44\"/>\n      <use x=\"717.183594\" xlink:href=\"#DejaVuSans-32\"/>\n      <use x=\"748.970703\" xlink:href=\"#DejaVuSans-69\"/>\n      <use x=\"812.154297\" xlink:href=\"#DejaVuSans-117\"/>\n      <use x=\"875.533203\" xlink:href=\"#DejaVuSans-99\"/>\n      <use x=\"930.513672\" xlink:href=\"#DejaVuSans-108\"/>\n      <use x=\"958.296875\" xlink:href=\"#DejaVuSans-105\"/>\n      <use x=\"986.080078\" xlink:href=\"#DejaVuSans-100\"/>\n      <use x=\"1049.556641\" xlink:href=\"#DejaVuSans-101\"/>\n      <use x=\"1111.080078\" xlink:href=\"#DejaVuSans-97\"/>\n      <use x=\"1172.359375\" xlink:href=\"#DejaVuSans-110\"/>\n     </g>\n    </g>\n    <g id=\"line2d_45\">\n     <path d=\"M 462.801875 80.529688 \nL 482.801875 80.529688 \n\" style=\"fill:none;stroke:#f08080;stroke-linecap:square;stroke-width:2;\"/>\n    </g>\n    <g id=\"line2d_46\"/>\n    <g id=\"text_24\">\n     <!-- weights=True, Cosine -->\n     <g transform=\"translate(490.801875 84.029688)scale(0.1 -0.1)\">\n      <use xlink:href=\"#DejaVuSans-119\"/>\n      <use x=\"81.787109\" xlink:href=\"#DejaVuSans-101\"/>\n      <use x=\"143.310547\" xlink:href=\"#DejaVuSans-105\"/>\n      <use x=\"171.09375\" xlink:href=\"#DejaVuSans-103\"/>\n      <use x=\"234.570312\" xlink:href=\"#DejaVuSans-104\"/>\n      <use x=\"297.949219\" xlink:href=\"#DejaVuSans-116\"/>\n      <use x=\"337.158203\" xlink:href=\"#DejaVuSans-115\"/>\n      <use x=\"389.257812\" xlink:href=\"#DejaVuSans-61\"/>\n      <use x=\"473.046875\" xlink:href=\"#DejaVuSans-84\"/>\n      <use x=\"519.380859\" xlink:href=\"#DejaVuSans-114\"/>\n      <use x=\"560.494141\" xlink:href=\"#DejaVuSans-117\"/>\n      <use x=\"623.873047\" xlink:href=\"#DejaVuSans-101\"/>\n      <use x=\"685.396484\" xlink:href=\"#DejaVuSans-44\"/>\n      <use x=\"717.183594\" xlink:href=\"#DejaVuSans-32\"/>\n      <use x=\"748.970703\" xlink:href=\"#DejaVuSans-67\"/>\n      <use x=\"818.794922\" xlink:href=\"#DejaVuSans-111\"/>\n      <use x=\"879.976562\" xlink:href=\"#DejaVuSans-115\"/>\n      <use x=\"932.076172\" xlink:href=\"#DejaVuSans-105\"/>\n      <use x=\"959.859375\" xlink:href=\"#DejaVuSans-110\"/>\n      <use x=\"1023.238281\" xlink:href=\"#DejaVuSans-101\"/>\n     </g>\n    </g>\n   </g>\n  </g>\n </g>\n <defs>\n  <clipPath id=\"pf93a074da6\">\n   <rect height=\"277.2\" width=\"558\" x=\"64.24875\" y=\"28.396875\"/>\n  </clipPath>\n </defs>\n</svg>\n"
          },
          "metadata": {}
        }
      ]
    },
    {
      "cell_type": "code",
      "metadata": {
        "colab": {
          "base_uri": "https://localhost:8080/"
        },
        "id": "-MN6Rb0DSTc-",
        "outputId": "4ef36a7a-f3ce-456e-c48a-5b5ed1d2b45f"
      },
      "source": [
        "np.linspace(0.96, 0.99, 7)"
      ],
      "execution_count": null,
      "outputs": [
        {
          "output_type": "execute_result",
          "data": {
            "text/plain": [
              "array([0.96 , 0.965, 0.97 , 0.975, 0.98 , 0.985, 0.99 ])"
            ]
          },
          "metadata": {},
          "execution_count": 17
        }
      ]
    },
    {
      "cell_type": "markdown",
      "metadata": {
        "id": "_dfFeBDucuwQ"
      },
      "source": [
        "# Для 4 эксперемента"
      ]
    },
    {
      "cell_type": "code",
      "metadata": {
        "id": "cepEFEKb5mjm"
      },
      "source": [
        "conf_matrix = np.array([[1953,    2,    0,    0,    0,    1,    2,    2,    0,    0],\n",
        "       [   0, 2258,    5,    3,    0,    0,    4,    0,    0,    0],\n",
        "       [  29,    1, 1996,    2,    1,    0,    1,   20,   14,    0],\n",
        "       [   4,    2,    6, 1943,    1,   16,    0,   10,   28,   10],\n",
        "       [  14,    5,    1,    0, 1860,    0,   17,    2,    0,   65],\n",
        "       [  15,    3,    0,   30,    1, 1680,   27,    1,   18,    9],\n",
        "       [  12,    6,    0,    0,    2,    3, 1892,    0,    1,    0],\n",
        "       [   6,   21,   10,    0,    4,    0,    0, 1968,    1,   46],\n",
        "       [  13,    9,    3,   10,    8,    8,    9,   10, 1870,    8],\n",
        "       [  27,   14,    3,   10,   14,    7,    4,    8,    8, 1923]])\n",
        "conf_matrix //= 2"
      ],
      "execution_count": null,
      "outputs": []
    },
    {
      "cell_type": "code",
      "metadata": {
        "colab": {
          "base_uri": "https://localhost:8080/",
          "height": 359
        },
        "id": "8b5BlrJm5mjn",
        "outputId": "ab510a96-5c68-4d38-ee10-02c40eaf2485"
      },
      "source": [
        "fig, ax = plt.subplots()\n",
        "rcolors = plt.cm.BuPu(np.full(10, 0.2))\n",
        "ccolors = plt.cm.BuPu(np.full(10, 0.1))\n",
        "\n",
        "the_table = plt.table(cellText=conf_matrix,\n",
        "                      rowLabels=np.arange(10),\n",
        "                      rowColours=rcolors,\n",
        "                      colWidths=[0.1]*11,\n",
        "                      rowLoc='right',\n",
        "                      colColours=ccolors,\n",
        "                      colLabels=np.arange(10),\n",
        "                      loc='center')\n",
        "\n",
        "cellDict = the_table.get_celld()\n",
        "for i in range(0 ,10):\n",
        "    cellDict[(0,i)].set_height(.1)\n",
        "    for j in range(0,11):\n",
        "        cellDict[(j,i)].set_height(.1)\n",
        "      \n",
        "for i in range(1, 11):\n",
        "  cellDict[(i,-1)].set_height(.1)\n",
        "  cellDict[(i,-1)].set_width(.1)\n",
        "\n",
        "\n",
        "plt.axis('off')\n",
        "\n",
        "plt.savefig('conf4.pdf')\n",
        "files.download('conf4.pdf')\n",
        "plt.show()"
      ],
      "execution_count": null,
      "outputs": [
        {
          "output_type": "display_data",
          "data": {
            "application/javascript": [
              "\n",
              "    async function download(id, filename, size) {\n",
              "      if (!google.colab.kernel.accessAllowed) {\n",
              "        return;\n",
              "      }\n",
              "      const div = document.createElement('div');\n",
              "      const label = document.createElement('label');\n",
              "      label.textContent = `Downloading \"${filename}\": `;\n",
              "      div.appendChild(label);\n",
              "      const progress = document.createElement('progress');\n",
              "      progress.max = size;\n",
              "      div.appendChild(progress);\n",
              "      document.body.appendChild(div);\n",
              "\n",
              "      const buffers = [];\n",
              "      let downloaded = 0;\n",
              "\n",
              "      const channel = await google.colab.kernel.comms.open(id);\n",
              "      // Send a message to notify the kernel that we're ready.\n",
              "      channel.send({})\n",
              "\n",
              "      for await (const message of channel.messages) {\n",
              "        // Send a message to notify the kernel that we're ready.\n",
              "        channel.send({})\n",
              "        if (message.buffers) {\n",
              "          for (const buffer of message.buffers) {\n",
              "            buffers.push(buffer);\n",
              "            downloaded += buffer.byteLength;\n",
              "            progress.value = downloaded;\n",
              "          }\n",
              "        }\n",
              "      }\n",
              "      const blob = new Blob(buffers, {type: 'application/binary'});\n",
              "      const a = document.createElement('a');\n",
              "      a.href = window.URL.createObjectURL(blob);\n",
              "      a.download = filename;\n",
              "      div.appendChild(a);\n",
              "      a.click();\n",
              "      div.remove();\n",
              "    }\n",
              "  "
            ],
            "text/plain": [
              "<IPython.core.display.Javascript object>"
            ]
          },
          "metadata": {}
        },
        {
          "output_type": "display_data",
          "data": {
            "application/javascript": [
              "download(\"download_fd450e02-b5c9-40c0-a030-463fda5a43f3\", \"conf4.pdf\", 8561)"
            ],
            "text/plain": [
              "<IPython.core.display.Javascript object>"
            ]
          },
          "metadata": {}
        },
        {
          "output_type": "display_data",
          "data": {
            "application/pdf": "[encoded data removed]",
            "text/plain": [
              "<Figure size 432x288 with 1 Axes>"
            ],
            "image/svg+xml": "<?xml version=\"1.0\" encoding=\"utf-8\" standalone=\"no\"?>\n<!DOCTYPE svg PUBLIC \"-//W3C//DTD SVG 1.1//EN\"\n  \"http://www.w3.org/Graphics/SVG/1.1/DTD/svg11.dtd\">\n<!-- Created with matplotlib (https://matplotlib.org/) -->\n<svg height=\"253.584pt\" version=\"1.1\" viewBox=\"0 0 356.835 253.584\" width=\"356.835pt\" xmlns=\"http://www.w3.org/2000/svg\" xmlns:xlink=\"http://www.w3.org/1999/xlink\">\n <defs>\n  <style type=\"text/css\">\n*{stroke-linecap:butt;stroke-linejoin:round;}\n  </style>\n </defs>\n <g id=\"figure_1\">\n  <g id=\"patch_1\">\n   <path d=\"M 0 253.584 \nL 356.835 253.584 \nL 356.835 0 \nL 0 0 \nz\n\" style=\"fill:none;\"/>\n  </g>\n  <g id=\"axes_1\">\n   <g id=\"table_1\">\n    <g id=\"patch_2\">\n     <path d=\"M 14.835 28.944 \nL 48.315 28.944 \nL 48.315 7.2 \nL 14.835 7.2 \nz\n\" style=\"fill:#e5eff6;stroke:#000000;stroke-linejoin:miter;\"/>\n    </g>\n    <g id=\"text_1\">\n     <!-- 0 -->\n     <defs>\n      <path d=\"M 31.78125 66.40625 \nQ 24.171875 66.40625 20.328125 58.90625 \nQ 16.5 51.421875 16.5 36.375 \nQ 16.5 21.390625 20.328125 13.890625 \nQ 24.171875 6.390625 31.78125 6.390625 \nQ 39.453125 6.390625 43.28125 13.890625 \nQ 47.125 21.390625 47.125 36.375 \nQ 47.125 51.421875 43.28125 58.90625 \nQ 39.453125 66.40625 31.78125 66.40625 \nz\nM 31.78125 74.21875 \nQ 44.046875 74.21875 50.515625 64.515625 \nQ 56.984375 54.828125 56.984375 36.375 \nQ 56.984375 17.96875 50.515625 8.265625 \nQ 44.046875 -1.421875 31.78125 -1.421875 \nQ 19.53125 -1.421875 13.0625 8.265625 \nQ 6.59375 17.96875 6.59375 36.375 \nQ 6.59375 54.828125 13.0625 64.515625 \nQ 19.53125 74.21875 31.78125 74.21875 \nz\n\" id=\"DejaVuSans-48\"/>\n     </defs>\n     <g transform=\"translate(28.39375 20.831375)scale(0.1 -0.1)\">\n      <use xlink:href=\"#DejaVuSans-48\"/>\n     </g>\n    </g>\n    <g id=\"patch_3\">\n     <path d=\"M 48.315 28.944 \nL 81.795 28.944 \nL 81.795 7.2 \nL 48.315 7.2 \nz\n\" style=\"fill:#e5eff6;stroke:#000000;stroke-linejoin:miter;\"/>\n    </g>\n    <g id=\"text_2\">\n     <!-- 1 -->\n     <defs>\n      <path d=\"M 12.40625 8.296875 \nL 28.515625 8.296875 \nL 28.515625 63.921875 \nL 10.984375 60.40625 \nL 10.984375 69.390625 \nL 28.421875 72.90625 \nL 38.28125 72.90625 \nL 38.28125 8.296875 \nL 54.390625 8.296875 \nL 54.390625 0 \nL 12.40625 0 \nz\n\" id=\"DejaVuSans-49\"/>\n     </defs>\n     <g transform=\"translate(61.87375 20.831375)scale(0.1 -0.1)\">\n      <use xlink:href=\"#DejaVuSans-49\"/>\n     </g>\n    </g>\n    <g id=\"patch_4\">\n     <path d=\"M 81.795 28.944 \nL 115.275 28.944 \nL 115.275 7.2 \nL 81.795 7.2 \nz\n\" style=\"fill:#e5eff6;stroke:#000000;stroke-linejoin:miter;\"/>\n    </g>\n    <g id=\"text_3\">\n     <!-- 2 -->\n     <defs>\n      <path d=\"M 19.1875 8.296875 \nL 53.609375 8.296875 \nL 53.609375 0 \nL 7.328125 0 \nL 7.328125 8.296875 \nQ 12.9375 14.109375 22.625 23.890625 \nQ 32.328125 33.6875 34.8125 36.53125 \nQ 39.546875 41.84375 41.421875 45.53125 \nQ 43.3125 49.21875 43.3125 52.78125 \nQ 43.3125 58.59375 39.234375 62.25 \nQ 35.15625 65.921875 28.609375 65.921875 \nQ 23.96875 65.921875 18.8125 64.3125 \nQ 13.671875 62.703125 7.8125 59.421875 \nL 7.8125 69.390625 \nQ 13.765625 71.78125 18.9375 73 \nQ 24.125 74.21875 28.421875 74.21875 \nQ 39.75 74.21875 46.484375 68.546875 \nQ 53.21875 62.890625 53.21875 53.421875 \nQ 53.21875 48.921875 51.53125 44.890625 \nQ 49.859375 40.875 45.40625 35.40625 \nQ 44.1875 33.984375 37.640625 27.21875 \nQ 31.109375 20.453125 19.1875 8.296875 \nz\n\" id=\"DejaVuSans-50\"/>\n     </defs>\n     <g transform=\"translate(95.35375 20.831375)scale(0.1 -0.1)\">\n      <use xlink:href=\"#DejaVuSans-50\"/>\n     </g>\n    </g>\n    <g id=\"patch_5\">\n     <path d=\"M 115.275 28.944 \nL 148.755 28.944 \nL 148.755 7.2 \nL 115.275 7.2 \nz\n\" style=\"fill:#e5eff6;stroke:#000000;stroke-linejoin:miter;\"/>\n    </g>\n    <g id=\"text_4\">\n     <!-- 3 -->\n     <defs>\n      <path d=\"M 40.578125 39.3125 \nQ 47.65625 37.796875 51.625 33 \nQ 55.609375 28.21875 55.609375 21.1875 \nQ 55.609375 10.40625 48.1875 4.484375 \nQ 40.765625 -1.421875 27.09375 -1.421875 \nQ 22.515625 -1.421875 17.65625 -0.515625 \nQ 12.796875 0.390625 7.625 2.203125 \nL 7.625 11.71875 \nQ 11.71875 9.328125 16.59375 8.109375 \nQ 21.484375 6.890625 26.8125 6.890625 \nQ 36.078125 6.890625 40.9375 10.546875 \nQ 45.796875 14.203125 45.796875 21.1875 \nQ 45.796875 27.640625 41.28125 31.265625 \nQ 36.765625 34.90625 28.71875 34.90625 \nL 20.21875 34.90625 \nL 20.21875 43.015625 \nL 29.109375 43.015625 \nQ 36.375 43.015625 40.234375 45.921875 \nQ 44.09375 48.828125 44.09375 54.296875 \nQ 44.09375 59.90625 40.109375 62.90625 \nQ 36.140625 65.921875 28.71875 65.921875 \nQ 24.65625 65.921875 20.015625 65.03125 \nQ 15.375 64.15625 9.8125 62.3125 \nL 9.8125 71.09375 \nQ 15.4375 72.65625 20.34375 73.4375 \nQ 25.25 74.21875 29.59375 74.21875 \nQ 40.828125 74.21875 47.359375 69.109375 \nQ 53.90625 64.015625 53.90625 55.328125 \nQ 53.90625 49.265625 50.4375 45.09375 \nQ 46.96875 40.921875 40.578125 39.3125 \nz\n\" id=\"DejaVuSans-51\"/>\n     </defs>\n     <g transform=\"translate(128.83375 20.831375)scale(0.1 -0.1)\">\n      <use xlink:href=\"#DejaVuSans-51\"/>\n     </g>\n    </g>\n    <g id=\"patch_6\">\n     <path d=\"M 148.755 28.944 \nL 182.235 28.944 \nL 182.235 7.2 \nL 148.755 7.2 \nz\n\" style=\"fill:#e5eff6;stroke:#000000;stroke-linejoin:miter;\"/>\n    </g>\n    <g id=\"text_5\">\n     <!-- 4 -->\n     <defs>\n      <path d=\"M 37.796875 64.3125 \nL 12.890625 25.390625 \nL 37.796875 25.390625 \nz\nM 35.203125 72.90625 \nL 47.609375 72.90625 \nL 47.609375 25.390625 \nL 58.015625 25.390625 \nL 58.015625 17.1875 \nL 47.609375 17.1875 \nL 47.609375 0 \nL 37.796875 0 \nL 37.796875 17.1875 \nL 4.890625 17.1875 \nL 4.890625 26.703125 \nz\n\" id=\"DejaVuSans-52\"/>\n     </defs>\n     <g transform=\"translate(162.31375 20.831375)scale(0.1 -0.1)\">\n      <use xlink:href=\"#DejaVuSans-52\"/>\n     </g>\n    </g>\n    <g id=\"patch_7\">\n     <path d=\"M 182.235 28.944 \nL 215.715 28.944 \nL 215.715 7.2 \nL 182.235 7.2 \nz\n\" style=\"fill:#e5eff6;stroke:#000000;stroke-linejoin:miter;\"/>\n    </g>\n    <g id=\"text_6\">\n     <!-- 5 -->\n     <defs>\n      <path d=\"M 10.796875 72.90625 \nL 49.515625 72.90625 \nL 49.515625 64.59375 \nL 19.828125 64.59375 \nL 19.828125 46.734375 \nQ 21.96875 47.46875 24.109375 47.828125 \nQ 26.265625 48.1875 28.421875 48.1875 \nQ 40.625 48.1875 47.75 41.5 \nQ 54.890625 34.8125 54.890625 23.390625 \nQ 54.890625 11.625 47.5625 5.09375 \nQ 40.234375 -1.421875 26.90625 -1.421875 \nQ 22.3125 -1.421875 17.546875 -0.640625 \nQ 12.796875 0.140625 7.71875 1.703125 \nL 7.71875 11.625 \nQ 12.109375 9.234375 16.796875 8.0625 \nQ 21.484375 6.890625 26.703125 6.890625 \nQ 35.15625 6.890625 40.078125 11.328125 \nQ 45.015625 15.765625 45.015625 23.390625 \nQ 45.015625 31 40.078125 35.4375 \nQ 35.15625 39.890625 26.703125 39.890625 \nQ 22.75 39.890625 18.8125 39.015625 \nQ 14.890625 38.140625 10.796875 36.28125 \nz\n\" id=\"DejaVuSans-53\"/>\n     </defs>\n     <g transform=\"translate(195.79375 20.831375)scale(0.1 -0.1)\">\n      <use xlink:href=\"#DejaVuSans-53\"/>\n     </g>\n    </g>\n    <g id=\"patch_8\">\n     <path d=\"M 215.715 28.944 \nL 249.195 28.944 \nL 249.195 7.2 \nL 215.715 7.2 \nz\n\" style=\"fill:#e5eff6;stroke:#000000;stroke-linejoin:miter;\"/>\n    </g>\n    <g id=\"text_7\">\n     <!-- 6 -->\n     <defs>\n      <path d=\"M 33.015625 40.375 \nQ 26.375 40.375 22.484375 35.828125 \nQ 18.609375 31.296875 18.609375 23.390625 \nQ 18.609375 15.53125 22.484375 10.953125 \nQ 26.375 6.390625 33.015625 6.390625 \nQ 39.65625 6.390625 43.53125 10.953125 \nQ 47.40625 15.53125 47.40625 23.390625 \nQ 47.40625 31.296875 43.53125 35.828125 \nQ 39.65625 40.375 33.015625 40.375 \nz\nM 52.59375 71.296875 \nL 52.59375 62.3125 \nQ 48.875 64.0625 45.09375 64.984375 \nQ 41.3125 65.921875 37.59375 65.921875 \nQ 27.828125 65.921875 22.671875 59.328125 \nQ 17.53125 52.734375 16.796875 39.40625 \nQ 19.671875 43.65625 24.015625 45.921875 \nQ 28.375 48.1875 33.59375 48.1875 \nQ 44.578125 48.1875 50.953125 41.515625 \nQ 57.328125 34.859375 57.328125 23.390625 \nQ 57.328125 12.15625 50.6875 5.359375 \nQ 44.046875 -1.421875 33.015625 -1.421875 \nQ 20.359375 -1.421875 13.671875 8.265625 \nQ 6.984375 17.96875 6.984375 36.375 \nQ 6.984375 53.65625 15.1875 63.9375 \nQ 23.390625 74.21875 37.203125 74.21875 \nQ 40.921875 74.21875 44.703125 73.484375 \nQ 48.484375 72.75 52.59375 71.296875 \nz\n\" id=\"DejaVuSans-54\"/>\n     </defs>\n     <g transform=\"translate(229.27375 20.831375)scale(0.1 -0.1)\">\n      <use xlink:href=\"#DejaVuSans-54\"/>\n     </g>\n    </g>\n    <g id=\"patch_9\">\n     <path d=\"M 249.195 28.944 \nL 282.675 28.944 \nL 282.675 7.2 \nL 249.195 7.2 \nz\n\" style=\"fill:#e5eff6;stroke:#000000;stroke-linejoin:miter;\"/>\n    </g>\n    <g id=\"text_8\">\n     <!-- 7 -->\n     <defs>\n      <path d=\"M 8.203125 72.90625 \nL 55.078125 72.90625 \nL 55.078125 68.703125 \nL 28.609375 0 \nL 18.3125 0 \nL 43.21875 64.59375 \nL 8.203125 64.59375 \nz\n\" id=\"DejaVuSans-55\"/>\n     </defs>\n     <g transform=\"translate(262.75375 20.831375)scale(0.1 -0.1)\">\n      <use xlink:href=\"#DejaVuSans-55\"/>\n     </g>\n    </g>\n    <g id=\"patch_10\">\n     <path d=\"M 282.675 28.944 \nL 316.155 28.944 \nL 316.155 7.2 \nL 282.675 7.2 \nz\n\" style=\"fill:#e5eff6;stroke:#000000;stroke-linejoin:miter;\"/>\n    </g>\n    <g id=\"text_9\">\n     <!-- 8 -->\n     <defs>\n      <path d=\"M 31.78125 34.625 \nQ 24.75 34.625 20.71875 30.859375 \nQ 16.703125 27.09375 16.703125 20.515625 \nQ 16.703125 13.921875 20.71875 10.15625 \nQ 24.75 6.390625 31.78125 6.390625 \nQ 38.8125 6.390625 42.859375 10.171875 \nQ 46.921875 13.96875 46.921875 20.515625 \nQ 46.921875 27.09375 42.890625 30.859375 \nQ 38.875 34.625 31.78125 34.625 \nz\nM 21.921875 38.8125 \nQ 15.578125 40.375 12.03125 44.71875 \nQ 8.5 49.078125 8.5 55.328125 \nQ 8.5 64.0625 14.71875 69.140625 \nQ 20.953125 74.21875 31.78125 74.21875 \nQ 42.671875 74.21875 48.875 69.140625 \nQ 55.078125 64.0625 55.078125 55.328125 \nQ 55.078125 49.078125 51.53125 44.71875 \nQ 48 40.375 41.703125 38.8125 \nQ 48.828125 37.15625 52.796875 32.3125 \nQ 56.78125 27.484375 56.78125 20.515625 \nQ 56.78125 9.90625 50.3125 4.234375 \nQ 43.84375 -1.421875 31.78125 -1.421875 \nQ 19.734375 -1.421875 13.25 4.234375 \nQ 6.78125 9.90625 6.78125 20.515625 \nQ 6.78125 27.484375 10.78125 32.3125 \nQ 14.796875 37.15625 21.921875 38.8125 \nz\nM 18.3125 54.390625 \nQ 18.3125 48.734375 21.84375 45.5625 \nQ 25.390625 42.390625 31.78125 42.390625 \nQ 38.140625 42.390625 41.71875 45.5625 \nQ 45.3125 48.734375 45.3125 54.390625 \nQ 45.3125 60.0625 41.71875 63.234375 \nQ 38.140625 66.40625 31.78125 66.40625 \nQ 25.390625 66.40625 21.84375 63.234375 \nQ 18.3125 60.0625 18.3125 54.390625 \nz\n\" id=\"DejaVuSans-56\"/>\n     </defs>\n     <g transform=\"translate(296.23375 20.831375)scale(0.1 -0.1)\">\n      <use xlink:href=\"#DejaVuSans-56\"/>\n     </g>\n    </g>\n    <g id=\"patch_11\">\n     <path d=\"M 316.155 28.944 \nL 349.635 28.944 \nL 349.635 7.2 \nL 316.155 7.2 \nz\n\" style=\"fill:#e5eff6;stroke:#000000;stroke-linejoin:miter;\"/>\n    </g>\n    <g id=\"text_10\">\n     <!-- 9 -->\n     <defs>\n      <path d=\"M 10.984375 1.515625 \nL 10.984375 10.5 \nQ 14.703125 8.734375 18.5 7.8125 \nQ 22.3125 6.890625 25.984375 6.890625 \nQ 35.75 6.890625 40.890625 13.453125 \nQ 46.046875 20.015625 46.78125 33.40625 \nQ 43.953125 29.203125 39.59375 26.953125 \nQ 35.25 24.703125 29.984375 24.703125 \nQ 19.046875 24.703125 12.671875 31.3125 \nQ 6.296875 37.9375 6.296875 49.421875 \nQ 6.296875 60.640625 12.9375 67.421875 \nQ 19.578125 74.21875 30.609375 74.21875 \nQ 43.265625 74.21875 49.921875 64.515625 \nQ 56.59375 54.828125 56.59375 36.375 \nQ 56.59375 19.140625 48.40625 8.859375 \nQ 40.234375 -1.421875 26.421875 -1.421875 \nQ 22.703125 -1.421875 18.890625 -0.6875 \nQ 15.09375 0.046875 10.984375 1.515625 \nz\nM 30.609375 32.421875 \nQ 37.25 32.421875 41.125 36.953125 \nQ 45.015625 41.5 45.015625 49.421875 \nQ 45.015625 57.28125 41.125 61.84375 \nQ 37.25 66.40625 30.609375 66.40625 \nQ 23.96875 66.40625 20.09375 61.84375 \nQ 16.21875 57.28125 16.21875 49.421875 \nQ 16.21875 41.5 20.09375 36.953125 \nQ 23.96875 32.421875 30.609375 32.421875 \nz\n\" id=\"DejaVuSans-57\"/>\n     </defs>\n     <g transform=\"translate(329.71375 20.831375)scale(0.1 -0.1)\">\n      <use xlink:href=\"#DejaVuSans-57\"/>\n     </g>\n    </g>\n    <g id=\"patch_12\">\n     <path d=\"M 7.2 50.688 \nL 14.835 50.688 \nL 14.835 28.944 \nL 7.2 28.944 \nz\n\" style=\"fill:#ccddec;stroke:#000000;stroke-linejoin:miter;\"/>\n    </g>\n    <g id=\"text_11\">\n     <!-- 0 -->\n     <g transform=\"translate(7.709 42.575375)scale(0.1 -0.1)\">\n      <use xlink:href=\"#DejaVuSans-48\"/>\n     </g>\n    </g>\n    <g id=\"patch_13\">\n     <path d=\"M 14.835 50.688 \nL 48.315 50.688 \nL 48.315 28.944 \nL 14.835 28.944 \nz\n\" style=\"fill:#ffffff;stroke:#000000;stroke-linejoin:miter;\"/>\n    </g>\n    <g id=\"text_12\">\n     <!-- 976 -->\n     <g transform=\"translate(25.8795 42.575375)scale(0.1 -0.1)\">\n      <use xlink:href=\"#DejaVuSans-57\"/>\n      <use x=\"63.623047\" xlink:href=\"#DejaVuSans-55\"/>\n      <use x=\"127.246094\" xlink:href=\"#DejaVuSans-54\"/>\n     </g>\n    </g>\n    <g id=\"patch_14\">\n     <path d=\"M 48.315 50.688 \nL 81.795 50.688 \nL 81.795 28.944 \nL 48.315 28.944 \nz\n\" style=\"fill:#ffffff;stroke:#000000;stroke-linejoin:miter;\"/>\n    </g>\n    <g id=\"text_13\">\n     <!-- 1 -->\n     <g transform=\"translate(72.0845 42.575375)scale(0.1 -0.1)\">\n      <use xlink:href=\"#DejaVuSans-49\"/>\n     </g>\n    </g>\n    <g id=\"patch_15\">\n     <path d=\"M 81.795 50.688 \nL 115.275 50.688 \nL 115.275 28.944 \nL 81.795 28.944 \nz\n\" style=\"fill:#ffffff;stroke:#000000;stroke-linejoin:miter;\"/>\n    </g>\n    <g id=\"text_14\">\n     <!-- 0 -->\n     <g transform=\"translate(105.5645 42.575375)scale(0.1 -0.1)\">\n      <use xlink:href=\"#DejaVuSans-48\"/>\n     </g>\n    </g>\n    <g id=\"patch_16\">\n     <path d=\"M 115.275 50.688 \nL 148.755 50.688 \nL 148.755 28.944 \nL 115.275 28.944 \nz\n\" style=\"fill:#ffffff;stroke:#000000;stroke-linejoin:miter;\"/>\n    </g>\n    <g id=\"text_15\">\n     <!-- 0 -->\n     <g transform=\"translate(139.0445 42.575375)scale(0.1 -0.1)\">\n      <use xlink:href=\"#DejaVuSans-48\"/>\n     </g>\n    </g>\n    <g id=\"patch_17\">\n     <path d=\"M 148.755 50.688 \nL 182.235 50.688 \nL 182.235 28.944 \nL 148.755 28.944 \nz\n\" style=\"fill:#ffffff;stroke:#000000;stroke-linejoin:miter;\"/>\n    </g>\n    <g id=\"text_16\">\n     <!-- 0 -->\n     <g transform=\"translate(172.5245 42.575375)scale(0.1 -0.1)\">\n      <use xlink:href=\"#DejaVuSans-48\"/>\n     </g>\n    </g>\n    <g id=\"patch_18\">\n     <path d=\"M 182.235 50.688 \nL 215.715 50.688 \nL 215.715 28.944 \nL 182.235 28.944 \nz\n\" style=\"fill:#ffffff;stroke:#000000;stroke-linejoin:miter;\"/>\n    </g>\n    <g id=\"text_17\">\n     <!-- 0 -->\n     <g transform=\"translate(206.0045 42.575375)scale(0.1 -0.1)\">\n      <use xlink:href=\"#DejaVuSans-48\"/>\n     </g>\n    </g>\n    <g id=\"patch_19\">\n     <path d=\"M 215.715 50.688 \nL 249.195 50.688 \nL 249.195 28.944 \nL 215.715 28.944 \nz\n\" style=\"fill:#ffffff;stroke:#000000;stroke-linejoin:miter;\"/>\n    </g>\n    <g id=\"text_18\">\n     <!-- 1 -->\n     <g transform=\"translate(239.4845 42.575375)scale(0.1 -0.1)\">\n      <use xlink:href=\"#DejaVuSans-49\"/>\n     </g>\n    </g>\n    <g id=\"patch_20\">\n     <path d=\"M 249.195 50.688 \nL 282.675 50.688 \nL 282.675 28.944 \nL 249.195 28.944 \nz\n\" style=\"fill:#ffffff;stroke:#000000;stroke-linejoin:miter;\"/>\n    </g>\n    <g id=\"text_19\">\n     <!-- 1 -->\n     <g transform=\"translate(272.9645 42.575375)scale(0.1 -0.1)\">\n      <use xlink:href=\"#DejaVuSans-49\"/>\n     </g>\n    </g>\n    <g id=\"patch_21\">\n     <path d=\"M 282.675 50.688 \nL 316.155 50.688 \nL 316.155 28.944 \nL 282.675 28.944 \nz\n\" style=\"fill:#ffffff;stroke:#000000;stroke-linejoin:miter;\"/>\n    </g>\n    <g id=\"text_20\">\n     <!-- 0 -->\n     <g transform=\"translate(306.4445 42.575375)scale(0.1 -0.1)\">\n      <use xlink:href=\"#DejaVuSans-48\"/>\n     </g>\n    </g>\n    <g id=\"patch_22\">\n     <path d=\"M 316.155 50.688 \nL 349.635 50.688 \nL 349.635 28.944 \nL 316.155 28.944 \nz\n\" style=\"fill:#ffffff;stroke:#000000;stroke-linejoin:miter;\"/>\n    </g>\n    <g id=\"text_21\">\n     <!-- 0 -->\n     <g transform=\"translate(339.9245 42.575375)scale(0.1 -0.1)\">\n      <use xlink:href=\"#DejaVuSans-48\"/>\n     </g>\n    </g>\n    <g id=\"patch_23\">\n     <path d=\"M 7.2 72.432 \nL 14.835 72.432 \nL 14.835 50.688 \nL 7.2 50.688 \nz\n\" style=\"fill:#ccddec;stroke:#000000;stroke-linejoin:miter;\"/>\n    </g>\n    <g id=\"text_22\">\n     <!-- 1 -->\n     <g transform=\"translate(7.709 64.319375)scale(0.1 -0.1)\">\n      <use xlink:href=\"#DejaVuSans-49\"/>\n     </g>\n    </g>\n    <g id=\"patch_24\">\n     <path d=\"M 14.835 72.432 \nL 48.315 72.432 \nL 48.315 50.688 \nL 14.835 50.688 \nz\n\" style=\"fill:#ffffff;stroke:#000000;stroke-linejoin:miter;\"/>\n    </g>\n    <g id=\"text_23\">\n     <!-- 0 -->\n     <g transform=\"translate(38.6045 64.319375)scale(0.1 -0.1)\">\n      <use xlink:href=\"#DejaVuSans-48\"/>\n     </g>\n    </g>\n    <g id=\"patch_25\">\n     <path d=\"M 48.315 72.432 \nL 81.795 72.432 \nL 81.795 50.688 \nL 48.315 50.688 \nz\n\" style=\"fill:#ffffff;stroke:#000000;stroke-linejoin:miter;\"/>\n    </g>\n    <g id=\"text_24\">\n     <!-- 1129 -->\n     <g transform=\"translate(52.997 64.319375)scale(0.1 -0.1)\">\n      <use xlink:href=\"#DejaVuSans-49\"/>\n      <use x=\"63.623047\" xlink:href=\"#DejaVuSans-49\"/>\n      <use x=\"127.246094\" xlink:href=\"#DejaVuSans-50\"/>\n      <use x=\"190.869141\" xlink:href=\"#DejaVuSans-57\"/>\n     </g>\n    </g>\n    <g id=\"patch_26\">\n     <path d=\"M 81.795 72.432 \nL 115.275 72.432 \nL 115.275 50.688 \nL 81.795 50.688 \nz\n\" style=\"fill:#ffffff;stroke:#000000;stroke-linejoin:miter;\"/>\n    </g>\n    <g id=\"text_25\">\n     <!-- 2 -->\n     <g transform=\"translate(105.5645 64.319375)scale(0.1 -0.1)\">\n      <use xlink:href=\"#DejaVuSans-50\"/>\n     </g>\n    </g>\n    <g id=\"patch_27\">\n     <path d=\"M 115.275 72.432 \nL 148.755 72.432 \nL 148.755 50.688 \nL 115.275 50.688 \nz\n\" style=\"fill:#ffffff;stroke:#000000;stroke-linejoin:miter;\"/>\n    </g>\n    <g id=\"text_26\">\n     <!-- 1 -->\n     <g transform=\"translate(139.0445 64.319375)scale(0.1 -0.1)\">\n      <use xlink:href=\"#DejaVuSans-49\"/>\n     </g>\n    </g>\n    <g id=\"patch_28\">\n     <path d=\"M 148.755 72.432 \nL 182.235 72.432 \nL 182.235 50.688 \nL 148.755 50.688 \nz\n\" style=\"fill:#ffffff;stroke:#000000;stroke-linejoin:miter;\"/>\n    </g>\n    <g id=\"text_27\">\n     <!-- 0 -->\n     <g transform=\"translate(172.5245 64.319375)scale(0.1 -0.1)\">\n      <use xlink:href=\"#DejaVuSans-48\"/>\n     </g>\n    </g>\n    <g id=\"patch_29\">\n     <path d=\"M 182.235 72.432 \nL 215.715 72.432 \nL 215.715 50.688 \nL 182.235 50.688 \nz\n\" style=\"fill:#ffffff;stroke:#000000;stroke-linejoin:miter;\"/>\n    </g>\n    <g id=\"text_28\">\n     <!-- 0 -->\n     <g transform=\"translate(206.0045 64.319375)scale(0.1 -0.1)\">\n      <use xlink:href=\"#DejaVuSans-48\"/>\n     </g>\n    </g>\n    <g id=\"patch_30\">\n     <path d=\"M 215.715 72.432 \nL 249.195 72.432 \nL 249.195 50.688 \nL 215.715 50.688 \nz\n\" style=\"fill:#ffffff;stroke:#000000;stroke-linejoin:miter;\"/>\n    </g>\n    <g id=\"text_29\">\n     <!-- 2 -->\n     <g transform=\"translate(239.4845 64.319375)scale(0.1 -0.1)\">\n      <use xlink:href=\"#DejaVuSans-50\"/>\n     </g>\n    </g>\n    <g id=\"patch_31\">\n     <path d=\"M 249.195 72.432 \nL 282.675 72.432 \nL 282.675 50.688 \nL 249.195 50.688 \nz\n\" style=\"fill:#ffffff;stroke:#000000;stroke-linejoin:miter;\"/>\n    </g>\n    <g id=\"text_30\">\n     <!-- 0 -->\n     <g transform=\"translate(272.9645 64.319375)scale(0.1 -0.1)\">\n      <use xlink:href=\"#DejaVuSans-48\"/>\n     </g>\n    </g>\n    <g id=\"patch_32\">\n     <path d=\"M 282.675 72.432 \nL 316.155 72.432 \nL 316.155 50.688 \nL 282.675 50.688 \nz\n\" style=\"fill:#ffffff;stroke:#000000;stroke-linejoin:miter;\"/>\n    </g>\n    <g id=\"text_31\">\n     <!-- 0 -->\n     <g transform=\"translate(306.4445 64.319375)scale(0.1 -0.1)\">\n      <use xlink:href=\"#DejaVuSans-48\"/>\n     </g>\n    </g>\n    <g id=\"patch_33\">\n     <path d=\"M 316.155 72.432 \nL 349.635 72.432 \nL 349.635 50.688 \nL 316.155 50.688 \nz\n\" style=\"fill:#ffffff;stroke:#000000;stroke-linejoin:miter;\"/>\n    </g>\n    <g id=\"text_32\">\n     <!-- 0 -->\n     <g transform=\"translate(339.9245 64.319375)scale(0.1 -0.1)\">\n      <use xlink:href=\"#DejaVuSans-48\"/>\n     </g>\n    </g>\n    <g id=\"patch_34\">\n     <path d=\"M 7.2 94.176 \nL 14.835 94.176 \nL 14.835 72.432 \nL 7.2 72.432 \nz\n\" style=\"fill:#ccddec;stroke:#000000;stroke-linejoin:miter;\"/>\n    </g>\n    <g id=\"text_33\">\n     <!-- 2 -->\n     <g transform=\"translate(7.709 86.063375)scale(0.1 -0.1)\">\n      <use xlink:href=\"#DejaVuSans-50\"/>\n     </g>\n    </g>\n    <g id=\"patch_35\">\n     <path d=\"M 14.835 94.176 \nL 48.315 94.176 \nL 48.315 72.432 \nL 14.835 72.432 \nz\n\" style=\"fill:#ffffff;stroke:#000000;stroke-linejoin:miter;\"/>\n    </g>\n    <g id=\"text_34\">\n     <!-- 14 -->\n     <g transform=\"translate(32.242 86.063375)scale(0.1 -0.1)\">\n      <use xlink:href=\"#DejaVuSans-49\"/>\n      <use x=\"63.623047\" xlink:href=\"#DejaVuSans-52\"/>\n     </g>\n    </g>\n    <g id=\"patch_36\">\n     <path d=\"M 48.315 94.176 \nL 81.795 94.176 \nL 81.795 72.432 \nL 48.315 72.432 \nz\n\" style=\"fill:#ffffff;stroke:#000000;stroke-linejoin:miter;\"/>\n    </g>\n    <g id=\"text_35\">\n     <!-- 0 -->\n     <g transform=\"translate(72.0845 86.063375)scale(0.1 -0.1)\">\n      <use xlink:href=\"#DejaVuSans-48\"/>\n     </g>\n    </g>\n    <g id=\"patch_37\">\n     <path d=\"M 81.795 94.176 \nL 115.275 94.176 \nL 115.275 72.432 \nL 81.795 72.432 \nz\n\" style=\"fill:#ffffff;stroke:#000000;stroke-linejoin:miter;\"/>\n    </g>\n    <g id=\"text_36\">\n     <!-- 998 -->\n     <g transform=\"translate(92.8395 86.063375)scale(0.1 -0.1)\">\n      <use xlink:href=\"#DejaVuSans-57\"/>\n      <use x=\"63.623047\" xlink:href=\"#DejaVuSans-57\"/>\n      <use x=\"127.246094\" xlink:href=\"#DejaVuSans-56\"/>\n     </g>\n    </g>\n    <g id=\"patch_38\">\n     <path d=\"M 115.275 94.176 \nL 148.755 94.176 \nL 148.755 72.432 \nL 115.275 72.432 \nz\n\" style=\"fill:#ffffff;stroke:#000000;stroke-linejoin:miter;\"/>\n    </g>\n    <g id=\"text_37\">\n     <!-- 1 -->\n     <g transform=\"translate(139.0445 86.063375)scale(0.1 -0.1)\">\n      <use xlink:href=\"#DejaVuSans-49\"/>\n     </g>\n    </g>\n    <g id=\"patch_39\">\n     <path d=\"M 148.755 94.176 \nL 182.235 94.176 \nL 182.235 72.432 \nL 148.755 72.432 \nz\n\" style=\"fill:#ffffff;stroke:#000000;stroke-linejoin:miter;\"/>\n    </g>\n    <g id=\"text_38\">\n     <!-- 0 -->\n     <g transform=\"translate(172.5245 86.063375)scale(0.1 -0.1)\">\n      <use xlink:href=\"#DejaVuSans-48\"/>\n     </g>\n    </g>\n    <g id=\"patch_40\">\n     <path d=\"M 182.235 94.176 \nL 215.715 94.176 \nL 215.715 72.432 \nL 182.235 72.432 \nz\n\" style=\"fill:#ffffff;stroke:#000000;stroke-linejoin:miter;\"/>\n    </g>\n    <g id=\"text_39\">\n     <!-- 0 -->\n     <g transform=\"translate(206.0045 86.063375)scale(0.1 -0.1)\">\n      <use xlink:href=\"#DejaVuSans-48\"/>\n     </g>\n    </g>\n    <g id=\"patch_41\">\n     <path d=\"M 215.715 94.176 \nL 249.195 94.176 \nL 249.195 72.432 \nL 215.715 72.432 \nz\n\" style=\"fill:#ffffff;stroke:#000000;stroke-linejoin:miter;\"/>\n    </g>\n    <g id=\"text_40\">\n     <!-- 0 -->\n     <g transform=\"translate(239.4845 86.063375)scale(0.1 -0.1)\">\n      <use xlink:href=\"#DejaVuSans-48\"/>\n     </g>\n    </g>\n    <g id=\"patch_42\">\n     <path d=\"M 249.195 94.176 \nL 282.675 94.176 \nL 282.675 72.432 \nL 249.195 72.432 \nz\n\" style=\"fill:#ffffff;stroke:#000000;stroke-linejoin:miter;\"/>\n    </g>\n    <g id=\"text_41\">\n     <!-- 10 -->\n     <g transform=\"translate(266.602 86.063375)scale(0.1 -0.1)\">\n      <use xlink:href=\"#DejaVuSans-49\"/>\n      <use x=\"63.623047\" xlink:href=\"#DejaVuSans-48\"/>\n     </g>\n    </g>\n    <g id=\"patch_43\">\n     <path d=\"M 282.675 94.176 \nL 316.155 94.176 \nL 316.155 72.432 \nL 282.675 72.432 \nz\n\" style=\"fill:#ffffff;stroke:#000000;stroke-linejoin:miter;\"/>\n    </g>\n    <g id=\"text_42\">\n     <!-- 7 -->\n     <g transform=\"translate(306.4445 86.063375)scale(0.1 -0.1)\">\n      <use xlink:href=\"#DejaVuSans-55\"/>\n     </g>\n    </g>\n    <g id=\"patch_44\">\n     <path d=\"M 316.155 94.176 \nL 349.635 94.176 \nL 349.635 72.432 \nL 316.155 72.432 \nz\n\" style=\"fill:#ffffff;stroke:#000000;stroke-linejoin:miter;\"/>\n    </g>\n    <g id=\"text_43\">\n     <!-- 0 -->\n     <g transform=\"translate(339.9245 86.063375)scale(0.1 -0.1)\">\n      <use xlink:href=\"#DejaVuSans-48\"/>\n     </g>\n    </g>\n    <g id=\"patch_45\">\n     <path d=\"M 7.2 115.92 \nL 14.835 115.92 \nL 14.835 94.176 \nL 7.2 94.176 \nz\n\" style=\"fill:#ccddec;stroke:#000000;stroke-linejoin:miter;\"/>\n    </g>\n    <g id=\"text_44\">\n     <!-- 3 -->\n     <g transform=\"translate(7.709 107.807375)scale(0.1 -0.1)\">\n      <use xlink:href=\"#DejaVuSans-51\"/>\n     </g>\n    </g>\n    <g id=\"patch_46\">\n     <path d=\"M 14.835 115.92 \nL 48.315 115.92 \nL 48.315 94.176 \nL 14.835 94.176 \nz\n\" style=\"fill:#ffffff;stroke:#000000;stroke-linejoin:miter;\"/>\n    </g>\n    <g id=\"text_45\">\n     <!-- 2 -->\n     <g transform=\"translate(38.6045 107.807375)scale(0.1 -0.1)\">\n      <use xlink:href=\"#DejaVuSans-50\"/>\n     </g>\n    </g>\n    <g id=\"patch_47\">\n     <path d=\"M 48.315 115.92 \nL 81.795 115.92 \nL 81.795 94.176 \nL 48.315 94.176 \nz\n\" style=\"fill:#ffffff;stroke:#000000;stroke-linejoin:miter;\"/>\n    </g>\n    <g id=\"text_46\">\n     <!-- 1 -->\n     <g transform=\"translate(72.0845 107.807375)scale(0.1 -0.1)\">\n      <use xlink:href=\"#DejaVuSans-49\"/>\n     </g>\n    </g>\n    <g id=\"patch_48\">\n     <path d=\"M 81.795 115.92 \nL 115.275 115.92 \nL 115.275 94.176 \nL 81.795 94.176 \nz\n\" style=\"fill:#ffffff;stroke:#000000;stroke-linejoin:miter;\"/>\n    </g>\n    <g id=\"text_47\">\n     <!-- 3 -->\n     <g transform=\"translate(105.5645 107.807375)scale(0.1 -0.1)\">\n      <use xlink:href=\"#DejaVuSans-51\"/>\n     </g>\n    </g>\n    <g id=\"patch_49\">\n     <path d=\"M 115.275 115.92 \nL 148.755 115.92 \nL 148.755 94.176 \nL 115.275 94.176 \nz\n\" style=\"fill:#ffffff;stroke:#000000;stroke-linejoin:miter;\"/>\n    </g>\n    <g id=\"text_48\">\n     <!-- 971 -->\n     <g transform=\"translate(126.3195 107.807375)scale(0.1 -0.1)\">\n      <use xlink:href=\"#DejaVuSans-57\"/>\n      <use x=\"63.623047\" xlink:href=\"#DejaVuSans-55\"/>\n      <use x=\"127.246094\" xlink:href=\"#DejaVuSans-49\"/>\n     </g>\n    </g>\n    <g id=\"patch_50\">\n     <path d=\"M 148.755 115.92 \nL 182.235 115.92 \nL 182.235 94.176 \nL 148.755 94.176 \nz\n\" style=\"fill:#ffffff;stroke:#000000;stroke-linejoin:miter;\"/>\n    </g>\n    <g id=\"text_49\">\n     <!-- 0 -->\n     <g transform=\"translate(172.5245 107.807375)scale(0.1 -0.1)\">\n      <use xlink:href=\"#DejaVuSans-48\"/>\n     </g>\n    </g>\n    <g id=\"patch_51\">\n     <path d=\"M 182.235 115.92 \nL 215.715 115.92 \nL 215.715 94.176 \nL 182.235 94.176 \nz\n\" style=\"fill:#ffffff;stroke:#000000;stroke-linejoin:miter;\"/>\n    </g>\n    <g id=\"text_50\">\n     <!-- 8 -->\n     <g transform=\"translate(206.0045 107.807375)scale(0.1 -0.1)\">\n      <use xlink:href=\"#DejaVuSans-56\"/>\n     </g>\n    </g>\n    <g id=\"patch_52\">\n     <path d=\"M 215.715 115.92 \nL 249.195 115.92 \nL 249.195 94.176 \nL 215.715 94.176 \nz\n\" style=\"fill:#ffffff;stroke:#000000;stroke-linejoin:miter;\"/>\n    </g>\n    <g id=\"text_51\">\n     <!-- 0 -->\n     <g transform=\"translate(239.4845 107.807375)scale(0.1 -0.1)\">\n      <use xlink:href=\"#DejaVuSans-48\"/>\n     </g>\n    </g>\n    <g id=\"patch_53\">\n     <path d=\"M 249.195 115.92 \nL 282.675 115.92 \nL 282.675 94.176 \nL 249.195 94.176 \nz\n\" style=\"fill:#ffffff;stroke:#000000;stroke-linejoin:miter;\"/>\n    </g>\n    <g id=\"text_52\">\n     <!-- 5 -->\n     <g transform=\"translate(272.9645 107.807375)scale(0.1 -0.1)\">\n      <use xlink:href=\"#DejaVuSans-53\"/>\n     </g>\n    </g>\n    <g id=\"patch_54\">\n     <path d=\"M 282.675 115.92 \nL 316.155 115.92 \nL 316.155 94.176 \nL 282.675 94.176 \nz\n\" style=\"fill:#ffffff;stroke:#000000;stroke-linejoin:miter;\"/>\n    </g>\n    <g id=\"text_53\">\n     <!-- 14 -->\n     <g transform=\"translate(300.082 107.807375)scale(0.1 -0.1)\">\n      <use xlink:href=\"#DejaVuSans-49\"/>\n      <use x=\"63.623047\" xlink:href=\"#DejaVuSans-52\"/>\n     </g>\n    </g>\n    <g id=\"patch_55\">\n     <path d=\"M 316.155 115.92 \nL 349.635 115.92 \nL 349.635 94.176 \nL 316.155 94.176 \nz\n\" style=\"fill:#ffffff;stroke:#000000;stroke-linejoin:miter;\"/>\n    </g>\n    <g id=\"text_54\">\n     <!-- 5 -->\n     <g transform=\"translate(339.9245 107.807375)scale(0.1 -0.1)\">\n      <use xlink:href=\"#DejaVuSans-53\"/>\n     </g>\n    </g>\n    <g id=\"patch_56\">\n     <path d=\"M 7.2 137.664 \nL 14.835 137.664 \nL 14.835 115.92 \nL 7.2 115.92 \nz\n\" style=\"fill:#ccddec;stroke:#000000;stroke-linejoin:miter;\"/>\n    </g>\n    <g id=\"text_55\">\n     <!-- 4 -->\n     <g transform=\"translate(7.709 129.551375)scale(0.1 -0.1)\">\n      <use xlink:href=\"#DejaVuSans-52\"/>\n     </g>\n    </g>\n    <g id=\"patch_57\">\n     <path d=\"M 14.835 137.664 \nL 48.315 137.664 \nL 48.315 115.92 \nL 14.835 115.92 \nz\n\" style=\"fill:#ffffff;stroke:#000000;stroke-linejoin:miter;\"/>\n    </g>\n    <g id=\"text_56\">\n     <!-- 7 -->\n     <g transform=\"translate(38.6045 129.551375)scale(0.1 -0.1)\">\n      <use xlink:href=\"#DejaVuSans-55\"/>\n     </g>\n    </g>\n    <g id=\"patch_58\">\n     <path d=\"M 48.315 137.664 \nL 81.795 137.664 \nL 81.795 115.92 \nL 48.315 115.92 \nz\n\" style=\"fill:#ffffff;stroke:#000000;stroke-linejoin:miter;\"/>\n    </g>\n    <g id=\"text_57\">\n     <!-- 2 -->\n     <g transform=\"translate(72.0845 129.551375)scale(0.1 -0.1)\">\n      <use xlink:href=\"#DejaVuSans-50\"/>\n     </g>\n    </g>\n    <g id=\"patch_59\">\n     <path d=\"M 81.795 137.664 \nL 115.275 137.664 \nL 115.275 115.92 \nL 81.795 115.92 \nz\n\" style=\"fill:#ffffff;stroke:#000000;stroke-linejoin:miter;\"/>\n    </g>\n    <g id=\"text_58\">\n     <!-- 0 -->\n     <g transform=\"translate(105.5645 129.551375)scale(0.1 -0.1)\">\n      <use xlink:href=\"#DejaVuSans-48\"/>\n     </g>\n    </g>\n    <g id=\"patch_60\">\n     <path d=\"M 115.275 137.664 \nL 148.755 137.664 \nL 148.755 115.92 \nL 115.275 115.92 \nz\n\" style=\"fill:#ffffff;stroke:#000000;stroke-linejoin:miter;\"/>\n    </g>\n    <g id=\"text_59\">\n     <!-- 0 -->\n     <g transform=\"translate(139.0445 129.551375)scale(0.1 -0.1)\">\n      <use xlink:href=\"#DejaVuSans-48\"/>\n     </g>\n    </g>\n    <g id=\"patch_61\">\n     <path d=\"M 148.755 137.664 \nL 182.235 137.664 \nL 182.235 115.92 \nL 148.755 115.92 \nz\n\" style=\"fill:#ffffff;stroke:#000000;stroke-linejoin:miter;\"/>\n    </g>\n    <g id=\"text_60\">\n     <!-- 930 -->\n     <g transform=\"translate(159.7995 129.551375)scale(0.1 -0.1)\">\n      <use xlink:href=\"#DejaVuSans-57\"/>\n      <use x=\"63.623047\" xlink:href=\"#DejaVuSans-51\"/>\n      <use x=\"127.246094\" xlink:href=\"#DejaVuSans-48\"/>\n     </g>\n    </g>\n    <g id=\"patch_62\">\n     <path d=\"M 182.235 137.664 \nL 215.715 137.664 \nL 215.715 115.92 \nL 182.235 115.92 \nz\n\" style=\"fill:#ffffff;stroke:#000000;stroke-linejoin:miter;\"/>\n    </g>\n    <g id=\"text_61\">\n     <!-- 0 -->\n     <g transform=\"translate(206.0045 129.551375)scale(0.1 -0.1)\">\n      <use xlink:href=\"#DejaVuSans-48\"/>\n     </g>\n    </g>\n    <g id=\"patch_63\">\n     <path d=\"M 215.715 137.664 \nL 249.195 137.664 \nL 249.195 115.92 \nL 215.715 115.92 \nz\n\" style=\"fill:#ffffff;stroke:#000000;stroke-linejoin:miter;\"/>\n    </g>\n    <g id=\"text_62\">\n     <!-- 8 -->\n     <g transform=\"translate(239.4845 129.551375)scale(0.1 -0.1)\">\n      <use xlink:href=\"#DejaVuSans-56\"/>\n     </g>\n    </g>\n    <g id=\"patch_64\">\n     <path d=\"M 249.195 137.664 \nL 282.675 137.664 \nL 282.675 115.92 \nL 249.195 115.92 \nz\n\" style=\"fill:#ffffff;stroke:#000000;stroke-linejoin:miter;\"/>\n    </g>\n    <g id=\"text_63\">\n     <!-- 1 -->\n     <g transform=\"translate(272.9645 129.551375)scale(0.1 -0.1)\">\n      <use xlink:href=\"#DejaVuSans-49\"/>\n     </g>\n    </g>\n    <g id=\"patch_65\">\n     <path d=\"M 282.675 137.664 \nL 316.155 137.664 \nL 316.155 115.92 \nL 282.675 115.92 \nz\n\" style=\"fill:#ffffff;stroke:#000000;stroke-linejoin:miter;\"/>\n    </g>\n    <g id=\"text_64\">\n     <!-- 0 -->\n     <g transform=\"translate(306.4445 129.551375)scale(0.1 -0.1)\">\n      <use xlink:href=\"#DejaVuSans-48\"/>\n     </g>\n    </g>\n    <g id=\"patch_66\">\n     <path d=\"M 316.155 137.664 \nL 349.635 137.664 \nL 349.635 115.92 \nL 316.155 115.92 \nz\n\" style=\"fill:#ffffff;stroke:#000000;stroke-linejoin:miter;\"/>\n    </g>\n    <g id=\"text_65\">\n     <!-- 32 -->\n     <g transform=\"translate(333.562 129.551375)scale(0.1 -0.1)\">\n      <use xlink:href=\"#DejaVuSans-51\"/>\n      <use x=\"63.623047\" xlink:href=\"#DejaVuSans-50\"/>\n     </g>\n    </g>\n    <g id=\"patch_67\">\n     <path d=\"M 7.2 159.408 \nL 14.835 159.408 \nL 14.835 137.664 \nL 7.2 137.664 \nz\n\" style=\"fill:#ccddec;stroke:#000000;stroke-linejoin:miter;\"/>\n    </g>\n    <g id=\"text_66\">\n     <!-- 5 -->\n     <g transform=\"translate(7.709 151.295375)scale(0.1 -0.1)\">\n      <use xlink:href=\"#DejaVuSans-53\"/>\n     </g>\n    </g>\n    <g id=\"patch_68\">\n     <path d=\"M 14.835 159.408 \nL 48.315 159.408 \nL 48.315 137.664 \nL 14.835 137.664 \nz\n\" style=\"fill:#ffffff;stroke:#000000;stroke-linejoin:miter;\"/>\n    </g>\n    <g id=\"text_67\">\n     <!-- 7 -->\n     <g transform=\"translate(38.6045 151.295375)scale(0.1 -0.1)\">\n      <use xlink:href=\"#DejaVuSans-55\"/>\n     </g>\n    </g>\n    <g id=\"patch_69\">\n     <path d=\"M 48.315 159.408 \nL 81.795 159.408 \nL 81.795 137.664 \nL 48.315 137.664 \nz\n\" style=\"fill:#ffffff;stroke:#000000;stroke-linejoin:miter;\"/>\n    </g>\n    <g id=\"text_68\">\n     <!-- 1 -->\n     <g transform=\"translate(72.0845 151.295375)scale(0.1 -0.1)\">\n      <use xlink:href=\"#DejaVuSans-49\"/>\n     </g>\n    </g>\n    <g id=\"patch_70\">\n     <path d=\"M 81.795 159.408 \nL 115.275 159.408 \nL 115.275 137.664 \nL 81.795 137.664 \nz\n\" style=\"fill:#ffffff;stroke:#000000;stroke-linejoin:miter;\"/>\n    </g>\n    <g id=\"text_69\">\n     <!-- 0 -->\n     <g transform=\"translate(105.5645 151.295375)scale(0.1 -0.1)\">\n      <use xlink:href=\"#DejaVuSans-48\"/>\n     </g>\n    </g>\n    <g id=\"patch_71\">\n     <path d=\"M 115.275 159.408 \nL 148.755 159.408 \nL 148.755 137.664 \nL 115.275 137.664 \nz\n\" style=\"fill:#ffffff;stroke:#000000;stroke-linejoin:miter;\"/>\n    </g>\n    <g id=\"text_70\">\n     <!-- 15 -->\n     <g transform=\"translate(132.682 151.295375)scale(0.1 -0.1)\">\n      <use xlink:href=\"#DejaVuSans-49\"/>\n      <use x=\"63.623047\" xlink:href=\"#DejaVuSans-53\"/>\n     </g>\n    </g>\n    <g id=\"patch_72\">\n     <path d=\"M 148.755 159.408 \nL 182.235 159.408 \nL 182.235 137.664 \nL 148.755 137.664 \nz\n\" style=\"fill:#ffffff;stroke:#000000;stroke-linejoin:miter;\"/>\n    </g>\n    <g id=\"text_71\">\n     <!-- 0 -->\n     <g transform=\"translate(172.5245 151.295375)scale(0.1 -0.1)\">\n      <use xlink:href=\"#DejaVuSans-48\"/>\n     </g>\n    </g>\n    <g id=\"patch_73\">\n     <path d=\"M 182.235 159.408 \nL 215.715 159.408 \nL 215.715 137.664 \nL 182.235 137.664 \nz\n\" style=\"fill:#ffffff;stroke:#000000;stroke-linejoin:miter;\"/>\n    </g>\n    <g id=\"text_72\">\n     <!-- 840 -->\n     <g transform=\"translate(193.2795 151.295375)scale(0.1 -0.1)\">\n      <use xlink:href=\"#DejaVuSans-56\"/>\n      <use x=\"63.623047\" xlink:href=\"#DejaVuSans-52\"/>\n      <use x=\"127.246094\" xlink:href=\"#DejaVuSans-48\"/>\n     </g>\n    </g>\n    <g id=\"patch_74\">\n     <path d=\"M 215.715 159.408 \nL 249.195 159.408 \nL 249.195 137.664 \nL 215.715 137.664 \nz\n\" style=\"fill:#ffffff;stroke:#000000;stroke-linejoin:miter;\"/>\n    </g>\n    <g id=\"text_73\">\n     <!-- 13 -->\n     <g transform=\"translate(233.122 151.295375)scale(0.1 -0.1)\">\n      <use xlink:href=\"#DejaVuSans-49\"/>\n      <use x=\"63.623047\" xlink:href=\"#DejaVuSans-51\"/>\n     </g>\n    </g>\n    <g id=\"patch_75\">\n     <path d=\"M 249.195 159.408 \nL 282.675 159.408 \nL 282.675 137.664 \nL 249.195 137.664 \nz\n\" style=\"fill:#ffffff;stroke:#000000;stroke-linejoin:miter;\"/>\n    </g>\n    <g id=\"text_74\">\n     <!-- 0 -->\n     <g transform=\"translate(272.9645 151.295375)scale(0.1 -0.1)\">\n      <use xlink:href=\"#DejaVuSans-48\"/>\n     </g>\n    </g>\n    <g id=\"patch_76\">\n     <path d=\"M 282.675 159.408 \nL 316.155 159.408 \nL 316.155 137.664 \nL 282.675 137.664 \nz\n\" style=\"fill:#ffffff;stroke:#000000;stroke-linejoin:miter;\"/>\n    </g>\n    <g id=\"text_75\">\n     <!-- 9 -->\n     <g transform=\"translate(306.4445 151.295375)scale(0.1 -0.1)\">\n      <use xlink:href=\"#DejaVuSans-57\"/>\n     </g>\n    </g>\n    <g id=\"patch_77\">\n     <path d=\"M 316.155 159.408 \nL 349.635 159.408 \nL 349.635 137.664 \nL 316.155 137.664 \nz\n\" style=\"fill:#ffffff;stroke:#000000;stroke-linejoin:miter;\"/>\n    </g>\n    <g id=\"text_76\">\n     <!-- 4 -->\n     <g transform=\"translate(339.9245 151.295375)scale(0.1 -0.1)\">\n      <use xlink:href=\"#DejaVuSans-52\"/>\n     </g>\n    </g>\n    <g id=\"patch_78\">\n     <path d=\"M 7.2 181.152 \nL 14.835 181.152 \nL 14.835 159.408 \nL 7.2 159.408 \nz\n\" style=\"fill:#ccddec;stroke:#000000;stroke-linejoin:miter;\"/>\n    </g>\n    <g id=\"text_77\">\n     <!-- 6 -->\n     <g transform=\"translate(7.709 173.039375)scale(0.1 -0.1)\">\n      <use xlink:href=\"#DejaVuSans-54\"/>\n     </g>\n    </g>\n    <g id=\"patch_79\">\n     <path d=\"M 14.835 181.152 \nL 48.315 181.152 \nL 48.315 159.408 \nL 14.835 159.408 \nz\n\" style=\"fill:#ffffff;stroke:#000000;stroke-linejoin:miter;\"/>\n    </g>\n    <g id=\"text_78\">\n     <!-- 6 -->\n     <g transform=\"translate(38.6045 173.039375)scale(0.1 -0.1)\">\n      <use xlink:href=\"#DejaVuSans-54\"/>\n     </g>\n    </g>\n    <g id=\"patch_80\">\n     <path d=\"M 48.315 181.152 \nL 81.795 181.152 \nL 81.795 159.408 \nL 48.315 159.408 \nz\n\" style=\"fill:#ffffff;stroke:#000000;stroke-linejoin:miter;\"/>\n    </g>\n    <g id=\"text_79\">\n     <!-- 3 -->\n     <g transform=\"translate(72.0845 173.039375)scale(0.1 -0.1)\">\n      <use xlink:href=\"#DejaVuSans-51\"/>\n     </g>\n    </g>\n    <g id=\"patch_81\">\n     <path d=\"M 81.795 181.152 \nL 115.275 181.152 \nL 115.275 159.408 \nL 81.795 159.408 \nz\n\" style=\"fill:#ffffff;stroke:#000000;stroke-linejoin:miter;\"/>\n    </g>\n    <g id=\"text_80\">\n     <!-- 0 -->\n     <g transform=\"translate(105.5645 173.039375)scale(0.1 -0.1)\">\n      <use xlink:href=\"#DejaVuSans-48\"/>\n     </g>\n    </g>\n    <g id=\"patch_82\">\n     <path d=\"M 115.275 181.152 \nL 148.755 181.152 \nL 148.755 159.408 \nL 115.275 159.408 \nz\n\" style=\"fill:#ffffff;stroke:#000000;stroke-linejoin:miter;\"/>\n    </g>\n    <g id=\"text_81\">\n     <!-- 0 -->\n     <g transform=\"translate(139.0445 173.039375)scale(0.1 -0.1)\">\n      <use xlink:href=\"#DejaVuSans-48\"/>\n     </g>\n    </g>\n    <g id=\"patch_83\">\n     <path d=\"M 148.755 181.152 \nL 182.235 181.152 \nL 182.235 159.408 \nL 148.755 159.408 \nz\n\" style=\"fill:#ffffff;stroke:#000000;stroke-linejoin:miter;\"/>\n    </g>\n    <g id=\"text_82\">\n     <!-- 1 -->\n     <g transform=\"translate(172.5245 173.039375)scale(0.1 -0.1)\">\n      <use xlink:href=\"#DejaVuSans-49\"/>\n     </g>\n    </g>\n    <g id=\"patch_84\">\n     <path d=\"M 182.235 181.152 \nL 215.715 181.152 \nL 215.715 159.408 \nL 182.235 159.408 \nz\n\" style=\"fill:#ffffff;stroke:#000000;stroke-linejoin:miter;\"/>\n    </g>\n    <g id=\"text_83\">\n     <!-- 1 -->\n     <g transform=\"translate(206.0045 173.039375)scale(0.1 -0.1)\">\n      <use xlink:href=\"#DejaVuSans-49\"/>\n     </g>\n    </g>\n    <g id=\"patch_85\">\n     <path d=\"M 215.715 181.152 \nL 249.195 181.152 \nL 249.195 159.408 \nL 215.715 159.408 \nz\n\" style=\"fill:#ffffff;stroke:#000000;stroke-linejoin:miter;\"/>\n    </g>\n    <g id=\"text_84\">\n     <!-- 946 -->\n     <g transform=\"translate(226.7595 173.039375)scale(0.1 -0.1)\">\n      <use xlink:href=\"#DejaVuSans-57\"/>\n      <use x=\"63.623047\" xlink:href=\"#DejaVuSans-52\"/>\n      <use x=\"127.246094\" xlink:href=\"#DejaVuSans-54\"/>\n     </g>\n    </g>\n    <g id=\"patch_86\">\n     <path d=\"M 249.195 181.152 \nL 282.675 181.152 \nL 282.675 159.408 \nL 249.195 159.408 \nz\n\" style=\"fill:#ffffff;stroke:#000000;stroke-linejoin:miter;\"/>\n    </g>\n    <g id=\"text_85\">\n     <!-- 0 -->\n     <g transform=\"translate(272.9645 173.039375)scale(0.1 -0.1)\">\n      <use xlink:href=\"#DejaVuSans-48\"/>\n     </g>\n    </g>\n    <g id=\"patch_87\">\n     <path d=\"M 282.675 181.152 \nL 316.155 181.152 \nL 316.155 159.408 \nL 282.675 159.408 \nz\n\" style=\"fill:#ffffff;stroke:#000000;stroke-linejoin:miter;\"/>\n    </g>\n    <g id=\"text_86\">\n     <!-- 0 -->\n     <g transform=\"translate(306.4445 173.039375)scale(0.1 -0.1)\">\n      <use xlink:href=\"#DejaVuSans-48\"/>\n     </g>\n    </g>\n    <g id=\"patch_88\">\n     <path d=\"M 316.155 181.152 \nL 349.635 181.152 \nL 349.635 159.408 \nL 316.155 159.408 \nz\n\" style=\"fill:#ffffff;stroke:#000000;stroke-linejoin:miter;\"/>\n    </g>\n    <g id=\"text_87\">\n     <!-- 0 -->\n     <g transform=\"translate(339.9245 173.039375)scale(0.1 -0.1)\">\n      <use xlink:href=\"#DejaVuSans-48\"/>\n     </g>\n    </g>\n    <g id=\"patch_89\">\n     <path d=\"M 7.2 202.896 \nL 14.835 202.896 \nL 14.835 181.152 \nL 7.2 181.152 \nz\n\" style=\"fill:#ccddec;stroke:#000000;stroke-linejoin:miter;\"/>\n    </g>\n    <g id=\"text_88\">\n     <!-- 7 -->\n     <g transform=\"translate(7.709 194.783375)scale(0.1 -0.1)\">\n      <use xlink:href=\"#DejaVuSans-55\"/>\n     </g>\n    </g>\n    <g id=\"patch_90\">\n     <path d=\"M 14.835 202.896 \nL 48.315 202.896 \nL 48.315 181.152 \nL 14.835 181.152 \nz\n\" style=\"fill:#ffffff;stroke:#000000;stroke-linejoin:miter;\"/>\n    </g>\n    <g id=\"text_89\">\n     <!-- 3 -->\n     <g transform=\"translate(38.6045 194.783375)scale(0.1 -0.1)\">\n      <use xlink:href=\"#DejaVuSans-51\"/>\n     </g>\n    </g>\n    <g id=\"patch_91\">\n     <path d=\"M 48.315 202.896 \nL 81.795 202.896 \nL 81.795 181.152 \nL 48.315 181.152 \nz\n\" style=\"fill:#ffffff;stroke:#000000;stroke-linejoin:miter;\"/>\n    </g>\n    <g id=\"text_90\">\n     <!-- 10 -->\n     <g transform=\"translate(65.722 194.783375)scale(0.1 -0.1)\">\n      <use xlink:href=\"#DejaVuSans-49\"/>\n      <use x=\"63.623047\" xlink:href=\"#DejaVuSans-48\"/>\n     </g>\n    </g>\n    <g id=\"patch_92\">\n     <path d=\"M 81.795 202.896 \nL 115.275 202.896 \nL 115.275 181.152 \nL 81.795 181.152 \nz\n\" style=\"fill:#ffffff;stroke:#000000;stroke-linejoin:miter;\"/>\n    </g>\n    <g id=\"text_91\">\n     <!-- 5 -->\n     <g transform=\"translate(105.5645 194.783375)scale(0.1 -0.1)\">\n      <use xlink:href=\"#DejaVuSans-53\"/>\n     </g>\n    </g>\n    <g id=\"patch_93\">\n     <path d=\"M 115.275 202.896 \nL 148.755 202.896 \nL 148.755 181.152 \nL 115.275 181.152 \nz\n\" style=\"fill:#ffffff;stroke:#000000;stroke-linejoin:miter;\"/>\n    </g>\n    <g id=\"text_92\">\n     <!-- 0 -->\n     <g transform=\"translate(139.0445 194.783375)scale(0.1 -0.1)\">\n      <use xlink:href=\"#DejaVuSans-48\"/>\n     </g>\n    </g>\n    <g id=\"patch_94\">\n     <path d=\"M 148.755 202.896 \nL 182.235 202.896 \nL 182.235 181.152 \nL 148.755 181.152 \nz\n\" style=\"fill:#ffffff;stroke:#000000;stroke-linejoin:miter;\"/>\n    </g>\n    <g id=\"text_93\">\n     <!-- 2 -->\n     <g transform=\"translate(172.5245 194.783375)scale(0.1 -0.1)\">\n      <use xlink:href=\"#DejaVuSans-50\"/>\n     </g>\n    </g>\n    <g id=\"patch_95\">\n     <path d=\"M 182.235 202.896 \nL 215.715 202.896 \nL 215.715 181.152 \nL 182.235 181.152 \nz\n\" style=\"fill:#ffffff;stroke:#000000;stroke-linejoin:miter;\"/>\n    </g>\n    <g id=\"text_94\">\n     <!-- 0 -->\n     <g transform=\"translate(206.0045 194.783375)scale(0.1 -0.1)\">\n      <use xlink:href=\"#DejaVuSans-48\"/>\n     </g>\n    </g>\n    <g id=\"patch_96\">\n     <path d=\"M 215.715 202.896 \nL 249.195 202.896 \nL 249.195 181.152 \nL 215.715 181.152 \nz\n\" style=\"fill:#ffffff;stroke:#000000;stroke-linejoin:miter;\"/>\n    </g>\n    <g id=\"text_95\">\n     <!-- 0 -->\n     <g transform=\"translate(239.4845 194.783375)scale(0.1 -0.1)\">\n      <use xlink:href=\"#DejaVuSans-48\"/>\n     </g>\n    </g>\n    <g id=\"patch_97\">\n     <path d=\"M 249.195 202.896 \nL 282.675 202.896 \nL 282.675 181.152 \nL 249.195 181.152 \nz\n\" style=\"fill:#ffffff;stroke:#000000;stroke-linejoin:miter;\"/>\n    </g>\n    <g id=\"text_96\">\n     <!-- 984 -->\n     <g transform=\"translate(260.2395 194.783375)scale(0.1 -0.1)\">\n      <use xlink:href=\"#DejaVuSans-57\"/>\n      <use x=\"63.623047\" xlink:href=\"#DejaVuSans-56\"/>\n      <use x=\"127.246094\" xlink:href=\"#DejaVuSans-52\"/>\n     </g>\n    </g>\n    <g id=\"patch_98\">\n     <path d=\"M 282.675 202.896 \nL 316.155 202.896 \nL 316.155 181.152 \nL 282.675 181.152 \nz\n\" style=\"fill:#ffffff;stroke:#000000;stroke-linejoin:miter;\"/>\n    </g>\n    <g id=\"text_97\">\n     <!-- 0 -->\n     <g transform=\"translate(306.4445 194.783375)scale(0.1 -0.1)\">\n      <use xlink:href=\"#DejaVuSans-48\"/>\n     </g>\n    </g>\n    <g id=\"patch_99\">\n     <path d=\"M 316.155 202.896 \nL 349.635 202.896 \nL 349.635 181.152 \nL 316.155 181.152 \nz\n\" style=\"fill:#ffffff;stroke:#000000;stroke-linejoin:miter;\"/>\n    </g>\n    <g id=\"text_98\">\n     <!-- 23 -->\n     <g transform=\"translate(333.562 194.783375)scale(0.1 -0.1)\">\n      <use xlink:href=\"#DejaVuSans-50\"/>\n      <use x=\"63.623047\" xlink:href=\"#DejaVuSans-51\"/>\n     </g>\n    </g>\n    <g id=\"patch_100\">\n     <path d=\"M 7.2 224.64 \nL 14.835 224.64 \nL 14.835 202.896 \nL 7.2 202.896 \nz\n\" style=\"fill:#ccddec;stroke:#000000;stroke-linejoin:miter;\"/>\n    </g>\n    <g id=\"text_99\">\n     <!-- 8 -->\n     <g transform=\"translate(7.709 216.527375)scale(0.1 -0.1)\">\n      <use xlink:href=\"#DejaVuSans-56\"/>\n     </g>\n    </g>\n    <g id=\"patch_101\">\n     <path d=\"M 14.835 224.64 \nL 48.315 224.64 \nL 48.315 202.896 \nL 14.835 202.896 \nz\n\" style=\"fill:#ffffff;stroke:#000000;stroke-linejoin:miter;\"/>\n    </g>\n    <g id=\"text_100\">\n     <!-- 6 -->\n     <g transform=\"translate(38.6045 216.527375)scale(0.1 -0.1)\">\n      <use xlink:href=\"#DejaVuSans-54\"/>\n     </g>\n    </g>\n    <g id=\"patch_102\">\n     <path d=\"M 48.315 224.64 \nL 81.795 224.64 \nL 81.795 202.896 \nL 48.315 202.896 \nz\n\" style=\"fill:#ffffff;stroke:#000000;stroke-linejoin:miter;\"/>\n    </g>\n    <g id=\"text_101\">\n     <!-- 4 -->\n     <g transform=\"translate(72.0845 216.527375)scale(0.1 -0.1)\">\n      <use xlink:href=\"#DejaVuSans-52\"/>\n     </g>\n    </g>\n    <g id=\"patch_103\">\n     <path d=\"M 81.795 224.64 \nL 115.275 224.64 \nL 115.275 202.896 \nL 81.795 202.896 \nz\n\" style=\"fill:#ffffff;stroke:#000000;stroke-linejoin:miter;\"/>\n    </g>\n    <g id=\"text_102\">\n     <!-- 1 -->\n     <g transform=\"translate(105.5645 216.527375)scale(0.1 -0.1)\">\n      <use xlink:href=\"#DejaVuSans-49\"/>\n     </g>\n    </g>\n    <g id=\"patch_104\">\n     <path d=\"M 115.275 224.64 \nL 148.755 224.64 \nL 148.755 202.896 \nL 115.275 202.896 \nz\n\" style=\"fill:#ffffff;stroke:#000000;stroke-linejoin:miter;\"/>\n    </g>\n    <g id=\"text_103\">\n     <!-- 5 -->\n     <g transform=\"translate(139.0445 216.527375)scale(0.1 -0.1)\">\n      <use xlink:href=\"#DejaVuSans-53\"/>\n     </g>\n    </g>\n    <g id=\"patch_105\">\n     <path d=\"M 148.755 224.64 \nL 182.235 224.64 \nL 182.235 202.896 \nL 148.755 202.896 \nz\n\" style=\"fill:#ffffff;stroke:#000000;stroke-linejoin:miter;\"/>\n    </g>\n    <g id=\"text_104\">\n     <!-- 4 -->\n     <g transform=\"translate(172.5245 216.527375)scale(0.1 -0.1)\">\n      <use xlink:href=\"#DejaVuSans-52\"/>\n     </g>\n    </g>\n    <g id=\"patch_106\">\n     <path d=\"M 182.235 224.64 \nL 215.715 224.64 \nL 215.715 202.896 \nL 182.235 202.896 \nz\n\" style=\"fill:#ffffff;stroke:#000000;stroke-linejoin:miter;\"/>\n    </g>\n    <g id=\"text_105\">\n     <!-- 4 -->\n     <g transform=\"translate(206.0045 216.527375)scale(0.1 -0.1)\">\n      <use xlink:href=\"#DejaVuSans-52\"/>\n     </g>\n    </g>\n    <g id=\"patch_107\">\n     <path d=\"M 215.715 224.64 \nL 249.195 224.64 \nL 249.195 202.896 \nL 215.715 202.896 \nz\n\" style=\"fill:#ffffff;stroke:#000000;stroke-linejoin:miter;\"/>\n    </g>\n    <g id=\"text_106\">\n     <!-- 4 -->\n     <g transform=\"translate(239.4845 216.527375)scale(0.1 -0.1)\">\n      <use xlink:href=\"#DejaVuSans-52\"/>\n     </g>\n    </g>\n    <g id=\"patch_108\">\n     <path d=\"M 249.195 224.64 \nL 282.675 224.64 \nL 282.675 202.896 \nL 249.195 202.896 \nz\n\" style=\"fill:#ffffff;stroke:#000000;stroke-linejoin:miter;\"/>\n    </g>\n    <g id=\"text_107\">\n     <!-- 5 -->\n     <g transform=\"translate(272.9645 216.527375)scale(0.1 -0.1)\">\n      <use xlink:href=\"#DejaVuSans-53\"/>\n     </g>\n    </g>\n    <g id=\"patch_109\">\n     <path d=\"M 282.675 224.64 \nL 316.155 224.64 \nL 316.155 202.896 \nL 282.675 202.896 \nz\n\" style=\"fill:#ffffff;stroke:#000000;stroke-linejoin:miter;\"/>\n    </g>\n    <g id=\"text_108\">\n     <!-- 935 -->\n     <g transform=\"translate(293.7195 216.527375)scale(0.1 -0.1)\">\n      <use xlink:href=\"#DejaVuSans-57\"/>\n      <use x=\"63.623047\" xlink:href=\"#DejaVuSans-51\"/>\n      <use x=\"127.246094\" xlink:href=\"#DejaVuSans-53\"/>\n     </g>\n    </g>\n    <g id=\"patch_110\">\n     <path d=\"M 316.155 224.64 \nL 349.635 224.64 \nL 349.635 202.896 \nL 316.155 202.896 \nz\n\" style=\"fill:#ffffff;stroke:#000000;stroke-linejoin:miter;\"/>\n    </g>\n    <g id=\"text_109\">\n     <!-- 4 -->\n     <g transform=\"translate(339.9245 216.527375)scale(0.1 -0.1)\">\n      <use xlink:href=\"#DejaVuSans-52\"/>\n     </g>\n    </g>\n    <g id=\"patch_111\">\n     <path d=\"M 7.2 246.384 \nL 14.835 246.384 \nL 14.835 224.64 \nL 7.2 224.64 \nz\n\" style=\"fill:#ccddec;stroke:#000000;stroke-linejoin:miter;\"/>\n    </g>\n    <g id=\"text_110\">\n     <!-- 9 -->\n     <g transform=\"translate(7.709 238.271375)scale(0.1 -0.1)\">\n      <use xlink:href=\"#DejaVuSans-57\"/>\n     </g>\n    </g>\n    <g id=\"patch_112\">\n     <path d=\"M 14.835 246.384 \nL 48.315 246.384 \nL 48.315 224.64 \nL 14.835 224.64 \nz\n\" style=\"fill:#ffffff;stroke:#000000;stroke-linejoin:miter;\"/>\n    </g>\n    <g id=\"text_111\">\n     <!-- 13 -->\n     <g transform=\"translate(32.242 238.271375)scale(0.1 -0.1)\">\n      <use xlink:href=\"#DejaVuSans-49\"/>\n      <use x=\"63.623047\" xlink:href=\"#DejaVuSans-51\"/>\n     </g>\n    </g>\n    <g id=\"patch_113\">\n     <path d=\"M 48.315 246.384 \nL 81.795 246.384 \nL 81.795 224.64 \nL 48.315 224.64 \nz\n\" style=\"fill:#ffffff;stroke:#000000;stroke-linejoin:miter;\"/>\n    </g>\n    <g id=\"text_112\">\n     <!-- 7 -->\n     <g transform=\"translate(72.0845 238.271375)scale(0.1 -0.1)\">\n      <use xlink:href=\"#DejaVuSans-55\"/>\n     </g>\n    </g>\n    <g id=\"patch_114\">\n     <path d=\"M 81.795 246.384 \nL 115.275 246.384 \nL 115.275 224.64 \nL 81.795 224.64 \nz\n\" style=\"fill:#ffffff;stroke:#000000;stroke-linejoin:miter;\"/>\n    </g>\n    <g id=\"text_113\">\n     <!-- 1 -->\n     <g transform=\"translate(105.5645 238.271375)scale(0.1 -0.1)\">\n      <use xlink:href=\"#DejaVuSans-49\"/>\n     </g>\n    </g>\n    <g id=\"patch_115\">\n     <path d=\"M 115.275 246.384 \nL 148.755 246.384 \nL 148.755 224.64 \nL 115.275 224.64 \nz\n\" style=\"fill:#ffffff;stroke:#000000;stroke-linejoin:miter;\"/>\n    </g>\n    <g id=\"text_114\">\n     <!-- 5 -->\n     <g transform=\"translate(139.0445 238.271375)scale(0.1 -0.1)\">\n      <use xlink:href=\"#DejaVuSans-53\"/>\n     </g>\n    </g>\n    <g id=\"patch_116\">\n     <path d=\"M 148.755 246.384 \nL 182.235 246.384 \nL 182.235 224.64 \nL 148.755 224.64 \nz\n\" style=\"fill:#ffffff;stroke:#000000;stroke-linejoin:miter;\"/>\n    </g>\n    <g id=\"text_115\">\n     <!-- 7 -->\n     <g transform=\"translate(172.5245 238.271375)scale(0.1 -0.1)\">\n      <use xlink:href=\"#DejaVuSans-55\"/>\n     </g>\n    </g>\n    <g id=\"patch_117\">\n     <path d=\"M 182.235 246.384 \nL 215.715 246.384 \nL 215.715 224.64 \nL 182.235 224.64 \nz\n\" style=\"fill:#ffffff;stroke:#000000;stroke-linejoin:miter;\"/>\n    </g>\n    <g id=\"text_116\">\n     <!-- 3 -->\n     <g transform=\"translate(206.0045 238.271375)scale(0.1 -0.1)\">\n      <use xlink:href=\"#DejaVuSans-51\"/>\n     </g>\n    </g>\n    <g id=\"patch_118\">\n     <path d=\"M 215.715 246.384 \nL 249.195 246.384 \nL 249.195 224.64 \nL 215.715 224.64 \nz\n\" style=\"fill:#ffffff;stroke:#000000;stroke-linejoin:miter;\"/>\n    </g>\n    <g id=\"text_117\">\n     <!-- 2 -->\n     <g transform=\"translate(239.4845 238.271375)scale(0.1 -0.1)\">\n      <use xlink:href=\"#DejaVuSans-50\"/>\n     </g>\n    </g>\n    <g id=\"patch_119\">\n     <path d=\"M 249.195 246.384 \nL 282.675 246.384 \nL 282.675 224.64 \nL 249.195 224.64 \nz\n\" style=\"fill:#ffffff;stroke:#000000;stroke-linejoin:miter;\"/>\n    </g>\n    <g id=\"text_118\">\n     <!-- 4 -->\n     <g transform=\"translate(272.9645 238.271375)scale(0.1 -0.1)\">\n      <use xlink:href=\"#DejaVuSans-52\"/>\n     </g>\n    </g>\n    <g id=\"patch_120\">\n     <path d=\"M 282.675 246.384 \nL 316.155 246.384 \nL 316.155 224.64 \nL 282.675 224.64 \nz\n\" style=\"fill:#ffffff;stroke:#000000;stroke-linejoin:miter;\"/>\n    </g>\n    <g id=\"text_119\">\n     <!-- 4 -->\n     <g transform=\"translate(306.4445 238.271375)scale(0.1 -0.1)\">\n      <use xlink:href=\"#DejaVuSans-52\"/>\n     </g>\n    </g>\n    <g id=\"patch_121\">\n     <path d=\"M 316.155 246.384 \nL 349.635 246.384 \nL 349.635 224.64 \nL 316.155 224.64 \nz\n\" style=\"fill:#ffffff;stroke:#000000;stroke-linejoin:miter;\"/>\n    </g>\n    <g id=\"text_120\">\n     <!-- 961 -->\n     <g transform=\"translate(327.1995 238.271375)scale(0.1 -0.1)\">\n      <use xlink:href=\"#DejaVuSans-57\"/>\n      <use x=\"63.623047\" xlink:href=\"#DejaVuSans-54\"/>\n      <use x=\"127.246094\" xlink:href=\"#DejaVuSans-49\"/>\n     </g>\n    </g>\n   </g>\n  </g>\n </g>\n</svg>\n"
          },
          "metadata": {
            "needs_background": "light"
          }
        }
      ]
    },
    {
      "cell_type": "code",
      "metadata": {
        "id": "YCnBwgUTlwtW"
      },
      "source": [
        "cellDict = the_table.get_celld()\n",
        "for i in range(0 ,10):\n",
        "    cellDict[(0,i)].set_height(.1)\n",
        "    for j in range(0,11):\n",
        "        cellDict[(j,i)].set_height(.1)\n",
        "      \n",
        "for i in range(1, 11):\n",
        "  cellDict[(i,-1)].set_height(.1)\n",
        "  cellDict[(i,-1)].set_width(.10)"
      ],
      "execution_count": null,
      "outputs": []
    },
    {
      "cell_type": "code",
      "metadata": {
        "id": "hq7wkZqMyu0_"
      },
      "source": [
        "import pandas as pd\n"
      ],
      "execution_count": null,
      "outputs": []
    },
    {
      "cell_type": "code",
      "metadata": {
        "colab": {
          "base_uri": "https://localhost:8080/",
          "height": 363
        },
        "id": "atYnB0i-yytU",
        "outputId": "ea9b8f92-4533-4913-db62-d3005377f44c"
      },
      "source": [
        "df = pd.DataFrame(conf_matrix, index=np.arange(10), columns=np.arange(10))\n",
        "df"
      ],
      "execution_count": null,
      "outputs": [
        {
          "output_type": "execute_result",
          "data": {
            "text/html": [
              "<div>\n",
              "<style scoped>\n",
              "    .dataframe tbody tr th:only-of-type {\n",
              "        vertical-align: middle;\n",
              "    }\n",
              "\n",
              "    .dataframe tbody tr th {\n",
              "        vertical-align: top;\n",
              "    }\n",
              "\n",
              "    .dataframe thead th {\n",
              "        text-align: right;\n",
              "    }\n",
              "</style>\n",
              "<table border=\"1\" class=\"dataframe\">\n",
              "  <thead>\n",
              "    <tr style=\"text-align: right;\">\n",
              "      <th></th>\n",
              "      <th>0</th>\n",
              "      <th>1</th>\n",
              "      <th>2</th>\n",
              "      <th>3</th>\n",
              "      <th>4</th>\n",
              "      <th>5</th>\n",
              "      <th>6</th>\n",
              "      <th>7</th>\n",
              "      <th>8</th>\n",
              "      <th>9</th>\n",
              "    </tr>\n",
              "  </thead>\n",
              "  <tbody>\n",
              "    <tr>\n",
              "      <th>0</th>\n",
              "      <td>977</td>\n",
              "      <td>0</td>\n",
              "      <td>8</td>\n",
              "      <td>0</td>\n",
              "      <td>2</td>\n",
              "      <td>4</td>\n",
              "      <td>3</td>\n",
              "      <td>2</td>\n",
              "      <td>7</td>\n",
              "      <td>7</td>\n",
              "    </tr>\n",
              "    <tr>\n",
              "      <th>1</th>\n",
              "      <td>1</td>\n",
              "      <td>1129</td>\n",
              "      <td>0</td>\n",
              "      <td>1</td>\n",
              "      <td>1</td>\n",
              "      <td>0</td>\n",
              "      <td>3</td>\n",
              "      <td>10</td>\n",
              "      <td>1</td>\n",
              "      <td>7</td>\n",
              "    </tr>\n",
              "    <tr>\n",
              "      <th>2</th>\n",
              "      <td>0</td>\n",
              "      <td>3</td>\n",
              "      <td>1009</td>\n",
              "      <td>3</td>\n",
              "      <td>0</td>\n",
              "      <td>0</td>\n",
              "      <td>0</td>\n",
              "      <td>4</td>\n",
              "      <td>2</td>\n",
              "      <td>2</td>\n",
              "    </tr>\n",
              "    <tr>\n",
              "      <th>3</th>\n",
              "      <td>0</td>\n",
              "      <td>1</td>\n",
              "      <td>1</td>\n",
              "      <td>976</td>\n",
              "      <td>0</td>\n",
              "      <td>9</td>\n",
              "      <td>0</td>\n",
              "      <td>0</td>\n",
              "      <td>9</td>\n",
              "      <td>5</td>\n",
              "    </tr>\n",
              "    <tr>\n",
              "      <th>4</th>\n",
              "      <td>0</td>\n",
              "      <td>0</td>\n",
              "      <td>1</td>\n",
              "      <td>1</td>\n",
              "      <td>946</td>\n",
              "      <td>1</td>\n",
              "      <td>1</td>\n",
              "      <td>1</td>\n",
              "      <td>3</td>\n",
              "      <td>7</td>\n",
              "    </tr>\n",
              "    <tr>\n",
              "      <th>5</th>\n",
              "      <td>0</td>\n",
              "      <td>0</td>\n",
              "      <td>0</td>\n",
              "      <td>12</td>\n",
              "      <td>0</td>\n",
              "      <td>863</td>\n",
              "      <td>3</td>\n",
              "      <td>0</td>\n",
              "      <td>3</td>\n",
              "      <td>3</td>\n",
              "    </tr>\n",
              "    <tr>\n",
              "      <th>6</th>\n",
              "      <td>1</td>\n",
              "      <td>2</td>\n",
              "      <td>0</td>\n",
              "      <td>0</td>\n",
              "      <td>6</td>\n",
              "      <td>7</td>\n",
              "      <td>948</td>\n",
              "      <td>0</td>\n",
              "      <td>5</td>\n",
              "      <td>1</td>\n",
              "    </tr>\n",
              "    <tr>\n",
              "      <th>7</th>\n",
              "      <td>1</td>\n",
              "      <td>0</td>\n",
              "      <td>8</td>\n",
              "      <td>4</td>\n",
              "      <td>2</td>\n",
              "      <td>1</td>\n",
              "      <td>0</td>\n",
              "      <td>998</td>\n",
              "      <td>4</td>\n",
              "      <td>4</td>\n",
              "    </tr>\n",
              "    <tr>\n",
              "      <th>8</th>\n",
              "      <td>0</td>\n",
              "      <td>0</td>\n",
              "      <td>5</td>\n",
              "      <td>9</td>\n",
              "      <td>0</td>\n",
              "      <td>4</td>\n",
              "      <td>0</td>\n",
              "      <td>0</td>\n",
              "      <td>936</td>\n",
              "      <td>3</td>\n",
              "    </tr>\n",
              "    <tr>\n",
              "      <th>9</th>\n",
              "      <td>0</td>\n",
              "      <td>0</td>\n",
              "      <td>0</td>\n",
              "      <td>4</td>\n",
              "      <td>25</td>\n",
              "      <td>3</td>\n",
              "      <td>0</td>\n",
              "      <td>13</td>\n",
              "      <td>4</td>\n",
              "      <td>970</td>\n",
              "    </tr>\n",
              "  </tbody>\n",
              "</table>\n",
              "</div>"
            ],
            "text/plain": [
              "     0     1     2    3    4    5    6    7    8    9\n",
              "0  977     0     8    0    2    4    3    2    7    7\n",
              "1    1  1129     0    1    1    0    3   10    1    7\n",
              "2    0     3  1009    3    0    0    0    4    2    2\n",
              "3    0     1     1  976    0    9    0    0    9    5\n",
              "4    0     0     1    1  946    1    1    1    3    7\n",
              "5    0     0     0   12    0  863    3    0    3    3\n",
              "6    1     2     0    0    6    7  948    0    5    1\n",
              "7    1     0     8    4    2    1    0  998    4    4\n",
              "8    0     0     5    9    0    4    0    0  936    3\n",
              "9    0     0     0    4   25    3    0   13    4  970"
            ]
          },
          "metadata": {},
          "execution_count": 146
        }
      ]
    },
    {
      "cell_type": "code",
      "metadata": {
        "id": "nMcS_S2s2qjQ"
      },
      "source": [
        "from pandas.plotting import table"
      ],
      "execution_count": null,
      "outputs": []
    },
    {
      "cell_type": "code",
      "metadata": {
        "colab": {
          "base_uri": "https://localhost:8080/",
          "height": 506
        },
        "id": "a_GpZybW3Nte",
        "outputId": "7ac0ae82-b744-47ba-bc4e-26b4be8229ed"
      },
      "source": [
        "ax = plt.subplot(111, frame_on=False) # no visible frame\n",
        "ax.xaxis.set_visible(False)  # hide the x axis\n",
        "ax.yaxis.set_visible(False)  # hide the y axis\n",
        "\n",
        "table(ax, df)\n",
        "plt.savefig('sparse-1.pdf')\n",
        "files.download('sparse-1.pdf')"
      ],
      "execution_count": null,
      "outputs": [
        {
          "output_type": "display_data",
          "data": {
            "application/javascript": [
              "\n",
              "    async function download(id, filename, size) {\n",
              "      if (!google.colab.kernel.accessAllowed) {\n",
              "        return;\n",
              "      }\n",
              "      const div = document.createElement('div');\n",
              "      const label = document.createElement('label');\n",
              "      label.textContent = `Downloading \"${filename}\": `;\n",
              "      div.appendChild(label);\n",
              "      const progress = document.createElement('progress');\n",
              "      progress.max = size;\n",
              "      div.appendChild(progress);\n",
              "      document.body.appendChild(div);\n",
              "\n",
              "      const buffers = [];\n",
              "      let downloaded = 0;\n",
              "\n",
              "      const channel = await google.colab.kernel.comms.open(id);\n",
              "      // Send a message to notify the kernel that we're ready.\n",
              "      channel.send({})\n",
              "\n",
              "      for await (const message of channel.messages) {\n",
              "        // Send a message to notify the kernel that we're ready.\n",
              "        channel.send({})\n",
              "        if (message.buffers) {\n",
              "          for (const buffer of message.buffers) {\n",
              "            buffers.push(buffer);\n",
              "            downloaded += buffer.byteLength;\n",
              "            progress.value = downloaded;\n",
              "          }\n",
              "        }\n",
              "      }\n",
              "      const blob = new Blob(buffers, {type: 'application/binary'});\n",
              "      const a = document.createElement('a');\n",
              "      a.href = window.URL.createObjectURL(blob);\n",
              "      a.download = filename;\n",
              "      div.appendChild(a);\n",
              "      a.click();\n",
              "      div.remove();\n",
              "    }\n",
              "  "
            ],
            "text/plain": [
              "<IPython.core.display.Javascript object>"
            ]
          },
          "metadata": {}
        },
        {
          "output_type": "display_data",
          "data": {
            "application/javascript": [
              "download(\"download_a3740334-bd49-4b0c-ab15-07ede37d8900\", \"sparse-1.pdf\", 8424)"
            ],
            "text/plain": [
              "<IPython.core.display.Javascript object>"
            ]
          },
          "metadata": {}
        },
        {
          "output_type": "display_data",
          "data": {
            "application/pdf": "[encoded data removed]",
            "text/plain": [
              "<Figure size 432x288 with 1 Axes>"
            ],
            "image/svg+xml": "<?xml version=\"1.0\" encoding=\"utf-8\" standalone=\"no\"?>\n<!DOCTYPE svg PUBLIC \"-//W3C//DTD SVG 1.1//EN\"\n  \"http://www.w3.org/Graphics/SVG/1.1/DTD/svg11.dtd\">\n<!-- Created with matplotlib (https://matplotlib.org/) -->\n<svg height=\"363.84pt\" version=\"1.1\" viewBox=\"0 0 356.835 363.84\" width=\"356.835pt\" xmlns=\"http://www.w3.org/2000/svg\" xmlns:xlink=\"http://www.w3.org/1999/xlink\">\n <defs>\n  <style type=\"text/css\">\n*{stroke-linecap:butt;stroke-linejoin:round;}\n  </style>\n </defs>\n <g id=\"figure_1\">\n  <g id=\"patch_1\">\n   <path d=\"M 0 363.84 \nL 356.835 363.84 \nL 356.835 0 \nL 0 0 \nz\n\" style=\"fill:none;\"/>\n  </g>\n  <g id=\"axes_1\">\n   <g id=\"table_1\">\n    <g id=\"patch_2\">\n     <path d=\"M 14.835 236.64 \nL 48.315 236.64 \nL 48.315 224.64 \nL 14.835 224.64 \nz\n\" style=\"fill:#ffffff;stroke:#000000;stroke-linejoin:miter;\"/>\n    </g>\n    <g id=\"text_1\">\n     <!-- 0 -->\n     <defs>\n      <path d=\"M 31.78125 66.40625 \nQ 24.171875 66.40625 20.328125 58.90625 \nQ 16.5 51.421875 16.5 36.375 \nQ 16.5 21.390625 20.328125 13.890625 \nQ 24.171875 6.390625 31.78125 6.390625 \nQ 39.453125 6.390625 43.28125 13.890625 \nQ 47.125 21.390625 47.125 36.375 \nQ 47.125 51.421875 43.28125 58.90625 \nQ 39.453125 66.40625 31.78125 66.40625 \nz\nM 31.78125 74.21875 \nQ 44.046875 74.21875 50.515625 64.515625 \nQ 56.984375 54.828125 56.984375 36.375 \nQ 56.984375 17.96875 50.515625 8.265625 \nQ 44.046875 -1.421875 31.78125 -1.421875 \nQ 19.53125 -1.421875 13.0625 8.265625 \nQ 6.59375 17.96875 6.59375 36.375 \nQ 6.59375 54.828125 13.0625 64.515625 \nQ 19.53125 74.21875 31.78125 74.21875 \nz\n\" id=\"DejaVuSans-48\"/>\n     </defs>\n     <g transform=\"translate(28.39375 233.399375)scale(0.1 -0.1)\">\n      <use xlink:href=\"#DejaVuSans-48\"/>\n     </g>\n    </g>\n    <g id=\"patch_3\">\n     <path d=\"M 48.315 236.64 \nL 81.795 236.64 \nL 81.795 224.64 \nL 48.315 224.64 \nz\n\" style=\"fill:#ffffff;stroke:#000000;stroke-linejoin:miter;\"/>\n    </g>\n    <g id=\"text_2\">\n     <!-- 1 -->\n     <defs>\n      <path d=\"M 12.40625 8.296875 \nL 28.515625 8.296875 \nL 28.515625 63.921875 \nL 10.984375 60.40625 \nL 10.984375 69.390625 \nL 28.421875 72.90625 \nL 38.28125 72.90625 \nL 38.28125 8.296875 \nL 54.390625 8.296875 \nL 54.390625 0 \nL 12.40625 0 \nz\n\" id=\"DejaVuSans-49\"/>\n     </defs>\n     <g transform=\"translate(61.87375 233.399375)scale(0.1 -0.1)\">\n      <use xlink:href=\"#DejaVuSans-49\"/>\n     </g>\n    </g>\n    <g id=\"patch_4\">\n     <path d=\"M 81.795 236.64 \nL 115.275 236.64 \nL 115.275 224.64 \nL 81.795 224.64 \nz\n\" style=\"fill:#ffffff;stroke:#000000;stroke-linejoin:miter;\"/>\n    </g>\n    <g id=\"text_3\">\n     <!-- 2 -->\n     <defs>\n      <path d=\"M 19.1875 8.296875 \nL 53.609375 8.296875 \nL 53.609375 0 \nL 7.328125 0 \nL 7.328125 8.296875 \nQ 12.9375 14.109375 22.625 23.890625 \nQ 32.328125 33.6875 34.8125 36.53125 \nQ 39.546875 41.84375 41.421875 45.53125 \nQ 43.3125 49.21875 43.3125 52.78125 \nQ 43.3125 58.59375 39.234375 62.25 \nQ 35.15625 65.921875 28.609375 65.921875 \nQ 23.96875 65.921875 18.8125 64.3125 \nQ 13.671875 62.703125 7.8125 59.421875 \nL 7.8125 69.390625 \nQ 13.765625 71.78125 18.9375 73 \nQ 24.125 74.21875 28.421875 74.21875 \nQ 39.75 74.21875 46.484375 68.546875 \nQ 53.21875 62.890625 53.21875 53.421875 \nQ 53.21875 48.921875 51.53125 44.890625 \nQ 49.859375 40.875 45.40625 35.40625 \nQ 44.1875 33.984375 37.640625 27.21875 \nQ 31.109375 20.453125 19.1875 8.296875 \nz\n\" id=\"DejaVuSans-50\"/>\n     </defs>\n     <g transform=\"translate(95.35375 233.399375)scale(0.1 -0.1)\">\n      <use xlink:href=\"#DejaVuSans-50\"/>\n     </g>\n    </g>\n    <g id=\"patch_5\">\n     <path d=\"M 115.275 236.64 \nL 148.755 236.64 \nL 148.755 224.64 \nL 115.275 224.64 \nz\n\" style=\"fill:#ffffff;stroke:#000000;stroke-linejoin:miter;\"/>\n    </g>\n    <g id=\"text_4\">\n     <!-- 3 -->\n     <defs>\n      <path d=\"M 40.578125 39.3125 \nQ 47.65625 37.796875 51.625 33 \nQ 55.609375 28.21875 55.609375 21.1875 \nQ 55.609375 10.40625 48.1875 4.484375 \nQ 40.765625 -1.421875 27.09375 -1.421875 \nQ 22.515625 -1.421875 17.65625 -0.515625 \nQ 12.796875 0.390625 7.625 2.203125 \nL 7.625 11.71875 \nQ 11.71875 9.328125 16.59375 8.109375 \nQ 21.484375 6.890625 26.8125 6.890625 \nQ 36.078125 6.890625 40.9375 10.546875 \nQ 45.796875 14.203125 45.796875 21.1875 \nQ 45.796875 27.640625 41.28125 31.265625 \nQ 36.765625 34.90625 28.71875 34.90625 \nL 20.21875 34.90625 \nL 20.21875 43.015625 \nL 29.109375 43.015625 \nQ 36.375 43.015625 40.234375 45.921875 \nQ 44.09375 48.828125 44.09375 54.296875 \nQ 44.09375 59.90625 40.109375 62.90625 \nQ 36.140625 65.921875 28.71875 65.921875 \nQ 24.65625 65.921875 20.015625 65.03125 \nQ 15.375 64.15625 9.8125 62.3125 \nL 9.8125 71.09375 \nQ 15.4375 72.65625 20.34375 73.4375 \nQ 25.25 74.21875 29.59375 74.21875 \nQ 40.828125 74.21875 47.359375 69.109375 \nQ 53.90625 64.015625 53.90625 55.328125 \nQ 53.90625 49.265625 50.4375 45.09375 \nQ 46.96875 40.921875 40.578125 39.3125 \nz\n\" id=\"DejaVuSans-51\"/>\n     </defs>\n     <g transform=\"translate(128.83375 233.399375)scale(0.1 -0.1)\">\n      <use xlink:href=\"#DejaVuSans-51\"/>\n     </g>\n    </g>\n    <g id=\"patch_6\">\n     <path d=\"M 148.755 236.64 \nL 182.235 236.64 \nL 182.235 224.64 \nL 148.755 224.64 \nz\n\" style=\"fill:#ffffff;stroke:#000000;stroke-linejoin:miter;\"/>\n    </g>\n    <g id=\"text_5\">\n     <!-- 4 -->\n     <defs>\n      <path d=\"M 37.796875 64.3125 \nL 12.890625 25.390625 \nL 37.796875 25.390625 \nz\nM 35.203125 72.90625 \nL 47.609375 72.90625 \nL 47.609375 25.390625 \nL 58.015625 25.390625 \nL 58.015625 17.1875 \nL 47.609375 17.1875 \nL 47.609375 0 \nL 37.796875 0 \nL 37.796875 17.1875 \nL 4.890625 17.1875 \nL 4.890625 26.703125 \nz\n\" id=\"DejaVuSans-52\"/>\n     </defs>\n     <g transform=\"translate(162.31375 233.399375)scale(0.1 -0.1)\">\n      <use xlink:href=\"#DejaVuSans-52\"/>\n     </g>\n    </g>\n    <g id=\"patch_7\">\n     <path d=\"M 182.235 236.64 \nL 215.715 236.64 \nL 215.715 224.64 \nL 182.235 224.64 \nz\n\" style=\"fill:#ffffff;stroke:#000000;stroke-linejoin:miter;\"/>\n    </g>\n    <g id=\"text_6\">\n     <!-- 5 -->\n     <defs>\n      <path d=\"M 10.796875 72.90625 \nL 49.515625 72.90625 \nL 49.515625 64.59375 \nL 19.828125 64.59375 \nL 19.828125 46.734375 \nQ 21.96875 47.46875 24.109375 47.828125 \nQ 26.265625 48.1875 28.421875 48.1875 \nQ 40.625 48.1875 47.75 41.5 \nQ 54.890625 34.8125 54.890625 23.390625 \nQ 54.890625 11.625 47.5625 5.09375 \nQ 40.234375 -1.421875 26.90625 -1.421875 \nQ 22.3125 -1.421875 17.546875 -0.640625 \nQ 12.796875 0.140625 7.71875 1.703125 \nL 7.71875 11.625 \nQ 12.109375 9.234375 16.796875 8.0625 \nQ 21.484375 6.890625 26.703125 6.890625 \nQ 35.15625 6.890625 40.078125 11.328125 \nQ 45.015625 15.765625 45.015625 23.390625 \nQ 45.015625 31 40.078125 35.4375 \nQ 35.15625 39.890625 26.703125 39.890625 \nQ 22.75 39.890625 18.8125 39.015625 \nQ 14.890625 38.140625 10.796875 36.28125 \nz\n\" id=\"DejaVuSans-53\"/>\n     </defs>\n     <g transform=\"translate(195.79375 233.399375)scale(0.1 -0.1)\">\n      <use xlink:href=\"#DejaVuSans-53\"/>\n     </g>\n    </g>\n    <g id=\"patch_8\">\n     <path d=\"M 215.715 236.64 \nL 249.195 236.64 \nL 249.195 224.64 \nL 215.715 224.64 \nz\n\" style=\"fill:#ffffff;stroke:#000000;stroke-linejoin:miter;\"/>\n    </g>\n    <g id=\"text_7\">\n     <!-- 6 -->\n     <defs>\n      <path d=\"M 33.015625 40.375 \nQ 26.375 40.375 22.484375 35.828125 \nQ 18.609375 31.296875 18.609375 23.390625 \nQ 18.609375 15.53125 22.484375 10.953125 \nQ 26.375 6.390625 33.015625 6.390625 \nQ 39.65625 6.390625 43.53125 10.953125 \nQ 47.40625 15.53125 47.40625 23.390625 \nQ 47.40625 31.296875 43.53125 35.828125 \nQ 39.65625 40.375 33.015625 40.375 \nz\nM 52.59375 71.296875 \nL 52.59375 62.3125 \nQ 48.875 64.0625 45.09375 64.984375 \nQ 41.3125 65.921875 37.59375 65.921875 \nQ 27.828125 65.921875 22.671875 59.328125 \nQ 17.53125 52.734375 16.796875 39.40625 \nQ 19.671875 43.65625 24.015625 45.921875 \nQ 28.375 48.1875 33.59375 48.1875 \nQ 44.578125 48.1875 50.953125 41.515625 \nQ 57.328125 34.859375 57.328125 23.390625 \nQ 57.328125 12.15625 50.6875 5.359375 \nQ 44.046875 -1.421875 33.015625 -1.421875 \nQ 20.359375 -1.421875 13.671875 8.265625 \nQ 6.984375 17.96875 6.984375 36.375 \nQ 6.984375 53.65625 15.1875 63.9375 \nQ 23.390625 74.21875 37.203125 74.21875 \nQ 40.921875 74.21875 44.703125 73.484375 \nQ 48.484375 72.75 52.59375 71.296875 \nz\n\" id=\"DejaVuSans-54\"/>\n     </defs>\n     <g transform=\"translate(229.27375 233.399375)scale(0.1 -0.1)\">\n      <use xlink:href=\"#DejaVuSans-54\"/>\n     </g>\n    </g>\n    <g id=\"patch_9\">\n     <path d=\"M 249.195 236.64 \nL 282.675 236.64 \nL 282.675 224.64 \nL 249.195 224.64 \nz\n\" style=\"fill:#ffffff;stroke:#000000;stroke-linejoin:miter;\"/>\n    </g>\n    <g id=\"text_8\">\n     <!-- 7 -->\n     <defs>\n      <path d=\"M 8.203125 72.90625 \nL 55.078125 72.90625 \nL 55.078125 68.703125 \nL 28.609375 0 \nL 18.3125 0 \nL 43.21875 64.59375 \nL 8.203125 64.59375 \nz\n\" id=\"DejaVuSans-55\"/>\n     </defs>\n     <g transform=\"translate(262.75375 233.399375)scale(0.1 -0.1)\">\n      <use xlink:href=\"#DejaVuSans-55\"/>\n     </g>\n    </g>\n    <g id=\"patch_10\">\n     <path d=\"M 282.675 236.64 \nL 316.155 236.64 \nL 316.155 224.64 \nL 282.675 224.64 \nz\n\" style=\"fill:#ffffff;stroke:#000000;stroke-linejoin:miter;\"/>\n    </g>\n    <g id=\"text_9\">\n     <!-- 8 -->\n     <defs>\n      <path d=\"M 31.78125 34.625 \nQ 24.75 34.625 20.71875 30.859375 \nQ 16.703125 27.09375 16.703125 20.515625 \nQ 16.703125 13.921875 20.71875 10.15625 \nQ 24.75 6.390625 31.78125 6.390625 \nQ 38.8125 6.390625 42.859375 10.171875 \nQ 46.921875 13.96875 46.921875 20.515625 \nQ 46.921875 27.09375 42.890625 30.859375 \nQ 38.875 34.625 31.78125 34.625 \nz\nM 21.921875 38.8125 \nQ 15.578125 40.375 12.03125 44.71875 \nQ 8.5 49.078125 8.5 55.328125 \nQ 8.5 64.0625 14.71875 69.140625 \nQ 20.953125 74.21875 31.78125 74.21875 \nQ 42.671875 74.21875 48.875 69.140625 \nQ 55.078125 64.0625 55.078125 55.328125 \nQ 55.078125 49.078125 51.53125 44.71875 \nQ 48 40.375 41.703125 38.8125 \nQ 48.828125 37.15625 52.796875 32.3125 \nQ 56.78125 27.484375 56.78125 20.515625 \nQ 56.78125 9.90625 50.3125 4.234375 \nQ 43.84375 -1.421875 31.78125 -1.421875 \nQ 19.734375 -1.421875 13.25 4.234375 \nQ 6.78125 9.90625 6.78125 20.515625 \nQ 6.78125 27.484375 10.78125 32.3125 \nQ 14.796875 37.15625 21.921875 38.8125 \nz\nM 18.3125 54.390625 \nQ 18.3125 48.734375 21.84375 45.5625 \nQ 25.390625 42.390625 31.78125 42.390625 \nQ 38.140625 42.390625 41.71875 45.5625 \nQ 45.3125 48.734375 45.3125 54.390625 \nQ 45.3125 60.0625 41.71875 63.234375 \nQ 38.140625 66.40625 31.78125 66.40625 \nQ 25.390625 66.40625 21.84375 63.234375 \nQ 18.3125 60.0625 18.3125 54.390625 \nz\n\" id=\"DejaVuSans-56\"/>\n     </defs>\n     <g transform=\"translate(296.23375 233.399375)scale(0.1 -0.1)\">\n      <use xlink:href=\"#DejaVuSans-56\"/>\n     </g>\n    </g>\n    <g id=\"patch_11\">\n     <path d=\"M 316.155 236.64 \nL 349.635 236.64 \nL 349.635 224.64 \nL 316.155 224.64 \nz\n\" style=\"fill:#ffffff;stroke:#000000;stroke-linejoin:miter;\"/>\n    </g>\n    <g id=\"text_10\">\n     <!-- 9 -->\n     <defs>\n      <path d=\"M 10.984375 1.515625 \nL 10.984375 10.5 \nQ 14.703125 8.734375 18.5 7.8125 \nQ 22.3125 6.890625 25.984375 6.890625 \nQ 35.75 6.890625 40.890625 13.453125 \nQ 46.046875 20.015625 46.78125 33.40625 \nQ 43.953125 29.203125 39.59375 26.953125 \nQ 35.25 24.703125 29.984375 24.703125 \nQ 19.046875 24.703125 12.671875 31.3125 \nQ 6.296875 37.9375 6.296875 49.421875 \nQ 6.296875 60.640625 12.9375 67.421875 \nQ 19.578125 74.21875 30.609375 74.21875 \nQ 43.265625 74.21875 49.921875 64.515625 \nQ 56.59375 54.828125 56.59375 36.375 \nQ 56.59375 19.140625 48.40625 8.859375 \nQ 40.234375 -1.421875 26.421875 -1.421875 \nQ 22.703125 -1.421875 18.890625 -0.6875 \nQ 15.09375 0.046875 10.984375 1.515625 \nz\nM 30.609375 32.421875 \nQ 37.25 32.421875 41.125 36.953125 \nQ 45.015625 41.5 45.015625 49.421875 \nQ 45.015625 57.28125 41.125 61.84375 \nQ 37.25 66.40625 30.609375 66.40625 \nQ 23.96875 66.40625 20.09375 61.84375 \nQ 16.21875 57.28125 16.21875 49.421875 \nQ 16.21875 41.5 20.09375 36.953125 \nQ 23.96875 32.421875 30.609375 32.421875 \nz\n\" id=\"DejaVuSans-57\"/>\n     </defs>\n     <g transform=\"translate(329.71375 233.399375)scale(0.1 -0.1)\">\n      <use xlink:href=\"#DejaVuSans-57\"/>\n     </g>\n    </g>\n    <g id=\"patch_12\">\n     <path d=\"M 7.2 248.64 \nL 14.835 248.64 \nL 14.835 236.64 \nL 7.2 236.64 \nz\n\" style=\"fill:#ffffff;stroke:#000000;stroke-linejoin:miter;\"/>\n    </g>\n    <g id=\"text_11\">\n     <!-- 0 -->\n     <g transform=\"translate(7.9635 245.399375)scale(0.1 -0.1)\">\n      <use xlink:href=\"#DejaVuSans-48\"/>\n     </g>\n    </g>\n    <g id=\"patch_13\">\n     <path d=\"M 14.835 248.64 \nL 48.315 248.64 \nL 48.315 236.64 \nL 14.835 236.64 \nz\n\" style=\"fill:#ffffff;stroke:#000000;stroke-linejoin:miter;\"/>\n    </g>\n    <g id=\"text_12\">\n     <!-- 977 -->\n     <g transform=\"translate(25.8795 245.399375)scale(0.1 -0.1)\">\n      <use xlink:href=\"#DejaVuSans-57\"/>\n      <use x=\"63.623047\" xlink:href=\"#DejaVuSans-55\"/>\n      <use x=\"127.246094\" xlink:href=\"#DejaVuSans-55\"/>\n     </g>\n    </g>\n    <g id=\"patch_14\">\n     <path d=\"M 48.315 248.64 \nL 81.795 248.64 \nL 81.795 236.64 \nL 48.315 236.64 \nz\n\" style=\"fill:#ffffff;stroke:#000000;stroke-linejoin:miter;\"/>\n    </g>\n    <g id=\"text_13\">\n     <!-- 0 -->\n     <g transform=\"translate(72.0845 245.399375)scale(0.1 -0.1)\">\n      <use xlink:href=\"#DejaVuSans-48\"/>\n     </g>\n    </g>\n    <g id=\"patch_15\">\n     <path d=\"M 81.795 248.64 \nL 115.275 248.64 \nL 115.275 236.64 \nL 81.795 236.64 \nz\n\" style=\"fill:#ffffff;stroke:#000000;stroke-linejoin:miter;\"/>\n    </g>\n    <g id=\"text_14\">\n     <!-- 8 -->\n     <g transform=\"translate(105.5645 245.399375)scale(0.1 -0.1)\">\n      <use xlink:href=\"#DejaVuSans-56\"/>\n     </g>\n    </g>\n    <g id=\"patch_16\">\n     <path d=\"M 115.275 248.64 \nL 148.755 248.64 \nL 148.755 236.64 \nL 115.275 236.64 \nz\n\" style=\"fill:#ffffff;stroke:#000000;stroke-linejoin:miter;\"/>\n    </g>\n    <g id=\"text_15\">\n     <!-- 0 -->\n     <g transform=\"translate(139.0445 245.399375)scale(0.1 -0.1)\">\n      <use xlink:href=\"#DejaVuSans-48\"/>\n     </g>\n    </g>\n    <g id=\"patch_17\">\n     <path d=\"M 148.755 248.64 \nL 182.235 248.64 \nL 182.235 236.64 \nL 148.755 236.64 \nz\n\" style=\"fill:#ffffff;stroke:#000000;stroke-linejoin:miter;\"/>\n    </g>\n    <g id=\"text_16\">\n     <!-- 2 -->\n     <g transform=\"translate(172.5245 245.399375)scale(0.1 -0.1)\">\n      <use xlink:href=\"#DejaVuSans-50\"/>\n     </g>\n    </g>\n    <g id=\"patch_18\">\n     <path d=\"M 182.235 248.64 \nL 215.715 248.64 \nL 215.715 236.64 \nL 182.235 236.64 \nz\n\" style=\"fill:#ffffff;stroke:#000000;stroke-linejoin:miter;\"/>\n    </g>\n    <g id=\"text_17\">\n     <!-- 4 -->\n     <g transform=\"translate(206.0045 245.399375)scale(0.1 -0.1)\">\n      <use xlink:href=\"#DejaVuSans-52\"/>\n     </g>\n    </g>\n    <g id=\"patch_19\">\n     <path d=\"M 215.715 248.64 \nL 249.195 248.64 \nL 249.195 236.64 \nL 215.715 236.64 \nz\n\" style=\"fill:#ffffff;stroke:#000000;stroke-linejoin:miter;\"/>\n    </g>\n    <g id=\"text_18\">\n     <!-- 3 -->\n     <g transform=\"translate(239.4845 245.399375)scale(0.1 -0.1)\">\n      <use xlink:href=\"#DejaVuSans-51\"/>\n     </g>\n    </g>\n    <g id=\"patch_20\">\n     <path d=\"M 249.195 248.64 \nL 282.675 248.64 \nL 282.675 236.64 \nL 249.195 236.64 \nz\n\" style=\"fill:#ffffff;stroke:#000000;stroke-linejoin:miter;\"/>\n    </g>\n    <g id=\"text_19\">\n     <!-- 2 -->\n     <g transform=\"translate(272.9645 245.399375)scale(0.1 -0.1)\">\n      <use xlink:href=\"#DejaVuSans-50\"/>\n     </g>\n    </g>\n    <g id=\"patch_21\">\n     <path d=\"M 282.675 248.64 \nL 316.155 248.64 \nL 316.155 236.64 \nL 282.675 236.64 \nz\n\" style=\"fill:#ffffff;stroke:#000000;stroke-linejoin:miter;\"/>\n    </g>\n    <g id=\"text_20\">\n     <!-- 7 -->\n     <g transform=\"translate(306.4445 245.399375)scale(0.1 -0.1)\">\n      <use xlink:href=\"#DejaVuSans-55\"/>\n     </g>\n    </g>\n    <g id=\"patch_22\">\n     <path d=\"M 316.155 248.64 \nL 349.635 248.64 \nL 349.635 236.64 \nL 316.155 236.64 \nz\n\" style=\"fill:#ffffff;stroke:#000000;stroke-linejoin:miter;\"/>\n    </g>\n    <g id=\"text_21\">\n     <!-- 7 -->\n     <g transform=\"translate(339.9245 245.399375)scale(0.1 -0.1)\">\n      <use xlink:href=\"#DejaVuSans-55\"/>\n     </g>\n    </g>\n    <g id=\"patch_23\">\n     <path d=\"M 7.2 260.64 \nL 14.835 260.64 \nL 14.835 248.64 \nL 7.2 248.64 \nz\n\" style=\"fill:#ffffff;stroke:#000000;stroke-linejoin:miter;\"/>\n    </g>\n    <g id=\"text_22\">\n     <!-- 1 -->\n     <g transform=\"translate(7.9635 257.399375)scale(0.1 -0.1)\">\n      <use xlink:href=\"#DejaVuSans-49\"/>\n     </g>\n    </g>\n    <g id=\"patch_24\">\n     <path d=\"M 14.835 260.64 \nL 48.315 260.64 \nL 48.315 248.64 \nL 14.835 248.64 \nz\n\" style=\"fill:#ffffff;stroke:#000000;stroke-linejoin:miter;\"/>\n    </g>\n    <g id=\"text_23\">\n     <!-- 1 -->\n     <g transform=\"translate(38.6045 257.399375)scale(0.1 -0.1)\">\n      <use xlink:href=\"#DejaVuSans-49\"/>\n     </g>\n    </g>\n    <g id=\"patch_25\">\n     <path d=\"M 48.315 260.64 \nL 81.795 260.64 \nL 81.795 248.64 \nL 48.315 248.64 \nz\n\" style=\"fill:#ffffff;stroke:#000000;stroke-linejoin:miter;\"/>\n    </g>\n    <g id=\"text_24\">\n     <!-- 1129 -->\n     <g transform=\"translate(52.997 257.399375)scale(0.1 -0.1)\">\n      <use xlink:href=\"#DejaVuSans-49\"/>\n      <use x=\"63.623047\" xlink:href=\"#DejaVuSans-49\"/>\n      <use x=\"127.246094\" xlink:href=\"#DejaVuSans-50\"/>\n      <use x=\"190.869141\" xlink:href=\"#DejaVuSans-57\"/>\n     </g>\n    </g>\n    <g id=\"patch_26\">\n     <path d=\"M 81.795 260.64 \nL 115.275 260.64 \nL 115.275 248.64 \nL 81.795 248.64 \nz\n\" style=\"fill:#ffffff;stroke:#000000;stroke-linejoin:miter;\"/>\n    </g>\n    <g id=\"text_25\">\n     <!-- 0 -->\n     <g transform=\"translate(105.5645 257.399375)scale(0.1 -0.1)\">\n      <use xlink:href=\"#DejaVuSans-48\"/>\n     </g>\n    </g>\n    <g id=\"patch_27\">\n     <path d=\"M 115.275 260.64 \nL 148.755 260.64 \nL 148.755 248.64 \nL 115.275 248.64 \nz\n\" style=\"fill:#ffffff;stroke:#000000;stroke-linejoin:miter;\"/>\n    </g>\n    <g id=\"text_26\">\n     <!-- 1 -->\n     <g transform=\"translate(139.0445 257.399375)scale(0.1 -0.1)\">\n      <use xlink:href=\"#DejaVuSans-49\"/>\n     </g>\n    </g>\n    <g id=\"patch_28\">\n     <path d=\"M 148.755 260.64 \nL 182.235 260.64 \nL 182.235 248.64 \nL 148.755 248.64 \nz\n\" style=\"fill:#ffffff;stroke:#000000;stroke-linejoin:miter;\"/>\n    </g>\n    <g id=\"text_27\">\n     <!-- 1 -->\n     <g transform=\"translate(172.5245 257.399375)scale(0.1 -0.1)\">\n      <use xlink:href=\"#DejaVuSans-49\"/>\n     </g>\n    </g>\n    <g id=\"patch_29\">\n     <path d=\"M 182.235 260.64 \nL 215.715 260.64 \nL 215.715 248.64 \nL 182.235 248.64 \nz\n\" style=\"fill:#ffffff;stroke:#000000;stroke-linejoin:miter;\"/>\n    </g>\n    <g id=\"text_28\">\n     <!-- 0 -->\n     <g transform=\"translate(206.0045 257.399375)scale(0.1 -0.1)\">\n      <use xlink:href=\"#DejaVuSans-48\"/>\n     </g>\n    </g>\n    <g id=\"patch_30\">\n     <path d=\"M 215.715 260.64 \nL 249.195 260.64 \nL 249.195 248.64 \nL 215.715 248.64 \nz\n\" style=\"fill:#ffffff;stroke:#000000;stroke-linejoin:miter;\"/>\n    </g>\n    <g id=\"text_29\">\n     <!-- 3 -->\n     <g transform=\"translate(239.4845 257.399375)scale(0.1 -0.1)\">\n      <use xlink:href=\"#DejaVuSans-51\"/>\n     </g>\n    </g>\n    <g id=\"patch_31\">\n     <path d=\"M 249.195 260.64 \nL 282.675 260.64 \nL 282.675 248.64 \nL 249.195 248.64 \nz\n\" style=\"fill:#ffffff;stroke:#000000;stroke-linejoin:miter;\"/>\n    </g>\n    <g id=\"text_30\">\n     <!-- 10 -->\n     <g transform=\"translate(266.602 257.399375)scale(0.1 -0.1)\">\n      <use xlink:href=\"#DejaVuSans-49\"/>\n      <use x=\"63.623047\" xlink:href=\"#DejaVuSans-48\"/>\n     </g>\n    </g>\n    <g id=\"patch_32\">\n     <path d=\"M 282.675 260.64 \nL 316.155 260.64 \nL 316.155 248.64 \nL 282.675 248.64 \nz\n\" style=\"fill:#ffffff;stroke:#000000;stroke-linejoin:miter;\"/>\n    </g>\n    <g id=\"text_31\">\n     <!-- 1 -->\n     <g transform=\"translate(306.4445 257.399375)scale(0.1 -0.1)\">\n      <use xlink:href=\"#DejaVuSans-49\"/>\n     </g>\n    </g>\n    <g id=\"patch_33\">\n     <path d=\"M 316.155 260.64 \nL 349.635 260.64 \nL 349.635 248.64 \nL 316.155 248.64 \nz\n\" style=\"fill:#ffffff;stroke:#000000;stroke-linejoin:miter;\"/>\n    </g>\n    <g id=\"text_32\">\n     <!-- 7 -->\n     <g transform=\"translate(339.9245 257.399375)scale(0.1 -0.1)\">\n      <use xlink:href=\"#DejaVuSans-55\"/>\n     </g>\n    </g>\n    <g id=\"patch_34\">\n     <path d=\"M 7.2 272.64 \nL 14.835 272.64 \nL 14.835 260.64 \nL 7.2 260.64 \nz\n\" style=\"fill:#ffffff;stroke:#000000;stroke-linejoin:miter;\"/>\n    </g>\n    <g id=\"text_33\">\n     <!-- 2 -->\n     <g transform=\"translate(7.9635 269.399375)scale(0.1 -0.1)\">\n      <use xlink:href=\"#DejaVuSans-50\"/>\n     </g>\n    </g>\n    <g id=\"patch_35\">\n     <path d=\"M 14.835 272.64 \nL 48.315 272.64 \nL 48.315 260.64 \nL 14.835 260.64 \nz\n\" style=\"fill:#ffffff;stroke:#000000;stroke-linejoin:miter;\"/>\n    </g>\n    <g id=\"text_34\">\n     <!-- 0 -->\n     <g transform=\"translate(38.6045 269.399375)scale(0.1 -0.1)\">\n      <use xlink:href=\"#DejaVuSans-48\"/>\n     </g>\n    </g>\n    <g id=\"patch_36\">\n     <path d=\"M 48.315 272.64 \nL 81.795 272.64 \nL 81.795 260.64 \nL 48.315 260.64 \nz\n\" style=\"fill:#ffffff;stroke:#000000;stroke-linejoin:miter;\"/>\n    </g>\n    <g id=\"text_35\">\n     <!-- 3 -->\n     <g transform=\"translate(72.0845 269.399375)scale(0.1 -0.1)\">\n      <use xlink:href=\"#DejaVuSans-51\"/>\n     </g>\n    </g>\n    <g id=\"patch_37\">\n     <path d=\"M 81.795 272.64 \nL 115.275 272.64 \nL 115.275 260.64 \nL 81.795 260.64 \nz\n\" style=\"fill:#ffffff;stroke:#000000;stroke-linejoin:miter;\"/>\n    </g>\n    <g id=\"text_36\">\n     <!-- 1009 -->\n     <g transform=\"translate(86.477 269.399375)scale(0.1 -0.1)\">\n      <use xlink:href=\"#DejaVuSans-49\"/>\n      <use x=\"63.623047\" xlink:href=\"#DejaVuSans-48\"/>\n      <use x=\"127.246094\" xlink:href=\"#DejaVuSans-48\"/>\n      <use x=\"190.869141\" xlink:href=\"#DejaVuSans-57\"/>\n     </g>\n    </g>\n    <g id=\"patch_38\">\n     <path d=\"M 115.275 272.64 \nL 148.755 272.64 \nL 148.755 260.64 \nL 115.275 260.64 \nz\n\" style=\"fill:#ffffff;stroke:#000000;stroke-linejoin:miter;\"/>\n    </g>\n    <g id=\"text_37\">\n     <!-- 3 -->\n     <g transform=\"translate(139.0445 269.399375)scale(0.1 -0.1)\">\n      <use xlink:href=\"#DejaVuSans-51\"/>\n     </g>\n    </g>\n    <g id=\"patch_39\">\n     <path d=\"M 148.755 272.64 \nL 182.235 272.64 \nL 182.235 260.64 \nL 148.755 260.64 \nz\n\" style=\"fill:#ffffff;stroke:#000000;stroke-linejoin:miter;\"/>\n    </g>\n    <g id=\"text_38\">\n     <!-- 0 -->\n     <g transform=\"translate(172.5245 269.399375)scale(0.1 -0.1)\">\n      <use xlink:href=\"#DejaVuSans-48\"/>\n     </g>\n    </g>\n    <g id=\"patch_40\">\n     <path d=\"M 182.235 272.64 \nL 215.715 272.64 \nL 215.715 260.64 \nL 182.235 260.64 \nz\n\" style=\"fill:#ffffff;stroke:#000000;stroke-linejoin:miter;\"/>\n    </g>\n    <g id=\"text_39\">\n     <!-- 0 -->\n     <g transform=\"translate(206.0045 269.399375)scale(0.1 -0.1)\">\n      <use xlink:href=\"#DejaVuSans-48\"/>\n     </g>\n    </g>\n    <g id=\"patch_41\">\n     <path d=\"M 215.715 272.64 \nL 249.195 272.64 \nL 249.195 260.64 \nL 215.715 260.64 \nz\n\" style=\"fill:#ffffff;stroke:#000000;stroke-linejoin:miter;\"/>\n    </g>\n    <g id=\"text_40\">\n     <!-- 0 -->\n     <g transform=\"translate(239.4845 269.399375)scale(0.1 -0.1)\">\n      <use xlink:href=\"#DejaVuSans-48\"/>\n     </g>\n    </g>\n    <g id=\"patch_42\">\n     <path d=\"M 249.195 272.64 \nL 282.675 272.64 \nL 282.675 260.64 \nL 249.195 260.64 \nz\n\" style=\"fill:#ffffff;stroke:#000000;stroke-linejoin:miter;\"/>\n    </g>\n    <g id=\"text_41\">\n     <!-- 4 -->\n     <g transform=\"translate(272.9645 269.399375)scale(0.1 -0.1)\">\n      <use xlink:href=\"#DejaVuSans-52\"/>\n     </g>\n    </g>\n    <g id=\"patch_43\">\n     <path d=\"M 282.675 272.64 \nL 316.155 272.64 \nL 316.155 260.64 \nL 282.675 260.64 \nz\n\" style=\"fill:#ffffff;stroke:#000000;stroke-linejoin:miter;\"/>\n    </g>\n    <g id=\"text_42\">\n     <!-- 2 -->\n     <g transform=\"translate(306.4445 269.399375)scale(0.1 -0.1)\">\n      <use xlink:href=\"#DejaVuSans-50\"/>\n     </g>\n    </g>\n    <g id=\"patch_44\">\n     <path d=\"M 316.155 272.64 \nL 349.635 272.64 \nL 349.635 260.64 \nL 316.155 260.64 \nz\n\" style=\"fill:#ffffff;stroke:#000000;stroke-linejoin:miter;\"/>\n    </g>\n    <g id=\"text_43\">\n     <!-- 2 -->\n     <g transform=\"translate(339.9245 269.399375)scale(0.1 -0.1)\">\n      <use xlink:href=\"#DejaVuSans-50\"/>\n     </g>\n    </g>\n    <g id=\"patch_45\">\n     <path d=\"M 7.2 284.64 \nL 14.835 284.64 \nL 14.835 272.64 \nL 7.2 272.64 \nz\n\" style=\"fill:#ffffff;stroke:#000000;stroke-linejoin:miter;\"/>\n    </g>\n    <g id=\"text_44\">\n     <!-- 3 -->\n     <g transform=\"translate(7.9635 281.399375)scale(0.1 -0.1)\">\n      <use xlink:href=\"#DejaVuSans-51\"/>\n     </g>\n    </g>\n    <g id=\"patch_46\">\n     <path d=\"M 14.835 284.64 \nL 48.315 284.64 \nL 48.315 272.64 \nL 14.835 272.64 \nz\n\" style=\"fill:#ffffff;stroke:#000000;stroke-linejoin:miter;\"/>\n    </g>\n    <g id=\"text_45\">\n     <!-- 0 -->\n     <g transform=\"translate(38.6045 281.399375)scale(0.1 -0.1)\">\n      <use xlink:href=\"#DejaVuSans-48\"/>\n     </g>\n    </g>\n    <g id=\"patch_47\">\n     <path d=\"M 48.315 284.64 \nL 81.795 284.64 \nL 81.795 272.64 \nL 48.315 272.64 \nz\n\" style=\"fill:#ffffff;stroke:#000000;stroke-linejoin:miter;\"/>\n    </g>\n    <g id=\"text_46\">\n     <!-- 1 -->\n     <g transform=\"translate(72.0845 281.399375)scale(0.1 -0.1)\">\n      <use xlink:href=\"#DejaVuSans-49\"/>\n     </g>\n    </g>\n    <g id=\"patch_48\">\n     <path d=\"M 81.795 284.64 \nL 115.275 284.64 \nL 115.275 272.64 \nL 81.795 272.64 \nz\n\" style=\"fill:#ffffff;stroke:#000000;stroke-linejoin:miter;\"/>\n    </g>\n    <g id=\"text_47\">\n     <!-- 1 -->\n     <g transform=\"translate(105.5645 281.399375)scale(0.1 -0.1)\">\n      <use xlink:href=\"#DejaVuSans-49\"/>\n     </g>\n    </g>\n    <g id=\"patch_49\">\n     <path d=\"M 115.275 284.64 \nL 148.755 284.64 \nL 148.755 272.64 \nL 115.275 272.64 \nz\n\" style=\"fill:#ffffff;stroke:#000000;stroke-linejoin:miter;\"/>\n    </g>\n    <g id=\"text_48\">\n     <!-- 976 -->\n     <g transform=\"translate(126.3195 281.399375)scale(0.1 -0.1)\">\n      <use xlink:href=\"#DejaVuSans-57\"/>\n      <use x=\"63.623047\" xlink:href=\"#DejaVuSans-55\"/>\n      <use x=\"127.246094\" xlink:href=\"#DejaVuSans-54\"/>\n     </g>\n    </g>\n    <g id=\"patch_50\">\n     <path d=\"M 148.755 284.64 \nL 182.235 284.64 \nL 182.235 272.64 \nL 148.755 272.64 \nz\n\" style=\"fill:#ffffff;stroke:#000000;stroke-linejoin:miter;\"/>\n    </g>\n    <g id=\"text_49\">\n     <!-- 0 -->\n     <g transform=\"translate(172.5245 281.399375)scale(0.1 -0.1)\">\n      <use xlink:href=\"#DejaVuSans-48\"/>\n     </g>\n    </g>\n    <g id=\"patch_51\">\n     <path d=\"M 182.235 284.64 \nL 215.715 284.64 \nL 215.715 272.64 \nL 182.235 272.64 \nz\n\" style=\"fill:#ffffff;stroke:#000000;stroke-linejoin:miter;\"/>\n    </g>\n    <g id=\"text_50\">\n     <!-- 9 -->\n     <g transform=\"translate(206.0045 281.399375)scale(0.1 -0.1)\">\n      <use xlink:href=\"#DejaVuSans-57\"/>\n     </g>\n    </g>\n    <g id=\"patch_52\">\n     <path d=\"M 215.715 284.64 \nL 249.195 284.64 \nL 249.195 272.64 \nL 215.715 272.64 \nz\n\" style=\"fill:#ffffff;stroke:#000000;stroke-linejoin:miter;\"/>\n    </g>\n    <g id=\"text_51\">\n     <!-- 0 -->\n     <g transform=\"translate(239.4845 281.399375)scale(0.1 -0.1)\">\n      <use xlink:href=\"#DejaVuSans-48\"/>\n     </g>\n    </g>\n    <g id=\"patch_53\">\n     <path d=\"M 249.195 284.64 \nL 282.675 284.64 \nL 282.675 272.64 \nL 249.195 272.64 \nz\n\" style=\"fill:#ffffff;stroke:#000000;stroke-linejoin:miter;\"/>\n    </g>\n    <g id=\"text_52\">\n     <!-- 0 -->\n     <g transform=\"translate(272.9645 281.399375)scale(0.1 -0.1)\">\n      <use xlink:href=\"#DejaVuSans-48\"/>\n     </g>\n    </g>\n    <g id=\"patch_54\">\n     <path d=\"M 282.675 284.64 \nL 316.155 284.64 \nL 316.155 272.64 \nL 282.675 272.64 \nz\n\" style=\"fill:#ffffff;stroke:#000000;stroke-linejoin:miter;\"/>\n    </g>\n    <g id=\"text_53\">\n     <!-- 9 -->\n     <g transform=\"translate(306.4445 281.399375)scale(0.1 -0.1)\">\n      <use xlink:href=\"#DejaVuSans-57\"/>\n     </g>\n    </g>\n    <g id=\"patch_55\">\n     <path d=\"M 316.155 284.64 \nL 349.635 284.64 \nL 349.635 272.64 \nL 316.155 272.64 \nz\n\" style=\"fill:#ffffff;stroke:#000000;stroke-linejoin:miter;\"/>\n    </g>\n    <g id=\"text_54\">\n     <!-- 5 -->\n     <g transform=\"translate(339.9245 281.399375)scale(0.1 -0.1)\">\n      <use xlink:href=\"#DejaVuSans-53\"/>\n     </g>\n    </g>\n    <g id=\"patch_56\">\n     <path d=\"M 7.2 296.64 \nL 14.835 296.64 \nL 14.835 284.64 \nL 7.2 284.64 \nz\n\" style=\"fill:#ffffff;stroke:#000000;stroke-linejoin:miter;\"/>\n    </g>\n    <g id=\"text_55\">\n     <!-- 4 -->\n     <g transform=\"translate(7.9635 293.399375)scale(0.1 -0.1)\">\n      <use xlink:href=\"#DejaVuSans-52\"/>\n     </g>\n    </g>\n    <g id=\"patch_57\">\n     <path d=\"M 14.835 296.64 \nL 48.315 296.64 \nL 48.315 284.64 \nL 14.835 284.64 \nz\n\" style=\"fill:#ffffff;stroke:#000000;stroke-linejoin:miter;\"/>\n    </g>\n    <g id=\"text_56\">\n     <!-- 0 -->\n     <g transform=\"translate(38.6045 293.399375)scale(0.1 -0.1)\">\n      <use xlink:href=\"#DejaVuSans-48\"/>\n     </g>\n    </g>\n    <g id=\"patch_58\">\n     <path d=\"M 48.315 296.64 \nL 81.795 296.64 \nL 81.795 284.64 \nL 48.315 284.64 \nz\n\" style=\"fill:#ffffff;stroke:#000000;stroke-linejoin:miter;\"/>\n    </g>\n    <g id=\"text_57\">\n     <!-- 0 -->\n     <g transform=\"translate(72.0845 293.399375)scale(0.1 -0.1)\">\n      <use xlink:href=\"#DejaVuSans-48\"/>\n     </g>\n    </g>\n    <g id=\"patch_59\">\n     <path d=\"M 81.795 296.64 \nL 115.275 296.64 \nL 115.275 284.64 \nL 81.795 284.64 \nz\n\" style=\"fill:#ffffff;stroke:#000000;stroke-linejoin:miter;\"/>\n    </g>\n    <g id=\"text_58\">\n     <!-- 1 -->\n     <g transform=\"translate(105.5645 293.399375)scale(0.1 -0.1)\">\n      <use xlink:href=\"#DejaVuSans-49\"/>\n     </g>\n    </g>\n    <g id=\"patch_60\">\n     <path d=\"M 115.275 296.64 \nL 148.755 296.64 \nL 148.755 284.64 \nL 115.275 284.64 \nz\n\" style=\"fill:#ffffff;stroke:#000000;stroke-linejoin:miter;\"/>\n    </g>\n    <g id=\"text_59\">\n     <!-- 1 -->\n     <g transform=\"translate(139.0445 293.399375)scale(0.1 -0.1)\">\n      <use xlink:href=\"#DejaVuSans-49\"/>\n     </g>\n    </g>\n    <g id=\"patch_61\">\n     <path d=\"M 148.755 296.64 \nL 182.235 296.64 \nL 182.235 284.64 \nL 148.755 284.64 \nz\n\" style=\"fill:#ffffff;stroke:#000000;stroke-linejoin:miter;\"/>\n    </g>\n    <g id=\"text_60\">\n     <!-- 946 -->\n     <g transform=\"translate(159.7995 293.399375)scale(0.1 -0.1)\">\n      <use xlink:href=\"#DejaVuSans-57\"/>\n      <use x=\"63.623047\" xlink:href=\"#DejaVuSans-52\"/>\n      <use x=\"127.246094\" xlink:href=\"#DejaVuSans-54\"/>\n     </g>\n    </g>\n    <g id=\"patch_62\">\n     <path d=\"M 182.235 296.64 \nL 215.715 296.64 \nL 215.715 284.64 \nL 182.235 284.64 \nz\n\" style=\"fill:#ffffff;stroke:#000000;stroke-linejoin:miter;\"/>\n    </g>\n    <g id=\"text_61\">\n     <!-- 1 -->\n     <g transform=\"translate(206.0045 293.399375)scale(0.1 -0.1)\">\n      <use xlink:href=\"#DejaVuSans-49\"/>\n     </g>\n    </g>\n    <g id=\"patch_63\">\n     <path d=\"M 215.715 296.64 \nL 249.195 296.64 \nL 249.195 284.64 \nL 215.715 284.64 \nz\n\" style=\"fill:#ffffff;stroke:#000000;stroke-linejoin:miter;\"/>\n    </g>\n    <g id=\"text_62\">\n     <!-- 1 -->\n     <g transform=\"translate(239.4845 293.399375)scale(0.1 -0.1)\">\n      <use xlink:href=\"#DejaVuSans-49\"/>\n     </g>\n    </g>\n    <g id=\"patch_64\">\n     <path d=\"M 249.195 296.64 \nL 282.675 296.64 \nL 282.675 284.64 \nL 249.195 284.64 \nz\n\" style=\"fill:#ffffff;stroke:#000000;stroke-linejoin:miter;\"/>\n    </g>\n    <g id=\"text_63\">\n     <!-- 1 -->\n     <g transform=\"translate(272.9645 293.399375)scale(0.1 -0.1)\">\n      <use xlink:href=\"#DejaVuSans-49\"/>\n     </g>\n    </g>\n    <g id=\"patch_65\">\n     <path d=\"M 282.675 296.64 \nL 316.155 296.64 \nL 316.155 284.64 \nL 282.675 284.64 \nz\n\" style=\"fill:#ffffff;stroke:#000000;stroke-linejoin:miter;\"/>\n    </g>\n    <g id=\"text_64\">\n     <!-- 3 -->\n     <g transform=\"translate(306.4445 293.399375)scale(0.1 -0.1)\">\n      <use xlink:href=\"#DejaVuSans-51\"/>\n     </g>\n    </g>\n    <g id=\"patch_66\">\n     <path d=\"M 316.155 296.64 \nL 349.635 296.64 \nL 349.635 284.64 \nL 316.155 284.64 \nz\n\" style=\"fill:#ffffff;stroke:#000000;stroke-linejoin:miter;\"/>\n    </g>\n    <g id=\"text_65\">\n     <!-- 7 -->\n     <g transform=\"translate(339.9245 293.399375)scale(0.1 -0.1)\">\n      <use xlink:href=\"#DejaVuSans-55\"/>\n     </g>\n    </g>\n    <g id=\"patch_67\">\n     <path d=\"M 7.2 308.64 \nL 14.835 308.64 \nL 14.835 296.64 \nL 7.2 296.64 \nz\n\" style=\"fill:#ffffff;stroke:#000000;stroke-linejoin:miter;\"/>\n    </g>\n    <g id=\"text_66\">\n     <!-- 5 -->\n     <g transform=\"translate(7.9635 305.399375)scale(0.1 -0.1)\">\n      <use xlink:href=\"#DejaVuSans-53\"/>\n     </g>\n    </g>\n    <g id=\"patch_68\">\n     <path d=\"M 14.835 308.64 \nL 48.315 308.64 \nL 48.315 296.64 \nL 14.835 296.64 \nz\n\" style=\"fill:#ffffff;stroke:#000000;stroke-linejoin:miter;\"/>\n    </g>\n    <g id=\"text_67\">\n     <!-- 0 -->\n     <g transform=\"translate(38.6045 305.399375)scale(0.1 -0.1)\">\n      <use xlink:href=\"#DejaVuSans-48\"/>\n     </g>\n    </g>\n    <g id=\"patch_69\">\n     <path d=\"M 48.315 308.64 \nL 81.795 308.64 \nL 81.795 296.64 \nL 48.315 296.64 \nz\n\" style=\"fill:#ffffff;stroke:#000000;stroke-linejoin:miter;\"/>\n    </g>\n    <g id=\"text_68\">\n     <!-- 0 -->\n     <g transform=\"translate(72.0845 305.399375)scale(0.1 -0.1)\">\n      <use xlink:href=\"#DejaVuSans-48\"/>\n     </g>\n    </g>\n    <g id=\"patch_70\">\n     <path d=\"M 81.795 308.64 \nL 115.275 308.64 \nL 115.275 296.64 \nL 81.795 296.64 \nz\n\" style=\"fill:#ffffff;stroke:#000000;stroke-linejoin:miter;\"/>\n    </g>\n    <g id=\"text_69\">\n     <!-- 0 -->\n     <g transform=\"translate(105.5645 305.399375)scale(0.1 -0.1)\">\n      <use xlink:href=\"#DejaVuSans-48\"/>\n     </g>\n    </g>\n    <g id=\"patch_71\">\n     <path d=\"M 115.275 308.64 \nL 148.755 308.64 \nL 148.755 296.64 \nL 115.275 296.64 \nz\n\" style=\"fill:#ffffff;stroke:#000000;stroke-linejoin:miter;\"/>\n    </g>\n    <g id=\"text_70\">\n     <!-- 12 -->\n     <g transform=\"translate(132.682 305.399375)scale(0.1 -0.1)\">\n      <use xlink:href=\"#DejaVuSans-49\"/>\n      <use x=\"63.623047\" xlink:href=\"#DejaVuSans-50\"/>\n     </g>\n    </g>\n    <g id=\"patch_72\">\n     <path d=\"M 148.755 308.64 \nL 182.235 308.64 \nL 182.235 296.64 \nL 148.755 296.64 \nz\n\" style=\"fill:#ffffff;stroke:#000000;stroke-linejoin:miter;\"/>\n    </g>\n    <g id=\"text_71\">\n     <!-- 0 -->\n     <g transform=\"translate(172.5245 305.399375)scale(0.1 -0.1)\">\n      <use xlink:href=\"#DejaVuSans-48\"/>\n     </g>\n    </g>\n    <g id=\"patch_73\">\n     <path d=\"M 182.235 308.64 \nL 215.715 308.64 \nL 215.715 296.64 \nL 182.235 296.64 \nz\n\" style=\"fill:#ffffff;stroke:#000000;stroke-linejoin:miter;\"/>\n    </g>\n    <g id=\"text_72\">\n     <!-- 863 -->\n     <g transform=\"translate(193.2795 305.399375)scale(0.1 -0.1)\">\n      <use xlink:href=\"#DejaVuSans-56\"/>\n      <use x=\"63.623047\" xlink:href=\"#DejaVuSans-54\"/>\n      <use x=\"127.246094\" xlink:href=\"#DejaVuSans-51\"/>\n     </g>\n    </g>\n    <g id=\"patch_74\">\n     <path d=\"M 215.715 308.64 \nL 249.195 308.64 \nL 249.195 296.64 \nL 215.715 296.64 \nz\n\" style=\"fill:#ffffff;stroke:#000000;stroke-linejoin:miter;\"/>\n    </g>\n    <g id=\"text_73\">\n     <!-- 3 -->\n     <g transform=\"translate(239.4845 305.399375)scale(0.1 -0.1)\">\n      <use xlink:href=\"#DejaVuSans-51\"/>\n     </g>\n    </g>\n    <g id=\"patch_75\">\n     <path d=\"M 249.195 308.64 \nL 282.675 308.64 \nL 282.675 296.64 \nL 249.195 296.64 \nz\n\" style=\"fill:#ffffff;stroke:#000000;stroke-linejoin:miter;\"/>\n    </g>\n    <g id=\"text_74\">\n     <!-- 0 -->\n     <g transform=\"translate(272.9645 305.399375)scale(0.1 -0.1)\">\n      <use xlink:href=\"#DejaVuSans-48\"/>\n     </g>\n    </g>\n    <g id=\"patch_76\">\n     <path d=\"M 282.675 308.64 \nL 316.155 308.64 \nL 316.155 296.64 \nL 282.675 296.64 \nz\n\" style=\"fill:#ffffff;stroke:#000000;stroke-linejoin:miter;\"/>\n    </g>\n    <g id=\"text_75\">\n     <!-- 3 -->\n     <g transform=\"translate(306.4445 305.399375)scale(0.1 -0.1)\">\n      <use xlink:href=\"#DejaVuSans-51\"/>\n     </g>\n    </g>\n    <g id=\"patch_77\">\n     <path d=\"M 316.155 308.64 \nL 349.635 308.64 \nL 349.635 296.64 \nL 316.155 296.64 \nz\n\" style=\"fill:#ffffff;stroke:#000000;stroke-linejoin:miter;\"/>\n    </g>\n    <g id=\"text_76\">\n     <!-- 3 -->\n     <g transform=\"translate(339.9245 305.399375)scale(0.1 -0.1)\">\n      <use xlink:href=\"#DejaVuSans-51\"/>\n     </g>\n    </g>\n    <g id=\"patch_78\">\n     <path d=\"M 7.2 320.64 \nL 14.835 320.64 \nL 14.835 308.64 \nL 7.2 308.64 \nz\n\" style=\"fill:#ffffff;stroke:#000000;stroke-linejoin:miter;\"/>\n    </g>\n    <g id=\"text_77\">\n     <!-- 6 -->\n     <g transform=\"translate(7.9635 317.399375)scale(0.1 -0.1)\">\n      <use xlink:href=\"#DejaVuSans-54\"/>\n     </g>\n    </g>\n    <g id=\"patch_79\">\n     <path d=\"M 14.835 320.64 \nL 48.315 320.64 \nL 48.315 308.64 \nL 14.835 308.64 \nz\n\" style=\"fill:#ffffff;stroke:#000000;stroke-linejoin:miter;\"/>\n    </g>\n    <g id=\"text_78\">\n     <!-- 1 -->\n     <g transform=\"translate(38.6045 317.399375)scale(0.1 -0.1)\">\n      <use xlink:href=\"#DejaVuSans-49\"/>\n     </g>\n    </g>\n    <g id=\"patch_80\">\n     <path d=\"M 48.315 320.64 \nL 81.795 320.64 \nL 81.795 308.64 \nL 48.315 308.64 \nz\n\" style=\"fill:#ffffff;stroke:#000000;stroke-linejoin:miter;\"/>\n    </g>\n    <g id=\"text_79\">\n     <!-- 2 -->\n     <g transform=\"translate(72.0845 317.399375)scale(0.1 -0.1)\">\n      <use xlink:href=\"#DejaVuSans-50\"/>\n     </g>\n    </g>\n    <g id=\"patch_81\">\n     <path d=\"M 81.795 320.64 \nL 115.275 320.64 \nL 115.275 308.64 \nL 81.795 308.64 \nz\n\" style=\"fill:#ffffff;stroke:#000000;stroke-linejoin:miter;\"/>\n    </g>\n    <g id=\"text_80\">\n     <!-- 0 -->\n     <g transform=\"translate(105.5645 317.399375)scale(0.1 -0.1)\">\n      <use xlink:href=\"#DejaVuSans-48\"/>\n     </g>\n    </g>\n    <g id=\"patch_82\">\n     <path d=\"M 115.275 320.64 \nL 148.755 320.64 \nL 148.755 308.64 \nL 115.275 308.64 \nz\n\" style=\"fill:#ffffff;stroke:#000000;stroke-linejoin:miter;\"/>\n    </g>\n    <g id=\"text_81\">\n     <!-- 0 -->\n     <g transform=\"translate(139.0445 317.399375)scale(0.1 -0.1)\">\n      <use xlink:href=\"#DejaVuSans-48\"/>\n     </g>\n    </g>\n    <g id=\"patch_83\">\n     <path d=\"M 148.755 320.64 \nL 182.235 320.64 \nL 182.235 308.64 \nL 148.755 308.64 \nz\n\" style=\"fill:#ffffff;stroke:#000000;stroke-linejoin:miter;\"/>\n    </g>\n    <g id=\"text_82\">\n     <!-- 6 -->\n     <g transform=\"translate(172.5245 317.399375)scale(0.1 -0.1)\">\n      <use xlink:href=\"#DejaVuSans-54\"/>\n     </g>\n    </g>\n    <g id=\"patch_84\">\n     <path d=\"M 182.235 320.64 \nL 215.715 320.64 \nL 215.715 308.64 \nL 182.235 308.64 \nz\n\" style=\"fill:#ffffff;stroke:#000000;stroke-linejoin:miter;\"/>\n    </g>\n    <g id=\"text_83\">\n     <!-- 7 -->\n     <g transform=\"translate(206.0045 317.399375)scale(0.1 -0.1)\">\n      <use xlink:href=\"#DejaVuSans-55\"/>\n     </g>\n    </g>\n    <g id=\"patch_85\">\n     <path d=\"M 215.715 320.64 \nL 249.195 320.64 \nL 249.195 308.64 \nL 215.715 308.64 \nz\n\" style=\"fill:#ffffff;stroke:#000000;stroke-linejoin:miter;\"/>\n    </g>\n    <g id=\"text_84\">\n     <!-- 948 -->\n     <g transform=\"translate(226.7595 317.399375)scale(0.1 -0.1)\">\n      <use xlink:href=\"#DejaVuSans-57\"/>\n      <use x=\"63.623047\" xlink:href=\"#DejaVuSans-52\"/>\n      <use x=\"127.246094\" xlink:href=\"#DejaVuSans-56\"/>\n     </g>\n    </g>\n    <g id=\"patch_86\">\n     <path d=\"M 249.195 320.64 \nL 282.675 320.64 \nL 282.675 308.64 \nL 249.195 308.64 \nz\n\" style=\"fill:#ffffff;stroke:#000000;stroke-linejoin:miter;\"/>\n    </g>\n    <g id=\"text_85\">\n     <!-- 0 -->\n     <g transform=\"translate(272.9645 317.399375)scale(0.1 -0.1)\">\n      <use xlink:href=\"#DejaVuSans-48\"/>\n     </g>\n    </g>\n    <g id=\"patch_87\">\n     <path d=\"M 282.675 320.64 \nL 316.155 320.64 \nL 316.155 308.64 \nL 282.675 308.64 \nz\n\" style=\"fill:#ffffff;stroke:#000000;stroke-linejoin:miter;\"/>\n    </g>\n    <g id=\"text_86\">\n     <!-- 5 -->\n     <g transform=\"translate(306.4445 317.399375)scale(0.1 -0.1)\">\n      <use xlink:href=\"#DejaVuSans-53\"/>\n     </g>\n    </g>\n    <g id=\"patch_88\">\n     <path d=\"M 316.155 320.64 \nL 349.635 320.64 \nL 349.635 308.64 \nL 316.155 308.64 \nz\n\" style=\"fill:#ffffff;stroke:#000000;stroke-linejoin:miter;\"/>\n    </g>\n    <g id=\"text_87\">\n     <!-- 1 -->\n     <g transform=\"translate(339.9245 317.399375)scale(0.1 -0.1)\">\n      <use xlink:href=\"#DejaVuSans-49\"/>\n     </g>\n    </g>\n    <g id=\"patch_89\">\n     <path d=\"M 7.2 332.64 \nL 14.835 332.64 \nL 14.835 320.64 \nL 7.2 320.64 \nz\n\" style=\"fill:#ffffff;stroke:#000000;stroke-linejoin:miter;\"/>\n    </g>\n    <g id=\"text_88\">\n     <!-- 7 -->\n     <g transform=\"translate(7.9635 329.399375)scale(0.1 -0.1)\">\n      <use xlink:href=\"#DejaVuSans-55\"/>\n     </g>\n    </g>\n    <g id=\"patch_90\">\n     <path d=\"M 14.835 332.64 \nL 48.315 332.64 \nL 48.315 320.64 \nL 14.835 320.64 \nz\n\" style=\"fill:#ffffff;stroke:#000000;stroke-linejoin:miter;\"/>\n    </g>\n    <g id=\"text_89\">\n     <!-- 1 -->\n     <g transform=\"translate(38.6045 329.399375)scale(0.1 -0.1)\">\n      <use xlink:href=\"#DejaVuSans-49\"/>\n     </g>\n    </g>\n    <g id=\"patch_91\">\n     <path d=\"M 48.315 332.64 \nL 81.795 332.64 \nL 81.795 320.64 \nL 48.315 320.64 \nz\n\" style=\"fill:#ffffff;stroke:#000000;stroke-linejoin:miter;\"/>\n    </g>\n    <g id=\"text_90\">\n     <!-- 0 -->\n     <g transform=\"translate(72.0845 329.399375)scale(0.1 -0.1)\">\n      <use xlink:href=\"#DejaVuSans-48\"/>\n     </g>\n    </g>\n    <g id=\"patch_92\">\n     <path d=\"M 81.795 332.64 \nL 115.275 332.64 \nL 115.275 320.64 \nL 81.795 320.64 \nz\n\" style=\"fill:#ffffff;stroke:#000000;stroke-linejoin:miter;\"/>\n    </g>\n    <g id=\"text_91\">\n     <!-- 8 -->\n     <g transform=\"translate(105.5645 329.399375)scale(0.1 -0.1)\">\n      <use xlink:href=\"#DejaVuSans-56\"/>\n     </g>\n    </g>\n    <g id=\"patch_93\">\n     <path d=\"M 115.275 332.64 \nL 148.755 332.64 \nL 148.755 320.64 \nL 115.275 320.64 \nz\n\" style=\"fill:#ffffff;stroke:#000000;stroke-linejoin:miter;\"/>\n    </g>\n    <g id=\"text_92\">\n     <!-- 4 -->\n     <g transform=\"translate(139.0445 329.399375)scale(0.1 -0.1)\">\n      <use xlink:href=\"#DejaVuSans-52\"/>\n     </g>\n    </g>\n    <g id=\"patch_94\">\n     <path d=\"M 148.755 332.64 \nL 182.235 332.64 \nL 182.235 320.64 \nL 148.755 320.64 \nz\n\" style=\"fill:#ffffff;stroke:#000000;stroke-linejoin:miter;\"/>\n    </g>\n    <g id=\"text_93\">\n     <!-- 2 -->\n     <g transform=\"translate(172.5245 329.399375)scale(0.1 -0.1)\">\n      <use xlink:href=\"#DejaVuSans-50\"/>\n     </g>\n    </g>\n    <g id=\"patch_95\">\n     <path d=\"M 182.235 332.64 \nL 215.715 332.64 \nL 215.715 320.64 \nL 182.235 320.64 \nz\n\" style=\"fill:#ffffff;stroke:#000000;stroke-linejoin:miter;\"/>\n    </g>\n    <g id=\"text_94\">\n     <!-- 1 -->\n     <g transform=\"translate(206.0045 329.399375)scale(0.1 -0.1)\">\n      <use xlink:href=\"#DejaVuSans-49\"/>\n     </g>\n    </g>\n    <g id=\"patch_96\">\n     <path d=\"M 215.715 332.64 \nL 249.195 332.64 \nL 249.195 320.64 \nL 215.715 320.64 \nz\n\" style=\"fill:#ffffff;stroke:#000000;stroke-linejoin:miter;\"/>\n    </g>\n    <g id=\"text_95\">\n     <!-- 0 -->\n     <g transform=\"translate(239.4845 329.399375)scale(0.1 -0.1)\">\n      <use xlink:href=\"#DejaVuSans-48\"/>\n     </g>\n    </g>\n    <g id=\"patch_97\">\n     <path d=\"M 249.195 332.64 \nL 282.675 332.64 \nL 282.675 320.64 \nL 249.195 320.64 \nz\n\" style=\"fill:#ffffff;stroke:#000000;stroke-linejoin:miter;\"/>\n    </g>\n    <g id=\"text_96\">\n     <!-- 998 -->\n     <g transform=\"translate(260.2395 329.399375)scale(0.1 -0.1)\">\n      <use xlink:href=\"#DejaVuSans-57\"/>\n      <use x=\"63.623047\" xlink:href=\"#DejaVuSans-57\"/>\n      <use x=\"127.246094\" xlink:href=\"#DejaVuSans-56\"/>\n     </g>\n    </g>\n    <g id=\"patch_98\">\n     <path d=\"M 282.675 332.64 \nL 316.155 332.64 \nL 316.155 320.64 \nL 282.675 320.64 \nz\n\" style=\"fill:#ffffff;stroke:#000000;stroke-linejoin:miter;\"/>\n    </g>\n    <g id=\"text_97\">\n     <!-- 4 -->\n     <g transform=\"translate(306.4445 329.399375)scale(0.1 -0.1)\">\n      <use xlink:href=\"#DejaVuSans-52\"/>\n     </g>\n    </g>\n    <g id=\"patch_99\">\n     <path d=\"M 316.155 332.64 \nL 349.635 332.64 \nL 349.635 320.64 \nL 316.155 320.64 \nz\n\" style=\"fill:#ffffff;stroke:#000000;stroke-linejoin:miter;\"/>\n    </g>\n    <g id=\"text_98\">\n     <!-- 4 -->\n     <g transform=\"translate(339.9245 329.399375)scale(0.1 -0.1)\">\n      <use xlink:href=\"#DejaVuSans-52\"/>\n     </g>\n    </g>\n    <g id=\"patch_100\">\n     <path d=\"M 7.2 344.64 \nL 14.835 344.64 \nL 14.835 332.64 \nL 7.2 332.64 \nz\n\" style=\"fill:#ffffff;stroke:#000000;stroke-linejoin:miter;\"/>\n    </g>\n    <g id=\"text_99\">\n     <!-- 8 -->\n     <g transform=\"translate(7.9635 341.399375)scale(0.1 -0.1)\">\n      <use xlink:href=\"#DejaVuSans-56\"/>\n     </g>\n    </g>\n    <g id=\"patch_101\">\n     <path d=\"M 14.835 344.64 \nL 48.315 344.64 \nL 48.315 332.64 \nL 14.835 332.64 \nz\n\" style=\"fill:#ffffff;stroke:#000000;stroke-linejoin:miter;\"/>\n    </g>\n    <g id=\"text_100\">\n     <!-- 0 -->\n     <g transform=\"translate(38.6045 341.399375)scale(0.1 -0.1)\">\n      <use xlink:href=\"#DejaVuSans-48\"/>\n     </g>\n    </g>\n    <g id=\"patch_102\">\n     <path d=\"M 48.315 344.64 \nL 81.795 344.64 \nL 81.795 332.64 \nL 48.315 332.64 \nz\n\" style=\"fill:#ffffff;stroke:#000000;stroke-linejoin:miter;\"/>\n    </g>\n    <g id=\"text_101\">\n     <!-- 0 -->\n     <g transform=\"translate(72.0845 341.399375)scale(0.1 -0.1)\">\n      <use xlink:href=\"#DejaVuSans-48\"/>\n     </g>\n    </g>\n    <g id=\"patch_103\">\n     <path d=\"M 81.795 344.64 \nL 115.275 344.64 \nL 115.275 332.64 \nL 81.795 332.64 \nz\n\" style=\"fill:#ffffff;stroke:#000000;stroke-linejoin:miter;\"/>\n    </g>\n    <g id=\"text_102\">\n     <!-- 5 -->\n     <g transform=\"translate(105.5645 341.399375)scale(0.1 -0.1)\">\n      <use xlink:href=\"#DejaVuSans-53\"/>\n     </g>\n    </g>\n    <g id=\"patch_104\">\n     <path d=\"M 115.275 344.64 \nL 148.755 344.64 \nL 148.755 332.64 \nL 115.275 332.64 \nz\n\" style=\"fill:#ffffff;stroke:#000000;stroke-linejoin:miter;\"/>\n    </g>\n    <g id=\"text_103\">\n     <!-- 9 -->\n     <g transform=\"translate(139.0445 341.399375)scale(0.1 -0.1)\">\n      <use xlink:href=\"#DejaVuSans-57\"/>\n     </g>\n    </g>\n    <g id=\"patch_105\">\n     <path d=\"M 148.755 344.64 \nL 182.235 344.64 \nL 182.235 332.64 \nL 148.755 332.64 \nz\n\" style=\"fill:#ffffff;stroke:#000000;stroke-linejoin:miter;\"/>\n    </g>\n    <g id=\"text_104\">\n     <!-- 0 -->\n     <g transform=\"translate(172.5245 341.399375)scale(0.1 -0.1)\">\n      <use xlink:href=\"#DejaVuSans-48\"/>\n     </g>\n    </g>\n    <g id=\"patch_106\">\n     <path d=\"M 182.235 344.64 \nL 215.715 344.64 \nL 215.715 332.64 \nL 182.235 332.64 \nz\n\" style=\"fill:#ffffff;stroke:#000000;stroke-linejoin:miter;\"/>\n    </g>\n    <g id=\"text_105\">\n     <!-- 4 -->\n     <g transform=\"translate(206.0045 341.399375)scale(0.1 -0.1)\">\n      <use xlink:href=\"#DejaVuSans-52\"/>\n     </g>\n    </g>\n    <g id=\"patch_107\">\n     <path d=\"M 215.715 344.64 \nL 249.195 344.64 \nL 249.195 332.64 \nL 215.715 332.64 \nz\n\" style=\"fill:#ffffff;stroke:#000000;stroke-linejoin:miter;\"/>\n    </g>\n    <g id=\"text_106\">\n     <!-- 0 -->\n     <g transform=\"translate(239.4845 341.399375)scale(0.1 -0.1)\">\n      <use xlink:href=\"#DejaVuSans-48\"/>\n     </g>\n    </g>\n    <g id=\"patch_108\">\n     <path d=\"M 249.195 344.64 \nL 282.675 344.64 \nL 282.675 332.64 \nL 249.195 332.64 \nz\n\" style=\"fill:#ffffff;stroke:#000000;stroke-linejoin:miter;\"/>\n    </g>\n    <g id=\"text_107\">\n     <!-- 0 -->\n     <g transform=\"translate(272.9645 341.399375)scale(0.1 -0.1)\">\n      <use xlink:href=\"#DejaVuSans-48\"/>\n     </g>\n    </g>\n    <g id=\"patch_109\">\n     <path d=\"M 282.675 344.64 \nL 316.155 344.64 \nL 316.155 332.64 \nL 282.675 332.64 \nz\n\" style=\"fill:#ffffff;stroke:#000000;stroke-linejoin:miter;\"/>\n    </g>\n    <g id=\"text_108\">\n     <!-- 936 -->\n     <g transform=\"translate(293.7195 341.399375)scale(0.1 -0.1)\">\n      <use xlink:href=\"#DejaVuSans-57\"/>\n      <use x=\"63.623047\" xlink:href=\"#DejaVuSans-51\"/>\n      <use x=\"127.246094\" xlink:href=\"#DejaVuSans-54\"/>\n     </g>\n    </g>\n    <g id=\"patch_110\">\n     <path d=\"M 316.155 344.64 \nL 349.635 344.64 \nL 349.635 332.64 \nL 316.155 332.64 \nz\n\" style=\"fill:#ffffff;stroke:#000000;stroke-linejoin:miter;\"/>\n    </g>\n    <g id=\"text_109\">\n     <!-- 3 -->\n     <g transform=\"translate(339.9245 341.399375)scale(0.1 -0.1)\">\n      <use xlink:href=\"#DejaVuSans-51\"/>\n     </g>\n    </g>\n    <g id=\"patch_111\">\n     <path d=\"M 7.2 356.64 \nL 14.835 356.64 \nL 14.835 344.64 \nL 7.2 344.64 \nz\n\" style=\"fill:#ffffff;stroke:#000000;stroke-linejoin:miter;\"/>\n    </g>\n    <g id=\"text_110\">\n     <!-- 9 -->\n     <g transform=\"translate(7.9635 353.399375)scale(0.1 -0.1)\">\n      <use xlink:href=\"#DejaVuSans-57\"/>\n     </g>\n    </g>\n    <g id=\"patch_112\">\n     <path d=\"M 14.835 356.64 \nL 48.315 356.64 \nL 48.315 344.64 \nL 14.835 344.64 \nz\n\" style=\"fill:#ffffff;stroke:#000000;stroke-linejoin:miter;\"/>\n    </g>\n    <g id=\"text_111\">\n     <!-- 0 -->\n     <g transform=\"translate(38.6045 353.399375)scale(0.1 -0.1)\">\n      <use xlink:href=\"#DejaVuSans-48\"/>\n     </g>\n    </g>\n    <g id=\"patch_113\">\n     <path d=\"M 48.315 356.64 \nL 81.795 356.64 \nL 81.795 344.64 \nL 48.315 344.64 \nz\n\" style=\"fill:#ffffff;stroke:#000000;stroke-linejoin:miter;\"/>\n    </g>\n    <g id=\"text_112\">\n     <!-- 0 -->\n     <g transform=\"translate(72.0845 353.399375)scale(0.1 -0.1)\">\n      <use xlink:href=\"#DejaVuSans-48\"/>\n     </g>\n    </g>\n    <g id=\"patch_114\">\n     <path d=\"M 81.795 356.64 \nL 115.275 356.64 \nL 115.275 344.64 \nL 81.795 344.64 \nz\n\" style=\"fill:#ffffff;stroke:#000000;stroke-linejoin:miter;\"/>\n    </g>\n    <g id=\"text_113\">\n     <!-- 0 -->\n     <g transform=\"translate(105.5645 353.399375)scale(0.1 -0.1)\">\n      <use xlink:href=\"#DejaVuSans-48\"/>\n     </g>\n    </g>\n    <g id=\"patch_115\">\n     <path d=\"M 115.275 356.64 \nL 148.755 356.64 \nL 148.755 344.64 \nL 115.275 344.64 \nz\n\" style=\"fill:#ffffff;stroke:#000000;stroke-linejoin:miter;\"/>\n    </g>\n    <g id=\"text_114\">\n     <!-- 4 -->\n     <g transform=\"translate(139.0445 353.399375)scale(0.1 -0.1)\">\n      <use xlink:href=\"#DejaVuSans-52\"/>\n     </g>\n    </g>\n    <g id=\"patch_116\">\n     <path d=\"M 148.755 356.64 \nL 182.235 356.64 \nL 182.235 344.64 \nL 148.755 344.64 \nz\n\" style=\"fill:#ffffff;stroke:#000000;stroke-linejoin:miter;\"/>\n    </g>\n    <g id=\"text_115\">\n     <!-- 25 -->\n     <g transform=\"translate(166.162 353.399375)scale(0.1 -0.1)\">\n      <use xlink:href=\"#DejaVuSans-50\"/>\n      <use x=\"63.623047\" xlink:href=\"#DejaVuSans-53\"/>\n     </g>\n    </g>\n    <g id=\"patch_117\">\n     <path d=\"M 182.235 356.64 \nL 215.715 356.64 \nL 215.715 344.64 \nL 182.235 344.64 \nz\n\" style=\"fill:#ffffff;stroke:#000000;stroke-linejoin:miter;\"/>\n    </g>\n    <g id=\"text_116\">\n     <!-- 3 -->\n     <g transform=\"translate(206.0045 353.399375)scale(0.1 -0.1)\">\n      <use xlink:href=\"#DejaVuSans-51\"/>\n     </g>\n    </g>\n    <g id=\"patch_118\">\n     <path d=\"M 215.715 356.64 \nL 249.195 356.64 \nL 249.195 344.64 \nL 215.715 344.64 \nz\n\" style=\"fill:#ffffff;stroke:#000000;stroke-linejoin:miter;\"/>\n    </g>\n    <g id=\"text_117\">\n     <!-- 0 -->\n     <g transform=\"translate(239.4845 353.399375)scale(0.1 -0.1)\">\n      <use xlink:href=\"#DejaVuSans-48\"/>\n     </g>\n    </g>\n    <g id=\"patch_119\">\n     <path d=\"M 249.195 356.64 \nL 282.675 356.64 \nL 282.675 344.64 \nL 249.195 344.64 \nz\n\" style=\"fill:#ffffff;stroke:#000000;stroke-linejoin:miter;\"/>\n    </g>\n    <g id=\"text_118\">\n     <!-- 13 -->\n     <g transform=\"translate(266.602 353.399375)scale(0.1 -0.1)\">\n      <use xlink:href=\"#DejaVuSans-49\"/>\n      <use x=\"63.623047\" xlink:href=\"#DejaVuSans-51\"/>\n     </g>\n    </g>\n    <g id=\"patch_120\">\n     <path d=\"M 282.675 356.64 \nL 316.155 356.64 \nL 316.155 344.64 \nL 282.675 344.64 \nz\n\" style=\"fill:#ffffff;stroke:#000000;stroke-linejoin:miter;\"/>\n    </g>\n    <g id=\"text_119\">\n     <!-- 4 -->\n     <g transform=\"translate(306.4445 353.399375)scale(0.1 -0.1)\">\n      <use xlink:href=\"#DejaVuSans-52\"/>\n     </g>\n    </g>\n    <g id=\"patch_121\">\n     <path d=\"M 316.155 356.64 \nL 349.635 356.64 \nL 349.635 344.64 \nL 316.155 344.64 \nz\n\" style=\"fill:#ffffff;stroke:#000000;stroke-linejoin:miter;\"/>\n    </g>\n    <g id=\"text_120\">\n     <!-- 970 -->\n     <g transform=\"translate(327.1995 353.399375)scale(0.1 -0.1)\">\n      <use xlink:href=\"#DejaVuSans-57\"/>\n      <use x=\"63.623047\" xlink:href=\"#DejaVuSans-55\"/>\n      <use x=\"127.246094\" xlink:href=\"#DejaVuSans-48\"/>\n     </g>\n    </g>\n   </g>\n  </g>\n </g>\n</svg>\n"
          },
          "metadata": {
            "needs_background": "light"
          }
        }
      ]
    }
  ]
}