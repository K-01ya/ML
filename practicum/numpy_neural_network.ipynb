{
  "cells": [
    {
      "cell_type": "markdown",
      "metadata": {
        "id": "VsSPdbMRZ1EH"
      },
      "source": [
        "# 1 практическое задание. Полносвязная нейронная сеть на `numpy`.\n",
        "\n",
        "## Практикум на ЭВМ для 317 группы, весна 2021\n",
        "\n",
        "#### Фамилия, имя: Козлова Ольга\n",
        "\n",
        "Дата выдачи: <span style=\"color:red\">__17 февраля 03:00__</span>.\n",
        "\n",
        "Мягкий дедлайн: <span style=\"color:red\">__10 марта 23:59__</span>.\n",
        "\n",
        "Стоимость: __10 баллов__ (основная часть заданий) + __3 балла__ (дополнительные задания).\n",
        "\n",
        "<span style=\"color:red\">__В ноутбуке все клетки должны выполняться без ошибок при последовательном их выполнении.__</span>"
      ]
    },
    {
      "cell_type": "code",
      "execution_count": null,
      "metadata": {
        "ExecuteTime": {
          "end_time": "2021-03-03T14:44:48.909044Z",
          "start_time": "2021-03-03T14:44:48.683650Z"
        },
        "id": "TyQBoIAKZ1EM"
      },
      "outputs": [],
      "source": [
        "import numpy as np"
      ]
    },
    {
      "cell_type": "markdown",
      "metadata": {
        "id": "Ui6hTxJWZ1EP"
      },
      "source": [
        "## Теоретическая часть (3 балла)"
      ]
    },
    {
      "cell_type": "markdown",
      "metadata": {
        "id": "6XFzapQNZ1ES"
      },
      "source": [
        "В этом блоке вам нужно решить 3 задания."
      ]
    },
    {
      "cell_type": "markdown",
      "metadata": {
        "id": "2vESO4-vZ1ET"
      },
      "source": [
        "### Задание 1. Градиенты для слоя Batch normalization (1.5 балла)\n",
        "\n",
        "Рассмотрим слой Batch normalization. Пусть на вход этого слоя был подан батч из $n$ объектов, при этом у всех объектов по 1 признаку. Представим вход BN слоя в виде $X \\in \\mathbb{R}^{n \\times 1}$.\n",
        "\n",
        "Тогда в этом слое производятся следующие вычисления:\n",
        "\n",
        "$$ \\mu = \\frac1n \\sum_{i=1}^{n} X_i $$\n",
        "\n",
        "$$ \\sigma^2 = \\frac1n \\sum_{i=1}^{n} \\left( X_i - \\mu \\right) ^2 $$\n",
        "\n",
        "$$ \\tilde{y_i} = \\frac{X_i - \\mu}{\\sqrt{\\sigma^2 + \\varepsilon}} $$\n",
        "\n",
        "$$ y_i = \\gamma \\tilde{y_i} + \\delta $$\n",
        "\n",
        "Выходом BN слоя является $y_i$, а $\\gamma$ и $\\delta$ в нем — параметры, которые подбираются во время обучения вместе с другими параметрами нейронной сети (наряду, например, с весами линейного слоя).\n",
        "\n",
        "Рассмотрим нейронную сеть, в которой есть BN слой. Предположим, что вычисления в нейронной завершаются подсчетом функции потерь $\\mathcal{L}$. Пусть мы выполнили прямой проход по нейронной сети и сейчас делаем обратный проход с помощью метода обратного распространения ошибки. Пусть BN слою пришел градиент функции потерь по выходу BN слоя ($\\nabla_{y} \\mathcal{L}$).\n",
        "\n",
        "В этом задании вам нужно записать вычисление градиента функции потерь по параметрам слоя BN $\\gamma$ и $\\delta$ ($\\nabla_{\\gamma} \\mathcal{L}$, $\\nabla_{\\delta} \\mathcal{L}$) через $\\nabla_{y} \\mathcal{L}$, а также вам нужно записать вычисление градиента функции потерь по входу слоя BN $X$ ($\\nabla_{X} \\mathcal{L}$) через $\\nabla_{y} \\mathcal{L}$.\n",
        "\n",
        "Хочу заметить, в данном задании мы рассматриваем объекты всего с 1 признаком, чтобы упростить выкладки."
      ]
    },
    {
      "cell_type": "markdown",
      "metadata": {
        "id": "Oz339Zp6Z1EW"
      },
      "source": [
        "__Ваше решение:__\n",
        "\n",
        "$$\\nabla_{\\gamma}\\mathcal{L} = \\frac{\\partial L}{\\partial γ} = \\sum_{i=1}^{n} \\frac{∂L}{∂y_i}\\frac{∂y_i}{∂ γ } = (\\nabla_{y} \\mathcal{L})^T \\tilde{y_i}\\tag{1}$$ \n",
        "\n",
        "$$\\nabla_{\\delta}\\mathcal{L} = \\frac{\\partial L}{\\partial \\delta} = \\sum_{i=1}^{n} \\frac{∂L}{∂y_i}\\frac{∂y_i}{∂ \\delta } = \\{e = (1 ... 1)^T, e \\in \\mathbb{R}^{n \\times 1}\\} = (\\nabla_{y} \\mathcal{L})^T e\\tag{2}$$\n",
        "\n",
        "$$\\nabla_{X}\\mathcal{L} = \\left \\{\\sum_{i=1}^{n} \\frac{∂L}{∂y_i}\\frac{∂y_i}{∂ X_j }\\right \\}_{j=1}^K = \\left \\{\\sum_{i=1}^{n} \\frac{∂L}{∂y_i}γ\\frac{∂\\tilde{y_i}}{∂ X_j }\\right \\}_{j=1}^K\\tag{3} $$\n",
        "\n",
        "$$\\frac{∂\\tilde{y_i}}{∂ X_j } = \\frac{∂\\tilde{y_i}}{∂ X_j } + \\frac{∂\\tilde{y_i}}{∂ μ }\\frac{∂\\mu}{∂ X_j } + \\frac{∂\\tilde{y_i}}{∂ σ^2 }\\frac{∂\\sigma^2}{∂ X_j }\\tag{4}$$\n",
        "\n",
        "Теперь немного промежуточных выкладок:\n",
        "$$\\frac{∂\\mu}{∂ X_j } = \\frac1n$$\n",
        "\n",
        "$$\\frac{∂\\sigma^2}{∂ X_j } = \\frac1n \\sum_{i=1}^{n}2(X_i - \\mu)(\\mathbb{I}[i = j] - \\frac1n) = \\frac2n(X_j - \\mu) - \\frac{2}{n^2}(n\\mu - n\\mu) = \\frac2n(X_j - \\mu)$$\n",
        "\n",
        "$$\\frac{∂\\sigma^2}{∂ \\mu } = \\frac1n \\sum_{i=1}^{n}2(X_i - \\mu)(-1) = 0$$\n",
        "\n",
        "\n",
        "Первое слагаемое из суммы $(4)$:\n",
        "$$\\frac{∂\\tilde{y_i}}{∂ X_j } = \\mathbb{I}[i = j]\\frac{1}{\\sqrt{\\sigma^2 + \\varepsilon}}$$\n",
        "\n",
        "\n",
        "Второе слагаемое из суммы $(4)$:\n",
        "$$ \\frac{∂\\tilde{y_i}}{∂ μ }\\frac{∂\\mu}{∂ X_j } = (-\\frac{1}{\\sqrt{\\sigma^2 + \\varepsilon}} +(X_i - \\mu)\\frac{∂\\frac{1}{\\sqrt{\\sigma^2 + \\varepsilon}}}{∂ \\mu } )\\frac{∂\\mu}{∂ X_j } = \n",
        "\\frac1n(-\\frac{1}{\\sqrt{\\sigma^2 + \\varepsilon}} -\\frac{1}{2}(X_i - \\mu) (\\sigma^2 + \\varepsilon) ^{-\\frac{3}{2}}  \\frac{∂\\sigma^2}{∂ \\mu }) = -\\frac1n\\frac{1}{\\sqrt{\\sigma^2 + \\varepsilon}}$$\n",
        "\n",
        "Третье слагаемое из суммы $(4)$:\n",
        "$$\\frac{∂\\tilde{y_i}}{∂ σ^2 }\\frac{∂\\sigma^2}{∂ X_j } = -\\frac{1}{2}\n",
        "(X_i - \\mu)(\\sigma^2 + \\varepsilon) ^{-\\frac{3}{2}}\\frac{∂\\sigma^2}{∂ X_j }$$\n",
        "\n",
        "Cоберем вместе $(4)$:\n",
        "\n",
        "$$\\frac{∂\\tilde{y_i}}{∂ X_j } = \\mathbb{I}[i = j]\\frac{1}{\\sqrt{\\sigma^2 + \\varepsilon}} -\\frac1n\\frac{1}{\\sqrt{\\sigma^2 + \\varepsilon}}-\\frac{1}{2}\n",
        "(X_i - \\mu)(\\sigma^2 + \\varepsilon) ^{-\\frac{3}{2}}\\frac2n(X_j - \\mu) =\n",
        " \\frac{1}{\\sqrt{\\sigma^2 + \\varepsilon}}(\\mathbb{I}[i = j] - \\frac1n - \\frac1n\\tilde{y_i}\\tilde{y_j})$$\n",
        "\n",
        "\n",
        "Перепишем $(3)$:\n",
        " $$\\nabla_{X}\\mathcal{L} =\\frac{γ}{\\sqrt{\\sigma^2 + \\varepsilon}} \\left \\{\\sum_{i=1}^{n} \\frac{∂L}{∂y_i}(\\mathbb{I}[i = j] - \\frac1n - \\frac1n\\tilde{y_i}\\tilde{y_j})\\right \\}_{j=1}^K = \n",
        " \\frac{γ}{\\sqrt{\\sigma^2 + \\varepsilon}} \\left \\{\\frac{∂L}{∂y_j} + \\sum_{i=1}^{n} \\frac{∂L}{∂y_i}( - \\frac1n - \\frac1n\\tilde{y_i}\\tilde{y_j})\\right \\}_{j=1}^K=\n",
        " \\frac{γ}{\\sqrt{\\sigma^2 + \\varepsilon}}(\\nabla_{y} \\mathcal{L} - \\frac1n\\nabla_{y} \\mathcal{L}(ee^T) - \\frac1n\\nabla_{y} \\mathcal{L}(\\tilde{y}\\tilde{y}^T))$$ \n"
      ]
    },
    {
      "cell_type": "markdown",
      "metadata": {
        "id": "Kj4rRD7wZ1EX"
      },
      "source": [
        "### Задание 2. Вывод инициализации весов линейного слоя при использовании ReLU в качестве функции активации (1 балл)\n",
        "\n",
        "Рассмотрим полносвязную нейронную сеть с функцией активации $g(y)$. Пусть сеть состоит из $L$ слоев и размер входа слоя $l$ равен $n_l\\ \\ (l = \\overline{1, L})$.\n",
        "\n",
        "Обозначим за $x^l \\in \\mathbb{R}^{n_{l}}$ вход слоя $l$, за $y^l \\in \\mathbb{R}^{n_{l+1}}$ — выход слоя $l$, за $W^l \\in \\mathbb{R}^{n_{l+1} \\times n_{l}}$ — веса слоя $l$, за $b^l \\in \\mathbb{R}^{n_{l+1}}$ — вектор сдвига слоя $l$.\n",
        "\n",
        "Тогда\n",
        "$$y^l = W^l x^l + b^l,$$\n",
        "$$x^{l+1} = g(y^l).$$\n",
        "\n",
        "На паре вы выводили хорошую инициализацию для линейного слоя в случае, когда в качестве функции активации $g(y)$ в нейронной сети используется гиперболический тангенс $g(y) = \\tanh(y)$. Сейчас вам нужно сделать подобный вывод для случая, когда в сети в качестве функций активации используется $g(y) = ReLU(y) = \\max(0, y)$.\n",
        "\n",
        "Сделаем следующие предположения насчет того, как распределены веса $W^l$, вектор сдвига $b^l$, входной вектор $x^l$, выходной вектор $y^l$ линейного слоя и градиенты функции потерь $\\frac{\\partial L}{\\partial y^{l}}$ $(l = \\overline{1, L}$):\n",
        "\n",
        "1. Все компоненты в $W^l$ распределены одинаково и независимо друг от друга;\n",
        "2. Все компоненты в $y^l$ распределены одинаково и независимо друг от друга;\n",
        "3. Все компоненты в $x^l$ распределены одинаково и независимо друг от друга;\n",
        "4. Все компоненты в $\\frac{\\partial L}{\\partial y^{l}}$ распределены одинаково и независимо друг от друга;\n",
        "5. Все компоненты в $W^l$ и все компоненты в $x^l$ независимы друг от друга;\n",
        "6. Все компоненты в $W^l$ имеют четную плотность распределения (то есть симметричную относительно нуля: $p_{W^l}(-x) = p_{W^l}(x)$);\n",
        "7. Все компоненты в $W^l$ имеют конечное матожидание;\n",
        "8. Вектор $b^l$ инициализирован нулями.\n",
        "\n",
        "\n",
        "Подсказки:\n",
        "1. Из пунктов 6 и 7 следует, что все компоненты в $W^l$ имеют нулевое среднее ($\\mathbb{E} W^l_{ij} = 0\\ \\ \\forall i = \\overline{1, n_{l+1}}, j = \\overline{1, n_{l}}$) (докажите);\n",
        "2. Из пунктов 6 и 7 следует, что все компоненты в $y^l$ имеют нулевое среднее и четную плотность распределения (докажите)."
      ]
    },
    {
      "cell_type": "markdown",
      "metadata": {
        "id": "e0yggipdZ1EY"
      },
      "source": [
        "__Ваше решение:__\n",
        "\n",
        "\n",
        "**Подсказка 1:**\n",
        "\n",
        "\n",
        "$\\mathbb{E} W^l_{ij} = \\int\\limits_{-∞}^∞ xp_{W^l}(x)dx = 0$\n",
        "\n",
        "\n",
        "**Подсказка 2:**\n",
        "\n",
        "\n",
        "$y^l_i = w_{i1}^lx^l_i + ... + w_{n_l1}^lx^n_l$\n",
        "\n",
        "Если докажем четность плотности распределения $z = W_{ij}^lx^l_k$, докажем четность плотности распределения $y^l$.\n",
        " \n",
        " $p_{z}(z) = \\int\\limits_{-∞}^∞ p_{W^l}(x) p_{x^l}(\\frac{z}{x})\\frac{1}{|x|}dx$\n",
        "\n",
        " $p_{z}(-z) = \\int\\limits_{-∞}^∞ p_{W^l}(x) p_{x^l}(\\frac{-z}{x})\\frac{1}{|x|}dx = \\{x' = -x\\} = \\int\\limits_{∞}^{-∞} p_{W^l}(-x') p_{x^l}(\\frac{-z}{-x'})\\frac{1}{|x'|}d(-x') = \\int\\limits_{-∞}^∞ p_{W^l}(x') p_{x^l}(\\frac{z}{x'})\\frac{1}{|x'|}dx'= p_{z}(z)$\n",
        "\n",
        "Из четности плотности распределения следует нулевое матожидание.\n",
        "\n",
        "**Лучшая инициализация:**\n",
        "\n",
        "$$y^l = W^l x^l ,$$\n",
        "$$x^{l+1} = g(y^l).$$\n",
        "$$\\mathbb{D}x^{l+1}_k = \\mathbb{D} \\max\\left(0, \\sum_{i=1}^{n_l}W^l_{ki} x^l_i\\right) = \\frac{1}{2}\\sum_{i=1}^{n_l}\\mathbb{D} \\left(W^l_{ki} x^l_i\\right) = \\frac{1}{2}n_l\\mathbb{D} \\left(W^l_{k1} x^l_1\\right) =\n",
        " \\frac{1}{2}n_l\\left(\\mathbb{E}(x^{l+1}_1)^2\\mathbb{E}(W^l_{k1})^2 - (\\mathbb{E}x^{l+1}_1)^2(\\mathbb{E}W^l_{k1})^2\\right) = \n",
        " \\frac{1}{2}n_l\\left(\\mathbb{D}(x^{l+1}_1)\\mathbb{D}(W^l_{k1})\\right) $$\n",
        "\n",
        "$$\\mathbb{D}x^{l+1}= \\mathbb{D}x\\prod_{i = 1}^l\\frac{1}{2}n_i\\mathbb{D}(W^i)$$\n",
        "\n",
        "Так как мы хотим, чтобы $\\mathbb{D}x^{l}$ было одинаковым для всех слоев: \n",
        "$$\\frac{1}{2}n_l\\mathbb{D}(W^l) = 1$$\n",
        "\n",
        "То есть можно инициализировать $W^i$ например так:\n",
        "\n",
        "$$ \\mathcal{N}(0, \\frac{2}{n_l})$$"
      ]
    },
    {
      "cell_type": "markdown",
      "metadata": {
        "heading_collapsed": true,
        "id": "5VeXfjnXZ1Ea"
      },
      "source": [
        "### Задание 3. Почему функция активации $ReLU(y) = \\max(0, y)$ предпочтительней сигмоиды $\\sigma(y) = \\frac{1}{1 + \\exp(-y)}$ в нейронных сетях? (0.5 балла)\n",
        "\n",
        "Дайте развернутый ответ на вопрос \"Почему функция активации $ReLU(y) = \\max(0, y)$ предпочтительней сигмоиды $\\sigma(y) = \\frac{1}{1 + \\exp(-y)}$ в нейронных сетях?\""
      ]
    },
    {
      "cell_type": "markdown",
      "metadata": {
        "hidden": true,
        "id": "BOYFMigKZ1Eb"
      },
      "source": [
        "__Ваш ответ:__\n",
        "\n",
        "Во-первых, ReLU считается сильно быстрее чем sigmoida и производная по ReLU тоже считается быстрее. Во-вторых, производная сигмоиды  $\\sigma(1 - \\sigma)$, она принадлежит интервалу $(0, \\frac{1}{4})$, поэтому для глубоких сетей после перемножения градиентов, градиент для глубокиз слоев будет очень близким к 0, что ухудшит сходимость. У ReLU градиент равен либо 0, либо 1, поэтому из-за него не происходит такого затухания."
      ]
    },
    {
      "cell_type": "markdown",
      "metadata": {
        "hidden": true,
        "id": "iNjxGANYZ1Ee"
      },
      "source": [
        "---"
      ]
    },
    {
      "cell_type": "markdown",
      "metadata": {
        "id": "zT6L_eY2Z1Eh"
      },
      "source": [
        "## Практическая часть (7 баллов)"
      ]
    },
    {
      "cell_type": "markdown",
      "metadata": {
        "heading_collapsed": true,
        "id": "d2b6jAZBZ1Ej"
      },
      "source": [
        "### Реализация нейронной сети (3 балла)"
      ]
    },
    {
      "cell_type": "markdown",
      "metadata": {
        "hidden": true,
        "id": "4cViM-eCZ1Ek"
      },
      "source": [
        "В этом задании вы обучите полносвязную нейронную сеть распознавать рукописные цифры (а что же еще, если не их :), [почти] самостоятельно реализовав все составляющие алгоритма обучения и предсказания.\n",
        "\n",
        "Для начала нам понадобится реализовать прямой и обратный проход через слои. Наши слои будут соответствовать следующему интерфейсу (на примере \"тождественного\" слоя):"
      ]
    },
    {
      "cell_type": "code",
      "execution_count": null,
      "metadata": {
        "ExecuteTime": {
          "end_time": "2021-03-03T14:44:48.924967Z",
          "start_time": "2021-03-03T14:44:48.912996Z"
        },
        "hidden": true,
        "id": "gbHgzmLIZ1Ek"
      },
      "outputs": [],
      "source": [
        "class IdentityLayer:\n",
        "    \"\"\"\n",
        "    A building block. Each layer is capable of performing two things:\n",
        "\n",
        "    - Process input to get output:           \n",
        "    output = layer.forward(input)\n",
        "\n",
        "    - Propagate gradients through itself:    \n",
        "    grad_input = layer.backward(input, grad_output)\n",
        "\n",
        "    Some layers also have learnable parameters.\n",
        "\n",
        "    Modified code from cs.hse DL course *\n",
        "    \"\"\"\n",
        "    def __init__(self):\n",
        "        \"\"\"\n",
        "        Here you can initialize layer parameters (if any) \n",
        "        and auxiliary stuff. You should enumerate all parameters\n",
        "        in self.params\n",
        "        \"\"\"\n",
        "        # An identity layer does nothing\n",
        "        self.params = []\n",
        "        pass\n",
        "\n",
        "    def forward(self, input):\n",
        "        \"\"\"\n",
        "        Takes input data of shape [batch, input_units], \n",
        "        returns output data [batch, output_units]\n",
        "        \"\"\"\n",
        "        # An identity layer just returns whatever it gets as input.\n",
        "        self.input = input\n",
        "        return input\n",
        "\n",
        "    def backward(self, grad_output): \n",
        "        \"\"\"\n",
        "        Performs a backpropagation step through the layer, \n",
        "        with respect to the given input.\n",
        "\n",
        "        To compute loss gradients w.r.t input, \n",
        "        you need to apply chain rule (backprop):\n",
        "\n",
        "        d `loss` / d `input` = (d `loss` / d `layer`) * (d `layer` / d `input`)\n",
        "\n",
        "        Luckily, you already receive d `loss` / d `layer` in argument, \n",
        "        so you only need to multiply it by d `layer` / d `input`.\n",
        "\n",
        "        NB: Sometimes d `layer` / d `input` can be a 3D or even 4D tensor.\n",
        "        So it's better to write down the `loss` differential and extract\n",
        "        d `layer` / d `input` from it so that only 2D tensors were present.\n",
        "\n",
        "        The method returns:\n",
        "        * gradient w.r.t input (will be passed to \n",
        "          previous layer's backward method)\n",
        "        * flattened gradient w.r.t. parameters (with .ravel() \n",
        "          applied to each gradient). \n",
        "          If there are no params, return []\n",
        "        \"\"\"\n",
        "        # The gradient of an identity layer is precisely grad_output\n",
        "        input_dim = self.input.shape[1]\n",
        "\n",
        "        d_layer_d_input = np.eye(input_dim)\n",
        "\n",
        "        return np.dot(grad_output, d_layer_d_input), [] # chain rule"
      ]
    },
    {
      "cell_type": "markdown",
      "metadata": {
        "id": "VEjSKCMrZ1El"
      },
      "source": [
        "### Слой нелинейности ReLU\n",
        "\n",
        "Для начала реализуем слой нелинейности $ReLU(y) = \\max(0, y)$. Параметров у слоя нет. Метод `forward` должен вернуть результат поэлементного применения $ReLU$ к входному массиву, метод `backward` — градиент функции потерь по входу слоя. В нуле будем считать производную равной 0. Обратите внимание, что при обратном проходе могут понадобиться величины, посчитанные во время прямого прохода, поэтому их стоит сохранить как атрибут класса."
      ]
    },
    {
      "cell_type": "code",
      "execution_count": null,
      "metadata": {
        "ExecuteTime": {
          "end_time": "2021-03-03T14:44:48.939926Z",
          "start_time": "2021-03-03T14:44:48.928957Z"
        },
        "id": "NKP7374oZ1Em"
      },
      "outputs": [],
      "source": [
        "class ReLU:\n",
        "    \"\"\"\n",
        "    Modified code from cs.hse DL course *\n",
        "    \"\"\"\n",
        "    def __init__(self):\n",
        "        \"\"\"ReLU layer simply applies elementwise rectified linear unit to all inputs\"\"\"\n",
        "        self.params = [] # ReLU has no parameters\n",
        "\n",
        "    def forward(self, input):\n",
        "        \"\"\"Apply elementwise ReLU to [batch, num_units] matrix\"\"\"\n",
        "        input[input < 0] = 0\n",
        "        self.relu_input = input\n",
        "        return input\n",
        "\n",
        "    def backward(self, grad_output):\n",
        "        \"\"\"Compute gradient of loss w.r.t. ReLU input\n",
        "        grad_output shape: [batch, num_units]\n",
        "        output 1 shape: [batch, num_units]\n",
        "        output 2: []\n",
        "        \"\"\"\n",
        "        return np.multiply(grad_output, (self.relu_input > 0) * 1), []\n",
        "    \n",
        "    def __repr__(self):\n",
        "        return 'Relu()'"
      ]
    },
    {
      "cell_type": "markdown",
      "metadata": {
        "id": "5RIAeQMYZ1En"
      },
      "source": [
        "### Полносвязный слой\n",
        "Далее реализуем полносвязный слой без нелинейности. У слоя два параметра: матрица весов и вектор сдвига.\n",
        "\n",
        "Обратите внимание на второй аргумент: в нем надо возвращать градиент по всем параметрам в одномерном виде. Для этого надо сначала применить `.ravel()` ко всем градиентам, а затем воспользоваться `np.r_`:"
      ]
    },
    {
      "cell_type": "code",
      "execution_count": null,
      "metadata": {
        "ExecuteTime": {
          "end_time": "2021-03-03T14:44:48.971838Z",
          "start_time": "2021-03-03T14:44:48.943913Z"
        },
        "id": "OpPmcE_oZ1En",
        "outputId": "4c6a3cc7-6e18-493d-e207-060c9dab7f8d",
        "colab": {
          "base_uri": "https://localhost:8080/"
        }
      },
      "outputs": [
        {
          "output_type": "execute_result",
          "data": {
            "text/plain": [
              "array([1., 0., 0., 0., 1., 0., 0., 0., 1., 0., 1., 2., 3.])"
            ]
          },
          "metadata": {},
          "execution_count": 4
        }
      ],
      "source": [
        "# example\n",
        "np.r_[np.eye(3).ravel(), np.arange(4)]"
      ]
    },
    {
      "cell_type": "code",
      "execution_count": null,
      "metadata": {
        "ExecuteTime": {
          "end_time": "2021-03-03T14:44:48.987794Z",
          "start_time": "2021-03-03T14:44:48.975827Z"
        },
        "id": "poQBp0GqZ1Eo"
      },
      "outputs": [],
      "source": [
        "class Dense:\n",
        "    \"\"\"\n",
        "    Modified code from cs.hse DL course *\n",
        "    \"\"\"\n",
        "    def __init__(self, input_units, output_units):\n",
        "        \"\"\"\n",
        "        A dense layer is a layer which performs a learned affine transformation:\n",
        "        f(x) = x W + b\n",
        "        \"\"\"\n",
        "        # initialize weights with small random numbers from normal distribution\n",
        "        self.weights = np.random.randn(input_units, output_units) * 0.01\n",
        "        self.biases = np.zeros(output_units)\n",
        "        self.params = [self.weights, self.biases]\n",
        "\n",
        "    def forward(self,input):\n",
        "        \"\"\"\n",
        "        Perform an affine transformation:\n",
        "        f(x) = x W + b\n",
        "        \n",
        "        input shape: [batch, input_units]\n",
        "        output shape: [batch, output_units]\n",
        "        \"\"\"\n",
        "        self.input = input\n",
        "        return np.dot(input, self.weights) + self.biases\n",
        "\n",
        "    def backward(self, grad_output):\n",
        "        \"\"\"\n",
        "        compute gradients\n",
        "        grad_output shape: [batch, output_units]\n",
        "        output shapes: [batch, input_units], [num_params]\n",
        "        \n",
        "        hint: use function np.r_\n",
        "        np.r_[np.arange(3), np.arange(3)] = [0, 1, 2, 0, 1, 2]\n",
        "        \"\"\"\n",
        "        ### your code here\n",
        "        grad = np.dot(grad_output, self.weights.T)\n",
        "        return grad, np.r_[(np.dot(self.input.T, grad_output)).ravel(), np.sum(grad_output, axis=0)]\n",
        "    \n",
        "    def __repr__(self):\n",
        "        return f'Dense({self.weights.shape[0]}, {self.weights.shape[1]})'"
      ]
    },
    {
      "cell_type": "markdown",
      "metadata": {
        "id": "JANo-xmcZ1Ep"
      },
      "source": [
        "### Проверка градиента\n",
        "\n",
        "Проверим правильность реализации с помощью функции численной проверки градиента. Функция `eval_numerical_gradient` принимает на вход callable объект `f` (функцию от одного аргумента-матрицы) и аргумент `x` и вычисляет приближенный градиент функции `f` в точке `x`."
      ]
    },
    {
      "cell_type": "code",
      "execution_count": null,
      "metadata": {
        "ExecuteTime": {
          "end_time": "2021-03-03T14:44:49.003751Z",
          "start_time": "2021-03-03T14:44:48.990787Z"
        },
        "id": "9_WGOgxUZ1Ep"
      },
      "outputs": [],
      "source": [
        "def eval_numerical_gradient(f, x, verbose=False, h=0.00001):\n",
        "    \"\"\"\n",
        "    Evaluates gradient df/dx via finite differences:\n",
        "    df/dx ~ (f(x+h) - f(x-h)) / 2h\n",
        "    Adopted from https://github.com/ddtm/dl-course/\n",
        "    \"\"\"\n",
        "    fx = f(x) # evaluate function value at original point\n",
        "    grad = np.zeros_like(x)\n",
        "    # iterate over all indexes in x\n",
        "    it = np.nditer(x, flags=['multi_index'], op_flags=['readwrite'])\n",
        "    while not it.finished:\n",
        "\n",
        "        # evaluate function at x+h\n",
        "        ix = it.multi_index\n",
        "        oldval = x[ix]\n",
        "        x[ix] = oldval + h # increment by h\n",
        "        fxph = f(x) # evalute f(x + h)\n",
        "        x[ix] = oldval - h\n",
        "        fxmh = f(x) # evaluate f(x - h)\n",
        "        x[ix] = oldval # restore\n",
        "\n",
        "        # compute the partial derivative with centered formula\n",
        "        grad[ix] = (fxph - fxmh) / (2 * h) # the slope\n",
        "        if verbose:\n",
        "            print (ix, grad[ix])\n",
        "        it.iternext() # step to next dimension\n",
        "\n",
        "    return grad"
      ]
    },
    {
      "cell_type": "markdown",
      "metadata": {
        "id": "8sHGE5pUZ1Eq"
      },
      "source": [
        "Вычислите аналитический и численный градиенты по входу слоя ReLU от функции\n",
        "$$ f(y) = \\sum_i y_i, \\quad y = ReLU(x) $$\n",
        "\n",
        "Выпишите аналитический градиент в этой ячейке:\n",
        "\n",
        "$I[x > 0]$"
      ]
    },
    {
      "cell_type": "markdown",
      "metadata": {
        "id": "YTtjGNSVZ1Eq"
      },
      "source": [
        "Следующая ячейка после заполнения должна не выдавать ошибку :)"
      ]
    },
    {
      "cell_type": "code",
      "source": [
        "def f(x):\n",
        "    return(np.sum(x[x > 0]))"
      ],
      "metadata": {
        "id": "SbQI0EmehUQr"
      },
      "execution_count": null,
      "outputs": []
    },
    {
      "cell_type": "code",
      "execution_count": null,
      "metadata": {
        "ExecuteTime": {
          "end_time": "2021-03-03T14:44:49.034673Z",
          "start_time": "2021-03-03T14:44:49.006744Z"
        },
        "id": "zz4bFjLVZ1Er"
      },
      "outputs": [],
      "source": [
        "relu = ReLU()\n",
        "points = np.linspace(-1, 1, 10*12).reshape([10, 12])\n",
        "\n",
        "### your code here\n",
        "### grads = \n",
        "### numeric_grads = \n",
        "\n",
        "numeric_grads = eval_numerical_gradient(f, points)\n",
        "relu.forward(points)\n",
        "output_grad = np.ones((10, 12))\n",
        "grads = relu.backward(output_grad)[0]\n",
        "\n",
        "assert np.allclose(grads, numeric_grads, rtol=1e-3, atol=0)"
      ]
    },
    {
      "cell_type": "markdown",
      "metadata": {
        "id": "kyg-SCyhZ1Es"
      },
      "source": [
        "Вычислите аналитический и численный градиенты по входу полносвязного слоя от функции\n",
        "$$ f(y) = \\sum_i y_i, \\quad y = W x + b $$\n",
        "\n",
        "Выпишите аналитический градиент в этой ячейке (советуем выписать градиент через дифференциал функции $f$):\n",
        "\n",
        "\n",
        "I такого же размера как x, матрица из единичек\n",
        "$$W^TI$$"
      ]
    },
    {
      "cell_type": "markdown",
      "metadata": {
        "id": "-BORLjb_Z1Et"
      },
      "source": [
        "Следующая ячейка после заполнения должна не выдавать ошибку :)"
      ]
    },
    {
      "cell_type": "code",
      "execution_count": null,
      "metadata": {
        "ExecuteTime": {
          "end_time": "2021-03-03T14:44:49.066624Z",
          "start_time": "2021-03-03T14:44:49.041651Z"
        },
        "id": "PoIv_lptZ1Ev"
      },
      "outputs": [],
      "source": [
        "linear = Dense(12, 32)\n",
        "points = np.linspace(-1, 1, 10*12).reshape([10, 12])\n",
        "\n",
        "### your code here\n",
        "\n",
        "def f(x):\n",
        "    return np.sum(np.dot(x, linear.weights) + linear.biases)\n",
        "\n",
        "numeric_grads = eval_numerical_gradient(f, points)\n",
        "linear.forward(points)\n",
        "output_grad = np.ones((10, 32))\n",
        "grads = linear.backward(output_grad)[0]\n",
        "\n",
        "assert np.allclose(grads, numeric_grads, rtol=1e-3, atol=0)"
      ]
    },
    {
      "cell_type": "markdown",
      "metadata": {
        "id": "FJ7Fky53Z1Ex"
      },
      "source": [
        "### Реализация softmax-слоя и функции потерь"
      ]
    },
    {
      "cell_type": "markdown",
      "metadata": {
        "id": "vMes6l1eZ1Ex"
      },
      "source": [
        "Для решения задачи многоклассовой классификации обычно используют $softmax$ в качестве нелинейности на последнем слое, чтобы получить вероятности классов для каждого объекта:\n",
        "$$\\hat y = softmax(x)  = \\left \\{\\frac {\\exp(x^i)}{\\sum_{j=1}^K \\exp(x^j)} \\right \\}_{i=1}^K, \\quad K - \\text{число классов.}$$\n",
        "\n",
        "Здесь за $x^i$ мы обозначаем $i$-ый признак объекта $x$.\n",
        "\n",
        "В качестве функции потерь выберем отрицательный логарифм правдоподобия (по английски: negative log likelihood или NLL)\n",
        "$$L(y, \\hat y) = -\\sum_{i=1}^K y^i \\log \\hat y^i,$$\n",
        "где $y^i = 1$, если объект принадлежит $i$-му классу, и $y^i = 0$ иначе.\n",
        "\n",
        "NLL совпадает с выражением для [кросс-энтропии](https://ru.wikipedia.org/wiki/Перекрёстная_энтропия) (в качестве первого распределения берем вырожденное распределение $y$, в качестве второго — предсказанное распределение $\\hat y$). Очевидно, что эту функцию потерь также можно переписать через индексацию, если через $y$ обозначить класс данного объекта:\n",
        "$$L(y, \\hat y) = - \\log \\hat y_{y}$$\n",
        "\n",
        "В таком виде ее удобно реализовывать."
      ]
    },
    {
      "cell_type": "markdown",
      "metadata": {
        "ExecuteTime": {
          "end_time": "2021-03-03T13:13:02.970075Z",
          "start_time": "2021-03-03T13:13:02.961134Z"
        },
        "id": "y_rrRl8SZ1Ex"
      },
      "source": [
        "Для обучения нейронной сети будем оптимизировать эту функцию потерь по параметрам нейронной сети:\n",
        "\n",
        "$$ \\frac1N \\sum_{i=1}^N L(y_i, \\hat y_i) = \\frac1N \\sum_{i=1}^N L(y_i, \\text{NN}(x_i)) \\rightarrow \\min_{w}\\,,$$\n",
        "где за $x_i$ и $y_i$ мы обозначили признаки и таргет $i$-ого объекта обучающей выборки, за $\\text{NN}$ мы обозначили нейронную сеть, которая по признакам объекта $x_i$ выдает распределение вероятностей $\\hat y_i$, за $w$ мы обозначили все веса нейронной сети, а $N$ — это число объектов в обучающей выборке."
      ]
    },
    {
      "cell_type": "markdown",
      "metadata": {
        "id": "qCQwWGBNZ1Ey"
      },
      "source": [
        "Реализуйте слой `LogSoftmax` (у этого слоя нет параметров). Метод `forward` должен вычислять логарифм от $softmax$, а метод `backward` — пропускать градиенты. В общем случае в промежуточных вычислениях `backward` получится трехмерный тензор, однако для нашей конкретной функции потерь все вычисления можно реализовать в матричном виде.  Поэтому мы будем предполагать, что аргумент `grad_output` — это матрица, у которой в каждой строке только одно ненулевое значение (не обязательно единица)."
      ]
    },
    {
      "cell_type": "code",
      "execution_count": null,
      "metadata": {
        "ExecuteTime": {
          "end_time": "2021-03-03T14:44:49.272035Z",
          "start_time": "2021-03-03T14:44:49.070612Z"
        },
        "id": "RtW6mtljZ1Ey"
      },
      "outputs": [],
      "source": [
        "from scipy.special import logsumexp\n",
        "# use this function instead of np.log(np.sum(np.exp(...))) because it is more stable"
      ]
    },
    {
      "cell_type": "code",
      "execution_count": null,
      "metadata": {
        "ExecuteTime": {
          "end_time": "2021-03-03T14:44:49.288035Z",
          "start_time": "2021-03-03T14:44:49.275031Z"
        },
        "id": "8An9VS6_Z1Ez"
      },
      "outputs": [],
      "source": [
        "from numpy.ma.core import size\n",
        "class LogSoftmax:\n",
        "    def __init__(self):\n",
        "        self.params = []\n",
        "\n",
        "    def forward(self, input):\n",
        "        \"\"\"\n",
        "        Applies softmax to each row and then applies component-wise log\n",
        "        Input shape: [batch, num_units]\n",
        "        Output shape: [batch, num_units]\n",
        "        \"\"\"\n",
        "        ### your code here\n",
        "        output = input - np.expand_dims(logsumexp(input, axis=1), axis=1)\n",
        "        self.softmax = np.exp(output)\n",
        "        return output\n",
        "        \n",
        "    def backward(self, grad_output):\n",
        "        \"\"\"\n",
        "        Propagartes gradients.\n",
        "        Assumes that each row of grad_output contains only 1 \n",
        "        non-zero element\n",
        "        Input shape: [batch, num_units]\n",
        "        Output shape: [batch, num_units]\n",
        "        Do not forget to return [] as second value (grad w.r.t. params)\n",
        "        \"\"\"\n",
        "        ### your code here\n",
        "        grad = grad_output\n",
        "        for i, row in enumerate(grad_output):\n",
        "            grad[i] -= row[row != 0] * self.softmax[i]\n",
        "        return grad, []\n",
        "    \n",
        "    def __repr__(self):\n",
        "        return 'LogSoftmax()'"
      ]
    },
    {
      "cell_type": "markdown",
      "metadata": {
        "id": "2ACZ92TqZ1E0"
      },
      "source": [
        "Реализуйте функцию потерь и градиенты функции потерь. Во время вычисления NLL усредняйте (а не суммируйте) значения функции потерь по батчу. Обычно так делают для того, чтобы при двух запусках обучения нейронной сети с разными размерами батча получаемые значения функции потерь у этих сетей были сравнимы."
      ]
    },
    {
      "cell_type": "code",
      "execution_count": null,
      "metadata": {
        "ExecuteTime": {
          "end_time": "2021-03-03T14:44:49.302990Z",
          "start_time": "2021-03-03T14:44:49.290985Z"
        },
        "id": "07XsHzMAZ1E0"
      },
      "outputs": [],
      "source": [
        "def NLL(activations, target):\n",
        "    \"\"\"\n",
        "    Returns negative log-likelihood of target under model represented by\n",
        "    activations (log probabilities of classes, it's just output of LogSoftmax layer).\n",
        "    `activations` has shape [batch, num_classes], `target` has shape [batch]\n",
        "    Output shape: 1 (scalar).\n",
        "    \"\"\"\n",
        "    ### your code here\n",
        "    return -np.mean(activations[np.arange(target.shape[0]), target])\n",
        "\n",
        "def grad_NLL(activations, target):\n",
        "    \"\"\"\n",
        "    Returns gradient of negative log-likelihood w.r.t. activations.\n",
        "    each arg has shape [batch, num_classes]\n",
        "    output shape: [batch, num-classes]\n",
        "    \"\"\"\n",
        "    ### your code here\n",
        "    grad = np.zeros(activations.shape)\n",
        "    grad[np.arange(grad.shape[0]), target] = -1 / target.shape[0]\n",
        "    return grad"
      ]
    },
    {
      "cell_type": "markdown",
      "metadata": {
        "id": "byNrqZU-Z1E1"
      },
      "source": [
        "Наконец, выполните проверку `LogSoftmax`-слоя, используя функцию потерь и ее градиент:"
      ]
    },
    {
      "cell_type": "code",
      "execution_count": null,
      "metadata": {
        "ExecuteTime": {
          "end_time": "2021-03-03T14:44:49.350863Z",
          "start_time": "2021-03-03T14:44:49.305945Z"
        },
        "id": "MjWsoE2tZ1E1"
      },
      "outputs": [],
      "source": [
        "lsm = LogSoftmax()\n",
        "target = np.arange(10)\n",
        "points = np.linspace(-1, 1, 10 * 12).reshape([10, 12])\n",
        "\n",
        "def f(x):\n",
        "    return NLL(lsm.forward(x), target)\n",
        "\n",
        "### your code here\n",
        "lsm.forward(points)\n",
        "output_grad = np.zeros((10, 12))\n",
        "output_grad[np.arange(10), target] = -1 / target.shape[0]\n",
        "grads = lsm.backward(output_grad)[0]\n",
        "numeric_grads = eval_numerical_gradient(f, points)\n",
        "\n",
        "\n",
        "\n",
        "assert np.allclose(grads, numeric_grads, rtol=1e-3, atol=0)"
      ]
    },
    {
      "cell_type": "markdown",
      "metadata": {
        "id": "Pr83BFyAZ1E2"
      },
      "source": [
        "## Загрузка данных\n",
        "\n",
        "Мы реализаовали все архитектурные составляющие нашей нейронной сети. Осталось загрузить данные и обучить модель. Мы будем работать с датасетом `digits`, каждый объект в котором — это 8x8 изображение рукописной цифры."
      ]
    },
    {
      "cell_type": "code",
      "execution_count": null,
      "metadata": {
        "ExecuteTime": {
          "end_time": "2021-03-03T14:44:49.872521Z",
          "start_time": "2021-03-03T14:44:49.354818Z"
        },
        "id": "a0TIv-xyZ1E2"
      },
      "outputs": [],
      "source": [
        "import matplotlib.pyplot as plt\n",
        "%matplotlib inline"
      ]
    },
    {
      "cell_type": "code",
      "execution_count": null,
      "metadata": {
        "ExecuteTime": {
          "end_time": "2021-03-03T14:44:51.700670Z",
          "start_time": "2021-03-03T14:44:49.876510Z"
        },
        "id": "FpwBAW5KZ1E2"
      },
      "outputs": [],
      "source": [
        "from sklearn.datasets import load_digits"
      ]
    },
    {
      "cell_type": "code",
      "execution_count": null,
      "metadata": {
        "ExecuteTime": {
          "end_time": "2021-03-03T14:44:51.873771Z",
          "start_time": "2021-03-03T14:44:51.703667Z"
        },
        "id": "Ku0C9s_WZ1E3"
      },
      "outputs": [],
      "source": [
        "X, y = load_digits(return_X_y=True)"
      ]
    },
    {
      "cell_type": "code",
      "execution_count": null,
      "metadata": {
        "ExecuteTime": {
          "end_time": "2021-03-03T14:44:51.889252Z",
          "start_time": "2021-03-03T14:44:51.877326Z"
        },
        "id": "Nx4bdek7Z1E3",
        "outputId": "5831ba24-b84c-46ce-8c56-061f9880bdaf",
        "colab": {
          "base_uri": "https://localhost:8080/"
        }
      },
      "outputs": [
        {
          "output_type": "execute_result",
          "data": {
            "text/plain": [
              "((1797, 64), (1797,))"
            ]
          },
          "metadata": {},
          "execution_count": 17
        }
      ],
      "source": [
        "X.shape, y.shape"
      ]
    },
    {
      "cell_type": "markdown",
      "metadata": {
        "id": "2JjptSutZ1E4"
      },
      "source": [
        "Разделим данные на обучение и контроль:"
      ]
    },
    {
      "cell_type": "code",
      "execution_count": null,
      "metadata": {
        "ExecuteTime": {
          "end_time": "2021-03-03T14:44:51.952606Z",
          "start_time": "2021-03-03T14:44:51.892280Z"
        },
        "id": "6i8LR0RkZ1E4"
      },
      "outputs": [],
      "source": [
        "from sklearn.model_selection import train_test_split"
      ]
    },
    {
      "cell_type": "code",
      "execution_count": null,
      "metadata": {
        "ExecuteTime": {
          "end_time": "2021-03-03T14:44:51.968609Z",
          "start_time": "2021-03-03T14:44:51.955642Z"
        },
        "id": "Z_hoD9MOZ1E5"
      },
      "outputs": [],
      "source": [
        "X_train, X_test, y_train, y_test = train_test_split(X, y, random_state=0)"
      ]
    },
    {
      "cell_type": "code",
      "execution_count": null,
      "metadata": {
        "ExecuteTime": {
          "end_time": "2021-03-03T14:44:52.000485Z",
          "start_time": "2021-03-03T14:44:51.971599Z"
        },
        "id": "hb0X2VKjZ1E5",
        "outputId": "493c0aaa-c8b0-43a0-96d8-d67af7d535fd",
        "colab": {
          "base_uri": "https://localhost:8080/"
        }
      },
      "outputs": [
        {
          "output_type": "execute_result",
          "data": {
            "text/plain": [
              "((1347, 64), (450, 64))"
            ]
          },
          "metadata": {},
          "execution_count": 20
        }
      ],
      "source": [
        "X_train.shape, X_test.shape"
      ]
    },
    {
      "cell_type": "markdown",
      "metadata": {
        "id": "n4l6XQseZ1E5"
      },
      "source": [
        "## Сборка и обучение нейронной сети (1 балл)"
      ]
    },
    {
      "cell_type": "markdown",
      "metadata": {
        "id": "Eh6z3Y8TZ1E6"
      },
      "source": [
        "В нашей реализации мы представляем нейронную сеть в виде списка ее слоев. Например, следующая функция конструирует нейронную сеть заданной ширины (то есть с заданным размером скрытых слоев) и глубины (то есть с заданным количеством слоев) с заданным размером входа и выхода, а также с заданной функцией активации между линейными слоями."
      ]
    },
    {
      "cell_type": "code",
      "execution_count": null,
      "metadata": {
        "ExecuteTime": {
          "end_time": "2021-03-03T14:44:52.016442Z",
          "start_time": "2021-03-03T14:44:52.003513Z"
        },
        "id": "LrsyUR_3Z1E7"
      },
      "outputs": [],
      "source": [
        "def make_network(input_size, hidden_layers_size, output_size, n_layers=3, activation_class=ReLU):\n",
        "    network = []\n",
        "\n",
        "    for layer_idx in range(n_layers):\n",
        "        # Compute sizes of current linear layer\n",
        "        layer_in = input_size if layer_idx == 0 else hidden_layers_size\n",
        "        layer_out = output_size if layer_idx == n_layers - 1 else hidden_layers_size\n",
        "        \n",
        "        # Add linear layer to the network\n",
        "        network.append(Dense(layer_in, layer_out))\n",
        "\n",
        "        # Add activation after each layer except the last one\n",
        "        if layer_idx != n_layers - 1:\n",
        "            network.append(activation_class())\n",
        "\n",
        "    # Add LogSoftmax layer to the network\n",
        "    network.append(LogSoftmax())\n",
        "\n",
        "    return network"
      ]
    },
    {
      "cell_type": "code",
      "execution_count": null,
      "metadata": {
        "ExecuteTime": {
          "end_time": "2021-03-03T14:44:52.048395Z",
          "start_time": "2021-03-03T14:44:52.020431Z"
        },
        "id": "PF7W9IheZ1E9",
        "outputId": "6f18a606-43a2-44ca-85cb-7232836b1dfd",
        "colab": {
          "base_uri": "https://localhost:8080/"
        }
      },
      "outputs": [
        {
          "output_type": "execute_result",
          "data": {
            "text/plain": [
              "[Dense(64, 32), Relu(), Dense(32, 32), Relu(), Dense(32, 10), LogSoftmax()]"
            ]
          },
          "metadata": {},
          "execution_count": 22
        }
      ],
      "source": [
        "input_size = X_train.shape[1]\n",
        "hidden_layers_size = 32\n",
        "output_size = 10\n",
        "\n",
        "network = make_network(input_size, hidden_layers_size, output_size, 3, ReLU)\n",
        "network"
      ]
    },
    {
      "cell_type": "markdown",
      "metadata": {
        "id": "r24BhDZQZ1FA"
      },
      "source": [
        "Реализуйте функцию, которая выполнет прямой проход по нейронной сети:"
      ]
    },
    {
      "cell_type": "code",
      "execution_count": null,
      "metadata": {
        "ExecuteTime": {
          "end_time": "2021-03-03T14:44:52.063319Z",
          "start_time": "2021-03-03T14:44:52.051386Z"
        },
        "id": "bh9UunThZ1FB"
      },
      "outputs": [],
      "source": [
        "def forward(network, X):\n",
        "    \"\"\"\n",
        "    Perform forward pass through the network.\n",
        "    \n",
        "    network: list of layers\n",
        "    X: raw data\n",
        "    X shape: [batch, features_num]\n",
        "\n",
        "    output: \n",
        "    output shape: [batch, out_features_num]\n",
        "    \"\"\"\n",
        "    ### your code here\n",
        "    forward = X\n",
        "    for layer in network:\n",
        "        forward = layer.forward(forward)\n",
        "    return forward"
      ]
    },
    {
      "cell_type": "markdown",
      "metadata": {
        "id": "4emy-J6CZ1FC"
      },
      "source": [
        "Для проверки, хорошо ли сеть обучилась, нам понадобится вычислять долю правильных ответов (accuracy) на данной выборке. Для этого реализуйте функцию, которая делает предсказания на каждом объекте (логично в качестве предсказания на очередном объекте выдавать тот класс, для которого предсказанный логарифм вероятности максимален):"
      ]
    },
    {
      "cell_type": "code",
      "source": [
        "np.argmax(np.array([[0, 1, 2, 1], [1, 2, 3, 4]]), axis=1)"
      ],
      "metadata": {
        "colab": {
          "base_uri": "https://localhost:8080/"
        },
        "id": "lfanHY1iJ35m",
        "outputId": "5064d8e8-d88a-4f10-8894-c6b0ffc9b338"
      },
      "execution_count": null,
      "outputs": [
        {
          "output_type": "execute_result",
          "data": {
            "text/plain": [
              "array([2, 3])"
            ]
          },
          "metadata": {},
          "execution_count": 24
        }
      ]
    },
    {
      "cell_type": "code",
      "execution_count": null,
      "metadata": {
        "ExecuteTime": {
          "end_time": "2021-03-03T14:44:52.063319Z",
          "start_time": "2021-03-03T14:44:52.051386Z"
        },
        "id": "QJ3N5VNjZ1FD"
      },
      "outputs": [],
      "source": [
        "def predict(network, X):\n",
        "    \"\"\"\n",
        "    Returns predictions for each object in X.\n",
        "    \n",
        "    network: list of layers\n",
        "    X: raw data\n",
        "    X shape: [batch, features_num]\n",
        "\n",
        "    output: array of classes, each from 0 to 9\n",
        "    output shape: [batch]\n",
        "    \"\"\"\n",
        "    ### your code here\n",
        "    forward = X\n",
        "    for layer in network:\n",
        "        forward = layer.forward(forward)\n",
        "    return np.argmax(forward, axis=1)"
      ]
    },
    {
      "cell_type": "markdown",
      "metadata": {
        "id": "pqGvOudYZ1FE"
      },
      "source": [
        "Мы будем обучать параметры нейросети с помощью готовой функции оптимизации из модуля `scipy`:"
      ]
    },
    {
      "cell_type": "code",
      "execution_count": null,
      "metadata": {
        "ExecuteTime": {
          "end_time": "2021-03-03T14:44:52.079311Z",
          "start_time": "2021-03-03T14:44:52.070308Z"
        },
        "id": "KTncJvLRZ1FE"
      },
      "outputs": [],
      "source": [
        "from scipy.optimize import minimize"
      ]
    },
    {
      "cell_type": "code",
      "execution_count": null,
      "metadata": {
        "ExecuteTime": {
          "end_time": "2021-03-03T14:44:52.111226Z",
          "start_time": "2021-03-03T14:44:52.085292Z"
        },
        "scrolled": true,
        "id": "Ym3OPQCyZ1FF",
        "outputId": "51b2b228-89a1-40e0-faba-77b722d9d3e4",
        "colab": {
          "base_uri": "https://localhost:8080/"
        }
      },
      "outputs": [
        {
          "output_type": "stream",
          "name": "stdout",
          "text": [
            "Help on function minimize in module scipy.optimize._minimize:\n",
            "\n",
            "minimize(fun, x0, args=(), method=None, jac=None, hess=None, hessp=None, bounds=None, constraints=(), tol=None, callback=None, options=None)\n",
            "    Minimization of scalar function of one or more variables.\n",
            "    \n",
            "    Parameters\n",
            "    ----------\n",
            "    fun : callable\n",
            "        The objective function to be minimized.\n",
            "    \n",
            "            ``fun(x, *args) -> float``\n",
            "    \n",
            "        where x is an 1-D array with shape (n,) and `args`\n",
            "        is a tuple of the fixed parameters needed to completely\n",
            "        specify the function.\n",
            "    x0 : ndarray, shape (n,)\n",
            "        Initial guess. Array of real elements of size (n,),\n",
            "        where 'n' is the number of independent variables.\n",
            "    args : tuple, optional\n",
            "        Extra arguments passed to the objective function and its\n",
            "        derivatives (`fun`, `jac` and `hess` functions).\n",
            "    method : str or callable, optional\n",
            "        Type of solver.  Should be one of\n",
            "    \n",
            "            - 'Nelder-Mead' :ref:`(see here) <optimize.minimize-neldermead>`\n",
            "            - 'Powell'      :ref:`(see here) <optimize.minimize-powell>`\n",
            "            - 'CG'          :ref:`(see here) <optimize.minimize-cg>`\n",
            "            - 'BFGS'        :ref:`(see here) <optimize.minimize-bfgs>`\n",
            "            - 'Newton-CG'   :ref:`(see here) <optimize.minimize-newtoncg>`\n",
            "            - 'L-BFGS-B'    :ref:`(see here) <optimize.minimize-lbfgsb>`\n",
            "            - 'TNC'         :ref:`(see here) <optimize.minimize-tnc>`\n",
            "            - 'COBYLA'      :ref:`(see here) <optimize.minimize-cobyla>`\n",
            "            - 'SLSQP'       :ref:`(see here) <optimize.minimize-slsqp>`\n",
            "            - 'trust-constr':ref:`(see here) <optimize.minimize-trustconstr>`\n",
            "            - 'dogleg'      :ref:`(see here) <optimize.minimize-dogleg>`\n",
            "            - 'trust-ncg'   :ref:`(see here) <optimize.minimize-trustncg>`\n",
            "            - 'trust-exact' :ref:`(see here) <optimize.minimize-trustexact>`\n",
            "            - 'trust-krylov' :ref:`(see here) <optimize.minimize-trustkrylov>`\n",
            "            - custom - a callable object (added in version 0.14.0),\n",
            "              see below for description.\n",
            "    \n",
            "        If not given, chosen to be one of ``BFGS``, ``L-BFGS-B``, ``SLSQP``,\n",
            "        depending if the problem has constraints or bounds.\n",
            "    jac : {callable,  '2-point', '3-point', 'cs', bool}, optional\n",
            "        Method for computing the gradient vector. Only for CG, BFGS,\n",
            "        Newton-CG, L-BFGS-B, TNC, SLSQP, dogleg, trust-ncg, trust-krylov,\n",
            "        trust-exact and trust-constr. If it is a callable, it should be a\n",
            "        function that returns the gradient vector:\n",
            "    \n",
            "            ``jac(x, *args) -> array_like, shape (n,)``\n",
            "    \n",
            "        where x is an array with shape (n,) and `args` is a tuple with\n",
            "        the fixed parameters. Alternatively, the keywords\n",
            "        {'2-point', '3-point', 'cs'} select a finite\n",
            "        difference scheme for numerical estimation of the gradient. Options\n",
            "        '3-point' and 'cs' are available only to 'trust-constr'.\n",
            "        If `jac` is a Boolean and is True, `fun` is assumed to return the\n",
            "        gradient along with the objective function. If False, the gradient\n",
            "        will be estimated using '2-point' finite difference estimation.\n",
            "    hess : {callable, '2-point', '3-point', 'cs', HessianUpdateStrategy},  optional\n",
            "        Method for computing the Hessian matrix. Only for Newton-CG, dogleg,\n",
            "        trust-ncg,  trust-krylov, trust-exact and trust-constr. If it is\n",
            "        callable, it should return the  Hessian matrix:\n",
            "    \n",
            "            ``hess(x, *args) -> {LinearOperator, spmatrix, array}, (n, n)``\n",
            "    \n",
            "        where x is a (n,) ndarray and `args` is a tuple with the fixed\n",
            "        parameters. LinearOperator and sparse matrix returns are\n",
            "        allowed only for 'trust-constr' method. Alternatively, the keywords\n",
            "        {'2-point', '3-point', 'cs'} select a finite difference scheme\n",
            "        for numerical estimation. Or, objects implementing\n",
            "        `HessianUpdateStrategy` interface can be used to approximate\n",
            "        the Hessian. Available quasi-Newton methods implementing\n",
            "        this interface are:\n",
            "    \n",
            "            - `BFGS`;\n",
            "            - `SR1`.\n",
            "    \n",
            "        Whenever the gradient is estimated via finite-differences,\n",
            "        the Hessian cannot be estimated with options\n",
            "        {'2-point', '3-point', 'cs'} and needs to be\n",
            "        estimated using one of the quasi-Newton strategies.\n",
            "        Finite-difference options {'2-point', '3-point', 'cs'} and\n",
            "        `HessianUpdateStrategy` are available only for 'trust-constr' method.\n",
            "    hessp : callable, optional\n",
            "        Hessian of objective function times an arbitrary vector p. Only for\n",
            "        Newton-CG, trust-ncg, trust-krylov, trust-constr.\n",
            "        Only one of `hessp` or `hess` needs to be given.  If `hess` is\n",
            "        provided, then `hessp` will be ignored.  `hessp` must compute the\n",
            "        Hessian times an arbitrary vector:\n",
            "    \n",
            "            ``hessp(x, p, *args) ->  ndarray shape (n,)``\n",
            "    \n",
            "        where x is a (n,) ndarray, p is an arbitrary vector with\n",
            "        dimension (n,) and `args` is a tuple with the fixed\n",
            "        parameters.\n",
            "    bounds : sequence or `Bounds`, optional\n",
            "        Bounds on variables for L-BFGS-B, TNC, SLSQP and\n",
            "        trust-constr methods. There are two ways to specify the bounds:\n",
            "    \n",
            "            1. Instance of `Bounds` class.\n",
            "            2. Sequence of ``(min, max)`` pairs for each element in `x`. None\n",
            "               is used to specify no bound.\n",
            "    \n",
            "    constraints : {Constraint, dict} or List of {Constraint, dict}, optional\n",
            "        Constraints definition (only for COBYLA, SLSQP and trust-constr).\n",
            "        Constraints for 'trust-constr' are defined as a single object or a\n",
            "        list of objects specifying constraints to the optimization problem.\n",
            "        Available constraints are:\n",
            "    \n",
            "            - `LinearConstraint`\n",
            "            - `NonlinearConstraint`\n",
            "    \n",
            "        Constraints for COBYLA, SLSQP are defined as a list of dictionaries.\n",
            "        Each dictionary with fields:\n",
            "    \n",
            "            type : str\n",
            "                Constraint type: 'eq' for equality, 'ineq' for inequality.\n",
            "            fun : callable\n",
            "                The function defining the constraint.\n",
            "            jac : callable, optional\n",
            "                The Jacobian of `fun` (only for SLSQP).\n",
            "            args : sequence, optional\n",
            "                Extra arguments to be passed to the function and Jacobian.\n",
            "    \n",
            "        Equality constraint means that the constraint function result is to\n",
            "        be zero whereas inequality means that it is to be non-negative.\n",
            "        Note that COBYLA only supports inequality constraints.\n",
            "    tol : float, optional\n",
            "        Tolerance for termination. For detailed control, use solver-specific\n",
            "        options.\n",
            "    options : dict, optional\n",
            "        A dictionary of solver options. All methods accept the following\n",
            "        generic options:\n",
            "    \n",
            "            maxiter : int\n",
            "                Maximum number of iterations to perform. Depending on the\n",
            "                method each iteration may use several function evaluations.\n",
            "            disp : bool\n",
            "                Set to True to print convergence messages.\n",
            "    \n",
            "        For method-specific options, see :func:`show_options()`.\n",
            "    callback : callable, optional\n",
            "        Called after each iteration. For 'trust-constr' it is a callable with\n",
            "        the signature:\n",
            "    \n",
            "            ``callback(xk, OptimizeResult state) -> bool``\n",
            "    \n",
            "        where ``xk`` is the current parameter vector. and ``state``\n",
            "        is an `OptimizeResult` object, with the same fields\n",
            "        as the ones from the return.  If callback returns True\n",
            "        the algorithm execution is terminated.\n",
            "        For all the other methods, the signature is:\n",
            "    \n",
            "            ``callback(xk)``\n",
            "    \n",
            "        where ``xk`` is the current parameter vector.\n",
            "    \n",
            "    Returns\n",
            "    -------\n",
            "    res : OptimizeResult\n",
            "        The optimization result represented as a ``OptimizeResult`` object.\n",
            "        Important attributes are: ``x`` the solution array, ``success`` a\n",
            "        Boolean flag indicating if the optimizer exited successfully and\n",
            "        ``message`` which describes the cause of the termination. See\n",
            "        `OptimizeResult` for a description of other attributes.\n",
            "    \n",
            "    See also\n",
            "    --------\n",
            "    minimize_scalar : Interface to minimization algorithms for scalar\n",
            "        univariate functions\n",
            "    show_options : Additional options accepted by the solvers\n",
            "    \n",
            "    Notes\n",
            "    -----\n",
            "    This section describes the available solvers that can be selected by the\n",
            "    'method' parameter. The default method is *BFGS*.\n",
            "    \n",
            "    **Unconstrained minimization**\n",
            "    \n",
            "    Method :ref:`Nelder-Mead <optimize.minimize-neldermead>` uses the\n",
            "    Simplex algorithm [1]_, [2]_. This algorithm is robust in many\n",
            "    applications. However, if numerical computation of derivative can be\n",
            "    trusted, other algorithms using the first and/or second derivatives\n",
            "    information might be preferred for their better performance in\n",
            "    general.\n",
            "    \n",
            "    Method :ref:`Powell <optimize.minimize-powell>` is a modification\n",
            "    of Powell's method [3]_, [4]_ which is a conjugate direction\n",
            "    method. It performs sequential one-dimensional minimizations along\n",
            "    each vector of the directions set (`direc` field in `options` and\n",
            "    `info`), which is updated at each iteration of the main\n",
            "    minimization loop. The function need not be differentiable, and no\n",
            "    derivatives are taken.\n",
            "    \n",
            "    Method :ref:`CG <optimize.minimize-cg>` uses a nonlinear conjugate\n",
            "    gradient algorithm by Polak and Ribiere, a variant of the\n",
            "    Fletcher-Reeves method described in [5]_ pp.  120-122. Only the\n",
            "    first derivatives are used.\n",
            "    \n",
            "    Method :ref:`BFGS <optimize.minimize-bfgs>` uses the quasi-Newton\n",
            "    method of Broyden, Fletcher, Goldfarb, and Shanno (BFGS) [5]_\n",
            "    pp. 136. It uses the first derivatives only. BFGS has proven good\n",
            "    performance even for non-smooth optimizations. This method also\n",
            "    returns an approximation of the Hessian inverse, stored as\n",
            "    `hess_inv` in the OptimizeResult object.\n",
            "    \n",
            "    Method :ref:`Newton-CG <optimize.minimize-newtoncg>` uses a\n",
            "    Newton-CG algorithm [5]_ pp. 168 (also known as the truncated\n",
            "    Newton method). It uses a CG method to the compute the search\n",
            "    direction. See also *TNC* method for a box-constrained\n",
            "    minimization with a similar algorithm. Suitable for large-scale\n",
            "    problems.\n",
            "    \n",
            "    Method :ref:`dogleg <optimize.minimize-dogleg>` uses the dog-leg\n",
            "    trust-region algorithm [5]_ for unconstrained minimization. This\n",
            "    algorithm requires the gradient and Hessian; furthermore the\n",
            "    Hessian is required to be positive definite.\n",
            "    \n",
            "    Method :ref:`trust-ncg <optimize.minimize-trustncg>` uses the\n",
            "    Newton conjugate gradient trust-region algorithm [5]_ for\n",
            "    unconstrained minimization. This algorithm requires the gradient\n",
            "    and either the Hessian or a function that computes the product of\n",
            "    the Hessian with a given vector. Suitable for large-scale problems.\n",
            "    \n",
            "    Method :ref:`trust-krylov <optimize.minimize-trustkrylov>` uses\n",
            "    the Newton GLTR trust-region algorithm [14]_, [15]_ for unconstrained\n",
            "    minimization. This algorithm requires the gradient\n",
            "    and either the Hessian or a function that computes the product of\n",
            "    the Hessian with a given vector. Suitable for large-scale problems.\n",
            "    On indefinite problems it requires usually less iterations than the\n",
            "    `trust-ncg` method and is recommended for medium and large-scale problems.\n",
            "    \n",
            "    Method :ref:`trust-exact <optimize.minimize-trustexact>`\n",
            "    is a trust-region method for unconstrained minimization in which\n",
            "    quadratic subproblems are solved almost exactly [13]_. This\n",
            "    algorithm requires the gradient and the Hessian (which is\n",
            "    *not* required to be positive definite). It is, in many\n",
            "    situations, the Newton method to converge in fewer iteraction\n",
            "    and the most recommended for small and medium-size problems.\n",
            "    \n",
            "    **Bound-Constrained minimization**\n",
            "    \n",
            "    Method :ref:`L-BFGS-B <optimize.minimize-lbfgsb>` uses the L-BFGS-B\n",
            "    algorithm [6]_, [7]_ for bound constrained minimization.\n",
            "    \n",
            "    Method :ref:`TNC <optimize.minimize-tnc>` uses a truncated Newton\n",
            "    algorithm [5]_, [8]_ to minimize a function with variables subject\n",
            "    to bounds. This algorithm uses gradient information; it is also\n",
            "    called Newton Conjugate-Gradient. It differs from the *Newton-CG*\n",
            "    method described above as it wraps a C implementation and allows\n",
            "    each variable to be given upper and lower bounds.\n",
            "    \n",
            "    **Constrained Minimization**\n",
            "    \n",
            "    Method :ref:`COBYLA <optimize.minimize-cobyla>` uses the\n",
            "    Constrained Optimization BY Linear Approximation (COBYLA) method\n",
            "    [9]_, [10]_, [11]_. The algorithm is based on linear\n",
            "    approximations to the objective function and each constraint. The\n",
            "    method wraps a FORTRAN implementation of the algorithm. The\n",
            "    constraints functions 'fun' may return either a single number\n",
            "    or an array or list of numbers.\n",
            "    \n",
            "    Method :ref:`SLSQP <optimize.minimize-slsqp>` uses Sequential\n",
            "    Least SQuares Programming to minimize a function of several\n",
            "    variables with any combination of bounds, equality and inequality\n",
            "    constraints. The method wraps the SLSQP Optimization subroutine\n",
            "    originally implemented by Dieter Kraft [12]_. Note that the\n",
            "    wrapper handles infinite values in bounds by converting them into\n",
            "    large floating values.\n",
            "    \n",
            "    Method :ref:`trust-constr <optimize.minimize-trustconstr>` is a\n",
            "    trust-region algorithm for constrained optimization. It swiches\n",
            "    between two implementations depending on the problem definition.\n",
            "    It is the most versatile constrained minimization algorithm\n",
            "    implemented in SciPy and the most appropriate for large-scale problems.\n",
            "    For equality constrained problems it is an implementation of Byrd-Omojokun\n",
            "    Trust-Region SQP method described in [17]_ and in [5]_, p. 549. When\n",
            "    inequality constraints  are imposed as well, it swiches to the trust-region\n",
            "    interior point  method described in [16]_. This interior point algorithm,\n",
            "    in turn, solves inequality constraints by introducing slack variables\n",
            "    and solving a sequence of equality-constrained barrier problems\n",
            "    for progressively smaller values of the barrier parameter.\n",
            "    The previously described equality constrained SQP method is\n",
            "    used to solve the subproblems with increasing levels of accuracy\n",
            "    as the iterate gets closer to a solution.\n",
            "    \n",
            "    **Finite-Difference Options**\n",
            "    \n",
            "    For Method :ref:`trust-constr <optimize.minimize-trustconstr>`\n",
            "    the gradient and the Hessian may be approximated using\n",
            "    three finite-difference schemes: {'2-point', '3-point', 'cs'}.\n",
            "    The scheme 'cs' is, potentially, the most accurate but it\n",
            "    requires the function to correctly handles complex inputs and to\n",
            "    be differentiable in the complex plane. The scheme '3-point' is more\n",
            "    accurate than '2-point' but requires twice as much operations.\n",
            "    \n",
            "    **Custom minimizers**\n",
            "    \n",
            "    It may be useful to pass a custom minimization method, for example\n",
            "    when using a frontend to this method such as `scipy.optimize.basinhopping`\n",
            "    or a different library.  You can simply pass a callable as the ``method``\n",
            "    parameter.\n",
            "    \n",
            "    The callable is called as ``method(fun, x0, args, **kwargs, **options)``\n",
            "    where ``kwargs`` corresponds to any other parameters passed to `minimize`\n",
            "    (such as `callback`, `hess`, etc.), except the `options` dict, which has\n",
            "    its contents also passed as `method` parameters pair by pair.  Also, if\n",
            "    `jac` has been passed as a bool type, `jac` and `fun` are mangled so that\n",
            "    `fun` returns just the function values and `jac` is converted to a function\n",
            "    returning the Jacobian.  The method shall return an `OptimizeResult`\n",
            "    object.\n",
            "    \n",
            "    The provided `method` callable must be able to accept (and possibly ignore)\n",
            "    arbitrary parameters; the set of parameters accepted by `minimize` may\n",
            "    expand in future versions and then these parameters will be passed to\n",
            "    the method.  You can find an example in the scipy.optimize tutorial.\n",
            "    \n",
            "    .. versionadded:: 0.11.0\n",
            "    \n",
            "    References\n",
            "    ----------\n",
            "    .. [1] Nelder, J A, and R Mead. 1965. A Simplex Method for Function\n",
            "        Minimization. The Computer Journal 7: 308-13.\n",
            "    .. [2] Wright M H. 1996. Direct search methods: Once scorned, now\n",
            "        respectable, in Numerical Analysis 1995: Proceedings of the 1995\n",
            "        Dundee Biennial Conference in Numerical Analysis (Eds. D F\n",
            "        Griffiths and G A Watson). Addison Wesley Longman, Harlow, UK.\n",
            "        191-208.\n",
            "    .. [3] Powell, M J D. 1964. An efficient method for finding the minimum of\n",
            "       a function of several variables without calculating derivatives. The\n",
            "       Computer Journal 7: 155-162.\n",
            "    .. [4] Press W, S A Teukolsky, W T Vetterling and B P Flannery.\n",
            "       Numerical Recipes (any edition), Cambridge University Press.\n",
            "    .. [5] Nocedal, J, and S J Wright. 2006. Numerical Optimization.\n",
            "       Springer New York.\n",
            "    .. [6] Byrd, R H and P Lu and J. Nocedal. 1995. A Limited Memory\n",
            "       Algorithm for Bound Constrained Optimization. SIAM Journal on\n",
            "       Scientific and Statistical Computing 16 (5): 1190-1208.\n",
            "    .. [7] Zhu, C and R H Byrd and J Nocedal. 1997. L-BFGS-B: Algorithm\n",
            "       778: L-BFGS-B, FORTRAN routines for large scale bound constrained\n",
            "       optimization. ACM Transactions on Mathematical Software 23 (4):\n",
            "       550-560.\n",
            "    .. [8] Nash, S G. Newton-Type Minimization Via the Lanczos Method.\n",
            "       1984. SIAM Journal of Numerical Analysis 21: 770-778.\n",
            "    .. [9] Powell, M J D. A direct search optimization method that models\n",
            "       the objective and constraint functions by linear interpolation.\n",
            "       1994. Advances in Optimization and Numerical Analysis, eds. S. Gomez\n",
            "       and J-P Hennart, Kluwer Academic (Dordrecht), 51-67.\n",
            "    .. [10] Powell M J D. Direct search algorithms for optimization\n",
            "       calculations. 1998. Acta Numerica 7: 287-336.\n",
            "    .. [11] Powell M J D. A view of algorithms for optimization without\n",
            "       derivatives. 2007.Cambridge University Technical Report DAMTP\n",
            "       2007/NA03\n",
            "    .. [12] Kraft, D. A software package for sequential quadratic\n",
            "       programming. 1988. Tech. Rep. DFVLR-FB 88-28, DLR German Aerospace\n",
            "       Center -- Institute for Flight Mechanics, Koln, Germany.\n",
            "    .. [13] Conn, A. R., Gould, N. I., and Toint, P. L.\n",
            "       Trust region methods. 2000. Siam. pp. 169-200.\n",
            "    .. [14] F. Lenders, C. Kirches, A. Potschka: \"trlib: A vector-free\n",
            "       implementation of the GLTR method for iterative solution of\n",
            "       the trust region problem\", https://arxiv.org/abs/1611.04718\n",
            "    .. [15] N. Gould, S. Lucidi, M. Roma, P. Toint: \"Solving the\n",
            "       Trust-Region Subproblem using the Lanczos Method\",\n",
            "       SIAM J. Optim., 9(2), 504--525, (1999).\n",
            "    .. [16] Byrd, Richard H., Mary E. Hribar, and Jorge Nocedal. 1999.\n",
            "        An interior point algorithm for large-scale nonlinear  programming.\n",
            "        SIAM Journal on Optimization 9.4: 877-900.\n",
            "    .. [17] Lalee, Marucha, Jorge Nocedal, and Todd Plantega. 1998. On the\n",
            "        implementation of an algorithm for large-scale equality constrained\n",
            "        optimization. SIAM Journal on Optimization 8.3: 682-706.\n",
            "    \n",
            "    Examples\n",
            "    --------\n",
            "    Let us consider the problem of minimizing the Rosenbrock function. This\n",
            "    function (and its respective derivatives) is implemented in `rosen`\n",
            "    (resp. `rosen_der`, `rosen_hess`) in the `scipy.optimize`.\n",
            "    \n",
            "    >>> from scipy.optimize import minimize, rosen, rosen_der\n",
            "    \n",
            "    A simple application of the *Nelder-Mead* method is:\n",
            "    \n",
            "    >>> x0 = [1.3, 0.7, 0.8, 1.9, 1.2]\n",
            "    >>> res = minimize(rosen, x0, method='Nelder-Mead', tol=1e-6)\n",
            "    >>> res.x\n",
            "    array([ 1.,  1.,  1.,  1.,  1.])\n",
            "    \n",
            "    Now using the *BFGS* algorithm, using the first derivative and a few\n",
            "    options:\n",
            "    \n",
            "    >>> res = minimize(rosen, x0, method='BFGS', jac=rosen_der,\n",
            "    ...                options={'gtol': 1e-6, 'disp': True})\n",
            "    Optimization terminated successfully.\n",
            "             Current function value: 0.000000\n",
            "             Iterations: 26\n",
            "             Function evaluations: 31\n",
            "             Gradient evaluations: 31\n",
            "    >>> res.x\n",
            "    array([ 1.,  1.,  1.,  1.,  1.])\n",
            "    >>> print(res.message)\n",
            "    Optimization terminated successfully.\n",
            "    >>> res.hess_inv\n",
            "    array([[ 0.00749589,  0.01255155,  0.02396251,  0.04750988,  0.09495377],  # may vary\n",
            "           [ 0.01255155,  0.02510441,  0.04794055,  0.09502834,  0.18996269],\n",
            "           [ 0.02396251,  0.04794055,  0.09631614,  0.19092151,  0.38165151],\n",
            "           [ 0.04750988,  0.09502834,  0.19092151,  0.38341252,  0.7664427 ],\n",
            "           [ 0.09495377,  0.18996269,  0.38165151,  0.7664427,   1.53713523]])\n",
            "    \n",
            "    \n",
            "    Next, consider a minimization problem with several constraints (namely\n",
            "    Example 16.4 from [5]_). The objective function is:\n",
            "    \n",
            "    >>> fun = lambda x: (x[0] - 1)**2 + (x[1] - 2.5)**2\n",
            "    \n",
            "    There are three constraints defined as:\n",
            "    \n",
            "    >>> cons = ({'type': 'ineq', 'fun': lambda x:  x[0] - 2 * x[1] + 2},\n",
            "    ...         {'type': 'ineq', 'fun': lambda x: -x[0] - 2 * x[1] + 6},\n",
            "    ...         {'type': 'ineq', 'fun': lambda x: -x[0] + 2 * x[1] + 2})\n",
            "    \n",
            "    And variables must be positive, hence the following bounds:\n",
            "    \n",
            "    >>> bnds = ((0, None), (0, None))\n",
            "    \n",
            "    The optimization problem is solved using the SLSQP method as:\n",
            "    \n",
            "    >>> res = minimize(fun, (2, 0), method='SLSQP', bounds=bnds,\n",
            "    ...                constraints=cons)\n",
            "    \n",
            "    It should converge to the theoretical solution (1.4 ,1.7).\n",
            "\n"
          ]
        }
      ],
      "source": [
        "help(minimize)"
      ]
    },
    {
      "cell_type": "markdown",
      "metadata": {
        "id": "zty00v83Z1FF"
      },
      "source": [
        "Эта функция имеет стандартный интерфейс: нужно передать callable объект, который вычисляет значение и градиент целевой функции, а также точку старта оптимизации — начальное приближение (одномерный `numpy`-массив). Поэтому нам понадобятся функции для сбора и задания всех весов нашей нейросети (именно для них мы всегда записывали параметры слоя в список `layer.params`)"
      ]
    },
    {
      "cell_type": "code",
      "execution_count": null,
      "metadata": {
        "ExecuteTime": {
          "end_time": "2021-03-03T14:44:52.127145Z",
          "start_time": "2021-03-03T14:44:52.114180Z"
        },
        "id": "2bxtc9q-Z1FG"
      },
      "outputs": [],
      "source": [
        "def get_weights(network):\n",
        "    weights = []\n",
        "    for layer in network:\n",
        "        for param in layer.params:\n",
        "            weights += param.ravel().tolist()\n",
        "    return np.array(weights)\n",
        "\n",
        "\n",
        "def set_weights(weights, network):\n",
        "    i = 0\n",
        "    for layer in network:\n",
        "        for param in layer.params:\n",
        "            l = param.size\n",
        "            param[:] = weights[i:i+l].reshape(param.shape)\n",
        "            i += l"
      ]
    },
    {
      "cell_type": "markdown",
      "metadata": {
        "id": "E9dHvm29Z1FG"
      },
      "source": [
        "Вам нужно реализовать ту самую функцию, которую мы будем передавать в `minimize`. Эта функция должна брать на вход текущую точку (вектор всех параметров), а также список дополнительных параметров (мы будем передавать через них нашу сеть и обучающие данные) и возвращать значение критерия качества (NLL) и его градиент по параметрам модели."
      ]
    },
    {
      "cell_type": "code",
      "source": [
        "x, y, z = [1, 2, 3]\n",
        "x"
      ],
      "metadata": {
        "colab": {
          "base_uri": "https://localhost:8080/"
        },
        "id": "6GOkLJWga7aP",
        "outputId": "2c1efd42-0c38-4064-d559-f182b30d9ced"
      },
      "execution_count": null,
      "outputs": [
        {
          "output_type": "execute_result",
          "data": {
            "text/plain": [
              "1"
            ]
          },
          "metadata": {},
          "execution_count": 29
        }
      ]
    },
    {
      "cell_type": "code",
      "execution_count": null,
      "metadata": {
        "ExecuteTime": {
          "end_time": "2021-03-03T14:44:52.143103Z",
          "start_time": "2021-03-03T14:44:52.131134Z"
        },
        "id": "xaElXfgLZ1FG"
      },
      "outputs": [],
      "source": [
        "def compute_loss_grad(weights, args):\n",
        "    \"\"\"\n",
        "    takes current weights and computes cross-entropy and gradients\n",
        "    weights shape: [num_parameters]\n",
        "    output 1: loss (scalar)\n",
        "    output 2: gradint w.r.t. weights, shape: [num_parameters]\n",
        "    \n",
        "    hint: firstly perform forward pass through the whole network\n",
        "    then compute loss and its gradients\n",
        "    then perform backward pass, transmitting first baskward output\n",
        "    to the previos layer and saving second baskward output in a list\n",
        "    finally flatten all the gradients in this list\n",
        "    (in the order from the first to the last layer)\n",
        "    \n",
        "    Do not forget to set weights of the network!\n",
        "    \"\"\"\n",
        "    network, X, y = args\n",
        "    ### your code here\n",
        "    set_weights(weights, network)\n",
        "\n",
        "    output = forward(network, X)\n",
        "    loss = NLL(output, y)\n",
        "    grad_output = grad_NLL(output, y)\n",
        "    grad_params = []\n",
        "    for layer in network[::-1]:\n",
        "        grad_output, grad = layer.backward(grad_output)\n",
        "        if len(grad) != 0:\n",
        "            grad_params = np.concatenate((grad, grad_params))\n",
        "    \n",
        "    return loss, grad_params"
      ]
    },
    {
      "cell_type": "markdown",
      "metadata": {
        "id": "1CsA2YKIZ1FG"
      },
      "source": [
        "Теперь мы готовы обучать нашу нейросеть. "
      ]
    },
    {
      "cell_type": "code",
      "source": [
        "np.concatenate((np.array([1, 2, 3]), np.array([1, 2, 3]), []))"
      ],
      "metadata": {
        "colab": {
          "base_uri": "https://localhost:8080/"
        },
        "id": "GwNXvWzIq38V",
        "outputId": "60b0581d-7dcb-4bf8-f133-754fa28bbd0e"
      },
      "execution_count": null,
      "outputs": [
        {
          "output_type": "execute_result",
          "data": {
            "text/plain": [
              "array([1., 2., 3., 1., 2., 3.])"
            ]
          },
          "metadata": {},
          "execution_count": 31
        }
      ]
    },
    {
      "cell_type": "code",
      "execution_count": null,
      "metadata": {
        "ExecuteTime": {
          "end_time": "2021-03-03T14:44:52.175017Z",
          "start_time": "2021-03-03T14:44:52.148090Z"
        },
        "id": "H0glFVWLZ1FH"
      },
      "outputs": [],
      "source": [
        "weights = get_weights(network)"
      ]
    },
    {
      "cell_type": "code",
      "source": [
        "compute_loss_grad(weights, args=[network, X_train, y_train])"
      ],
      "metadata": {
        "colab": {
          "base_uri": "https://localhost:8080/"
        },
        "id": "DbX6hDTGbN1H",
        "outputId": "16b012b5-d957-45a8-a9f5-f9157ec78103"
      },
      "execution_count": null,
      "outputs": [
        {
          "output_type": "execute_result",
          "data": {
            "text/plain": [
              "(2.3025484146968522,\n",
              " array([0.        , 0.        , 0.        , ..., 0.00279293, 0.00649889,\n",
              "        0.00129356]))"
            ]
          },
          "metadata": {},
          "execution_count": 33
        }
      ]
    },
    {
      "cell_type": "code",
      "execution_count": null,
      "metadata": {
        "ExecuteTime": {
          "end_time": "2021-03-03T14:44:53.078366Z",
          "start_time": "2021-03-03T14:44:52.179006Z"
        },
        "id": "5_k8aweYZ1FH"
      },
      "outputs": [],
      "source": [
        "res = minimize(\n",
        "    compute_loss_grad, weights,       # fun and start point\n",
        "    args=[network, X_train, y_train], # args passed to fun\n",
        "    method=\"L-BFGS-B\",                # optimization method\n",
        "    jac=True                          # says that gradient is computed in fun\n",
        ")"
      ]
    },
    {
      "cell_type": "code",
      "execution_count": null,
      "metadata": {
        "ExecuteTime": {
          "end_time": "2021-03-03T14:44:53.093332Z",
          "start_time": "2021-03-03T14:44:53.081402Z"
        },
        "id": "eckMx17jZ1FI",
        "outputId": "6033d295-3f44-411e-d834-8085d9ff7cbd",
        "colab": {
          "base_uri": "https://localhost:8080/"
        }
      },
      "outputs": [
        {
          "output_type": "execute_result",
          "data": {
            "text/plain": [
              "dict_keys(['fun', 'jac', 'nfev', 'nit', 'status', 'message', 'x', 'success', 'hess_inv'])"
            ]
          },
          "metadata": {},
          "execution_count": 35
        }
      ],
      "source": [
        "res.keys()"
      ]
    },
    {
      "cell_type": "code",
      "execution_count": null,
      "metadata": {
        "ExecuteTime": {
          "end_time": "2021-03-03T14:44:53.109290Z",
          "start_time": "2021-03-03T14:44:53.096325Z"
        },
        "scrolled": true,
        "id": "enaAWPlaZ1FJ",
        "colab": {
          "base_uri": "https://localhost:8080/"
        },
        "outputId": "f6efda3a-3476-430c-b0c7-5434cf9fb25d"
      },
      "outputs": [
        {
          "output_type": "execute_result",
          "data": {
            "text/plain": [
              "210"
            ]
          },
          "metadata": {},
          "execution_count": 36
        }
      ],
      "source": [
        "res[\"nit\"] # number of iterations (should be >> 10)"
      ]
    },
    {
      "cell_type": "code",
      "execution_count": null,
      "metadata": {
        "ExecuteTime": {
          "end_time": "2021-03-03T14:44:53.125246Z",
          "start_time": "2021-03-03T14:44:53.112286Z"
        },
        "id": "MO_6ii92Z1FJ",
        "colab": {
          "base_uri": "https://localhost:8080/"
        },
        "outputId": "7e2370cc-d2c5-4e64-9e60-05868cb8b035"
      },
      "outputs": [
        {
          "output_type": "execute_result",
          "data": {
            "text/plain": [
              "True"
            ]
          },
          "metadata": {},
          "execution_count": 37
        }
      ],
      "source": [
        "res[\"success\"] # should be True"
      ]
    },
    {
      "cell_type": "code",
      "execution_count": null,
      "metadata": {
        "ExecuteTime": {
          "end_time": "2021-03-03T14:44:53.140244Z",
          "start_time": "2021-03-03T14:44:53.128239Z"
        },
        "id": "e0G8QRryZ1FK",
        "colab": {
          "base_uri": "https://localhost:8080/"
        },
        "outputId": "0d324774-29e0-4833-e12d-03e50db49105"
      },
      "outputs": [
        {
          "output_type": "execute_result",
          "data": {
            "text/plain": [
              "array([-0.0121769 ,  0.01012005,  0.01072362, ..., -1.14729424,\n",
              "       -2.65677262, -0.61530483])"
            ]
          },
          "metadata": {},
          "execution_count": 38
        }
      ],
      "source": [
        "res[\"x\"] # leraned weights"
      ]
    },
    {
      "cell_type": "markdown",
      "metadata": {
        "id": "pJ6TVH2NZ1FK"
      },
      "source": [
        "Выведите качество на обучении (`X_train`, `y_train`) и на контроле (`X_test`, `y_test`). Не забудьте установить веса!"
      ]
    },
    {
      "cell_type": "code",
      "execution_count": null,
      "metadata": {
        "ExecuteTime": {
          "end_time": "2021-03-03T14:44:53.172124Z",
          "start_time": "2021-03-03T14:44:53.144212Z"
        },
        "id": "ey7cnA1QZ1FL",
        "colab": {
          "base_uri": "https://localhost:8080/"
        },
        "outputId": "6041930e-183d-4d63-fefb-9f46f3d410bf"
      },
      "outputs": [
        {
          "output_type": "stream",
          "name": "stdout",
          "text": [
            "accuracy train: 1.0, accuracy test: 0.9333333333333333\n"
          ]
        }
      ],
      "source": [
        "set_weights(res[\"x\"], network)\n",
        "print(f'accuracy train: {(predict(network, X_train) == y_train).mean()}, accuracy test: {(predict(network, X_test) == y_test).mean()}')"
      ]
    },
    {
      "cell_type": "code",
      "source": [
        "loss_train = NLL(forward(network, X_train), y_train)\n",
        "loss_test = NLL(forward(network, X_test), y_test)\n",
        "print(f'loss train: {loss_train}, loss test: {loss_test}')"
      ],
      "metadata": {
        "colab": {
          "base_uri": "https://localhost:8080/"
        },
        "id": "JvboXDBdscur",
        "outputId": "0a006235-3c82-444b-e70f-f15d7dfdaa1a"
      },
      "execution_count": null,
      "outputs": [
        {
          "output_type": "stream",
          "name": "stdout",
          "text": [
            "loss train: 5.39563838743791e-07, loss test: 1.469859155910605\n"
          ]
        }
      ]
    },
    {
      "cell_type": "markdown",
      "metadata": {
        "id": "xAfy2lxHZ1FL"
      },
      "source": [
        "У `minimize` есть также аргумент `callback` — в нее можно передать функцию, которая будет вызываться после каждой итерации оптимизации. Такую функцию удобно оформить в виде метода класса, который будет сохранять качество на обучении контроле после каждой итерации. Реализуйте этот метод в классе `Callback`:"
      ]
    },
    {
      "cell_type": "code",
      "execution_count": null,
      "metadata": {
        "ExecuteTime": {
          "end_time": "2021-03-03T14:44:53.188082Z",
          "start_time": "2021-03-03T14:44:53.175117Z"
        },
        "id": "x-Nv1gIXZ1FM"
      },
      "outputs": [],
      "source": [
        "class Callback:\n",
        "    def __init__(self, network, X_train, y_train, X_test, y_test, print=False):\n",
        "        self.network = network\n",
        "        self.X_train = X_train\n",
        "        self.X_test = X_test\n",
        "        self.y_train = y_train\n",
        "        self.y_test = y_test\n",
        "        self.print = print\n",
        "        self.train_acc = []\n",
        "        self.test_acc = []\n",
        "        \n",
        "    def call(self, weights):\n",
        "        \"\"\"\n",
        "        Computes quality on train and test set with given weights\n",
        "        and saves to self.train_acc and self.test_acc.\n",
        "        If self.print is True, also prints these 2 values\n",
        "        \"\"\"\n",
        "        train_accuracy = (predict(self.network, self.X_train) == self.y_train).mean()\n",
        "        self.train_acc.append(train_accuracy)\n",
        "        test_accuracy = (predict(self.network, self.X_test) == self.y_test).mean()\n",
        "        self.test_acc.append(test_accuracy)\n",
        "\n",
        "        if self.print:\n",
        "            print(f'accuracy train: {train_accuracy}, accuracy test: {test_accuracy}')"
      ]
    },
    {
      "cell_type": "code",
      "execution_count": null,
      "metadata": {
        "ExecuteTime": {
          "end_time": "2021-03-03T14:44:54.497924Z",
          "start_time": "2021-03-03T14:44:53.191074Z"
        },
        "id": "8PatZqd4Z1FN",
        "colab": {
          "base_uri": "https://localhost:8080/"
        },
        "outputId": "cda6ec24-e3c3-457c-933c-228dfb41816c"
      },
      "outputs": [
        {
          "output_type": "stream",
          "name": "stdout",
          "text": [
            "accuracy train: 0.15293244246473645, accuracy test: 0.11555555555555555\n",
            "accuracy train: 0.10467706013363029, accuracy test: 0.08222222222222222\n",
            "accuracy train: 0.10467706013363029, accuracy test: 0.08222222222222222\n",
            "accuracy train: 0.10467706013363029, accuracy test: 0.08222222222222222\n",
            "accuracy train: 0.10467706013363029, accuracy test: 0.08222222222222222\n",
            "accuracy train: 0.15812917594654788, accuracy test: 0.13777777777777778\n",
            "accuracy train: 0.2412769116555308, accuracy test: 0.2511111111111111\n",
            "accuracy train: 0.28433556050482556, accuracy test: 0.29333333333333333\n",
            "accuracy train: 0.28433556050482556, accuracy test: 0.3\n",
            "accuracy train: 0.46919079435783223, accuracy test: 0.43333333333333335\n",
            "accuracy train: 0.4773570898292502, accuracy test: 0.4266666666666667\n",
            "accuracy train: 0.5300668151447662, accuracy test: 0.48444444444444446\n",
            "accuracy train: 0.6198960653303638, accuracy test: 0.5911111111111111\n",
            "accuracy train: 0.6117297698589458, accuracy test: 0.56\n",
            "accuracy train: 0.6280623608017817, accuracy test: 0.5822222222222222\n",
            "accuracy train: 0.6651818856718634, accuracy test: 0.6355555555555555\n",
            "accuracy train: 0.6792873051224945, accuracy test: 0.6466666666666666\n",
            "accuracy train: 0.7104677060133631, accuracy test: 0.7022222222222222\n",
            "accuracy train: 0.7253155159613957, accuracy test: 0.7\n",
            "accuracy train: 0.74090571640683, accuracy test: 0.7333333333333333\n",
            "accuracy train: 0.7379361544172235, accuracy test: 0.7177777777777777\n",
            "accuracy train: 0.7446176688938382, accuracy test: 0.7222222222222222\n",
            "accuracy train: 0.7483296213808464, accuracy test: 0.7377777777777778\n",
            "accuracy train: 0.7520415738678545, accuracy test: 0.7488888888888889\n",
            "accuracy train: 0.746844840386043, accuracy test: 0.7377777777777778\n",
            "accuracy train: 0.7787676317743133, accuracy test: 0.7533333333333333\n",
            "accuracy train: 0.7809948032665182, accuracy test: 0.7688888888888888\n",
            "accuracy train: 0.7921306607275427, accuracy test: 0.7777777777777778\n",
            "accuracy train: 0.7906458797327395, accuracy test: 0.7844444444444445\n",
            "accuracy train: 0.791388270230141, accuracy test: 0.7822222222222223\n",
            "accuracy train: 0.8017817371937639, accuracy test: 0.7844444444444445\n",
            "accuracy train: 0.8099480326651819, accuracy test: 0.7977777777777778\n",
            "accuracy train: 0.8292501855976243, accuracy test: 0.8066666666666666\n",
            "accuracy train: 0.8329621380846325, accuracy test: 0.8088888888888889\n",
            "accuracy train: 0.8492947290274685, accuracy test: 0.8288888888888889\n",
            "accuracy train: 0.8544914625092799, accuracy test: 0.8533333333333334\n",
            "accuracy train: 0.8619153674832962, accuracy test: 0.86\n",
            "accuracy train: 0.8641425389755011, accuracy test: 0.8666666666666667\n",
            "accuracy train: 0.8700816629547142, accuracy test: 0.8666666666666667\n",
            "accuracy train: 0.8685968819599109, accuracy test: 0.8777777777777778\n",
            "accuracy train: 0.8775055679287305, accuracy test: 0.8644444444444445\n",
            "accuracy train: 0.8730512249443207, accuracy test: 0.8666666666666667\n",
            "accuracy train: 0.8752783964365256, accuracy test: 0.8666666666666667\n",
            "accuracy train: 0.8804751299183371, accuracy test: 0.8666666666666667\n",
            "accuracy train: 0.8901262063845583, accuracy test: 0.8666666666666667\n",
            "accuracy train: 0.89086859688196, accuracy test: 0.8688888888888889\n",
            "accuracy train: 0.9005196733481812, accuracy test: 0.8822222222222222\n",
            "accuracy train: 0.910913140311804, accuracy test: 0.8933333333333333\n",
            "accuracy train: 0.9079435783221975, accuracy test: 0.9\n",
            "accuracy train: 0.9086859688195991, accuracy test: 0.8977777777777778\n",
            "accuracy train: 0.9101707498144024, accuracy test: 0.8977777777777778\n",
            "accuracy train: 0.9146250927988122, accuracy test: 0.8955555555555555\n",
            "accuracy train: 0.9198218262806236, accuracy test: 0.9088888888888889\n",
            "accuracy train: 0.9198218262806236, accuracy test: 0.9133333333333333\n",
            "accuracy train: 0.9168522642910171, accuracy test: 0.9222222222222223\n",
            "accuracy train: 0.9235337787676318, accuracy test: 0.9066666666666666\n",
            "accuracy train: 0.9250185597624351, accuracy test: 0.9133333333333333\n",
            "accuracy train: 0.9294729027468448, accuracy test: 0.9088888888888889\n",
            "accuracy train: 0.9339272457312546, accuracy test: 0.9155555555555556\n",
            "accuracy train: 0.9324424647364514, accuracy test: 0.9177777777777778\n",
            "accuracy train: 0.933184855233853, accuracy test: 0.9088888888888889\n",
            "accuracy train: 0.9368968077208611, accuracy test: 0.9222222222222223\n",
            "accuracy train: 0.9465478841870824, accuracy test: 0.9244444444444444\n",
            "accuracy train: 0.9487750556792873, accuracy test: 0.9244444444444444\n",
            "accuracy train: 0.949517446176689, accuracy test: 0.92\n",
            "accuracy train: 0.9487750556792873, accuracy test: 0.92\n",
            "accuracy train: 0.947290274684484, accuracy test: 0.9177777777777778\n",
            "accuracy train: 0.9487750556792873, accuracy test: 0.9177777777777778\n",
            "accuracy train: 0.9532293986636972, accuracy test: 0.9222222222222223\n",
            "accuracy train: 0.949517446176689, accuracy test: 0.9177777777777778\n",
            "accuracy train: 0.9510022271714922, accuracy test: 0.9222222222222223\n",
            "accuracy train: 0.9532293986636972, accuracy test: 0.92\n",
            "accuracy train: 0.9561989606533037, accuracy test: 0.9266666666666666\n",
            "accuracy train: 0.9561989606533037, accuracy test: 0.9244444444444444\n",
            "accuracy train: 0.9599109131403119, accuracy test: 0.9266666666666666\n",
            "accuracy train: 0.9576837416481069, accuracy test: 0.9288888888888889\n",
            "accuracy train: 0.9569413511507052, accuracy test: 0.9266666666666666\n",
            "accuracy train: 0.9569413511507052, accuracy test: 0.9288888888888889\n",
            "accuracy train: 0.9606533036377134, accuracy test: 0.9311111111111111\n",
            "accuracy train: 0.9651076466221232, accuracy test: 0.9222222222222223\n",
            "accuracy train: 0.96362286562732, accuracy test: 0.9288888888888889\n",
            "accuracy train: 0.9665924276169265, accuracy test: 0.9288888888888889\n",
            "accuracy train: 0.9680772086117297, accuracy test: 0.9288888888888889\n",
            "accuracy train: 0.9710467706013363, accuracy test: 0.9333333333333333\n",
            "accuracy train: 0.9688195991091314, accuracy test: 0.9355555555555556\n",
            "accuracy train: 0.9665924276169265, accuracy test: 0.9355555555555556\n",
            "accuracy train: 0.9688195991091314, accuracy test: 0.9355555555555556\n",
            "accuracy train: 0.9688195991091314, accuracy test: 0.9333333333333333\n",
            "accuracy train: 0.9658500371195249, accuracy test: 0.9333333333333333\n",
            "accuracy train: 0.9725315515961396, accuracy test: 0.94\n",
            "accuracy train: 0.9747587230883444, accuracy test: 0.9355555555555556\n",
            "accuracy train: 0.9784706755753526, accuracy test: 0.9377777777777778\n",
            "accuracy train: 0.977728285077951, accuracy test: 0.9333333333333333\n",
            "accuracy train: 0.977728285077951, accuracy test: 0.9355555555555556\n",
            "accuracy train: 0.9792130660727543, accuracy test: 0.9333333333333333\n",
            "accuracy train: 0.9784706755753526, accuracy test: 0.9377777777777778\n",
            "accuracy train: 0.9769858945805494, accuracy test: 0.94\n",
            "accuracy train: 0.9784706755753526, accuracy test: 0.94\n",
            "accuracy train: 0.9806978470675576, accuracy test: 0.9444444444444444\n",
            "accuracy train: 0.9829250185597624, accuracy test: 0.9377777777777778\n",
            "accuracy train: 0.9814402375649591, accuracy test: 0.9422222222222222\n",
            "accuracy train: 0.9836674090571641, accuracy test: 0.9466666666666667\n",
            "accuracy train: 0.9844097995545658, accuracy test: 0.9466666666666667\n",
            "accuracy train: 0.9851521900519673, accuracy test: 0.9444444444444444\n",
            "accuracy train: 0.985894580549369, accuracy test: 0.94\n",
            "accuracy train: 0.9881217520415738, accuracy test: 0.9444444444444444\n",
            "accuracy train: 0.9851521900519673, accuracy test: 0.9444444444444444\n",
            "accuracy train: 0.9881217520415738, accuracy test: 0.94\n",
            "accuracy train: 0.9873793615441723, accuracy test: 0.94\n",
            "accuracy train: 0.9881217520415738, accuracy test: 0.9422222222222222\n",
            "accuracy train: 0.9903489235337788, accuracy test: 0.9444444444444444\n",
            "accuracy train: 0.9896065330363771, accuracy test: 0.94\n",
            "accuracy train: 0.9903489235337788, accuracy test: 0.9422222222222222\n",
            "accuracy train: 0.9903489235337788, accuracy test: 0.9377777777777778\n",
            "accuracy train: 0.9925760950259837, accuracy test: 0.9377777777777778\n",
            "accuracy train: 0.994060876020787, accuracy test: 0.9355555555555556\n",
            "accuracy train: 0.9925760950259837, accuracy test: 0.9333333333333333\n",
            "accuracy train: 0.9933184855233853, accuracy test: 0.9355555555555556\n",
            "accuracy train: 0.9933184855233853, accuracy test: 0.9355555555555556\n",
            "accuracy train: 0.9925760950259837, accuracy test: 0.9377777777777778\n",
            "accuracy train: 0.9925760950259837, accuracy test: 0.9355555555555556\n",
            "accuracy train: 0.9948032665181886, accuracy test: 0.9377777777777778\n",
            "accuracy train: 0.9955456570155902, accuracy test: 0.9355555555555556\n",
            "accuracy train: 0.9955456570155902, accuracy test: 0.9377777777777778\n",
            "accuracy train: 0.9962880475129918, accuracy test: 0.94\n",
            "accuracy train: 0.9970304380103935, accuracy test: 0.9377777777777778\n",
            "accuracy train: 0.9970304380103935, accuracy test: 0.94\n",
            "accuracy train: 0.9970304380103935, accuracy test: 0.9466666666666667\n",
            "accuracy train: 0.9970304380103935, accuracy test: 0.9466666666666667\n",
            "accuracy train: 0.9970304380103935, accuracy test: 0.9466666666666667\n",
            "accuracy train: 0.9970304380103935, accuracy test: 0.9488888888888889\n",
            "accuracy train: 0.9970304380103935, accuracy test: 0.9511111111111111\n",
            "accuracy train: 0.9970304380103935, accuracy test: 0.9533333333333334\n",
            "accuracy train: 0.9970304380103935, accuracy test: 0.9533333333333334\n",
            "accuracy train: 0.9970304380103935, accuracy test: 0.9533333333333334\n",
            "accuracy train: 0.9977728285077951, accuracy test: 0.9511111111111111\n",
            "accuracy train: 0.9977728285077951, accuracy test: 0.9511111111111111\n",
            "accuracy train: 0.9985152190051967, accuracy test: 0.9533333333333334\n",
            "accuracy train: 0.9985152190051967, accuracy test: 0.9444444444444444\n",
            "accuracy train: 0.9992576095025983, accuracy test: 0.9488888888888889\n",
            "accuracy train: 0.9985152190051967, accuracy test: 0.9488888888888889\n",
            "accuracy train: 0.9985152190051967, accuracy test: 0.9488888888888889\n",
            "accuracy train: 0.9985152190051967, accuracy test: 0.9488888888888889\n",
            "accuracy train: 0.9977728285077951, accuracy test: 0.9466666666666667\n",
            "accuracy train: 0.9992576095025983, accuracy test: 0.9466666666666667\n",
            "accuracy train: 0.9985152190051967, accuracy test: 0.9444444444444444\n",
            "accuracy train: 1.0, accuracy test: 0.9444444444444444\n",
            "accuracy train: 1.0, accuracy test: 0.9444444444444444\n",
            "accuracy train: 1.0, accuracy test: 0.9488888888888889\n",
            "accuracy train: 1.0, accuracy test: 0.9488888888888889\n",
            "accuracy train: 1.0, accuracy test: 0.9488888888888889\n",
            "accuracy train: 1.0, accuracy test: 0.9488888888888889\n",
            "accuracy train: 1.0, accuracy test: 0.9488888888888889\n",
            "accuracy train: 1.0, accuracy test: 0.9466666666666667\n",
            "accuracy train: 1.0, accuracy test: 0.9466666666666667\n",
            "accuracy train: 1.0, accuracy test: 0.9422222222222222\n",
            "accuracy train: 1.0, accuracy test: 0.9377777777777778\n",
            "accuracy train: 1.0, accuracy test: 0.9377777777777778\n",
            "accuracy train: 1.0, accuracy test: 0.9355555555555556\n",
            "accuracy train: 1.0, accuracy test: 0.9333333333333333\n",
            "accuracy train: 1.0, accuracy test: 0.9355555555555556\n",
            "accuracy train: 1.0, accuracy test: 0.9377777777777778\n",
            "accuracy train: 1.0, accuracy test: 0.9377777777777778\n",
            "accuracy train: 1.0, accuracy test: 0.9422222222222222\n",
            "accuracy train: 1.0, accuracy test: 0.94\n",
            "accuracy train: 1.0, accuracy test: 0.9422222222222222\n",
            "accuracy train: 1.0, accuracy test: 0.9377777777777778\n",
            "accuracy train: 1.0, accuracy test: 0.9422222222222222\n",
            "accuracy train: 1.0, accuracy test: 0.9422222222222222\n",
            "accuracy train: 1.0, accuracy test: 0.9422222222222222\n",
            "accuracy train: 1.0, accuracy test: 0.9444444444444444\n",
            "accuracy train: 1.0, accuracy test: 0.9422222222222222\n",
            "accuracy train: 1.0, accuracy test: 0.9422222222222222\n",
            "accuracy train: 1.0, accuracy test: 0.9422222222222222\n",
            "accuracy train: 1.0, accuracy test: 0.9377777777777778\n",
            "accuracy train: 1.0, accuracy test: 0.9311111111111111\n",
            "accuracy train: 1.0, accuracy test: 0.9311111111111111\n",
            "accuracy train: 1.0, accuracy test: 0.9288888888888889\n",
            "accuracy train: 1.0, accuracy test: 0.9311111111111111\n",
            "accuracy train: 1.0, accuracy test: 0.9311111111111111\n",
            "accuracy train: 1.0, accuracy test: 0.9288888888888889\n",
            "accuracy train: 1.0, accuracy test: 0.9288888888888889\n",
            "accuracy train: 1.0, accuracy test: 0.9311111111111111\n",
            "accuracy train: 1.0, accuracy test: 0.9311111111111111\n",
            "accuracy train: 1.0, accuracy test: 0.9311111111111111\n",
            "accuracy train: 1.0, accuracy test: 0.9333333333333333\n",
            "accuracy train: 1.0, accuracy test: 0.9311111111111111\n",
            "accuracy train: 1.0, accuracy test: 0.9311111111111111\n",
            "accuracy train: 1.0, accuracy test: 0.9311111111111111\n",
            "accuracy train: 1.0, accuracy test: 0.9311111111111111\n",
            "accuracy train: 1.0, accuracy test: 0.9333333333333333\n",
            "accuracy train: 1.0, accuracy test: 0.9333333333333333\n",
            "accuracy train: 1.0, accuracy test: 0.9333333333333333\n",
            "accuracy train: 1.0, accuracy test: 0.9355555555555556\n",
            "accuracy train: 1.0, accuracy test: 0.9355555555555556\n",
            "accuracy train: 1.0, accuracy test: 0.9333333333333333\n",
            "accuracy train: 1.0, accuracy test: 0.9333333333333333\n",
            "accuracy train: 1.0, accuracy test: 0.9355555555555556\n",
            "accuracy train: 1.0, accuracy test: 0.9355555555555556\n",
            "accuracy train: 1.0, accuracy test: 0.9355555555555556\n",
            "accuracy train: 1.0, accuracy test: 0.9355555555555556\n",
            "accuracy train: 1.0, accuracy test: 0.9377777777777778\n",
            "accuracy train: 1.0, accuracy test: 0.9355555555555556\n",
            "accuracy train: 1.0, accuracy test: 0.9355555555555556\n",
            "accuracy train: 1.0, accuracy test: 0.9355555555555556\n",
            "accuracy train: 1.0, accuracy test: 0.9333333333333333\n",
            "accuracy train: 1.0, accuracy test: 0.9333333333333333\n",
            "accuracy train: 1.0, accuracy test: 0.9333333333333333\n",
            "accuracy train: 1.0, accuracy test: 0.9333333333333333\n",
            "accuracy train: 1.0, accuracy test: 0.9333333333333333\n"
          ]
        }
      ],
      "source": [
        "cb = Callback(network, X_train, y_train, X_test, y_test, print=True)\n",
        "\n",
        "res = minimize(\n",
        "    compute_loss_grad, weights,  \n",
        "    args=[network, X_train, y_train], \n",
        "    method=\"L-BFGS-B\",\n",
        "    jac=True,\n",
        "    callback=cb.call\n",
        ")"
      ]
    },
    {
      "cell_type": "markdown",
      "metadata": {
        "id": "Sz7sTeHyZ1FR"
      },
      "source": [
        "Изобразите на графике кривую качества на обучени и контроле по итерациям:"
      ]
    },
    {
      "cell_type": "code",
      "execution_count": null,
      "metadata": {
        "ExecuteTime": {
          "end_time": "2021-03-03T14:44:54.816117Z",
          "start_time": "2021-03-03T14:44:54.500922Z"
        },
        "id": "L_rRNxyrZ1FS",
        "colab": {
          "base_uri": "https://localhost:8080/",
          "height": 54
        },
        "outputId": "118351ac-1620-4beb-d723-5fdcb2724005"
      },
      "outputs": [
        {
          "output_type": "display_data",
          "data": {
            "image/png": "[encoded data removed]",
            "text/plain": [
              "<Figure size 720x360 with 1 Axes>"
            ]
          },
          "metadata": {
            "needs_background": "light"
          }
        }
      ],
      "source": [
        "fig, ax = plt.subplots(1, 1, figsize=(10, 5))\n",
        "ax.plot(cb.train_acc, label=\"train acc\")\n",
        "ax.plot(cb.test_acc, label=\"test acc\")\n",
        "ax.set_xlabel(\"Iteration\")\n",
        "ax.set_ylabel(\"Accuracy\")\n",
        "ax.grid(True)\n",
        "ax.legend()\n",
        "\n",
        "fig.tight_layout()\n",
        "plt.show()"
      ]
    },
    {
      "cell_type": "markdown",
      "metadata": {
        "id": "-gXdAJI3Z1FU"
      },
      "source": [
        "## Эксперименты с числом слоев (1 балл)"
      ]
    },
    {
      "cell_type": "markdown",
      "metadata": {
        "id": "HTmVxcU9Z1FV"
      },
      "source": [
        "Ясно, что из-за случайного начального приближения с каждым запуском обучения мы будем получать различное качество. Попробуем обучить нашу нейросеть с разным числом слоев несколько раз.\n",
        "\n",
        "Заполните матрицы `accs_train` и `accs_test`. В позиции `[i, j]` должна стоять величина доли правильных ответов сети с $i+1$ полносвязными слоями при $j$-м запуске (все запуски идентичны)."
      ]
    },
    {
      "cell_type": "code",
      "execution_count": null,
      "metadata": {
        "ExecuteTime": {
          "end_time": "2021-03-03T14:44:54.832074Z",
          "start_time": "2021-03-03T14:44:54.819071Z"
        },
        "id": "qerJzABOZ1FV"
      },
      "outputs": [],
      "source": [
        "accs_train = np.zeros((5, 5))\n",
        "accs_test = np.zeros((5, 5))"
      ]
    },
    {
      "cell_type": "code",
      "execution_count": null,
      "metadata": {
        "ExecuteTime": {
          "end_time": "2021-03-03T14:45:56.444624Z",
          "start_time": "2021-03-03T14:44:54.836024Z"
        },
        "id": "ya9RMcxbZ1FV"
      },
      "outputs": [],
      "source": [
        "input_size = X_train.shape[1]\n",
        "hidden_layers_size = 32\n",
        "output_size = 10\n",
        "\n",
        "for n_layers in range(1, 6):\n",
        "    for n_run in range(5):\n",
        "        network = make_network(input_size, hidden_layers_size, output_size, n_layers, ReLU)\n",
        "        weights = get_weights(network)\n",
        "        cb = Callback(network, X_train, y_train, X_test, y_test, print=False)\n",
        "\n",
        "        res = minimize(\n",
        "            compute_loss_grad, weights,  \n",
        "            args=[network, X_train, y_train], \n",
        "            method=\"L-BFGS-B\",\n",
        "            jac=True,\n",
        "            callback=cb.call\n",
        "        )\n",
        "\n",
        "        accs_train[n_layers - 1, n_run] = cb.train_acc[-1]\n",
        "        accs_test[n_layers - 1, n_run] = cb.test_acc[-1]\n"
      ]
    },
    {
      "cell_type": "markdown",
      "metadata": {
        "id": "DcKXM-fYZ1FW"
      },
      "source": [
        "Построим боксплоты полученного качества (горизонтальная линия в каждом столбце — среднее, прямоугольник показывает разброс)."
      ]
    },
    {
      "cell_type": "code",
      "execution_count": null,
      "metadata": {
        "ExecuteTime": {
          "end_time": "2021-03-03T14:45:57.060827Z",
          "start_time": "2021-03-03T14:45:56.447467Z"
        },
        "id": "sQiG5oK6Z1FW",
        "colab": {
          "base_uri": "https://localhost:8080/",
          "height": 54
        },
        "outputId": "a375f673-995b-4b4a-aa77-8414539bded0"
      },
      "outputs": [
        {
          "output_type": "display_data",
          "data": {
            "image/png": "[encoded data removed]",
            "text/plain": [
              "<Figure size 720x576 with 2 Axes>"
            ]
          },
          "metadata": {
            "needs_background": "light"
          }
        }
      ],
      "source": [
        "fig, axes = plt.subplots(2, 1, figsize=(10, 8))\n",
        "\n",
        "axes[0].boxplot(accs_train.T, showfliers=False)\n",
        "axes[1].boxplot(accs_test.T, showfliers=False)\n",
        "\n",
        "axes[0].set_xlabel(\"Number of layers\")\n",
        "axes[1].set_xlabel(\"Number of layers\")\n",
        "\n",
        "axes[0].set_ylabel(\"Train accuracy\")\n",
        "axes[1].set_ylabel(\"Test accuracy\")\n",
        "\n",
        "axes[0].set_title(\"Train quality in 5 runs\")\n",
        "axes[1].set_title(\"Test quality in 5 runs\")\n",
        "\n",
        "axes[0].grid(True)\n",
        "axes[1].grid(True)\n",
        "\n",
        "fig.tight_layout()\n",
        "plt.show()"
      ]
    },
    {
      "cell_type": "markdown",
      "metadata": {
        "id": "aO0X93GbZ1FX"
      },
      "source": [
        "Дайте развёрнутый ответ на вопросы (в этой же ячейке):\n",
        "* Как изменяются качество на обучении и контроле и устойчивость процесса обучения при увеличении числа слоев?\n",
        "* Можно ли сказать, что логистическая регрессия (линейная модель) дает качество хуже, чем нелинейная модель?\n",
        "\n",
        "__Ответы:__\n",
        "\n",
        "* Чем больше у нас всего параметров (то есть чем больше слоев), тем сильнее результат зависит от начального приближения. Поэтому разброс увеличивается с количеством слоев. Среднее качесвто сначала растет, потом уменьшается, потому что сначала модели не хватает гипкости, но если взять слишком много слоев, она может начать переобучаться\n",
        "\n",
        "* Можно, потому что нелинейная модель может очень хорошо приближать линейную, а линейная нелинейную не может"
      ]
    },
    {
      "cell_type": "markdown",
      "metadata": {
        "id": "sjNtjU6DZ1FX"
      },
      "source": [
        "## Эксперименты c различными инициализациями весов (1 балл)"
      ]
    },
    {
      "cell_type": "markdown",
      "metadata": {
        "id": "U5BN2ItpZ1FX"
      },
      "source": [
        "Как уже было сказано, начальная инициализация весов нейронной сети может сильно влиять на процесс ее обучения и, как следствие, на ее качество.\n",
        "\n",
        "В этом пункте вам предлагается попробовать обучить несколько нейронных сетей с различными инициализациями слоев.\n",
        "\n",
        "Для этого необходимо реализовать функцию, инициализирующую веса линейных слоёв нашей нейронной сети. Добавьте в функционал данного метода возможность инициализировать его веса с помощью инициализации Kaiming (используется, если в нейронной сети в качестве функций активации используется ReLU) и инициализации Xavier (используется, если в нейронной сети в качестве функций активации используется Tanh или Sigmoid):"
      ]
    },
    {
      "cell_type": "code",
      "execution_count": null,
      "metadata": {
        "ExecuteTime": {
          "end_time": "2021-03-03T14:45:57.075786Z",
          "start_time": "2021-03-03T14:45:57.063819Z"
        },
        "code_folding": [],
        "id": "0498kNFuZ1FX"
      },
      "outputs": [],
      "source": [
        "def initialize_network(network, initialization):\n",
        "    for layer in network:\n",
        "        if isinstance(layer, Dense):\n",
        "            input_units, output_units = layer.weights.shape\n",
        "            if initialization == 'Kaiming':\n",
        "                ### your code here\n",
        "                layer.weights = np.random.normal(0, (2 / input_units), size=(input_units, output_units))\n",
        "            elif initialization == 'Xavier':\n",
        "                ### your code here\n",
        "                layer.weights = np.random.normal(0, (2 / (input_units + output_units)), size=(input_units, output_units))\n",
        "            else:\n",
        "                # Initialize weights with small random numbers from normal distribution.\n",
        "                # In this case `initialization` represents a standard deviation\n",
        "                # for normal distribution.\n",
        "                layer.weights = np.random.randn(input_units, output_units) * initialization\n",
        "            layer.biases = np.zeros_like(layer.biases)\n",
        "            \n",
        "            layer.params = [layer.weights, layer.biases]"
      ]
    },
    {
      "cell_type": "markdown",
      "metadata": {
        "id": "h2oM3cV0Z1FX"
      },
      "source": [
        "Теперь попробуйте для каждой из 3 инициализаций обучить нейронную сеть несколько раз. Попробуйте проделать данную операцию при зафиксированном числе слоев равным 3, 4 и 5."
      ]
    },
    {
      "cell_type": "markdown",
      "metadata": {
        "id": "DaSwHnpOZ1FY"
      },
      "source": [
        "### 3 слоя\n",
        "\n",
        "Зафиксируйте в сети число слоев равное трем."
      ]
    },
    {
      "cell_type": "markdown",
      "metadata": {
        "id": "czi1hiP3Z1FY"
      },
      "source": [
        "Заполните матрицы `accs_train` и `accs_test`. В позиции `[i, j]` должна стоять величина доли правильных ответов сети при $j$-м запуске (все запуски идентичны) с инициализацией Kaiming при $i = 3$, с инициализацией Xavier при $i = 4$ и с инициализацией из нормального распределения с фиксированными параметрами при $0 \\leqslant i \\leqslant 2$ (попробуйте здесь 3 разных параметра для стандартного отклонения для нормального распределения, например: `1e-3`, `1e-2`, `1e-1`). Заметьте, что при большом числе слоев слишком низкое стандартное отклонение может не давать нейронной сети нормально обучиться."
      ]
    },
    {
      "cell_type": "code",
      "execution_count": null,
      "metadata": {
        "ExecuteTime": {
          "end_time": "2021-03-03T14:45:57.091744Z",
          "start_time": "2021-03-03T14:45:57.079777Z"
        },
        "id": "iAMqgXuuZ1FY"
      },
      "outputs": [],
      "source": [
        "init_vars = [1e-3, 1e-2, 1e-1, 'Kaiming', 'Xavier']"
      ]
    },
    {
      "cell_type": "code",
      "execution_count": null,
      "metadata": {
        "ExecuteTime": {
          "end_time": "2021-03-03T14:45:57.107701Z",
          "start_time": "2021-03-03T14:45:57.094737Z"
        },
        "id": "FV5KiYDzZ1FZ"
      },
      "outputs": [],
      "source": [
        "accs_train = np.zeros((5, 5))\n",
        "accs_test = np.zeros((5, 5))"
      ]
    },
    {
      "cell_type": "code",
      "execution_count": null,
      "metadata": {
        "ExecuteTime": {
          "end_time": "2021-03-03T14:46:27.904407Z",
          "start_time": "2021-03-03T14:45:57.111690Z"
        },
        "id": "m2hwLKAdZ1FZ",
        "colab": {
          "base_uri": "https://localhost:8080/"
        },
        "outputId": "a6471675-a372-4f35-fb26-7c8afa966654"
      },
      "outputs": [
        {
          "output_type": "stream",
          "name": "stderr",
          "text": [
            "5it [01:16, 15.27s/it]\n"
          ]
        }
      ],
      "source": [
        "from tqdm import tqdm\n",
        "\n",
        "input_size = X_train.shape[1]\n",
        "hidden_layers_size = 32\n",
        "output_size = 10\n",
        "network = make_network(input_size, hidden_layers_size, output_size, 3, ReLU)\n",
        "\n",
        "for i, init in tqdm(enumerate(init_vars)):\n",
        "    for n_run in range(5):\n",
        "        initialize_network(network, init)\n",
        "        cb = Callback(network, X_train, y_train, X_test, y_test, print=False)\n",
        "        weights = get_weights(network)\n",
        "\n",
        "        res = minimize(\n",
        "            compute_loss_grad, weights,  \n",
        "            args=[network, X_train, y_train], \n",
        "            method=\"L-BFGS-B\",\n",
        "            jac=True,\n",
        "            callback=cb.call\n",
        "        )\n",
        "\n",
        "        accs_train[i, n_run] = cb.train_acc[-1]\n",
        "        accs_test[i, n_run] = cb.test_acc[-1]\n"
      ]
    },
    {
      "cell_type": "markdown",
      "metadata": {
        "id": "SVizyj8GZ1Fa"
      },
      "source": [
        "Построим боксплоты полученного качества (горизонтальная линия в каждом столбце — среднее, прямоугольник показывает разброс)."
      ]
    },
    {
      "cell_type": "code",
      "execution_count": null,
      "metadata": {
        "ExecuteTime": {
          "end_time": "2021-03-03T14:46:28.632502Z",
          "start_time": "2021-03-03T14:46:27.907401Z"
        },
        "scrolled": false,
        "id": "Nke-VJz4Z1Fa",
        "colab": {
          "base_uri": "https://localhost:8080/",
          "height": 369
        },
        "outputId": "acc29d03-bebc-4c92-ecf2-f685306d91e3"
      },
      "outputs": [
        {
          "output_type": "display_data",
          "data": {
            "image/png": "[encoded data removed]",
            "text/plain": [
              "<Figure size 720x360 with 1 Axes>"
            ]
          },
          "metadata": {
            "needs_background": "light"
          }
        }
      ],
      "source": [
        "init_vars_for_plot = [(x if isinstance(x, str) else fr\"$\\sigma = {x}$\") for x in init_vars]\n",
        "\n",
        "fig, ax = plt.subplots(1, 1, figsize=(10, 5))\n",
        "\n",
        "ax.boxplot(accs_test.T, labels=init_vars_for_plot, showfliers=False)\n",
        "\n",
        "ax.set_title(\"Test quality in 5 runs\")\n",
        "ax.set_xlabel(\"Initialization\")\n",
        "ax.set_ylabel(\"Test accuracy\")\n",
        "ax.grid(True)\n",
        "\n",
        "fig.tight_layout()\n",
        "plt.show()"
      ]
    },
    {
      "cell_type": "code",
      "source": [
        "init_vars_for_plot = [(x if isinstance(x, str) else fr\"$\\sigma = {x}$\") for x in init_vars]\n",
        "\n",
        "fig, ax = plt.subplots(1, 1, figsize=(10, 5))\n",
        "\n",
        "ax.boxplot(accs_train.T, labels=init_vars_for_plot, showfliers=False)\n",
        "\n",
        "ax.set_title(\"Train quality in 5 runs\")\n",
        "ax.set_xlabel(\"Initialization\")\n",
        "ax.set_ylabel(\"Train accuracy\")\n",
        "ax.grid(True)\n",
        "\n",
        "fig.tight_layout()\n",
        "plt.show()"
      ],
      "metadata": {
        "colab": {
          "base_uri": "https://localhost:8080/",
          "height": 369
        },
        "id": "ct6gwOMUBBY3",
        "outputId": "68986969-1904-49f5-c3af-a591afe42073"
      },
      "execution_count": null,
      "outputs": [
        {
          "output_type": "display_data",
          "data": {
            "image/png": "[encoded data removed]",
            "text/plain": [
              "<Figure size 720x360 with 1 Axes>"
            ]
          },
          "metadata": {
            "needs_background": "light"
          }
        }
      ]
    },
    {
      "cell_type": "markdown",
      "metadata": {
        "id": "3sBlixz3Z1Fb"
      },
      "source": [
        "### 4 слоя\n",
        "\n",
        "Выполните тут тот же код, что и в предыдущем пункте, но только уже с 4 слоями в сети."
      ]
    },
    {
      "cell_type": "code",
      "execution_count": null,
      "metadata": {
        "ExecuteTime": {
          "end_time": "2021-03-03T14:45:57.091744Z",
          "start_time": "2021-03-03T14:45:57.079777Z"
        },
        "id": "JQb_YKrZZ1Fc"
      },
      "outputs": [],
      "source": [
        "init_vars = [5e-3, 1e-2, 1e-1, 'Kaiming', 'Xavier']"
      ]
    },
    {
      "cell_type": "code",
      "execution_count": null,
      "metadata": {
        "ExecuteTime": {
          "end_time": "2021-03-03T14:45:57.107701Z",
          "start_time": "2021-03-03T14:45:57.094737Z"
        },
        "id": "TvzeXaFZZ1Fc"
      },
      "outputs": [],
      "source": [
        "accs_train = np.zeros((5, 5))\n",
        "accs_test = np.zeros((5, 5))"
      ]
    },
    {
      "cell_type": "code",
      "execution_count": null,
      "metadata": {
        "ExecuteTime": {
          "end_time": "2021-03-03T14:46:27.904407Z",
          "start_time": "2021-03-03T14:45:57.111690Z"
        },
        "id": "QYY4dBm4Z1Fd",
        "colab": {
          "base_uri": "https://localhost:8080/"
        },
        "outputId": "e5fe4cc9-a9fe-475a-8466-5676d79036b4"
      },
      "outputs": [
        {
          "output_type": "stream",
          "name": "stderr",
          "text": [
            "5it [01:55, 23.06s/it]\n"
          ]
        }
      ],
      "source": [
        "input_size = X_train.shape[1]\n",
        "hidden_layers_size = 32\n",
        "output_size = 10\n",
        "network = make_network(input_size, hidden_layers_size, output_size, 4, ReLU)\n",
        "\n",
        "for i, init in tqdm(enumerate(init_vars)):\n",
        "    for n_run in range(5):\n",
        "        initialize_network(network, init)\n",
        "        cb = Callback(network, X_train, y_train, X_test, y_test, print=False)\n",
        "        weights = get_weights(network)\n",
        "        \n",
        "        res = minimize(\n",
        "            compute_loss_grad, weights,  \n",
        "            args=[network, X_train, y_train], \n",
        "            method=\"L-BFGS-B\",\n",
        "            jac=True,\n",
        "            callback=cb.call\n",
        "        )\n",
        "\n",
        "        accs_train[i, n_run] = cb.train_acc[-1]\n",
        "        accs_test[i, n_run] = cb.test_acc[-1]\n"
      ]
    },
    {
      "cell_type": "markdown",
      "metadata": {
        "id": "I3MrZG2HZ1Fh"
      },
      "source": [
        "Построим боксплоты полученного качества (горизонтальная линия в каждом столбце — среднее, прямоугольник показывает разброс)."
      ]
    },
    {
      "cell_type": "code",
      "execution_count": null,
      "metadata": {
        "ExecuteTime": {
          "end_time": "2021-03-03T14:46:28.632502Z",
          "start_time": "2021-03-03T14:46:27.907401Z"
        },
        "scrolled": false,
        "id": "2C5Sc5yBZ1Fk",
        "colab": {
          "base_uri": "https://localhost:8080/",
          "height": 369
        },
        "outputId": "a08ca7ae-1a34-49b4-950e-c9069af85202"
      },
      "outputs": [
        {
          "output_type": "display_data",
          "data": {
            "image/png": "[encoded data removed]",
            "text/plain": [
              "<Figure size 720x360 with 1 Axes>"
            ]
          },
          "metadata": {
            "needs_background": "light"
          }
        }
      ],
      "source": [
        "init_vars_for_plot = [(x if isinstance(x, str) else fr\"$\\sigma = {x}$\") for x in init_vars]\n",
        "\n",
        "fig, ax = plt.subplots(1, 1, figsize=(10, 5))\n",
        "\n",
        "ax.boxplot(accs_test.T, labels=init_vars_for_plot, showfliers=False)\n",
        "\n",
        "ax.set_title(\"Test quality in 5 runs\")\n",
        "ax.set_xlabel(\"Initialization\")\n",
        "ax.set_ylabel(\"Train accuracy\")\n",
        "ax.grid(True)\n",
        "\n",
        "fig.tight_layout()\n",
        "plt.show()"
      ]
    },
    {
      "cell_type": "code",
      "source": [
        "init_vars_for_plot = [(x if isinstance(x, str) else fr\"$\\sigma = {x}$\") for x in init_vars]\n",
        "\n",
        "fig, ax = plt.subplots(1, 1, figsize=(10, 5))\n",
        "\n",
        "ax.boxplot(accs_train.T, labels=init_vars_for_plot, showfliers=False)\n",
        "\n",
        "ax.set_title(\"Train quality in 5 runs\")\n",
        "ax.set_xlabel(\"Initialization\")\n",
        "ax.set_ylabel(\"Test accuracy\")\n",
        "ax.grid(True)\n",
        "\n",
        "fig.tight_layout()\n",
        "plt.show()"
      ],
      "metadata": {
        "colab": {
          "base_uri": "https://localhost:8080/",
          "height": 369
        },
        "id": "Odx28gHNBPtZ",
        "outputId": "d3d1eaea-a621-4bbf-c133-f9ea0e076966"
      },
      "execution_count": null,
      "outputs": [
        {
          "output_type": "display_data",
          "data": {
            "image/png": "[encoded data removed]",
            "text/plain": [
              "<Figure size 720x360 with 1 Axes>"
            ]
          },
          "metadata": {
            "needs_background": "light"
          }
        }
      ]
    },
    {
      "cell_type": "markdown",
      "metadata": {
        "id": "TS6AG95vZ1Fm"
      },
      "source": [
        "### 5 слоев\n",
        "\n",
        "Выполните тут тот же код, что и в предыдущем пункте, но только уже с 5 слоями в сети."
      ]
    },
    {
      "cell_type": "code",
      "execution_count": null,
      "metadata": {
        "ExecuteTime": {
          "end_time": "2021-03-03T14:45:57.091744Z",
          "start_time": "2021-03-03T14:45:57.079777Z"
        },
        "id": "e9F2ubBVZ1Fm"
      },
      "outputs": [],
      "source": [
        "init_vars = [1e-2, 1e-1, 1e0, 'Kaiming', 'Xavier']"
      ]
    },
    {
      "cell_type": "code",
      "execution_count": null,
      "metadata": {
        "ExecuteTime": {
          "end_time": "2021-03-03T14:45:57.107701Z",
          "start_time": "2021-03-03T14:45:57.094737Z"
        },
        "id": "OBkC3h9_Z1Fn"
      },
      "outputs": [],
      "source": [
        "accs_train = np.zeros((5, 5))\n",
        "accs_test = np.zeros((5, 5))"
      ]
    },
    {
      "cell_type": "code",
      "execution_count": null,
      "metadata": {
        "ExecuteTime": {
          "end_time": "2021-03-03T14:46:27.904407Z",
          "start_time": "2021-03-03T14:45:57.111690Z"
        },
        "id": "tnl9qBjqZ1Fn",
        "colab": {
          "base_uri": "https://localhost:8080/"
        },
        "outputId": "61d25651-62e7-497d-ce5c-0034781cf22e"
      },
      "outputs": [
        {
          "output_type": "stream",
          "name": "stderr",
          "text": [
            "5it [05:53, 70.70s/it]\n"
          ]
        }
      ],
      "source": [
        "input_size = X_train.shape[1]\n",
        "hidden_layers_size = 32\n",
        "output_size = 10\n",
        "network = make_network(input_size, hidden_layers_size, output_size, 5, ReLU)\n",
        "\n",
        "for i, init in tqdm(enumerate(init_vars)):\n",
        "    for n_run in range(5):\n",
        "        initialize_network(network, init)\n",
        "        cb = Callback(network, X_train, y_train, X_test, y_test, print=False)\n",
        "        weights = get_weights(network)\n",
        "        \n",
        "        res = minimize(\n",
        "            compute_loss_grad, weights,  \n",
        "            args=[network, X_train, y_train], \n",
        "            method=\"L-BFGS-B\",\n",
        "            jac=True,\n",
        "            callback=cb.call\n",
        "        )\n",
        "\n",
        "        accs_train[i, n_run] = cb.train_acc[-1]\n",
        "        accs_test[i, n_run] = cb.test_acc[-1]\n"
      ]
    },
    {
      "cell_type": "markdown",
      "metadata": {
        "id": "IKlYBDcoZ1Fo"
      },
      "source": [
        "Построим боксплоты полученного качества (горизонтальная линия в каждом столбце — среднее, прямоугольник показывает разброс)."
      ]
    },
    {
      "cell_type": "code",
      "execution_count": null,
      "metadata": {
        "ExecuteTime": {
          "end_time": "2021-03-03T14:46:28.632502Z",
          "start_time": "2021-03-03T14:46:27.907401Z"
        },
        "scrolled": false,
        "id": "Ip7uJXvLZ1Fo",
        "colab": {
          "base_uri": "https://localhost:8080/",
          "height": 369
        },
        "outputId": "88f9aec8-bf95-49d8-85fc-8d76dfb63283"
      },
      "outputs": [
        {
          "output_type": "display_data",
          "data": {
            "image/png": "[encoded data removed]",
            "text/plain": [
              "<Figure size 720x360 with 1 Axes>"
            ]
          },
          "metadata": {
            "needs_background": "light"
          }
        }
      ],
      "source": [
        "init_vars_for_plot = [(x if isinstance(x, str) else fr\"$\\sigma = {x}$\") for x in init_vars]\n",
        "\n",
        "fig, ax = plt.subplots(1, 1, figsize=(10, 5))\n",
        "\n",
        "ax.boxplot(accs_test.T, labels=init_vars_for_plot, showfliers=False)\n",
        "\n",
        "ax.set_title(\"Test quality in 5 runs\")\n",
        "ax.set_xlabel(\"Initialization\")\n",
        "ax.set_ylabel(\"Test accuracy\")\n",
        "ax.grid(True)\n",
        "\n",
        "fig.tight_layout()\n",
        "plt.show()"
      ]
    },
    {
      "cell_type": "code",
      "source": [
        "init_vars_for_plot = [(x if isinstance(x, str) else fr\"$\\sigma = {x}$\") for x in init_vars]\n",
        "\n",
        "fig, ax = plt.subplots(1, 1, figsize=(10, 5))\n",
        "\n",
        "ax.boxplot(accs_train.T, labels=init_vars_for_plot, showfliers=False)\n",
        "\n",
        "ax.set_title(\"Train quality in 5 runs\")\n",
        "ax.set_xlabel(\"Initialization\")\n",
        "ax.set_ylabel(\"Train accuracy\")\n",
        "ax.grid(True)\n",
        "\n",
        "fig.tight_layout()\n",
        "plt.show()"
      ],
      "metadata": {
        "colab": {
          "base_uri": "https://localhost:8080/",
          "height": 369
        },
        "id": "0o_2bdDvBS7m",
        "outputId": "61a9733d-2ec2-4404-e3af-130d7465dff5"
      },
      "execution_count": null,
      "outputs": [
        {
          "output_type": "display_data",
          "data": {
            "image/png": "[encoded data removed]",
            "text/plain": [
              "<Figure size 720x360 with 1 Axes>"
            ]
          },
          "metadata": {
            "needs_background": "light"
          }
        }
      ]
    },
    {
      "cell_type": "markdown",
      "metadata": {
        "id": "eyHXcrPuZ1Fo"
      },
      "source": [
        "Дайте развёрнутый ответ на вопросы (в этой же ячейке):\n",
        "* Как отличаются качество на обучении и контроле и устойчивость процесса обучения при различных инициализациях?\n",
        "* Какие инициализации помогают обучать более глубокие сети?\n",
        "\n",
        "__Ответы:__\n",
        "\n",
        "\n",
        "Kaiming лучше всего работает для всех случаев (она и была создана как раз для relu). Если инициализировать почти нулевыми весами (с маленькой дисперсией), то у нас могут получиться близкие по значению веса, и тогда нейросеть превращается в вырожденную с как будто одним скрытым нейроном, поэтому обучается хуже остальных. Если инициализировать весами с большой дисперсией для 5 слоев, то точность будет тоже с большой дисперсией, из-за того что оптимизация попадает в локальные разные минимумы, скорее всего, из-за которых качество становится совсем низким."
      ]
    },
    {
      "cell_type": "markdown",
      "metadata": {
        "id": "yjuxQBsrZ1Fp"
      },
      "source": [
        "Теперь сравним скорость обучения при различных инициализациях. Создайте два списка списков `accs_test_on_iterations`, `accs_train_on_iterations` в каждом из которых в позиции `[i]` (см. описание `i` в предыдущем пункте) будет лежать список из значений `accuracy` на тестовой и обучающей выборках соотвественно, полученных во время обучения модели. Количество слоев в сети зафиксируйте равным 4."
      ]
    },
    {
      "cell_type": "code",
      "execution_count": null,
      "metadata": {
        "ExecuteTime": {
          "end_time": "2021-03-03T14:45:57.091744Z",
          "start_time": "2021-03-03T14:45:57.079777Z"
        },
        "id": "yAQlsRJYZ1Fp"
      },
      "outputs": [],
      "source": [
        "init_vars = [1e-3, 1e-2, 1e-1, 'Kaiming', 'Xavier']"
      ]
    },
    {
      "cell_type": "code",
      "execution_count": null,
      "metadata": {
        "ExecuteTime": {
          "end_time": "2021-03-03T14:46:28.647453Z",
          "start_time": "2021-03-03T14:46:28.635495Z"
        },
        "id": "LVLpyQulZ1Fp"
      },
      "outputs": [],
      "source": [
        "accs_test_on_iterations = []\n",
        "accs_train_on_iterations = []"
      ]
    },
    {
      "cell_type": "code",
      "execution_count": null,
      "metadata": {
        "ExecuteTime": {
          "end_time": "2021-03-03T14:46:34.433662Z",
          "start_time": "2021-03-03T14:46:28.650417Z"
        },
        "id": "irzCCcxmZ1Fq",
        "colab": {
          "base_uri": "https://localhost:8080/"
        },
        "outputId": "176bf5bc-d836-4a1c-b131-3c5906c68e0b"
      },
      "outputs": [
        {
          "output_type": "stream",
          "name": "stderr",
          "text": [
            "5it [00:16,  3.39s/it]\n"
          ]
        }
      ],
      "source": [
        "input_size = X_train.shape[1]\n",
        "hidden_layers_size = 32\n",
        "output_size = 10\n",
        "network = make_network(input_size, hidden_layers_size, output_size, 4, ReLU)\n",
        "\n",
        "for i, init in tqdm(enumerate(init_vars)):\n",
        "    initialize_network(network, init)\n",
        "    cb = Callback(network, X_train, y_train, X_test, y_test, print=False)\n",
        "    weights = get_weights(network)\n",
        "    \n",
        "    res = minimize(\n",
        "        compute_loss_grad, weights,  \n",
        "        args=[network, X_train, y_train], \n",
        "        method=\"L-BFGS-B\",\n",
        "        jac=True,\n",
        "        callback=cb.call\n",
        "    )\n",
        "\n",
        "    accs_test_on_iterations.append(cb.test_acc)\n",
        "    accs_train_on_iterations.append(cb.train_acc)\n"
      ]
    },
    {
      "cell_type": "code",
      "execution_count": null,
      "metadata": {
        "ExecuteTime": {
          "end_time": "2021-03-03T14:46:34.875348Z",
          "start_time": "2021-03-03T14:46:34.436663Z"
        },
        "id": "NNwZRfaSZ1Fq",
        "colab": {
          "base_uri": "https://localhost:8080/",
          "height": 369
        },
        "outputId": "97f75b75-71c5-4606-e774-69d12003b8c7"
      },
      "outputs": [
        {
          "output_type": "display_data",
          "data": {
            "image/png": "[encoded data removed]",
            "text/plain": [
              "<Figure size 720x360 with 1 Axes>"
            ]
          },
          "metadata": {
            "needs_background": "light"
          }
        }
      ],
      "source": [
        "fig, ax = plt.subplots(1, 1, figsize=(10, 5))\n",
        "\n",
        "for idx, label in enumerate(init_vars_for_plot):\n",
        "    ax.plot(accs_test_on_iterations[idx], label=label)\n",
        "\n",
        "ax.set_title(\"Test quality for different initializations\")\n",
        "ax.set_xlabel(\"Epoch number\")\n",
        "ax.set_ylabel(\"Test accuracy\")\n",
        "ax.grid(True)\n",
        "ax.legend()\n",
        "\n",
        "fig.tight_layout()\n",
        "plt.show()"
      ]
    },
    {
      "cell_type": "code",
      "source": [
        "fig, ax = plt.subplots(1, 1, figsize=(10, 5))\n",
        "\n",
        "for idx, label in enumerate(init_vars_for_plot):\n",
        "    ax.plot(accs_train_on_iterations[idx], label=label)\n",
        "\n",
        "ax.set_title(\"Train quality for different initializations\")\n",
        "ax.set_xlabel(\"Epoch number\")\n",
        "ax.set_ylabel(\"Train accuracy\")\n",
        "ax.grid(True)\n",
        "ax.legend()\n",
        "\n",
        "fig.tight_layout()\n",
        "plt.show()"
      ],
      "metadata": {
        "colab": {
          "base_uri": "https://localhost:8080/",
          "height": 369
        },
        "id": "9JVZGZzxF_cs",
        "outputId": "bf7ebe09-bb2d-4656-93d5-43b2e04ac645"
      },
      "execution_count": null,
      "outputs": [
        {
          "output_type": "display_data",
          "data": {
            "image/png": "[encoded data removed]",
            "text/plain": [
              "<Figure size 720x360 with 1 Axes>"
            ]
          },
          "metadata": {
            "needs_background": "light"
          }
        }
      ]
    },
    {
      "cell_type": "markdown",
      "metadata": {
        "ExecuteTime": {
          "end_time": "2021-03-03T14:37:15.087902Z",
          "start_time": "2021-03-03T14:37:15.065996Z"
        },
        "id": "3utP8XSFZ1Fr"
      },
      "source": [
        "Дайте развёрнутый ответ на вопросы (в этой же ячейке):\n",
        "* Как меняется скорость обучения в зависимости от выбранной инициализации?\n",
        "\n",
        "__Ответы:__\n",
        "\n",
        "На плато быстрее всего выходит с $σ=1.0$, второй по скорости инициализация Kaiming, и в предыдущих экспериментах было видно, что она показывает еще и почти лучший результат по качеству"
      ]
    },
    {
      "cell_type": "markdown",
      "metadata": {
        "id": "1B-dqgZCZ1Fr"
      },
      "source": [
        "## Эксперименты c различными функциями активации (1 балл)"
      ]
    },
    {
      "cell_type": "markdown",
      "metadata": {
        "id": "v3E90eDzZ1Fs"
      },
      "source": [
        "Проверим теперь, с какой функцией активации нейронная сеть будет обучаться лучше.\n",
        "\n",
        "В этом пункте вам предлагается попробовать обучить несколько нейронных сетей с различными функциями активации.\n",
        "\n",
        "Для этого нам нужно реализовать еще 2 слоя: для функций активации `Tanh` и `Sigmoid`."
      ]
    },
    {
      "cell_type": "code",
      "execution_count": null,
      "metadata": {
        "ExecuteTime": {
          "end_time": "2021-03-03T14:46:34.891308Z",
          "start_time": "2021-03-03T14:46:34.878379Z"
        },
        "id": "U2GoJ-8AZ1Fs"
      },
      "outputs": [],
      "source": [
        "class Tanh:\n",
        "    \"\"\"\n",
        "    tanh(y) = (e^y - e^(-y)) / (e^y + e^(-y))\n",
        "    Используйте функцию np.tanh для подсчета гиперболического тангенса.\n",
        "    Вы можете сами реализовать подсчет tanh, но тогда вам нужно устойчиво его вычислять.\n",
        "    \"\"\"\n",
        "    def __init__(self):\n",
        "        self.params = [] # Tanh has no parameters\n",
        "\n",
        "    def forward(self, input):\n",
        "        \"\"\"\n",
        "        Apply elementwise Tanh to [batch, num_units] matrix\n",
        "        \"\"\"\n",
        "        ### your code here\n",
        "        self.tanh = np.tanh(input)\n",
        "        return self.tanh\n",
        "\n",
        "    def backward(self, grad_output):\n",
        "        \"\"\"\n",
        "        Compute gradient of loss w.r.t. Tanh input\n",
        "        grad_output shape: [batch, num_units]\n",
        "        output 1 shape: [batch, num_units]\n",
        "        output 2: []\n",
        "        \"\"\"\n",
        "        ### your code here\n",
        "        return grad_output * (1 - self.tanh ** 2), []\n",
        "\n",
        "\n",
        "    def __repr__(self):\n",
        "        return 'Tanh()'"
      ]
    },
    {
      "cell_type": "code",
      "source": [
        "tanh = Tanh()\n",
        "points = np.linspace(-1, 1, 10*12).reshape([10, 12])\n",
        "\n",
        "def f(x):\n",
        "    return np.sum(tanh.forward(x))\n",
        "\n",
        "\n",
        "numeric_grads = eval_numerical_gradient(f, points)\n",
        "tanh.forward(points)\n",
        "grads = tanh.backward(np.ones(points.shape))[0]\n",
        "\n",
        "assert np.allclose(grads, numeric_grads, rtol=1e-3, atol=0)"
      ],
      "metadata": {
        "id": "zkDLZbQoYg1C"
      },
      "execution_count": null,
      "outputs": []
    },
    {
      "cell_type": "code",
      "execution_count": null,
      "metadata": {
        "ExecuteTime": {
          "end_time": "2021-03-03T14:46:34.907337Z",
          "start_time": "2021-03-03T14:46:34.894300Z"
        },
        "id": "8GGk6yeUZ1Ft"
      },
      "outputs": [],
      "source": [
        "from scipy.special import expit\n",
        "    \n",
        "class Sigmoid:\n",
        "    \"\"\"\n",
        "    sigmoid(y) = 1 / (1 + e^(-y))\n",
        "    Используйте функцию expit для подсчета сигмоиды.\n",
        "    Вы можете сами реализовать подсчет сигмоиды, но тогда вам нужно устойчиво ее вычислять.\n",
        "    \"\"\"\n",
        "    def __init__(self):\n",
        "        self.params = [] # Sigmoid has no parameters\n",
        "\n",
        "    def forward(self, input):\n",
        "        \"\"\"\n",
        "        Apply elementwise Sigmoid to [batch, num_units] matrix\n",
        "        \"\"\"\n",
        "        ### your code here\n",
        "        self.sigmoid = expit(input)\n",
        "        return self.sigmoid\n",
        "\n",
        "    def backward(self, grad_output):\n",
        "        \"\"\"\n",
        "        Compute gradient of loss w.r.t. Sigmoid input\n",
        "        grad_output shape: [batch, num_units]\n",
        "        output 1 shape: [batch, num_units]\n",
        "        output 2: []\n",
        "        \"\"\"\n",
        "        ### your code here\n",
        "        return grad_output * self.sigmoid * (1 - self.sigmoid), []\n",
        "        \n",
        "\n",
        "    def __repr__(self):\n",
        "        return 'Sigmoid()'"
      ]
    },
    {
      "cell_type": "code",
      "source": [
        "sigmoid = Sigmoid()\n",
        "points = np.linspace(-1, 1, 10*12).reshape([10, 12])\n",
        "\n",
        "def f(x):\n",
        "    return np.sum(sigmoid.forward(x))\n",
        "\n",
        "\n",
        "numeric_grads = eval_numerical_gradient(f, points)\n",
        "sigmoid.forward(points)\n",
        "grads = sigmoid.backward(np.ones(points.shape))[0]\n",
        "\n",
        "assert np.allclose(grads, numeric_grads, rtol=1e-3, atol=0)"
      ],
      "metadata": {
        "id": "xIHPTncGYY5-"
      },
      "execution_count": null,
      "outputs": []
    },
    {
      "cell_type": "code",
      "source": [
        "linear = Dense(12, 32)\n",
        "points = np.linspace(-1, 1, 10*12).reshape([10, 12])\n",
        "\n",
        "### your code here\n",
        "\n",
        "def f(x):\n",
        "    return np.sum(np.dot(x, linear.weights) + linear.biases)\n",
        "\n",
        "numeric_grads = eval_numerical_gradient(f, points)\n",
        "linear.forward(points)\n",
        "output_grad = np.ones((10, 32))\n",
        "grads = linear.backward(output_grad)[0]\n",
        "\n",
        "assert np.allclose(grads, numeric_grads, rtol=1e-3, atol=0)"
      ],
      "metadata": {
        "id": "DL7NSsBAYwgO"
      },
      "execution_count": null,
      "outputs": []
    },
    {
      "cell_type": "markdown",
      "metadata": {
        "id": "iwUKe4iRZ1Ft"
      },
      "source": [
        "Теперь попробуйте для каждой из 3 функций активации обучить нейронную сеть несколько раз. Число слоев зафиксируйте равным 3. В случае `Tanh` и `Sigmoid` используйте инициализацию `Xavier`, а в случае `ReLU` используйте инициализацию `Kaiming`."
      ]
    },
    {
      "cell_type": "markdown",
      "metadata": {
        "id": "5dErvho7Z1Fu"
      },
      "source": [
        "Заполните матрицы `accs_train` и `accs_test`. В позиции `[i, j]` должна стоять величина доли правильных ответов сети при $j$-м запуске (все запуски идентичны) с функцией активации $ReLU$ при $i = 0$, с функцией активации $Tanh$ при $i = 1$ и с функцией активации $Sigmoid$ при $i = 2$."
      ]
    },
    {
      "cell_type": "code",
      "execution_count": null,
      "metadata": {
        "ExecuteTime": {
          "end_time": "2021-03-03T14:46:34.922732Z",
          "start_time": "2021-03-03T14:46:34.910271Z"
        },
        "id": "VfldeQZkZ1Fv"
      },
      "outputs": [],
      "source": [
        "act_func_vars = [Tanh, Sigmoid, ReLU]\n",
        "init_for_act_funcs = ['Xavier', 'Xavier', 'Kaiming']"
      ]
    },
    {
      "cell_type": "code",
      "execution_count": null,
      "metadata": {
        "ExecuteTime": {
          "end_time": "2021-03-03T14:46:34.938935Z",
          "start_time": "2021-03-03T14:46:34.925724Z"
        },
        "id": "7JFh9cdbZ1Fz"
      },
      "outputs": [],
      "source": [
        "accs_train = np.zeros((3, 5))\n",
        "accs_test = np.zeros((3, 5))"
      ]
    },
    {
      "cell_type": "code",
      "execution_count": null,
      "metadata": {
        "ExecuteTime": {
          "end_time": "2021-03-03T14:47:04.514986Z",
          "start_time": "2021-03-03T14:46:34.941104Z"
        },
        "id": "d2tpHsWhZ1F0",
        "colab": {
          "base_uri": "https://localhost:8080/"
        },
        "outputId": "341f3f33-52e0-4ecd-b73d-ef5295ab6f5c"
      },
      "outputs": [
        {
          "output_type": "stream",
          "name": "stderr",
          "text": [
            "3it [02:17, 45.95s/it]\n"
          ]
        }
      ],
      "source": [
        "input_size = X_train.shape[1]\n",
        "hidden_layers_size = 32\n",
        "output_size = 10\n",
        "\n",
        "for i, func in tqdm(enumerate(act_func_vars)):\n",
        "    for n_run in range(5):\n",
        "        network = make_network(input_size, hidden_layers_size, output_size, 3, func)\n",
        "        initialize_network(network, init_for_act_funcs[i])\n",
        "        cb = Callback(network, X_train, y_train, X_test, y_test, print=False)\n",
        "        weights = get_weights(network)\n",
        "        \n",
        "        res = minimize(\n",
        "            compute_loss_grad, weights,  \n",
        "            args=[network, X_train, y_train], \n",
        "            method=\"L-BFGS-B\",\n",
        "            jac=True,\n",
        "            callback=cb.call\n",
        "        )\n",
        "\n",
        "        accs_train[i, n_run] = cb.train_acc[-1]\n",
        "        accs_test[i, n_run] = cb.test_acc[-1]\n"
      ]
    },
    {
      "cell_type": "markdown",
      "metadata": {
        "id": "OF2xBkaBZ1F1"
      },
      "source": [
        "Построим боксплоты полученного качества (горизонтальная линия в каждом столбце — среднее, прямоугольник показывает разброс)."
      ]
    },
    {
      "cell_type": "code",
      "execution_count": null,
      "metadata": {
        "ExecuteTime": {
          "end_time": "2021-03-03T14:47:04.783320Z",
          "start_time": "2021-03-03T14:47:04.517701Z"
        },
        "id": "00zroJB0Z1F3",
        "colab": {
          "base_uri": "https://localhost:8080/",
          "height": 369
        },
        "outputId": "bf207650-6875-47af-fb3c-a34ce0f4187a"
      },
      "outputs": [
        {
          "output_type": "display_data",
          "data": {
            "image/png": "[encoded data removed]",
            "text/plain": [
              "<Figure size 720x360 with 1 Axes>"
            ]
          },
          "metadata": {
            "needs_background": "light"
          }
        }
      ],
      "source": [
        "fig, ax = plt.subplots(1, 1, figsize=(10, 5))\n",
        "\n",
        "ax.boxplot(accs_test.T, labels=['Tanh', 'Sigmoid', 'ReLU'], showfliers=False)\n",
        "\n",
        "ax.set_title(\"Test quality in 5 runs\")\n",
        "ax.set_xlabel(\"Activation function\")\n",
        "ax.set_ylabel(\"Test accuracy\")\n",
        "ax.grid(True)\n",
        "\n",
        "fig.tight_layout()\n",
        "plt.show()"
      ]
    },
    {
      "cell_type": "code",
      "source": [
        "fig, ax = plt.subplots(1, 1, figsize=(10, 5))\n",
        "\n",
        "ax.boxplot(accs_train.T, labels=['Tanh', 'Sigmoid', 'ReLU'], showfliers=False)\n",
        "\n",
        "ax.set_title(\"Train quality in 5 runs\")\n",
        "ax.set_xlabel(\"Activation function\")\n",
        "ax.set_ylabel(\"Train accuracy\")\n",
        "ax.grid(True)\n",
        "\n",
        "fig.tight_layout()\n",
        "plt.show()"
      ],
      "metadata": {
        "colab": {
          "base_uri": "https://localhost:8080/",
          "height": 369
        },
        "id": "qT6GBfMAbJBQ",
        "outputId": "7d9539a1-7ec1-44af-edf7-77f93d38c667"
      },
      "execution_count": null,
      "outputs": [
        {
          "output_type": "display_data",
          "data": {
            "image/png": "[encoded data removed]",
            "text/plain": [
              "<Figure size 720x360 with 1 Axes>"
            ]
          },
          "metadata": {
            "needs_background": "light"
          }
        }
      ]
    },
    {
      "cell_type": "markdown",
      "metadata": {
        "id": "m562mODXZ1F3"
      },
      "source": [
        "Дайте развёрнутый ответ на вопросы (в этой же ячейке):\n",
        "* Как отличаются качество на обучении и контроле и устойчивость процесса обучения при различных функциях активации?\n",
        "\n",
        "__Ответы:__\n",
        "\n",
        "у relu самое высокое качество, и почти такая же хорошая стабильностькак и у tanh, но у sigmoid и tanh быстрее затухает градиент, поэтому они обучаются хуже"
      ]
    },
    {
      "cell_type": "markdown",
      "metadata": {
        "id": "QLqgDUZ7Z1F4"
      },
      "source": [
        "\\* Несколько фрагментов кода в задании написаны на основе материалов [курса по глубинному обучению на ФКН НИУ ВШЭ](https://www.hse.ru/ba/ami/courses/205504078.html)"
      ]
    },
    {
      "cell_type": "markdown",
      "metadata": {
        "id": "W2zFOLsqZ1F4"
      },
      "source": [
        "## Бонусная часть"
      ]
    },
    {
      "cell_type": "markdown",
      "metadata": {
        "id": "QDJu6R9eZ1F5"
      },
      "source": [
        "## Реализация метода оптимизации (1 балл)\n",
        "\n",
        "Реализуйте сами метод оптимизации (аналог функции `minimize`) для рассмотренной выше архитектуры. В качестве метода оптимизации используйте SGD + momentum. Продемонстрируйте правильную работу метода оптимизации, сравните его работу с LBFGS-B. Сделайте выводы."
      ]
    },
    {
      "cell_type": "markdown",
      "metadata": {
        "id": "ohnw_GU8Z1F6"
      },
      "source": [
        "## Dropout (1 балл) \n",
        "\n",
        "Реализуйте слой Dropout. Сравните обучение сети из большого числа слоёв при использовании Dropout и без его использования (предварительно подберите адекватный параметр $p$). Сделайте выводы."
      ]
    },
    {
      "cell_type": "markdown",
      "metadata": {
        "id": "sqcozoGBZ1F6"
      },
      "source": [
        "## BatchNormalization (1 балл)\n",
        "\n",
        "Реализуйте слой `BatchNormalization`. Сравните обучение сети из большого числа слоёв при использовании `BatchNormalization` и без его использования. Сделайте выводы."
      ]
    }
  ],
  "metadata": {
    "kernelspec": {
      "display_name": "Python 3",
      "language": "python",
      "name": "python3"
    },
    "language_info": {
      "codemirror_mode": {
        "name": "ipython",
        "version": 3
      },
      "file_extension": ".py",
      "mimetype": "text/x-python",
      "name": "python",
      "nbconvert_exporter": "python",
      "pygments_lexer": "ipython3",
      "version": "3.7.6"
    },
    "colab": {
      "name": "numpy_neural_network.ipynb",
      "provenance": [],
      "collapsed_sections": [
        "VEjSKCMrZ1El",
        "5RIAeQMYZ1En",
        "JANo-xmcZ1Ep",
        "FJ7Fky53Z1Ex",
        "Pr83BFyAZ1E2",
        "n4l6XQseZ1E5",
        "-gXdAJI3Z1FU",
        "sjNtjU6DZ1FX",
        "DaSwHnpOZ1FY",
        "3sBlixz3Z1Fb",
        "TS6AG95vZ1Fm",
        "1B-dqgZCZ1Fr",
        "W2zFOLsqZ1F4",
        "QDJu6R9eZ1F5",
        "ohnw_GU8Z1F6",
        "sqcozoGBZ1F6"
      ]
    }
  },
  "nbformat": 4,
  "nbformat_minor": 0
}